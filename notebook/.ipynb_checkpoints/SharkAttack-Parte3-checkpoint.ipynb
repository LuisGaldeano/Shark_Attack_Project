{
 "cells": [
  {
   "cell_type": "markdown",
   "id": "8cce6e21",
   "metadata": {},
   "source": [
    "### SharkAttack - Parte 3\n",
    "\n",
    "# Valores Inconsistentes "
   ]
  },
  {
   "cell_type": "code",
   "execution_count": 1,
   "id": "33207441",
   "metadata": {},
   "outputs": [],
   "source": [
    "import pandas as pd\n",
    "import numpy as np\n",
    "import re\n",
    "import zipfile\n",
    "import pylab as plt    \n",
    "import seaborn as sns\n",
    "import sys\n",
    "from datetime import datetime, time\n",
    "from jupyterthemes import jtplot\n",
    "jtplot.style()\n",
    "\n",
    "from functions import *\n",
    "\n",
    "pd.set_option('display.max_columns', None)  # me muestre todas las columnas"
   ]
  },
  {
   "cell_type": "code",
   "execution_count": 2,
   "id": "3944e4e0",
   "metadata": {},
   "outputs": [],
   "source": [
    "shark=pd.read_csv('../data/sharkattack_parte2.csv')"
   ]
  },
  {
   "cell_type": "code",
   "execution_count": 3,
   "id": "c77cc8d9",
   "metadata": {},
   "outputs": [
    {
     "data": {
      "text/html": [
       "<div>\n",
       "<style scoped>\n",
       "    .dataframe tbody tr th:only-of-type {\n",
       "        vertical-align: middle;\n",
       "    }\n",
       "\n",
       "    .dataframe tbody tr th {\n",
       "        vertical-align: top;\n",
       "    }\n",
       "\n",
       "    .dataframe thead th {\n",
       "        text-align: right;\n",
       "    }\n",
       "</style>\n",
       "<table border=\"1\" class=\"dataframe\">\n",
       "  <thead>\n",
       "    <tr style=\"text-align: right;\">\n",
       "      <th></th>\n",
       "      <th>casenumber</th>\n",
       "      <th>date</th>\n",
       "      <th>year</th>\n",
       "      <th>type</th>\n",
       "      <th>country</th>\n",
       "      <th>area</th>\n",
       "      <th>location</th>\n",
       "      <th>activity</th>\n",
       "      <th>name</th>\n",
       "      <th>sex</th>\n",
       "      <th>age</th>\n",
       "      <th>injury</th>\n",
       "      <th>fatal</th>\n",
       "      <th>species</th>\n",
       "      <th>investigator</th>\n",
       "      <th>pdf</th>\n",
       "      <th>href</th>\n",
       "      <th>href1</th>\n",
       "      <th>casenumber1</th>\n",
       "      <th>casenumber2</th>\n",
       "      <th>originalorder</th>\n",
       "      <th>unnamed</th>\n",
       "      <th>unnamed1</th>\n",
       "      <th>time</th>\n",
       "    </tr>\n",
       "  </thead>\n",
       "  <tbody>\n",
       "    <tr>\n",
       "      <th>0</th>\n",
       "      <td>2018.06.25</td>\n",
       "      <td>25-Jun-2018</td>\n",
       "      <td>2018.0</td>\n",
       "      <td>Boating</td>\n",
       "      <td>USA</td>\n",
       "      <td>California</td>\n",
       "      <td>Oceanside, San Diego County</td>\n",
       "      <td>Paddling</td>\n",
       "      <td>Julie Wolfe</td>\n",
       "      <td>F</td>\n",
       "      <td>57</td>\n",
       "      <td>No injury to occupant, outrigger canoe and pad...</td>\n",
       "      <td>N</td>\n",
       "      <td>White shark</td>\n",
       "      <td>R. Collier, GSAF</td>\n",
       "      <td>2018.06.25-Wolfe.pdf</td>\n",
       "      <td>http://sharkattackfile.net/spreadsheets/pdf_di...</td>\n",
       "      <td>http://sharkattackfile.net/spreadsheets/pdf_di...</td>\n",
       "      <td>2018.06.25</td>\n",
       "      <td>2018.06.25</td>\n",
       "      <td>6303.0</td>\n",
       "      <td>0</td>\n",
       "      <td>0</td>\n",
       "      <td>18:00</td>\n",
       "    </tr>\n",
       "    <tr>\n",
       "      <th>1</th>\n",
       "      <td>2018.06.18</td>\n",
       "      <td>18-Jun-2018</td>\n",
       "      <td>2018.0</td>\n",
       "      <td>Unprovoked</td>\n",
       "      <td>USA</td>\n",
       "      <td>Georgia</td>\n",
       "      <td>St. Simon Island, Glynn County</td>\n",
       "      <td>Standing</td>\n",
       "      <td>Adyson McNeely</td>\n",
       "      <td>F</td>\n",
       "      <td>11</td>\n",
       "      <td>Minor injury to left thigh</td>\n",
       "      <td>N</td>\n",
       "      <td>unknown shark</td>\n",
       "      <td>K.McMurray, TrackingSharks.com</td>\n",
       "      <td>2018.06.18-McNeely.pdf</td>\n",
       "      <td>http://sharkattackfile.net/spreadsheets/pdf_di...</td>\n",
       "      <td>http://sharkattackfile.net/spreadsheets/pdf_di...</td>\n",
       "      <td>2018.06.18</td>\n",
       "      <td>2018.06.18</td>\n",
       "      <td>6302.0</td>\n",
       "      <td>0</td>\n",
       "      <td>0</td>\n",
       "      <td>14:00</td>\n",
       "    </tr>\n",
       "    <tr>\n",
       "      <th>2</th>\n",
       "      <td>2018.06.09</td>\n",
       "      <td>09-Jun-2018</td>\n",
       "      <td>2018.0</td>\n",
       "      <td>Invalid</td>\n",
       "      <td>USA</td>\n",
       "      <td>Hawaii</td>\n",
       "      <td>Habush, Oahu</td>\n",
       "      <td>Surfing</td>\n",
       "      <td>John Denges</td>\n",
       "      <td>M</td>\n",
       "      <td>48</td>\n",
       "      <td>Injury to left lower leg from surfboard skeg</td>\n",
       "      <td>N</td>\n",
       "      <td>unknown shark</td>\n",
       "      <td>K.McMurray, TrackingSharks.com</td>\n",
       "      <td>2018.06.09-Denges.pdf</td>\n",
       "      <td>http://sharkattackfile.net/spreadsheets/pdf_di...</td>\n",
       "      <td>http://sharkattackfile.net/spreadsheets/pdf_di...</td>\n",
       "      <td>2018.06.09</td>\n",
       "      <td>2018.06.09</td>\n",
       "      <td>6301.0</td>\n",
       "      <td>0</td>\n",
       "      <td>0</td>\n",
       "      <td>07:45</td>\n",
       "    </tr>\n",
       "    <tr>\n",
       "      <th>3</th>\n",
       "      <td>2018.06.08</td>\n",
       "      <td>08-Jun-2018</td>\n",
       "      <td>2018.0</td>\n",
       "      <td>Unprovoked</td>\n",
       "      <td>AUSTRALIA</td>\n",
       "      <td>New South Wales</td>\n",
       "      <td>Arrawarra Headland</td>\n",
       "      <td>Surfing</td>\n",
       "      <td>male</td>\n",
       "      <td>M</td>\n",
       "      <td>-1</td>\n",
       "      <td>Minor injury to lower leg</td>\n",
       "      <td>N</td>\n",
       "      <td>2 m shark</td>\n",
       "      <td>B. Myatt, GSAF</td>\n",
       "      <td>2018.06.08-Arrawarra.pdf</td>\n",
       "      <td>http://sharkattackfile.net/spreadsheets/pdf_di...</td>\n",
       "      <td>http://sharkattackfile.net/spreadsheets/pdf_di...</td>\n",
       "      <td>2018.06.08</td>\n",
       "      <td>2018.06.08</td>\n",
       "      <td>6300.0</td>\n",
       "      <td>0</td>\n",
       "      <td>0</td>\n",
       "      <td>25:00</td>\n",
       "    </tr>\n",
       "    <tr>\n",
       "      <th>4</th>\n",
       "      <td>2018.06.04</td>\n",
       "      <td>04-Jun-2018</td>\n",
       "      <td>2018.0</td>\n",
       "      <td>Provoked</td>\n",
       "      <td>MEXICO</td>\n",
       "      <td>Colima</td>\n",
       "      <td>La Ticla</td>\n",
       "      <td>Free diving</td>\n",
       "      <td>Gustavo Ramos</td>\n",
       "      <td>M</td>\n",
       "      <td>-1</td>\n",
       "      <td>Lacerations to leg &amp; hand shark PROVOKED INCIDENT</td>\n",
       "      <td>N</td>\n",
       "      <td>Tiger shark, 3m</td>\n",
       "      <td>A .Kipper</td>\n",
       "      <td>2018.06.04-Ramos.pdf</td>\n",
       "      <td>http://sharkattackfile.net/spreadsheets/pdf_di...</td>\n",
       "      <td>http://sharkattackfile.net/spreadsheets/pdf_di...</td>\n",
       "      <td>2018.06.04</td>\n",
       "      <td>2018.06.04</td>\n",
       "      <td>6299.0</td>\n",
       "      <td>0</td>\n",
       "      <td>0</td>\n",
       "      <td>25:00</td>\n",
       "    </tr>\n",
       "  </tbody>\n",
       "</table>\n",
       "</div>"
      ],
      "text/plain": [
       "   casenumber         date    year        type    country             area   \n",
       "0  2018.06.25  25-Jun-2018  2018.0     Boating        USA       California  \\\n",
       "1  2018.06.18  18-Jun-2018  2018.0  Unprovoked        USA          Georgia   \n",
       "2  2018.06.09  09-Jun-2018  2018.0     Invalid        USA           Hawaii   \n",
       "3  2018.06.08  08-Jun-2018  2018.0  Unprovoked  AUSTRALIA  New South Wales   \n",
       "4  2018.06.04  04-Jun-2018  2018.0    Provoked     MEXICO           Colima   \n",
       "\n",
       "                         location     activity             name sex age   \n",
       "0     Oceanside, San Diego County     Paddling      Julie Wolfe   F  57  \\\n",
       "1  St. Simon Island, Glynn County     Standing  Adyson McNeely    F  11   \n",
       "2                    Habush, Oahu      Surfing      John Denges   M  48   \n",
       "3              Arrawarra Headland      Surfing             male   M  -1   \n",
       "4                        La Ticla  Free diving   Gustavo Ramos    M  -1   \n",
       "\n",
       "                                              injury fatal          species   \n",
       "0  No injury to occupant, outrigger canoe and pad...     N      White shark  \\\n",
       "1                         Minor injury to left thigh     N    unknown shark   \n",
       "2       Injury to left lower leg from surfboard skeg     N    unknown shark   \n",
       "3                          Minor injury to lower leg     N        2 m shark   \n",
       "4  Lacerations to leg & hand shark PROVOKED INCIDENT     N  Tiger shark, 3m   \n",
       "\n",
       "                     investigator                       pdf   \n",
       "0                R. Collier, GSAF      2018.06.25-Wolfe.pdf  \\\n",
       "1  K.McMurray, TrackingSharks.com    2018.06.18-McNeely.pdf   \n",
       "2  K.McMurray, TrackingSharks.com     2018.06.09-Denges.pdf   \n",
       "3                  B. Myatt, GSAF  2018.06.08-Arrawarra.pdf   \n",
       "4                       A .Kipper      2018.06.04-Ramos.pdf   \n",
       "\n",
       "                                                href   \n",
       "0  http://sharkattackfile.net/spreadsheets/pdf_di...  \\\n",
       "1  http://sharkattackfile.net/spreadsheets/pdf_di...   \n",
       "2  http://sharkattackfile.net/spreadsheets/pdf_di...   \n",
       "3  http://sharkattackfile.net/spreadsheets/pdf_di...   \n",
       "4  http://sharkattackfile.net/spreadsheets/pdf_di...   \n",
       "\n",
       "                                               href1 casenumber1 casenumber2   \n",
       "0  http://sharkattackfile.net/spreadsheets/pdf_di...  2018.06.25  2018.06.25  \\\n",
       "1  http://sharkattackfile.net/spreadsheets/pdf_di...  2018.06.18  2018.06.18   \n",
       "2  http://sharkattackfile.net/spreadsheets/pdf_di...  2018.06.09  2018.06.09   \n",
       "3  http://sharkattackfile.net/spreadsheets/pdf_di...  2018.06.08  2018.06.08   \n",
       "4  http://sharkattackfile.net/spreadsheets/pdf_di...  2018.06.04  2018.06.04   \n",
       "\n",
       "   originalorder  unnamed  unnamed1   time  \n",
       "0         6303.0        0         0  18:00  \n",
       "1         6302.0        0         0  14:00  \n",
       "2         6301.0        0         0  07:45  \n",
       "3         6300.0        0         0  25:00  \n",
       "4         6299.0        0         0  25:00  "
      ]
     },
     "execution_count": 3,
     "metadata": {},
     "output_type": "execute_result"
    }
   ],
   "source": [
    "shark.head()"
   ]
  },
  {
   "cell_type": "code",
   "execution_count": 4,
   "id": "1b2e46df",
   "metadata": {},
   "outputs": [
    {
     "name": "stdout",
     "output_type": "stream",
     "text": [
      "<class 'pandas.core.frame.DataFrame'>\n",
      "RangeIndex: 6302 entries, 0 to 6301\n",
      "Data columns (total 24 columns):\n",
      " #   Column         Non-Null Count  Dtype  \n",
      "---  ------         --------------  -----  \n",
      " 0   casenumber     6302 non-null   object \n",
      " 1   date           6302 non-null   object \n",
      " 2   year           6302 non-null   float64\n",
      " 3   type           6302 non-null   object \n",
      " 4   country        6302 non-null   object \n",
      " 5   area           6302 non-null   object \n",
      " 6   location       6302 non-null   object \n",
      " 7   activity       6302 non-null   object \n",
      " 8   name           6302 non-null   object \n",
      " 9   sex            6302 non-null   object \n",
      " 10  age            6299 non-null   object \n",
      " 11  injury         6302 non-null   object \n",
      " 12  fatal          6302 non-null   object \n",
      " 13  species        6302 non-null   object \n",
      " 14  investigator   6302 non-null   object \n",
      " 15  pdf            6302 non-null   object \n",
      " 16  href           6302 non-null   object \n",
      " 17  href1          6302 non-null   object \n",
      " 18  casenumber1    6302 non-null   object \n",
      " 19  casenumber2    6302 non-null   object \n",
      " 20  originalorder  6302 non-null   float64\n",
      " 21  unnamed        6302 non-null   int64  \n",
      " 22  unnamed1       6302 non-null   int64  \n",
      " 23  time           6302 non-null   object \n",
      "dtypes: float64(2), int64(2), object(20)\n",
      "memory usage: 1.2+ MB\n"
     ]
    }
   ],
   "source": [
    "shark.info()"
   ]
  },
  {
   "cell_type": "markdown",
   "id": "2e3db4cb",
   "metadata": {},
   "source": [
    "---"
   ]
  },
  {
   "cell_type": "markdown",
   "id": "405d8c79",
   "metadata": {},
   "source": [
    "En esta parte voy a analizar la inconsistencia de los datos y por lo tanto voy a procurar que todos los valores de cada columna tengan el tipo de dato esperado. Los tipos de datos esperados son:\n",
    "1. casenumber: str\n",
    "2. date: date\n",
    "3. year: int16\n",
    "4. type: str\n",
    "5. country: str\n",
    "6. area: str\n",
    "7. location: str\n",
    "8. activity: str\n",
    "9. name: str\n",
    "10. sex: str\n",
    "11. age: int\n",
    "12. injury: str\n",
    "13. fatal: str\n",
    "14. species: str\n",
    "15. investigator: str\n",
    "16. pdf: str\n",
    "17. href: str\n",
    "18. href1: str\n",
    "19. casenumber1: str\n",
    "20. casenumber2: str\n",
    "21. originalorder: int16\n",
    "22. unnamed: int16\n",
    "23. unnamed1: int16\n",
    "24. time: datetime"
   ]
  },
  {
   "cell_type": "markdown",
   "id": "0000323e",
   "metadata": {},
   "source": [
    "---"
   ]
  },
  {
   "cell_type": "markdown",
   "id": "4d78e180",
   "metadata": {},
   "source": [
    "# Casenumber"
   ]
  },
  {
   "cell_type": "code",
   "execution_count": 5,
   "id": "aeb25ead",
   "metadata": {},
   "outputs": [
    {
     "data": {
      "text/plain": [
       "0       2018.06.25\n",
       "1       2018.06.18\n",
       "2       2018.06.09\n",
       "3       2018.06.08\n",
       "4       2018.06.04\n",
       "5     2018.06.03.b\n",
       "6     2018.06.03.a\n",
       "7       2018.05.27\n",
       "8     2018.05.26.b\n",
       "9     2018.05.26.a\n",
       "10      2018.05.24\n",
       "11      2018.05.21\n",
       "12    2018.05.13.b\n",
       "13    2018.05.13.a\n",
       "14      2018.05.00\n",
       "15      2018.05.12\n",
       "16      2018.05.09\n",
       "17    2018.04.30.R\n",
       "18    2018.04.28.b\n",
       "19    2018.04.28.a\n",
       "Name: casenumber, dtype: object"
      ]
     },
     "execution_count": 5,
     "metadata": {},
     "output_type": "execute_result"
    }
   ],
   "source": [
    "shark['casenumber'][:20]"
   ]
  },
  {
   "cell_type": "code",
   "execution_count": 6,
   "id": "77373517",
   "metadata": {},
   "outputs": [
    {
     "data": {
      "text/plain": [
       "array(['2018.06.25', '2018.06.18', '2018.06.09', ..., 'ND.0003',\n",
       "       'ND.0002', 'ND.0001'], dtype=object)"
      ]
     },
     "execution_count": 6,
     "metadata": {},
     "output_type": "execute_result"
    }
   ],
   "source": [
    "shark.casenumber.unique()"
   ]
  },
  {
   "cell_type": "code",
   "execution_count": 7,
   "id": "f3c75c55",
   "metadata": {},
   "outputs": [
    {
     "data": {
      "text/plain": [
       "1"
      ]
     },
     "execution_count": 7,
     "metadata": {},
     "output_type": "execute_result"
    }
   ],
   "source": [
    "repetidos(shark, 'casenumber')"
   ]
  },
  {
   "cell_type": "code",
   "execution_count": 8,
   "id": "41e468d4",
   "metadata": {},
   "outputs": [
    {
     "data": {
      "text/plain": [
       "casenumber\n",
       "<class 'str'>    6302\n",
       "Name: count, dtype: int64"
      ]
     },
     "execution_count": 8,
     "metadata": {},
     "output_type": "execute_result"
    }
   ],
   "source": [
    "shark['casenumber'].apply(type).value_counts()"
   ]
  },
  {
   "cell_type": "markdown",
   "id": "4a2da3bb",
   "metadata": {},
   "source": [
    "La mayoría son fechas que están en formato Y/M/D y algunos tienen un .* a la derecha que no aporta nada.\n",
    "\n",
    "En este caso como no deja de ser un elemento de identificación, no voy a trabajar más en el de momento y lo voy a dejar con este formato."
   ]
  },
  {
   "cell_type": "markdown",
   "id": "51715a4b",
   "metadata": {},
   "source": [
    "---"
   ]
  },
  {
   "cell_type": "markdown",
   "id": "433e5e01",
   "metadata": {},
   "source": [
    "# Date"
   ]
  },
  {
   "cell_type": "code",
   "execution_count": 9,
   "id": "81cb6580",
   "metadata": {},
   "outputs": [
    {
     "data": {
      "text/plain": [
       "0              25-Jun-2018\n",
       "1              18-Jun-2018\n",
       "2              09-Jun-2018\n",
       "3              08-Jun-2018\n",
       "4              04-Jun-2018\n",
       "5              03-Jun-2018\n",
       "6              03-Jun-2018\n",
       "7              27-May-2018\n",
       "8              26-May-2018\n",
       "9              26-May-2018\n",
       "10             24-May-2018\n",
       "11             21-May-2018\n",
       "12             13-May-2018\n",
       "13             13-May-2018\n",
       "14                May 2018\n",
       "15             12-May-2018\n",
       "16             09-May-2018\n",
       "17    Reported 30-Apr-2018\n",
       "18             28-Apr-2018\n",
       "19             28-Apr-2018\n",
       "Name: date, dtype: object"
      ]
     },
     "execution_count": 9,
     "metadata": {},
     "output_type": "execute_result"
    }
   ],
   "source": [
    "shark.date[:20]"
   ]
  },
  {
   "cell_type": "code",
   "execution_count": 10,
   "id": "8a1805dc",
   "metadata": {},
   "outputs": [
    {
     "data": {
      "text/plain": [
       "array(['25-Jun-2018', '18-Jun-2018', '09-Jun-2018', ..., '1900-1905',\n",
       "       '1883-1889', '1845-1853'], dtype=object)"
      ]
     },
     "execution_count": 10,
     "metadata": {},
     "output_type": "execute_result"
    }
   ],
   "source": [
    "shark.date.unique()"
   ]
  },
  {
   "cell_type": "markdown",
   "id": "6e7634f7",
   "metadata": {},
   "source": [
    "Esta columna es relevante y la necesito en formato date. Por lo que realizo las operaciones necesarias\n",
    "\n",
    "1.- Los valores que tengan formato xx-Mes-xxxx los paso a una nueva columna llamada date1 y los sustituyo por un valor proxy de -1\n",
    "2.- Si tiene la estructura Mes-xxxx establezco que es el día 01 y hago lo mismo que en el paso anterior\n",
    "\n",
    "el resto de valores los miro más adelante"
   ]
  },
  {
   "cell_type": "code",
   "execution_count": 11,
   "id": "b8160461",
   "metadata": {},
   "outputs": [],
   "source": [
    "patron = r'\\d{2}-\\b\\w{3}\\b-\\d{4}'\n",
    "for i, valor in enumerate(shark['date']):\n",
    "    fecha = re.search(patron, valor)\n",
    "    if fecha is not None:\n",
    "        shark.at[i, 'date1'] = fecha.group()\n",
    "        shark.at[i, 'date'] = 0"
   ]
  },
  {
   "cell_type": "code",
   "execution_count": 12,
   "id": "6df52808",
   "metadata": {},
   "outputs": [
    {
     "data": {
      "text/plain": [
       "0            0\n",
       "1            0\n",
       "2            0\n",
       "3            0\n",
       "4            0\n",
       "5            0\n",
       "6            0\n",
       "7            0\n",
       "8            0\n",
       "9            0\n",
       "10           0\n",
       "11           0\n",
       "12           0\n",
       "13           0\n",
       "14    May 2018\n",
       "Name: date, dtype: object"
      ]
     },
     "execution_count": 12,
     "metadata": {},
     "output_type": "execute_result"
    }
   ],
   "source": [
    "shark.date[:15]"
   ]
  },
  {
   "cell_type": "code",
   "execution_count": 13,
   "id": "d3dd44c0",
   "metadata": {},
   "outputs": [],
   "source": [
    "patron = r'\\b\\w{3}\\b-\\d{4}'\n",
    "dia = '01-'\n",
    "for i, valor in enumerate(shark['date']):\n",
    "    fecha = re.search(patron, str(valor))\n",
    "    if fecha is not None:\n",
    "        fecha = dia + fecha.group(0)\n",
    "        shark.at[i, 'date1'] = fecha\n",
    "        shark.at[i, 'date'] = '0'"
   ]
  },
  {
   "cell_type": "code",
   "execution_count": 14,
   "id": "0e56e2bf",
   "metadata": {},
   "outputs": [
    {
     "data": {
      "text/plain": [
       "date\n",
       "0                5349\n",
       "0                 370\n",
       "1957               11\n",
       "1942                9\n",
       "1956                8\n",
       "                 ... \n",
       "1928                1\n",
       "Ca. 1929            1\n",
       "Reported 1929       1\n",
       "1932                1\n",
       "1845-1853           1\n",
       "Name: count, Length: 376, dtype: int64"
      ]
     },
     "execution_count": 14,
     "metadata": {},
     "output_type": "execute_result"
    }
   ],
   "source": [
    "shark.date.value_counts()"
   ]
  },
  {
   "cell_type": "code",
   "execution_count": 15,
   "id": "80635ea4",
   "metadata": {},
   "outputs": [],
   "source": [
    "patron = r'\\d{4}'\n",
    "for i, valor in enumerate(shark['date']):\n",
    "    fecha = re.search(patron, str(valor))\n",
    "    if fecha is not None:\n",
    "        shark.at[i, 'date1'] = fecha.group()\n",
    "        shark.at[i, 'date'] = 0"
   ]
  },
  {
   "cell_type": "code",
   "execution_count": 16,
   "id": "6c73a008",
   "metadata": {},
   "outputs": [
    {
     "data": {
      "text/plain": [
       "array(['22-Jul-144', 'Woirld War II', 'Reported 26-Sep-t937',\n",
       "       'Circa 500 A.D.', '77  A.D.', 'Ca. 5 A.D.', 'Ca. 214 B.C.',\n",
       "       'Ca. 336.B.C..', '493 B.C.', 'Ca. 725 B.C.', 'No date',\n",
       "       '\"Before the war\"', 'World War II'], dtype=object)"
      ]
     },
     "execution_count": 16,
     "metadata": {},
     "output_type": "execute_result"
    }
   ],
   "source": [
    "valores_unicos = shark.loc[(shark['date'] != 0) & (shark['date'] != '0'), 'date'].unique()\n",
    "valores_unicos"
   ]
  },
  {
   "cell_type": "code",
   "execution_count": 17,
   "id": "e73aa38f",
   "metadata": {},
   "outputs": [],
   "source": [
    "shark.loc[shark['date'] == '\"Before the war\"', 'date1'] = '01-Sep-1939'\n",
    "shark.loc[shark['date'] == '\"Before the war\"', 'date'] = '0'"
   ]
  },
  {
   "cell_type": "code",
   "execution_count": 18,
   "id": "9acfaaad",
   "metadata": {},
   "outputs": [],
   "source": [
    "shark.loc[shark['date'] == 'World War II', 'date1'] = '02-Sep-1945'\n",
    "shark.loc[shark['date'] == 'World War II', 'date'] = '0'"
   ]
  },
  {
   "cell_type": "code",
   "execution_count": 19,
   "id": "09c903cb",
   "metadata": {},
   "outputs": [],
   "source": [
    "shark.loc[shark['date'] == 'Woirld War II', 'date1'] = '02-Sep-1945'\n",
    "shark.loc[shark['date'] == 'Woirld War II', 'date'] = '0'"
   ]
  },
  {
   "cell_type": "code",
   "execution_count": 20,
   "id": "385c1938",
   "metadata": {},
   "outputs": [],
   "source": [
    "shark.loc[shark['date'] == 'Reported 26-Sep-t937', 'date1'] = '26-Sep-1937'\n",
    "shark.loc[shark['date'] == 'Reported 26-Sep-t937', 'date'] = '0'"
   ]
  },
  {
   "cell_type": "code",
   "execution_count": 21,
   "id": "0523f3e2",
   "metadata": {},
   "outputs": [],
   "source": [
    "shark.loc[shark['date'] == 'No date', 'date1'] = '01-Ene-1900'\n",
    "shark.loc[shark['date'] == 'No date', 'date'] = '0'"
   ]
  },
  {
   "cell_type": "code",
   "execution_count": 22,
   "id": "2829b274",
   "metadata": {},
   "outputs": [],
   "source": [
    "shark.loc[shark['date'] == '22-Jul-144', 'date1'] = '22-Jul-1944'\n",
    "shark.loc[shark['date'] == '22-Jul-144', 'date'] = '0'"
   ]
  },
  {
   "cell_type": "code",
   "execution_count": 23,
   "id": "2b91931d",
   "metadata": {},
   "outputs": [
    {
     "data": {
      "text/plain": [
       "array(['Circa 500 A.D.', '77  A.D.', 'Ca. 5 A.D.', 'Ca. 214 B.C.',\n",
       "       'Ca. 336.B.C..', '493 B.C.', 'Ca. 725 B.C.'], dtype=object)"
      ]
     },
     "execution_count": 23,
     "metadata": {},
     "output_type": "execute_result"
    }
   ],
   "source": [
    "valores_unicos = shark.loc[(shark['date'] != 0) & (shark['date'] != '0'), 'date'].unique()\n",
    "valores_unicos"
   ]
  },
  {
   "cell_type": "code",
   "execution_count": 24,
   "id": "2f8dbc4e",
   "metadata": {},
   "outputs": [
    {
     "data": {
      "text/plain": [
       "7"
      ]
     },
     "execution_count": 24,
     "metadata": {},
     "output_type": "execute_result"
    }
   ],
   "source": [
    "valores_unicos.size"
   ]
  },
  {
   "cell_type": "markdown",
   "id": "84226661",
   "metadata": {},
   "source": [
    "Como son solo 7 valores no lo considero representativo y los igualo a 01-Ene-1900"
   ]
  },
  {
   "cell_type": "code",
   "execution_count": 25,
   "id": "7dfd142b",
   "metadata": {},
   "outputs": [],
   "source": [
    "shark['date'] = shark['date1']"
   ]
  },
  {
   "cell_type": "code",
   "execution_count": 26,
   "id": "2df6c37a",
   "metadata": {},
   "outputs": [
    {
     "data": {
      "text/plain": [
       "7"
      ]
     },
     "execution_count": 26,
     "metadata": {},
     "output_type": "execute_result"
    }
   ],
   "source": [
    "shark.date.isna().sum()"
   ]
  },
  {
   "cell_type": "code",
   "execution_count": 27,
   "id": "0bfeb33c",
   "metadata": {},
   "outputs": [],
   "source": [
    "shark.date.fillna('01-Ene-1900', inplace=True)"
   ]
  },
  {
   "cell_type": "code",
   "execution_count": 28,
   "id": "3605ab39",
   "metadata": {},
   "outputs": [
    {
     "data": {
      "text/plain": [
       "1"
      ]
     },
     "execution_count": 28,
     "metadata": {},
     "output_type": "execute_result"
    }
   ],
   "source": [
    "repetidos(shark, 'date')"
   ]
  },
  {
   "cell_type": "code",
   "execution_count": 29,
   "id": "884b093a",
   "metadata": {},
   "outputs": [
    {
     "data": {
      "text/plain": [
       "date\n",
       "<class 'str'>    6302\n",
       "Name: count, dtype: int64"
      ]
     },
     "execution_count": 29,
     "metadata": {},
     "output_type": "execute_result"
    }
   ],
   "source": [
    "shark['date'].apply(type).value_counts()"
   ]
  },
  {
   "cell_type": "markdown",
   "id": "3d54684d",
   "metadata": {},
   "source": [
    "---"
   ]
  },
  {
   "cell_type": "markdown",
   "id": "30db241a",
   "metadata": {},
   "source": [
    "# Year"
   ]
  },
  {
   "cell_type": "code",
   "execution_count": 30,
   "id": "3d8b0378",
   "metadata": {},
   "outputs": [
    {
     "data": {
      "text/plain": [
       "0     2018.0\n",
       "1     2018.0\n",
       "2     2018.0\n",
       "3     2018.0\n",
       "4     2018.0\n",
       "5     2018.0\n",
       "6     2018.0\n",
       "7     2018.0\n",
       "8     2018.0\n",
       "9     2018.0\n",
       "10    2018.0\n",
       "11    2018.0\n",
       "12    2018.0\n",
       "13    2018.0\n",
       "14    2018.0\n",
       "15    2018.0\n",
       "16    2018.0\n",
       "17    2018.0\n",
       "18    2018.0\n",
       "19    2018.0\n",
       "Name: year, dtype: float64"
      ]
     },
     "execution_count": 30,
     "metadata": {},
     "output_type": "execute_result"
    }
   ],
   "source": [
    "shark.year[:20]"
   ]
  },
  {
   "cell_type": "code",
   "execution_count": 31,
   "id": "98b3bffe",
   "metadata": {},
   "outputs": [],
   "source": [
    "shark['year'] = shark['year'].astype('int16')"
   ]
  },
  {
   "cell_type": "code",
   "execution_count": 32,
   "id": "57ccb70a",
   "metadata": {},
   "outputs": [
    {
     "data": {
      "text/plain": [
       "array([2018, 2017, 2016, 2015, 2014, 2013, 2012, 2011, 2010, 2009, 2008,\n",
       "       2007, 2006, 2005, 2004, 2003, 2002, 2001, 2000, 1999, 1998, 1997,\n",
       "       1996, 1995, 1984, 1994, 1993, 1992, 1991, 1990, 1989, 1969, 1988,\n",
       "       1987, 1986, 1985, 1983, 1982, 1981, 1980, 1979, 1978, 1977, 1976,\n",
       "       1975, 1974, 1973, 1972, 1971, 1970, 1968, 1967, 1966, 1965, 1964,\n",
       "       1963, 1962, 1961, 1960, 1959, 1958, 1957, 1956, 1955, 1954, 1953,\n",
       "       1952, 1951, 1950, 1949, 1948, 1848, 1947, 1946, 1945, 1944, 1943,\n",
       "       1942, 1941, 1940, 1939, 1938, 1937, 1936, 1935, 1934, 1933, 1932,\n",
       "       1931, 1930, 1929, 1928, 1927, 1926, 1925, 1924, 1923, 1922, 1921,\n",
       "       1920, 1919, 1918, 1917, 1916, 1915, 1914, 1913, 1912, 1911, 1910,\n",
       "       1909, 1908, 1907, 1906, 1905, 1904, 1903, 1902, 1901, 1900, 1899,\n",
       "       1898, 1897, 1896, 1895, 1894, 1893, 1892, 1891, 1890, 1889, 1888,\n",
       "       1887, 1886, 1885, 1884, 1883, 1882, 1881, 1880, 1879, 1878, 1877,\n",
       "       1876, 1875, 1874, 1873, 1872, 1871, 1870, 1869, 1868, 1867, 1866,\n",
       "       1865, 1864, 1863, 1862, 1861, 1860, 1859, 1858, 1857, 1856, 1855,\n",
       "       1853, 1852, 1851, 1850, 1849, 1847, 1846, 1845, 1844, 1842, 1841,\n",
       "       1840, 1839, 1837, 1836, 1835, 1834, 1832, 1831, 1830, 1829, 1828,\n",
       "       1827, 1826, 1825, 1823, 1822, 1819, 1818, 1817, 1816, 1815, 1812,\n",
       "       1811, 1810, 1808, 1807, 1805, 1804, 1803, 1802, 1801, 1800, 1797,\n",
       "       1792, 1791, 1788, 1787, 1786, 1785, 1784, 1783, 1780, 1779, 1776,\n",
       "       1771, 1767, 1764, 1758, 1753, 1751, 1749, 1755, 1748, 1742, 1738,\n",
       "       1733, 1723, 1721, 1703, 1700, 1642, 1638, 1637, 1617, 1595, 1580,\n",
       "       1555, 1554, 1543,  500,   77,    5,    0], dtype=int16)"
      ]
     },
     "execution_count": 32,
     "metadata": {},
     "output_type": "execute_result"
    }
   ],
   "source": [
    "shark.year.unique()"
   ]
  },
  {
   "cell_type": "code",
   "execution_count": 33,
   "id": "9186366c",
   "metadata": {},
   "outputs": [
    {
     "data": {
      "text/plain": [
       "1"
      ]
     },
     "execution_count": 33,
     "metadata": {},
     "output_type": "execute_result"
    }
   ],
   "source": [
    "repetidos(shark, 'year')"
   ]
  },
  {
   "cell_type": "code",
   "execution_count": 34,
   "id": "64825297",
   "metadata": {},
   "outputs": [
    {
     "data": {
      "text/plain": [
       "year\n",
       "<class 'int'>    6302\n",
       "Name: count, dtype: int64"
      ]
     },
     "execution_count": 34,
     "metadata": {},
     "output_type": "execute_result"
    }
   ],
   "source": [
    "shark['year'].apply(type).value_counts()"
   ]
  },
  {
   "cell_type": "markdown",
   "id": "2ca36c88",
   "metadata": {},
   "source": [
    "---"
   ]
  },
  {
   "cell_type": "markdown",
   "id": "71e34779",
   "metadata": {},
   "source": [
    "# Type"
   ]
  },
  {
   "cell_type": "code",
   "execution_count": 35,
   "id": "9f268eb6",
   "metadata": {},
   "outputs": [
    {
     "data": {
      "text/plain": [
       "0          Boating\n",
       "1       Unprovoked\n",
       "2          Invalid\n",
       "3       Unprovoked\n",
       "4         Provoked\n",
       "5       Unprovoked\n",
       "6       Unprovoked\n",
       "7       Unprovoked\n",
       "8       Unprovoked\n",
       "9       Unprovoked\n",
       "10        Provoked\n",
       "11      Unprovoked\n",
       "12      Unprovoked\n",
       "13         Invalid\n",
       "14        Provoked\n",
       "15      Unprovoked\n",
       "16    Questionable\n",
       "17      Unprovoked\n",
       "18      Unprovoked\n",
       "19      Unprovoked\n",
       "Name: type, dtype: object"
      ]
     },
     "execution_count": 35,
     "metadata": {},
     "output_type": "execute_result"
    }
   ],
   "source": [
    "shark.type[:20]"
   ]
  },
  {
   "cell_type": "code",
   "execution_count": 36,
   "id": "3640e24a",
   "metadata": {},
   "outputs": [
    {
     "data": {
      "text/plain": [
       "array(['Boating', 'Unprovoked', 'Invalid', 'Provoked', 'Questionable',\n",
       "       'Sea Disaster', 'unknown', 'Boat', 'Boatomg'], dtype=object)"
      ]
     },
     "execution_count": 36,
     "metadata": {},
     "output_type": "execute_result"
    }
   ],
   "source": [
    "shark.type.unique()"
   ]
  },
  {
   "cell_type": "code",
   "execution_count": 37,
   "id": "13630770",
   "metadata": {},
   "outputs": [],
   "source": [
    "shark.loc[shark['type'] == 'Boatomg', 'type'] = 'Boat'"
   ]
  },
  {
   "cell_type": "code",
   "execution_count": 38,
   "id": "8ae2f196",
   "metadata": {},
   "outputs": [
    {
     "data": {
      "text/plain": [
       "array(['Boating', 'Unprovoked', 'Invalid', 'Provoked', 'Questionable',\n",
       "       'Sea Disaster', 'unknown', 'Boat'], dtype=object)"
      ]
     },
     "execution_count": 38,
     "metadata": {},
     "output_type": "execute_result"
    }
   ],
   "source": [
    "shark.type.unique()"
   ]
  },
  {
   "cell_type": "code",
   "execution_count": 39,
   "id": "eac226b6",
   "metadata": {},
   "outputs": [
    {
     "data": {
      "text/plain": [
       "1"
      ]
     },
     "execution_count": 39,
     "metadata": {},
     "output_type": "execute_result"
    }
   ],
   "source": [
    "repetidos(shark, 'type')"
   ]
  },
  {
   "cell_type": "code",
   "execution_count": 40,
   "id": "c35f43fe",
   "metadata": {},
   "outputs": [
    {
     "data": {
      "text/plain": [
       "type\n",
       "<class 'str'>    6302\n",
       "Name: count, dtype: int64"
      ]
     },
     "execution_count": 40,
     "metadata": {},
     "output_type": "execute_result"
    }
   ],
   "source": [
    "shark['type'].apply(type).value_counts()"
   ]
  },
  {
   "cell_type": "markdown",
   "id": "cdd8b151",
   "metadata": {},
   "source": [
    "---"
   ]
  },
  {
   "cell_type": "markdown",
   "id": "a57f73a5",
   "metadata": {},
   "source": [
    "# Country"
   ]
  },
  {
   "cell_type": "code",
   "execution_count": 41,
   "id": "02163111",
   "metadata": {},
   "outputs": [
    {
     "data": {
      "text/plain": [
       "0              USA\n",
       "1              USA\n",
       "2              USA\n",
       "3        AUSTRALIA\n",
       "4           MEXICO\n",
       "5        AUSTRALIA\n",
       "6           BRAZIL\n",
       "7              USA\n",
       "8              USA\n",
       "9              USA\n",
       "10       AUSTRALIA\n",
       "11             USA\n",
       "12             USA\n",
       "13         ENGLAND\n",
       "14       AUSTRALIA\n",
       "15    SOUTH AFRICA\n",
       "16       AUSTRALIA\n",
       "17        THAILAND\n",
       "18      COSTA RICA\n",
       "19       AUSTRALIA\n",
       "Name: country, dtype: object"
      ]
     },
     "execution_count": 41,
     "metadata": {},
     "output_type": "execute_result"
    }
   ],
   "source": [
    "shark.country[:20]"
   ]
  },
  {
   "cell_type": "code",
   "execution_count": 42,
   "id": "68bb972b",
   "metadata": {},
   "outputs": [
    {
     "data": {
      "text/plain": [
       "array(['USA', 'AUSTRALIA', 'MEXICO', 'BRAZIL', 'ENGLAND', 'SOUTH AFRICA',\n",
       "       'THAILAND', 'COSTA RICA', 'MALDIVES', 'BAHAMAS', 'NEW CALEDONIA',\n",
       "       'ECUADOR', 'MALAYSIA', 'LIBYA', 'unknown', 'CUBA', 'MAURITIUS',\n",
       "       'NEW ZEALAND', 'SPAIN', 'SAMOA', 'SOLOMON ISLANDS', 'JAPAN',\n",
       "       'EGYPT', 'ST HELENA, British overseas territory', 'COMOROS',\n",
       "       'REUNION', 'FRENCH POLYNESIA', 'UNITED KINGDOM',\n",
       "       'UNITED ARAB EMIRATES', 'PHILIPPINES', 'INDONESIA', 'CHINA',\n",
       "       'COLUMBIA', 'CAPE VERDE', 'Fiji', 'DOMINICAN REPUBLIC',\n",
       "       'CAYMAN ISLANDS', 'ARUBA', 'MOZAMBIQUE', 'FIJI', 'PUERTO RICO',\n",
       "       'ITALY', 'ATLANTIC OCEAN', 'GREECE', 'ST. MARTIN', 'FRANCE',\n",
       "       'PAPUA NEW GUINEA', 'TRINIDAD & TOBAGO', 'KIRIBATI', 'ISRAEL',\n",
       "       'DIEGO GARCIA', 'TAIWAN', 'JAMAICA', 'PALESTINIAN TERRITORIES',\n",
       "       'GUAM', 'SEYCHELLES', 'BELIZE', 'NIGERIA', 'TONGA', 'SCOTLAND',\n",
       "       'CANADA', 'CROATIA', 'SAUDI ARABIA', 'CHILE', 'ANTIGUA', 'KENYA',\n",
       "       'RUSSIA', 'TURKS & CAICOS', 'UNITED ARAB EMIRATES (UAE)', 'AZORES',\n",
       "       'SOUTH KOREA', 'MALTA', 'VIETNAM', 'MADAGASCAR', 'PANAMA',\n",
       "       'SOMALIA', 'NEVIS', 'BRITISH VIRGIN ISLANDS', 'NORWAY', 'SENEGAL',\n",
       "       'YEMEN', 'GULF OF ADEN', 'Sierra Leone', 'ST. MAARTIN',\n",
       "       'GRAND CAYMAN', 'Seychelles', 'LIBERIA', 'VANUATU', 'MEXICO ',\n",
       "       'HONDURAS', 'VENEZUELA', 'SRI LANKA', ' TONGA', 'URUGUAY', 'INDIA',\n",
       "       'MICRONESIA', 'CARIBBEAN SEA', 'OKINAWA', 'TANZANIA',\n",
       "       'MARSHALL ISLANDS', 'EGYPT / ISRAEL', 'NORTHERN ARABIAN SEA',\n",
       "       'HONG KONG', 'EL SALVADOR', 'ANGOLA', 'BERMUDA', 'MONTENEGRO',\n",
       "       'IRAN', 'TUNISIA', 'NAMIBIA', 'NORTH ATLANTIC OCEAN', 'PORTUGAL',\n",
       "       'SOUTH CHINA SEA', 'BANGLADESH', 'PALAU', 'WESTERN SAMOA',\n",
       "       'PACIFIC OCEAN ', 'BRITISH ISLES', 'GRENADA', 'IRAQ', 'TURKEY',\n",
       "       'SINGAPORE', 'NEW BRITAIN', 'SUDAN', 'JOHNSTON ISLAND',\n",
       "       'SOUTH PACIFIC OCEAN', 'NEW GUINEA', 'RED SEA',\n",
       "       'NORTH PACIFIC OCEAN', 'FEDERATED STATES OF MICRONESIA',\n",
       "       'MID ATLANTIC OCEAN', 'ADMIRALTY ISLANDS', 'BRITISH WEST INDIES',\n",
       "       'SOUTH ATLANTIC OCEAN', 'PERSIAN GULF', 'RED SEA / INDIAN OCEAN',\n",
       "       'PACIFIC OCEAN', 'NORTH SEA', 'NICARAGUA ', 'MALDIVE ISLANDS',\n",
       "       'AMERICAN SAMOA', 'ANDAMAN / NICOBAR ISLANDAS', 'GABON', 'MAYOTTE',\n",
       "       'NORTH ATLANTIC OCEAN ', 'THE BALKANS', 'SUDAN?', 'ARGENTINA',\n",
       "       'MARTINIQUE', 'INDIAN OCEAN', 'GUATEMALA', 'NETHERLANDS ANTILLES',\n",
       "       'NORTHERN MARIANA ISLANDS', 'IRAN / IRAQ', 'JAVA', 'SIERRA LEONE',\n",
       "       ' PHILIPPINES', 'NICARAGUA', 'CENTRAL PACIFIC',\n",
       "       'SOLOMON ISLANDS / VANUATU', 'SOUTHWEST PACIFIC OCEAN',\n",
       "       'BAY OF BENGAL', 'MID-PACIFC OCEAN', 'SLOVENIA', 'CURACAO',\n",
       "       'ICELAND', 'ITALY / CROATIA', 'BARBADOS', 'MONACO', 'GUYANA',\n",
       "       'HAITI', 'SAN DOMINGO', 'IRELAND', 'KUWAIT', 'YEMEN ',\n",
       "       'REUNION ISLAND', 'FALKLAND ISLANDS', 'CRETE', 'CYPRUS', 'EGYPT ',\n",
       "       'WEST INDIES', 'BURMA', 'LEBANON', 'PARAGUAY',\n",
       "       'BRITISH NEW GUINEA', 'CEYLON', 'OCEAN', 'GEORGIA', 'SYRIA',\n",
       "       'TUVALU', 'INDIAN OCEAN?', 'GUINEA', 'ANDAMAN ISLANDS',\n",
       "       'EQUATORIAL GUINEA / CAMEROON', 'COOK ISLANDS', 'TOBAGO', 'PERU',\n",
       "       'AFRICA', 'ALGERIA', 'Coast of AFRICA', 'TASMAN SEA', 'GHANA',\n",
       "       'GREENLAND', 'MEDITERRANEAN SEA', 'SWEDEN', 'ROATAN',\n",
       "       'Between PORTUGAL & INDIA', 'DJIBOUTI', 'BAHREIN', 'KOREA',\n",
       "       'RED SEA?', 'ASIA?', 'CEYLON (SRI LANKA)'], dtype=object)"
      ]
     },
     "execution_count": 42,
     "metadata": {},
     "output_type": "execute_result"
    }
   ],
   "source": [
    "shark.country.unique()"
   ]
  },
  {
   "cell_type": "code",
   "execution_count": 43,
   "id": "43778673",
   "metadata": {},
   "outputs": [],
   "source": [
    "shark.country = [e.lower() for e in shark.country]"
   ]
  },
  {
   "cell_type": "code",
   "execution_count": 44,
   "id": "ef298453",
   "metadata": {},
   "outputs": [
    {
     "data": {
      "text/plain": [
       "array(['usa', 'australia', 'mexico', 'brazil', 'england', 'south africa',\n",
       "       'thailand', 'costa rica', 'maldives', 'bahamas', 'new caledonia',\n",
       "       'ecuador', 'malaysia', 'libya', 'unknown', 'cuba', 'mauritius',\n",
       "       'new zealand', 'spain', 'samoa', 'solomon islands', 'japan',\n",
       "       'egypt', 'st helena, british overseas territory', 'comoros',\n",
       "       'reunion', 'french polynesia', 'united kingdom',\n",
       "       'united arab emirates', 'philippines', 'indonesia', 'china',\n",
       "       'columbia', 'cape verde', 'fiji', 'dominican republic',\n",
       "       'cayman islands', 'aruba', 'mozambique', 'puerto rico', 'italy',\n",
       "       'atlantic ocean', 'greece', 'st. martin', 'france',\n",
       "       'papua new guinea', 'trinidad & tobago', 'kiribati', 'israel',\n",
       "       'diego garcia', 'taiwan', 'jamaica', 'palestinian territories',\n",
       "       'guam', 'seychelles', 'belize', 'nigeria', 'tonga', 'scotland',\n",
       "       'canada', 'croatia', 'saudi arabia', 'chile', 'antigua', 'kenya',\n",
       "       'russia', 'turks & caicos', 'united arab emirates (uae)', 'azores',\n",
       "       'south korea', 'malta', 'vietnam', 'madagascar', 'panama',\n",
       "       'somalia', 'nevis', 'british virgin islands', 'norway', 'senegal',\n",
       "       'yemen', 'gulf of aden', 'sierra leone', 'st. maartin',\n",
       "       'grand cayman', 'liberia', 'vanuatu', 'mexico ', 'honduras',\n",
       "       'venezuela', 'sri lanka', ' tonga', 'uruguay', 'india',\n",
       "       'micronesia', 'caribbean sea', 'okinawa', 'tanzania',\n",
       "       'marshall islands', 'egypt / israel', 'northern arabian sea',\n",
       "       'hong kong', 'el salvador', 'angola', 'bermuda', 'montenegro',\n",
       "       'iran', 'tunisia', 'namibia', 'north atlantic ocean', 'portugal',\n",
       "       'south china sea', 'bangladesh', 'palau', 'western samoa',\n",
       "       'pacific ocean ', 'british isles', 'grenada', 'iraq', 'turkey',\n",
       "       'singapore', 'new britain', 'sudan', 'johnston island',\n",
       "       'south pacific ocean', 'new guinea', 'red sea',\n",
       "       'north pacific ocean', 'federated states of micronesia',\n",
       "       'mid atlantic ocean', 'admiralty islands', 'british west indies',\n",
       "       'south atlantic ocean', 'persian gulf', 'red sea / indian ocean',\n",
       "       'pacific ocean', 'north sea', 'nicaragua ', 'maldive islands',\n",
       "       'american samoa', 'andaman / nicobar islandas', 'gabon', 'mayotte',\n",
       "       'north atlantic ocean ', 'the balkans', 'sudan?', 'argentina',\n",
       "       'martinique', 'indian ocean', 'guatemala', 'netherlands antilles',\n",
       "       'northern mariana islands', 'iran / iraq', 'java', ' philippines',\n",
       "       'nicaragua', 'central pacific', 'solomon islands / vanuatu',\n",
       "       'southwest pacific ocean', 'bay of bengal', 'mid-pacifc ocean',\n",
       "       'slovenia', 'curacao', 'iceland', 'italy / croatia', 'barbados',\n",
       "       'monaco', 'guyana', 'haiti', 'san domingo', 'ireland', 'kuwait',\n",
       "       'yemen ', 'reunion island', 'falkland islands', 'crete', 'cyprus',\n",
       "       'egypt ', 'west indies', 'burma', 'lebanon', 'paraguay',\n",
       "       'british new guinea', 'ceylon', 'ocean', 'georgia', 'syria',\n",
       "       'tuvalu', 'indian ocean?', 'guinea', 'andaman islands',\n",
       "       'equatorial guinea / cameroon', 'cook islands', 'tobago', 'peru',\n",
       "       'africa', 'algeria', 'coast of africa', 'tasman sea', 'ghana',\n",
       "       'greenland', 'mediterranean sea', 'sweden', 'roatan',\n",
       "       'between portugal & india', 'djibouti', 'bahrein', 'korea',\n",
       "       'red sea?', 'asia?', 'ceylon (sri lanka)'], dtype=object)"
      ]
     },
     "execution_count": 44,
     "metadata": {},
     "output_type": "execute_result"
    }
   ],
   "source": [
    "shark.country.unique()"
   ]
  },
  {
   "cell_type": "code",
   "execution_count": 45,
   "id": "09fe5065",
   "metadata": {},
   "outputs": [
    {
     "data": {
      "text/plain": [
       "1"
      ]
     },
     "execution_count": 45,
     "metadata": {},
     "output_type": "execute_result"
    }
   ],
   "source": [
    "repetidos(shark, 'country')"
   ]
  },
  {
   "cell_type": "code",
   "execution_count": 46,
   "id": "c113a307",
   "metadata": {},
   "outputs": [
    {
     "data": {
      "text/plain": [
       "country\n",
       "<class 'str'>    6302\n",
       "Name: count, dtype: int64"
      ]
     },
     "execution_count": 46,
     "metadata": {},
     "output_type": "execute_result"
    }
   ],
   "source": [
    "shark['country'].apply(type).value_counts()"
   ]
  },
  {
   "cell_type": "markdown",
   "id": "e5fbab7c",
   "metadata": {},
   "source": [
    "Los datos parecen consistentes, por lo que los voy a dejar así, en caso de necesitarlo más adelante profundizaré más."
   ]
  },
  {
   "cell_type": "markdown",
   "id": "df296c6c",
   "metadata": {},
   "source": [
    "---"
   ]
  },
  {
   "cell_type": "markdown",
   "id": "f5577e07",
   "metadata": {},
   "source": [
    "# Area"
   ]
  },
  {
   "cell_type": "code",
   "execution_count": 47,
   "id": "69f3a2d4",
   "metadata": {},
   "outputs": [
    {
     "data": {
      "text/plain": [
       "0                California\n",
       "1                   Georgia\n",
       "2                    Hawaii\n",
       "3           New South Wales\n",
       "4                    Colima\n",
       "5           New South Wales\n",
       "6                Pernambuco\n",
       "7                   Florida\n",
       "8                   Florida\n",
       "9                   Florida\n",
       "10               Queensland\n",
       "11           South Carolina\n",
       "12           South Carolina\n",
       "13                 Cornwall\n",
       "14        Westerm Australia\n",
       "15    Eastern Cape Province\n",
       "16          New South Wales\n",
       "17                  Hua Hin\n",
       "18             Cocos Island\n",
       "19        Western Australia\n",
       "Name: area, dtype: object"
      ]
     },
     "execution_count": 47,
     "metadata": {},
     "output_type": "execute_result"
    }
   ],
   "source": [
    "shark.area[:20]"
   ]
  },
  {
   "cell_type": "code",
   "execution_count": 48,
   "id": "2d2a6fff",
   "metadata": {},
   "outputs": [
    {
     "data": {
      "text/plain": [
       "array(['California', 'Georgia', 'Hawaii', 'New South Wales', 'Colima',\n",
       "       'Pernambuco', 'Florida', 'Queensland', 'South Carolina',\n",
       "       'Cornwall', 'Westerm Australia', 'Eastern Cape Province',\n",
       "       'Hua Hin', 'Cocos Island', 'Western Australia',\n",
       "       'Alifu Alifu Atoll', 'Western Cape Province', 'New Providence',\n",
       "       'Alagoas', 'unknown', 'Victoria', 'KwaZulu-Natal',\n",
       "       'Boi Island, Victoria', 'Galapagos Islands', 'Fernando de Noronha',\n",
       "       'Sepang', 'Holquin Province', 'Pamplemousses ', 'South Australia',\n",
       "       'North Island', 'New York', 'Canary Islands', ' Upolu Island',\n",
       "       'Shizuoka Prefecture', 'Texas', 'Castellón', 'Massachusetts',\n",
       "       'Red Sea Protectorate', 'New Providence District',\n",
       "       '40 miles off Grand Bahama Island', 'Ascension Island',\n",
       "       'New Jersey', 'Majorca', 'Washington', 'Tabasco', 'Anjouan',\n",
       "       'Ibiza Island', 'Marquesas', 'South Devon', 'New Providence ',\n",
       "       'Sharjah, ', 'Baja California Sur', 'Saint-Leu', 'South Island',\n",
       "       'Luzon Island', 'Great Exuma', 'Saint-Andre', 'Bimini', 'Bali',\n",
       "       'Tuamotos', 'Oregon', 'North Province', 'New Providence Island',\n",
       "       'Alicante Province', 'Hong Kong', 'Kochi Prefecture', 'Tasmania',\n",
       "       'Abaco Islands', 'Alabama', 'North Carolina', 'Isla Provedencia',\n",
       "       'Suez', 'Grand Terre', 'Boa Vista Island', 'Vanua Levu',\n",
       "       'Santa Catarina State', 'South Province', 'Altagracia Province',\n",
       "       'Grand Cayman', 'Balneário Camboriú', 'Fujairah Emirate',\n",
       "       'Grand Canary Island', 'Inhambane Province', 'Phuket', 'Alicante',\n",
       "       'Guanacaste', 'Bora Bora', 'Grand Bahama Island', 'Le Port',\n",
       "       'Rangiroa', 'Saint-Gilles-les-Bains', 'Sardinia', 'Sinaloa',\n",
       "       'Central Tuamotu', 'd’Étang-Salé', 'Granada',\n",
       "       'Cargados Carajos Shoals (St. Brandon)', 'Moorea', 'Catalonia',\n",
       "       'Maryland', 'Louisiana', 'West End', 'Delaware',\n",
       "       'Atsumi peninsula', 'Palmyra Atoll', 'Wallis and Futuna',\n",
       "       'Baie de Sainte-Marie', 'Society Islands', 'Trinidad',\n",
       "       'Okinawa Prefecture', '740 miles SE of Tarawa Atoll',\n",
       "       'Southern District', 'Bay of Biscay', 'Quintana Roo',\n",
       "       'Exuma Islands', 'Saint-Paul', 'Taitung ', 'Kingston Parish',\n",
       "       'Santa Cruz Island', 'Saint-Gilles', 'Tuamotus', 'Eleuthera',\n",
       "       'St. Catherine', 'Palawan', 'Mercury Islands', 'Delta', \"Vava'u\",\n",
       "       'Inner Hebrides', 'Saint Leu', 'Trois-Bassins', 'British Colombia',\n",
       "       'Guerrero', 'Saint-Benoit', 'Tabuk Province',\n",
       "       'Antofagasta Province', \"St John's\", 'Santa Elena',\n",
       "       'East New Britain', 'Bois-Blanc ', 'Moray', 'Puerto Rico',\n",
       "       'Samaná Province', 'Coast Province', 'Central Province',\n",
       "       'Primorsky Krai',\n",
       "       'Peter the Great Bay, Khasan, Primorsky Krai (Far East)',\n",
       "       'Telyakovsky Bay, Khasan,  Primorsky Krai (Far East)', 'Praslin',\n",
       "       'Sucre', 'Middle Caicos', 'Caicos Bank', 'San Andrés archipelago',\n",
       "       'Kedah', 'Umm al Qaywayan Province', 'Vitu Levu',\n",
       "       'South Sinai Peninsula', ' Loyalty Islands', 'Saint Gilles ',\n",
       "       'Maine', 'Virginia', \"Ha'api \", 'Western Province',\n",
       "       'Jeju Province', 'Binh Dinh Province', 'Antsiranana Province',\n",
       "       'Sinai Peninsula', 'Off Vanua Levu', 'Merizo', 'Rio Grande Do Sul',\n",
       "       'Dubai', 'Torres Strait', 'Eastern Province',\n",
       "       'Eastern Cape  Province', 'Maputo Province', 'Bocas', 'Fife',\n",
       "       'Devon', 'Makira-Ulawa Province', 'Mombasa', 'Catalunya',\n",
       "       'St. Johns Reef', 'Off Green Island', 'North Region',\n",
       "       'Batangas province', 'Strait of Malacca', 'Guantanamo Province',\n",
       "       'Maranhão', 'Red Sea', 'Batanes Provine', 'Luzon',\n",
       "       'Northern Territory', ' Split-Dalmatia Count,', 'North Devon',\n",
       "       'US Virgin Islands', 'San Carlos', 'Cabo San Lucas', 'Sussex',\n",
       "       'Bahia', 'Easter Ross', 'Guerro', 'Yasawa Islands',\n",
       "       'Northern Bahamas', 'Tokyo Bay', 'Baja California', 'Green Bay',\n",
       "       'Loyalty Islands', 'Marovo Lagoon',\n",
       "       'Territory of Cocos (Keeling) Islands', 'Oslo Fjord', 'Kent',\n",
       "       'Bird Island', 'Providenciales', 'Bimini Islands',\n",
       "       'Muhafazat Hadramawt', 'Cook islans', 'Surigao del Norte',\n",
       "       'Between Somalia & Yemen', 'Ambergris Caye', 'Saint-Pierre',\n",
       "       'Kentucky', 'Andros Islands', 'Guam', 'Western Area',\n",
       "       '300 miles from Antigua', '800 miles from land',\n",
       "       '600 nm west of the Canary Islands', 'Simpson Bay', 'East Wall',\n",
       "       'Inner Islands', 'Shanghai', 'Malampa Province',\n",
       "       \"South Ch'ungch'ong Province\", 'Bay Islands', 'New Mexico',\n",
       "       'Santa Isabel Province', 'Santiago de Cuba Province',\n",
       "       'Camaguey Province', 'Conservatória District', 'South Carolina ',\n",
       "       'Kuril Islands in the Pacific', 'Wakayama Prefecture',\n",
       "       \"Nuku'alofa\", 'Saint-Benoît',\n",
       "       'South Island, near Karitane north of Dunedin', 'Rocha',\n",
       "       'Northlands', 'Anzoategui', 'Cook Islands', 'Tamil Nadu',\n",
       "       'Pearl Islands', 'Taveuni', 'Johnston Atoll', 'Baatan',\n",
       "       'Rio de Janeiro', 'Nueva Esparta', 'Southland',\n",
       "       'North Pacific coast', 'Caroline Islands', 'Cheshire',\n",
       "       'Louisiade Archipelago',\n",
       "       'KwaZulu-Natal between Port Edward and Port St Johns',\n",
       "       'Milne Bay Province', 'Cikobia Island (north of Vanua Levu)',\n",
       "       'Rayong Province', 'Zamboanga del Sur Province',\n",
       "       'Rio Grande de Norte',\n",
       "       'Off the western coast of peninsular Malaysia', 'New Brunswick',\n",
       "       'Miyako Island', 'Alaska', 'Minerva Reef', 'Madang Province',\n",
       "       'Worcestershire', 'Phang nga Province', 'Alinglaplap Atoll',\n",
       "       'Adriatic Sea', 'Ralik Chain', 'Grand Baie',\n",
       "       \"L' Etang Salé-les-Bains\", 'Southern Japan', 'Cap Vert Peninsula',\n",
       "       'Marches region', 'Berry Islands', 'Transvaal', 'Gaza',\n",
       "       \"Grand'Anse\", 'Beaufonds', 'Miyako', \"L'Etang-Sale\",\n",
       "       'Chatham Islands ', 'South Sinai, Gulf of Aqaba', 'Cat Cay',\n",
       "       'Missouri', '12 miles off the north coast', 'Saint-Paul ',\n",
       "       'Chatham Islands, east of New  Zealand', 'Saint-Denis', 'Vava’u',\n",
       "       'Mississippi', 'Clearwater Bay', 'New Territories',\n",
       "       'Aichi Prefecture', 'Tafea Province', 'Kagoshima Prefecture',\n",
       "       'Saint-Joseph', 'Banaadir Region', 'La Libertad', 'Costa Blanca',\n",
       "       'Walkers Cay', 'On the Kowloon penisula, south of Sai Kung',\n",
       "       'Ehime Prefecture', 'Tongapatu Group', 'West Africa',\n",
       "       'Wakaya Island', 'North Carolina ', 'Mexico / Caribbean Sea',\n",
       "       'Antarctic Ocean', 'La Saline-les-Bains', 'Sea of Japan',\n",
       "       'Tavenui', 'Ligurian Sea', \"L'Etang-Salé\", 'Kowloon Peninsula',\n",
       "       'Port Shelter', 'Laucala Island', 'Sainte-Marie',\n",
       "       'Great Exuma Island', 'Sainte-Suzanne', 'Tuscany',\n",
       "       'Tyrrhenian Sea', 'New Ireland', 'Valpariso Province',\n",
       "       'Viscayan Sea', 'Manfredonia ', 'Tokyo Prefecture', 'Saint-Louis',\n",
       "       'Mindoro', 'Between DR and Puerto Rico',\n",
       "       'Between Honiara & Isabel Island', 'Florida Straits',\n",
       "       'Gulf of Lyons', 'Cádiz', 'Sicily', 'Andikira Fokithes',\n",
       "       'Central Philippines', 'Rhode Island', 'Northwest Italy',\n",
       "       'English Channel', 'North & South Carolina', 'Kumamoto Prefecture',\n",
       "       'Biserta', 'Saint-Philippe', 'Chungnam', 'Eronogo Region',\n",
       "       'Coquimbo', 'Pagasitikos Gulf', \"St. Mary's Parish\",\n",
       "       'Romblon Province', 'Lamu Archipelago', 'Los Vilos',\n",
       "       'Island of Kos', \"Ha'api\", 'Madeira Islands',\n",
       "       'Ho Ha Wan Marine Park', 'Southern Thailand', 'Golfo de Venezia',\n",
       "       'Ralik Archipelago', 'South China Sea 200 miles from Hong Kong',\n",
       "       'Reggio Calabria Province', 'Mirs Bay ', 'Genoa Province',\n",
       "       'Ganges-Brahmaputra delta', ' Split-Dalmatia County', 'Florida ',\n",
       "       'Primorje-Gorski Kotar County ', 'Aulong Island',\n",
       "       'Western Caroline Islands', 'Upolu Island', 'Antibes',\n",
       "       'Illeginni Atoll', 'Istria County', 'Between Beira & Maputo',\n",
       "       'Khuzestan Province', 'Inhambe Province', 'Namonuito Atoll',\n",
       "       'Eastern Caroline Islands',\n",
       "       'Western Caroline Islands (North Pacific Ocean)', 'Caribbean Sea',\n",
       "       'St. Andrew Parish', '200 nm southeast of Manila', 'Limpopo River',\n",
       "       'New Ireland Province', 'Zadar County', 'Basrah', 'Clarendon',\n",
       "       'Moro Gulf', 'Johor', 'Magdalena Department', 'Mafia Island',\n",
       "       'Gulf Province', 'Morobe Province', 'Limón Province',\n",
       "       'Rombion Province', 'Veracruz', 'Brindisi Province',\n",
       "       'Kagawa Prefecture', 'Liguria', 'Hamilton', 'Out Islands',\n",
       "       'Mugla Province', 'Gibraltar', 'New Britain', 'Bay of Maputo',\n",
       "       'Duke of York Islands', 'Taranto province', 'Northern Taiwan',\n",
       "       'Admiralty Islands, Manus Province', 'North Sumatra',\n",
       "       \"250 miles southwest of O'ahu, Hawaii\", 'West coast', 'East Sepik',\n",
       "       'Near Bougainville (North Solomons)', 'East of the Gulf of Aqaba',\n",
       "       'Bougainville (North Solomons)', 'Victoria ', 'Okayama Prefecture',\n",
       "       'San Blas', 'Connecticut', 'Lau Group', 'Caribbean Coast',\n",
       "       'Vita Levu', 'San Blas Islands', 'Puntarenas Province',\n",
       "       'Lomaloma, Lau', 'Between Southampton & Canary Islands',\n",
       "       'South Coast, East New Britain', ' Lau Province', 'Ysabel Island',\n",
       "       'Santo Domingo', 'San Blas coast', 'Thessaly',\n",
       "       'Lomaiviti  Island Group', 'Rodrigues', 'Manus Island',\n",
       "       'Pinas Bay', 'Grand Turk Island', 'Off coast of West Africa',\n",
       "       'Sharon', 'Antalya Province', 'Northern District',\n",
       "       'New Ireland Province, Bismarck Archipelago', 'Cyclades',\n",
       "       'Viti Levu', 'Off the Coromandel Peninsula, North Island',\n",
       "       'Madang', 'Guadalcanal Province', '10ºS, 142ºE', 'Kwajalein Atoll',\n",
       "       'East Flores', 'Guerrrero', 'Western Luzon Island',\n",
       "       'Shefa Province', '165  miles from Bermuda',\n",
       "       '25 km off the coast of Iran & 483km from mouth of Persian Gulf',\n",
       "       'Venice Province', 'Sandaun Province', 'Anatolia',\n",
       "       'East New Britain Province', 'United Arab Emirates',\n",
       "       'Wake Island (EnenKio)', '19S, 178?E', 'Pennsylvania',\n",
       "       '9.35N 79.35W', 'Roncador Bank', 'Western District',\n",
       "       'Enroute from Suez to Aden (Yemen)',\n",
       "       '180 miles southeast of Okinawa', 'Eniwetok Atoll',\n",
       "       'Cap-Vert Peninsula', 'Delagoa Bay', 'In the English Channel ',\n",
       "       'Cook Strait', 'Unknown, treated at Wick, SCOTLAND',\n",
       "       'Corregidor Island', 'Paget', '33N, 68W', 'Casamance',\n",
       "       'Madang (WO)', 'Between Timor & Darwin, Australia',\n",
       "       'Pacific coast', 'St. Georges ', 'Eastern  Province',\n",
       "       'Northwest of Viti Levu', 'West New Britain Province',\n",
       "       'Rigo subdistrict', 'Masbate', '400 miles southeast of Sri Lanka',\n",
       "       'Lomaiviti Province', 'Kadavu', 'Leyte Island', 'Orissa',\n",
       "       'Hokkaido Prefecture', 'North Palawan', 'Queaon', 'Istria',\n",
       "       'PANAMA', 'In the Gulf Stream ', 'Mersin Province', 'Guyamas',\n",
       "       'Between England & South Africa', 'Mindanao',\n",
       "       ' Kikori River mouth', 'South Chungcheong Province',\n",
       "       'Ahirkapi coast', 'Tutuila Island', 'Primorje-Gorski Kotar County',\n",
       "       'Between Hawaii & Wake Island', 'Taipei Hsien',\n",
       "       'Ibaraki Prefecture', 'South Pacific Ocean', 'Canal Zone',\n",
       "       '1,000 miles east of Hawaii', 'Honiara', 'Yucatan Channel',\n",
       "       'Havana Province', 'Karun River',\n",
       "       'Abau Subdistrict,Central Province',\n",
       "       'New Britain, Bismarck Archipelago', 'Estuaire Province',\n",
       "       'Near Dakar, Cap Vert Peninsula',\n",
       "       'Near the Andaman & Nicobar Islands', 'Mozambique Channel',\n",
       "       'Tyrrenian Sea', 'Congreve Channel', 'St. Thomas Bay', 'Madeira',\n",
       "       'Between Comores & Madagascar', 'Corfu Island',\n",
       "       '1000 miles west of Hawaii', 'Izo Islands',\n",
       "       ' Primorje-Gorski Kotar County', 'Open sea', 'Aden',\n",
       "       'New Ireland, Bismarck Archipelago', '18S / 50E', 'Illinois',\n",
       "       'Isles del Rosario', 'Wake Island', 'Isle of Man',\n",
       "       'Nagasaki Prefecture', 'Liguaria', 'Slovenia', 'South shore ',\n",
       "       'Buenos Aires Province', '330 to 350 miles east of Wake Island',\n",
       "       'Nova Scotia', 'Gulf of Panama', 'Genoa  Province',\n",
       "       'Abau Sub District, Central Province', 'Teramo', 'Red Sea State',\n",
       "       'Curacao', 'Port Louis Province', 'Montserrado', 'Bay of Maputu',\n",
       "       'Sofala Province', 'Salerno', 'Salerno Province', 'Taranto',\n",
       "       'Naples Province', ' La Libertad', 'Sago Prefecture', 'Savona',\n",
       "       'Southern Province', 'Jakarta Harbour', 'Singapore Harbor',\n",
       "       'Calabria', 'Shatt-el-Arab River', 'Shatt-al-Arab River',\n",
       "       'Tamaulipas', 'Calvados Archipelago', 'Shat-Al-Arab River',\n",
       "       'Between Kwajalein Atoll & Johnston Island', 'Attica',\n",
       "       'Adana Province', 'Bandar Ma’shur sea inlet', 'Saipan',\n",
       "       'Carpathian Sea', 'Kwajalein', 'Dar-es-Salaam ',\n",
       "       '\"Head of the Gulf\"', 'Ryukyu', ' North Carolina',\n",
       "       'In transit between Tinian and Leyte', 'Northern Java', 'Tel Aviv',\n",
       "       'Colon Province', '300 miles east of Luzon',\n",
       "       'Bernardino Strait near Gulf of Leyte',\n",
       "       'Off Samar Island in the Gulf of Leyte',\n",
       "       'Lake Nicaragua (fresh water)', 'Pacific Ocean',\n",
       "       'Near the Fiji Islands', '40 miles south of Naples ',\n",
       "       'Northwest of Papua New Guinea', 'Between Hawaii and U.S.A.',\n",
       "       'Off South American coast', 'Makora-Ulawa Province',\n",
       "       '04.05N-13.23W', 'Midway Atoll',\n",
       "       '300 miles east of St. Thomas (Virgin Islands)',\n",
       "       'West of Ceylon (Sri  Lanka)', 'East Java', 'Camiguin Island',\n",
       "       'Cay Sal Bank', '(Southwestern Pacific)', 'Panama City',\n",
       "       'Off Libya', 'North of Pernambuco, Brazil', 'Off coast of Ecuador',\n",
       "       'Trelawney Province', 'In Convoy OB 274', 'New Georgia',\n",
       "       'Panama Bay (Pacific Ocean)', 'Bwagaoia', 'Western Papuan Gulf',\n",
       "       'Torres Strait ', 'Carabobo', 'Ascension Bay', 'North China',\n",
       "       'Lower San Juan River', 'Nicoya Peninsula', 'Basrah City',\n",
       "       'West Bengal', 'Queensland ', 'Argyllshire', 'Arran', 'Argyll',\n",
       "       'Fishing Grounds', 'Newfoundland', 'Isle of Wight',\n",
       "       'Makira-Uluwa Province', 'Northern (Oro) Province', 'Herzliyah',\n",
       "       'Elqui Province', 'Istanbul', 'St Michael Parish',\n",
       "       'Barlavento Islands', 'Viti Levu Island', 'Bay of Fundy', 'Manila',\n",
       "       'French Southern Territories', 'Niua ', 'Black River',\n",
       "       'Phoenix Islands', 'Cienfuegos Province', 'Valencia',\n",
       "       'Santiago Island', 'Near Puntarenas', 'Porto Seguro',\n",
       "       'Salinas Bay', 'Golfo di Genova in the Ligurian Sea',\n",
       "       'Sants-Montjic', 'South of the Equator ', 'Bay of Monaco',\n",
       "       'Valencia ', 'Vancouver',\n",
       "       '2 to 3 miles off Taboguilla Island, Pacific Ocean', 'Dorset',\n",
       "       '150 miles offshore', 'Galica', 'Demerara County', 'Vera Cruz',\n",
       "       ' Manila Bay', 'Lucy', 'East Yorkshire', 'Westmoreland Parish',\n",
       "       'Cavite Province, Luzon', 'Cape Haitien', 'Leyte', 'Halifax',\n",
       "       'Turtle Bogue', '60 miles north of San Domingo in the West Indies',\n",
       "       'Colon', 'Off Ireland', 'Mediterranean Sea', 'Gran Canaria',\n",
       "       'Apolima Strait', 'Essequibo', 'Lagos ', 'Trieste', '5aint-Denis',\n",
       "       'Viti Levu group', 'Balearics', 'Málaga ', 'Chatham Islands',\n",
       "       'Georges Bank', 'Zambesi River', 'Colón Province',\n",
       "       '30 nm from Singapore', 'Andalucia', 'Sfax',\n",
       "       'South Atlantic Ocean', 'Galicia', 'Gulf of Suez', 'Java',\n",
       "       'Tiburon Peninsula', 'Oaxaca', 'Harare Province',\n",
       "       'Khánh Hòa Province', 'Maluku Province', 'Suez Canal',\n",
       "       ' Nusa Tenggara', 'Between Noumea & Sydney',\n",
       "       'Villa Clara Province', 'Ancona Province', 'Quezon',\n",
       "       'Rio San Juan', 'Southern Cyprus', 'Syracuse', 'Western Viscayas',\n",
       "       'Mindoro Occidental', 'Negros ', 'Imperia Province', 'Muala',\n",
       "       'East coast', 'Ratak ', 'Socotra Islands', 'Off Cape Haitien',\n",
       "       'Moluccas', 'Bocas del Toro', 'Provence', 'Bay of Campeche',\n",
       "       'Rangoon', 'Bay of Bengal', 'Bayelsa State', 'South Island?',\n",
       "       'Norfolk Island', 'Brittany', 'Line Islands', 'Woodlark Islands',\n",
       "       'Munxar Reef', 'Northern Peloponnese', 'Between Perth & Colombo',\n",
       "       'Gujarat', 'Lukovo', 'Cortés', 'Gulf of California',\n",
       "       'Somewhere between Philadelphia and Hiogo, Japan', ' New Jersey',\n",
       "       \"Côte d'Azur  \", 'Maldonado coast', 'Western Banks',\n",
       "       'Andaman Islands', 'Off the coast of West Africa',\n",
       "       'Misamis Oriental', 'Strait of Messina', 'Hoogly River',\n",
       "       'Cyclades archipelago', 'Mount Lebanon',\n",
       "       'Between Hastings & Fairlight, Sussex', 'Veracruz ',\n",
       "       'Gilbert Islands', 'Lomaiviti Provine',\n",
       "       'Off the coast of South America', '22ºN, 88ºE',\n",
       "       'Matanzas Province (north coast)', 'Alpes Maritime', 'Edinburgh',\n",
       "       'Eastern Catalona', '300 miles east of Mauritius',\n",
       "       'Foveaux Strait', 'Sumatra', 'Conakry Region', 'Corfu', 'Malaga',\n",
       "       'Bonin Islands', 'Fernando Po Island', 'Mangaia Island',\n",
       "       'New York ', 'Corfu ', 'Between Australia & USA', 'Tongatapu',\n",
       "       'Norfolk', 'Island of St. Thomas', 'Cumberland', 'Sanma Province',\n",
       "       \"35º39 : 165º8'\", 'CUBA', 'Western Area ', 'Paraiba', 'Cape Coast',\n",
       "       'Rivers State', 'Maharashtra', 'St. Anne', 'St Helena',\n",
       "       \"Côte d'Azur \", 'Skagerrak arm of the North Sea',\n",
       "       'Las Perlas archipelago', 'Bardestrand', 'Southwest coast',\n",
       "       'Kerala', 'Nice & Marseilles', 'Magarita or Cubagua Islands',\n",
       "       'Ionian Sea', 'Piraeus', 'Off Thessaly', 'Bocas del Toro Province',\n",
       "       'Rocha ', 'Gulf of Tadjoura', 'Cyrenaica', 'Northern Province',\n",
       "       'Los Roques  Islands', 'Dodecanese Islands', 'Malaita Province',\n",
       "       'South Korea', 'Milne Bay  Province', 'Island of Volos',\n",
       "       'Amirante Islands', 'Kadavu Island Group', 'Toamasina Province',\n",
       "       'Riau Province', 'Bikini Atoll',\n",
       "       'Between New Ireland & New Britain', 'Ba Ria-Vung Tau  Province',\n",
       "       'Moala Island'], dtype=object)"
      ]
     },
     "execution_count": 48,
     "metadata": {},
     "output_type": "execute_result"
    }
   ],
   "source": [
    "shark.area.unique()"
   ]
  },
  {
   "cell_type": "code",
   "execution_count": 49,
   "id": "cd436699",
   "metadata": {},
   "outputs": [
    {
     "data": {
      "text/plain": [
       "1"
      ]
     },
     "execution_count": 49,
     "metadata": {},
     "output_type": "execute_result"
    }
   ],
   "source": [
    "repetidos(shark, 'area')"
   ]
  },
  {
   "cell_type": "code",
   "execution_count": 50,
   "id": "715487f6",
   "metadata": {},
   "outputs": [
    {
     "data": {
      "text/plain": [
       "area\n",
       "<class 'str'>    6302\n",
       "Name: count, dtype: int64"
      ]
     },
     "execution_count": 50,
     "metadata": {},
     "output_type": "execute_result"
    }
   ],
   "source": [
    "shark['area'].apply(type).value_counts()"
   ]
  },
  {
   "cell_type": "markdown",
   "id": "e857a4d4",
   "metadata": {},
   "source": [
    "Estos datos también parecen consistentes, por lo que también los voy a dejar así y en caso de necesitarlo más adelante profundizaré más."
   ]
  },
  {
   "cell_type": "markdown",
   "id": "6ad3b4eb",
   "metadata": {},
   "source": [
    "---"
   ]
  },
  {
   "cell_type": "markdown",
   "id": "9be505da",
   "metadata": {},
   "source": [
    "# Location"
   ]
  },
  {
   "cell_type": "code",
   "execution_count": 51,
   "id": "2f29c28e",
   "metadata": {},
   "outputs": [
    {
     "data": {
      "text/plain": [
       "0                           Oceanside, San Diego County\n",
       "1                        St. Simon Island, Glynn County\n",
       "2                                          Habush, Oahu\n",
       "3                                    Arrawarra Headland\n",
       "4                                              La Ticla\n",
       "5                                    Flat Rock, Ballina\n",
       "6                                 Piedade Beach, Recife\n",
       "7     Lighhouse Point Park, Ponce Inlet, Volusia County\n",
       "8                          Cocoa Beach, Brevard  County\n",
       "9                         Daytona Beach, Volusia County\n",
       "10                                      Cairns Aquarium\n",
       "11                    Isle of Palms,  Charleston County\n",
       "12                  Hilton Head Island, Beaufort County\n",
       "13                                       Off Land's End\n",
       "14                                           Dugong Bay\n",
       "15                            Nahoon Beach, East London\n",
       "16                               Sharpes Beach, Ballina\n",
       "17                                        Sai Noi Beach\n",
       "18                                            Manuelita\n",
       "19                                         Gearys Beach\n",
       "Name: location, dtype: object"
      ]
     },
     "execution_count": 51,
     "metadata": {},
     "output_type": "execute_result"
    }
   ],
   "source": [
    "shark.location[:20]"
   ]
  },
  {
   "cell_type": "code",
   "execution_count": 52,
   "id": "c81b614d",
   "metadata": {},
   "outputs": [
    {
     "data": {
      "text/plain": [
       "array(['Oceanside, San Diego County', 'St. Simon Island, Glynn County',\n",
       "       'Habush, Oahu', ..., 'Ocracoke Inlet', 'Panama Bay 8ºN, 79ºW',\n",
       "       'Below the English fort, Trincomalee'], dtype=object)"
      ]
     },
     "execution_count": 52,
     "metadata": {},
     "output_type": "execute_result"
    }
   ],
   "source": [
    "shark.location.unique()"
   ]
  },
  {
   "cell_type": "code",
   "execution_count": 53,
   "id": "c4d45609",
   "metadata": {},
   "outputs": [
    {
     "data": {
      "text/plain": [
       "1"
      ]
     },
     "execution_count": 53,
     "metadata": {},
     "output_type": "execute_result"
    }
   ],
   "source": [
    "repetidos(shark, 'location')"
   ]
  },
  {
   "cell_type": "code",
   "execution_count": 54,
   "id": "b413eb7f",
   "metadata": {},
   "outputs": [
    {
     "data": {
      "text/plain": [
       "location\n",
       "<class 'str'>    6302\n",
       "Name: count, dtype: int64"
      ]
     },
     "execution_count": 54,
     "metadata": {},
     "output_type": "execute_result"
    }
   ],
   "source": [
    "shark['location'].apply(type).value_counts()"
   ]
  },
  {
   "cell_type": "markdown",
   "id": "ce77ca7a",
   "metadata": {},
   "source": [
    "---"
   ]
  },
  {
   "cell_type": "markdown",
   "id": "61b1d49c",
   "metadata": {},
   "source": [
    "# Activity"
   ]
  },
  {
   "cell_type": "code",
   "execution_count": 55,
   "id": "99979607",
   "metadata": {},
   "outputs": [
    {
     "data": {
      "text/plain": [
       "activity\n",
       "Surfing                                   971\n",
       "Swimming                                  869\n",
       "unknown                                   544\n",
       "Fishing                                   431\n",
       "Spearfishing                              333\n",
       "                                         ... \n",
       "Playing with a frisbee in the shallows      1\n",
       "Sinking of the ferryboat Dumaguete          1\n",
       "Wreck of the Storm King                     1\n",
       "Feeding mullet to sharks                    1\n",
       "Wreck of  large double sailing canoe        1\n",
       "Name: count, Length: 1533, dtype: int64"
      ]
     },
     "execution_count": 55,
     "metadata": {},
     "output_type": "execute_result"
    }
   ],
   "source": [
    "shark.activity.value_counts()"
   ]
  },
  {
   "cell_type": "code",
   "execution_count": 56,
   "id": "4d123631",
   "metadata": {},
   "outputs": [
    {
     "data": {
      "text/plain": [
       "array(['Paddling', 'Standing', 'Surfing', ...,\n",
       "       'Crew swimming alongside their anchored ship',\n",
       "       '4 men were bathing', 'Wreck of  large double sailing canoe'],\n",
       "      dtype=object)"
      ]
     },
     "execution_count": 56,
     "metadata": {},
     "output_type": "execute_result"
    }
   ],
   "source": [
    "shark.activity.unique()"
   ]
  },
  {
   "cell_type": "code",
   "execution_count": 57,
   "id": "937aa6b8",
   "metadata": {},
   "outputs": [
    {
     "data": {
      "text/plain": [
       "1"
      ]
     },
     "execution_count": 57,
     "metadata": {},
     "output_type": "execute_result"
    }
   ],
   "source": [
    "repetidos(shark, 'activity')  # Revisa la cantidad de tipos de datos diferentes que hay"
   ]
  },
  {
   "cell_type": "code",
   "execution_count": 58,
   "id": "2e4706a9",
   "metadata": {},
   "outputs": [
    {
     "data": {
      "text/plain": [
       "activity\n",
       "<class 'str'>    6302\n",
       "Name: count, dtype: int64"
      ]
     },
     "execution_count": 58,
     "metadata": {},
     "output_type": "execute_result"
    }
   ],
   "source": [
    "shark['activity'].apply(type).value_counts()"
   ]
  },
  {
   "cell_type": "markdown",
   "id": "148cd131",
   "metadata": {},
   "source": [
    "---"
   ]
  },
  {
   "cell_type": "markdown",
   "id": "13f174f7",
   "metadata": {},
   "source": [
    "# Sex"
   ]
  },
  {
   "cell_type": "code",
   "execution_count": 59,
   "id": "2f5a9b6d",
   "metadata": {},
   "outputs": [
    {
     "data": {
      "text/plain": [
       "0     F\n",
       "1     F\n",
       "2     M\n",
       "3     M\n",
       "4     M\n",
       "5     M\n",
       "6     M\n",
       "7     M\n",
       "8     M\n",
       "9     M\n",
       "10    M\n",
       "11    M\n",
       "12    M\n",
       "13    M\n",
       "14    F\n",
       "15    M\n",
       "16    M\n",
       "17    M\n",
       "18    M\n",
       "19    M\n",
       "Name: sex, dtype: object"
      ]
     },
     "execution_count": 59,
     "metadata": {},
     "output_type": "execute_result"
    }
   ],
   "source": [
    "shark.sex[:20]"
   ]
  },
  {
   "cell_type": "code",
   "execution_count": 60,
   "id": "cff1d022",
   "metadata": {},
   "outputs": [
    {
     "data": {
      "text/plain": [
       "array(['F', 'M', 'u', 'M ', 'lli', 'N', '.'], dtype=object)"
      ]
     },
     "execution_count": 60,
     "metadata": {},
     "output_type": "execute_result"
    }
   ],
   "source": [
    "shark.sex.unique()"
   ]
  },
  {
   "cell_type": "code",
   "execution_count": 61,
   "id": "4ab4f8c3",
   "metadata": {},
   "outputs": [
    {
     "data": {
      "text/plain": [
       "sex\n",
       "M      5094\n",
       "F       637\n",
       "u       565\n",
       "M         2\n",
       "N         2\n",
       "lli       1\n",
       ".         1\n",
       "Name: count, dtype: int64"
      ]
     },
     "execution_count": 61,
     "metadata": {},
     "output_type": "execute_result"
    }
   ],
   "source": [
    "shark.sex.value_counts()"
   ]
  },
  {
   "cell_type": "code",
   "execution_count": 62,
   "id": "41744425",
   "metadata": {},
   "outputs": [],
   "source": [
    "shark.loc[shark['sex'] == '.', 'sex'] = 'u'\n",
    "shark.loc[shark['sex'] == 'lli', 'sex'] = 'u'\n",
    "shark.loc[shark['sex'] == 'N', 'sex'] = 'u'"
   ]
  },
  {
   "cell_type": "code",
   "execution_count": 63,
   "id": "3fa1edff",
   "metadata": {},
   "outputs": [
    {
     "data": {
      "text/plain": [
       "['F', 'M', 'u', 'M ']"
      ]
     },
     "execution_count": 63,
     "metadata": {},
     "output_type": "execute_result"
    }
   ],
   "source": [
    "shark['sex'].unique().tolist()"
   ]
  },
  {
   "cell_type": "code",
   "execution_count": 64,
   "id": "23f01057",
   "metadata": {},
   "outputs": [],
   "source": [
    "shark.loc[shark['sex'] == 'M ', 'sex'] = 'M'"
   ]
  },
  {
   "cell_type": "code",
   "execution_count": 65,
   "id": "bda859c6",
   "metadata": {},
   "outputs": [
    {
     "data": {
      "text/plain": [
       "sex\n",
       "M    5096\n",
       "F     637\n",
       "u     569\n",
       "Name: count, dtype: int64"
      ]
     },
     "execution_count": 65,
     "metadata": {},
     "output_type": "execute_result"
    }
   ],
   "source": [
    "shark.sex.value_counts()"
   ]
  },
  {
   "cell_type": "code",
   "execution_count": 66,
   "id": "062549ad",
   "metadata": {},
   "outputs": [
    {
     "data": {
      "text/plain": [
       "1"
      ]
     },
     "execution_count": 66,
     "metadata": {},
     "output_type": "execute_result"
    }
   ],
   "source": [
    "repetidos(shark, 'sex')"
   ]
  },
  {
   "cell_type": "code",
   "execution_count": 67,
   "id": "155c6830",
   "metadata": {},
   "outputs": [
    {
     "data": {
      "text/plain": [
       "sex\n",
       "<class 'str'>    6302\n",
       "Name: count, dtype: int64"
      ]
     },
     "execution_count": 67,
     "metadata": {},
     "output_type": "execute_result"
    }
   ],
   "source": [
    "shark['sex'].apply(type).value_counts()"
   ]
  },
  {
   "cell_type": "markdown",
   "id": "20269d8c",
   "metadata": {},
   "source": [
    "---"
   ]
  },
  {
   "cell_type": "markdown",
   "id": "309fef2c",
   "metadata": {},
   "source": [
    "# Age"
   ]
  },
  {
   "cell_type": "code",
   "execution_count": 68,
   "id": "d63dd7e0",
   "metadata": {},
   "outputs": [
    {
     "data": {
      "text/plain": [
       "0     57\n",
       "1     11\n",
       "2     48\n",
       "3     -1\n",
       "4     -1\n",
       "5     -1\n",
       "6     18\n",
       "7     52\n",
       "8     15\n",
       "9     12\n",
       "10    32\n",
       "11    10\n",
       "12    10\n",
       "13    21\n",
       "14    34\n",
       "15    -1\n",
       "16    -1\n",
       "17    -1\n",
       "18    30\n",
       "19    -1\n",
       "Name: age, dtype: object"
      ]
     },
     "execution_count": 68,
     "metadata": {},
     "output_type": "execute_result"
    }
   ],
   "source": [
    "shark.age[:20]"
   ]
  },
  {
   "cell_type": "code",
   "execution_count": 69,
   "id": "fd125370",
   "metadata": {},
   "outputs": [
    {
     "data": {
      "text/plain": [
       "array(['57', '11', '48', '-1', '18', '52', '15', '12', '32', '10', '21',\n",
       "       '34', '30', '60', '33', '29', '54', '41', '37', '56', '19', '25',\n",
       "       '69', '38', '55', '35', '46', '45', '14', '40s', '28', '20', '24',\n",
       "       '26', '49', '22', '7', '31', '17', '40', '13', '42', '3', '8',\n",
       "       '50', '16', '82', '73', '20s', '68', '51', '39', '58', 'Teen',\n",
       "       '47', '61', '65', '36', '66', '43', '60s', '9', '72', '59', '6',\n",
       "       '27', '64', '23', '71', '44', '62', '63', '70', '18months', '53',\n",
       "       '30s', '50s', 'teen', '77', '74', '28&26', '5', '86', '18or20',\n",
       "       '12or13', '46&34', '28,23&30', 'Teens', '36&26', '8or10', '84',\n",
       "       '\\xa0', nan, '30or36', '6½', '21&?', '75', '33or37', 'mid-30s',\n",
       "       '23&20', '7&31', '20?', \"60's\", '32&30', '16to18', '87', '67',\n",
       "       'Elderly', 'mid-20s', 'Ca.33', '21or26', '>50', '18to22', 'adult',\n",
       "       '9&12', '?&19', '9months', '25to35', '23&26', '1', '(adult)',\n",
       "       '33&37', '25or28', '37,67,35,27,?&27', '21,34,24&35', '30&32',\n",
       "       '50&30', '17&35', 'X', '\"middle-age\"', '13or18', '34&19', '33&26',\n",
       "       '2to3months', 'MAKELINEGREEN', '81', '\"young\"', '7or8', '78',\n",
       "       '17&16', 'F', 'Both11', '9or10', 'young', '36&23', 'A.M.', '?&14',\n",
       "       '10or12', '31or33', '2½', '13or14'], dtype=object)"
      ]
     },
     "execution_count": 69,
     "metadata": {},
     "output_type": "execute_result"
    }
   ],
   "source": [
    "shark.age.unique()"
   ]
  },
  {
   "cell_type": "code",
   "execution_count": 70,
   "id": "20cd3715",
   "metadata": {},
   "outputs": [
    {
     "data": {
      "text/plain": [
       "array(['57', '11', '48', '-1', '18', '52', '15', '12', '32', '10', '21',\n",
       "       '34', '30', '60', '33', '29', '54', '41', '37', '56', '19', '25',\n",
       "       '69', '38', '55', '35', '46', '45', '14', '40', '28', '20', '24',\n",
       "       '26', '49', '22', '7', '31', '17', '13', '42', '3', '8', '50',\n",
       "       '16', '82', '73', '68', '51', '39', '58', 'Teen', '47', '61', '65',\n",
       "       '36', '66', '43', '9', '72', '59', '6', '27', '64', '23', '71',\n",
       "       '44', '62', '63', '70', '53', 'teen', '77', '74', '5', '86',\n",
       "       'Teens', '84', '\\xa0', nan, '6½', '75', '87', '67', 'Elderly',\n",
       "       'adult', '9months', '1', '(adult)', 'X', '\"middle-age\"',\n",
       "       '2to3months', 'MAKELINEGREEN', '81', '\"young\"', '7or8', '78', 'F',\n",
       "       'young', 'A.M.', '2½'], dtype=object)"
      ]
     },
     "execution_count": 70,
     "metadata": {},
     "output_type": "execute_result"
    }
   ],
   "source": [
    "dos_num_seguidos(shark, 'age')"
   ]
  },
  {
   "cell_type": "code",
   "execution_count": 71,
   "id": "e463f36e",
   "metadata": {},
   "outputs": [
    {
     "data": {
      "text/plain": [
       "['young',\n",
       " 'Elderly',\n",
       " '2to3months',\n",
       " 'X',\n",
       " nan,\n",
       " 'F',\n",
       " 'Teens',\n",
       " 'adult',\n",
       " '2½',\n",
       " 'A.M.',\n",
       " '7or8',\n",
       " 'teen',\n",
       " '(adult)',\n",
       " 'MAKELINEGREEN',\n",
       " '\"young\"',\n",
       " '\"middle-age\"',\n",
       " '\\xa0',\n",
       " 'Teen',\n",
       " '6½',\n",
       " '9months']"
      ]
     },
     "execution_count": 71,
     "metadata": {},
     "output_type": "execute_result"
    }
   ],
   "source": [
    "faltan = []\n",
    "años = [str(i) for i in range(-1, 100)]\n",
    "for valor in shark['age']:\n",
    "    if valor not in años:\n",
    "        faltan.append(valor)\n",
    "faltan_unicos = list(set(faltan))\n",
    "faltan_unicos"
   ]
  },
  {
   "cell_type": "code",
   "execution_count": 72,
   "id": "ed8cf9e5",
   "metadata": {},
   "outputs": [
    {
     "data": {
      "text/plain": [
       "20"
      ]
     },
     "execution_count": 72,
     "metadata": {},
     "output_type": "execute_result"
    }
   ],
   "source": [
    "len(faltan_unicos)"
   ]
  },
  {
   "cell_type": "markdown",
   "id": "9b490970",
   "metadata": {},
   "source": [
    "Como no son muchos elementos voy a dividrlos en 4 grupos:\n",
    "1.- Meses: 1\n",
    "2.- Jovenes: 13\n",
    "3.- adultos: 30\n",
    "4.- anciano: 80"
   ]
  },
  {
   "cell_type": "code",
   "execution_count": 73,
   "id": "efea69d3",
   "metadata": {},
   "outputs": [],
   "source": [
    "meses = ['2to3months', '9months']\n",
    "joven = ['young', 'teen', 'Teen', '\"young\"']\n",
    "adulto = ['adult', '\"middle-age\"', '(adult)']\n",
    "anciano = ['MAKELINEGREEN', 'Elderly']\n"
   ]
  },
  {
   "cell_type": "code",
   "execution_count": 74,
   "id": "df0ef220",
   "metadata": {},
   "outputs": [
    {
     "data": {
      "text/plain": [
       "array(['57', '11', '48', '-1', '18', '52', '15', '12', '32', '10', '21',\n",
       "       '34', '30', '60', '33', '29', '54', '41', '37', '56', '19', '25',\n",
       "       '69', '38', '55', '35', '46', '45', '14', '40', '28', '20', '24',\n",
       "       '26', '49', '22', '7', '31', '17', '13', '42', '3', '8', '50',\n",
       "       '16', '82', '73', '68', '51', '39', '58', 13, '47', '61', '65',\n",
       "       '36', '66', '43', '9', '72', '59', '6', '27', '64', '23', '71',\n",
       "       '44', '62', '63', '70', '53', '77', '74', '5', '86', 'Teens', '84',\n",
       "       '\\xa0', nan, '6½', '75', '87', '67', 80, 30, 1, '1', 'X', '81',\n",
       "       '7or8', '78', 'F', 'A.M.', '2½'], dtype=object)"
      ]
     },
     "execution_count": 74,
     "metadata": {},
     "output_type": "execute_result"
    }
   ],
   "source": [
    "for i, valor in enumerate(shark['age']):\n",
    "    if valor in meses:\n",
    "        shark.at[i, 'age'] = 1\n",
    "    elif valor in joven:\n",
    "        shark.at[i, 'age'] = 13\n",
    "    elif valor in adulto:\n",
    "        shark.at[i, 'age'] = 30\n",
    "    elif valor in anciano:\n",
    "        shark.at[i, 'age'] = 80\n",
    "\n",
    "shark.age.unique()"
   ]
  },
  {
   "cell_type": "code",
   "execution_count": 75,
   "id": "28c279cd",
   "metadata": {},
   "outputs": [
    {
     "data": {
      "text/plain": [
       "['6½', 1, '7or8', 'F', 'Teens', '\\xa0', 13, '2½', 80, 'X', 'A.M.', nan, 30]"
      ]
     },
     "execution_count": 75,
     "metadata": {},
     "output_type": "execute_result"
    }
   ],
   "source": [
    "faltan = []\n",
    "años = [str(i) for i in range(-1, 100)]\n",
    "for valor in shark['age']:\n",
    "    if valor not in años:\n",
    "        faltan.append(valor)\n",
    "faltan_unicos = list(set(faltan))\n",
    "faltan_unicos"
   ]
  },
  {
   "cell_type": "code",
   "execution_count": 76,
   "id": "c383aa13",
   "metadata": {},
   "outputs": [
    {
     "data": {
      "text/plain": [
       "[80, 1, 13, 30]"
      ]
     },
     "execution_count": 76,
     "metadata": {},
     "output_type": "execute_result"
    }
   ],
   "source": [
    "shark.loc[shark['age'] == 'X', 'age'] = '0'\n",
    "shark.loc[shark['age'] == '6½', 'age'] = '6'\n",
    "shark.loc[shark['age'] == 'F', 'age'] = '0'\n",
    "shark.loc[shark['age'] == '7or8', 'age'] = '7'\n",
    "shark.loc[shark['age'] == 'A.M.', 'age'] = '0'\n",
    "shark.loc[shark['age'] == '\\xa0', 'age'] = '0'\n",
    "shark.loc[shark['age'] == 'Teens', 'age'] = '13'\n",
    "shark.loc[shark['age'] == '2½', 'age'] = '2'\n",
    "\n",
    "shark['age'].fillna('0', inplace=True)\n",
    "\n",
    "faltan = []\n",
    "años = [str(i) for i in range(-1, 100)]\n",
    "for valor in shark['age']:\n",
    "    if valor not in años:\n",
    "        faltan.append(valor)\n",
    "faltan_unicos = list(set(faltan))\n",
    "faltan_unicos"
   ]
  },
  {
   "cell_type": "code",
   "execution_count": 77,
   "id": "cea5103e",
   "metadata": {},
   "outputs": [
    {
     "name": "stdout",
     "output_type": "stream",
     "text": [
      "80 <class 'int'>\n",
      "1 <class 'int'>\n",
      "13 <class 'int'>\n",
      "30 <class 'int'>\n"
     ]
    }
   ],
   "source": [
    "for valor in faltan_unicos:\n",
    "    print(valor, type(valor))"
   ]
  },
  {
   "cell_type": "code",
   "execution_count": 78,
   "id": "656b799a",
   "metadata": {},
   "outputs": [
    {
     "data": {
      "text/plain": [
       "array(['57', '11', '48', '-1', '18', '52', '15', '12', '32', '10', '21',\n",
       "       '34', '30', '60', '33', '29', '54', '41', '37', '56', '19', '25',\n",
       "       '69', '38', '55', '35', '46', '45', '14', '40', '28', '20', '24',\n",
       "       '26', '49', '22', '7', '31', '17', '13', '42', '3', '8', '50',\n",
       "       '16', '82', '73', '68', '51', '39', '58', 13, '47', '61', '65',\n",
       "       '36', '66', '43', '9', '72', '59', '6', '27', '64', '23', '71',\n",
       "       '44', '62', '63', '70', '53', '77', '74', '5', '86', '84', '0',\n",
       "       '75', '87', '67', 80, 30, 1, '1', '81', '78', '2'], dtype=object)"
      ]
     },
     "execution_count": 78,
     "metadata": {},
     "output_type": "execute_result"
    }
   ],
   "source": [
    "shark.age.unique()"
   ]
  },
  {
   "cell_type": "code",
   "execution_count": 79,
   "id": "6a7588ce",
   "metadata": {},
   "outputs": [],
   "source": [
    "shark['age'] = shark['age'].astype('int16')"
   ]
  },
  {
   "cell_type": "code",
   "execution_count": 80,
   "id": "710c14bc",
   "metadata": {},
   "outputs": [
    {
     "data": {
      "text/plain": [
       "1"
      ]
     },
     "execution_count": 80,
     "metadata": {},
     "output_type": "execute_result"
    }
   ],
   "source": [
    "repetidos(shark, 'age')"
   ]
  },
  {
   "cell_type": "code",
   "execution_count": 81,
   "id": "c7472169",
   "metadata": {},
   "outputs": [
    {
     "data": {
      "text/plain": [
       "age\n",
       "<class 'int'>    6302\n",
       "Name: count, dtype: int64"
      ]
     },
     "execution_count": 81,
     "metadata": {},
     "output_type": "execute_result"
    }
   ],
   "source": [
    "shark['age'].apply(type).value_counts()"
   ]
  },
  {
   "cell_type": "markdown",
   "id": "fc039b76",
   "metadata": {},
   "source": [
    "---"
   ]
  },
  {
   "cell_type": "markdown",
   "id": "afc23e87",
   "metadata": {},
   "source": [
    "# Injury"
   ]
  },
  {
   "cell_type": "code",
   "execution_count": 82,
   "id": "a187009e",
   "metadata": {},
   "outputs": [
    {
     "data": {
      "text/plain": [
       "0     No injury to occupant, outrigger canoe and pad...\n",
       "1                            Minor injury to left thigh\n",
       "2          Injury to left lower leg from surfboard skeg\n",
       "3                             Minor injury to lower leg\n",
       "4     Lacerations to leg & hand shark PROVOKED INCIDENT\n",
       "5                               No injury, board bitten\n",
       "6                                                 FATAL\n",
       "7               Minor injury to foot. PROVOKED INCIDENT\n",
       "8                                 Lower left leg bitten\n",
       "9                                  Minor injury to foot\n",
       "10    Minor bite to hand by captive shark. PROVOKED ...\n",
       "11                 Injuries to lower right leg and foot\n",
       "12                         Severe bite to right forearm\n",
       "13    Injured by teeth of a dead porbeagle shark he ...\n",
       "14      Shallow lacerations to finger PROVOKED INCIDENT\n",
       "15                         Minor injury, marks on board\n",
       "16                         No injury, surfboard damaged\n",
       "17                                Minor injury to ankle\n",
       "18                      No injury, shark bit scuba gear\n",
       "19                No injury, knocked off board by shark\n",
       "Name: injury, dtype: object"
      ]
     },
     "execution_count": 82,
     "metadata": {},
     "output_type": "execute_result"
    }
   ],
   "source": [
    "shark.injury[:20]"
   ]
  },
  {
   "cell_type": "code",
   "execution_count": 83,
   "id": "053ce014",
   "metadata": {},
   "outputs": [
    {
     "data": {
      "text/plain": [
       "1"
      ]
     },
     "execution_count": 83,
     "metadata": {},
     "output_type": "execute_result"
    }
   ],
   "source": [
    "repetidos(shark, 'injury')"
   ]
  },
  {
   "cell_type": "code",
   "execution_count": 84,
   "id": "c0968cbc",
   "metadata": {},
   "outputs": [
    {
     "data": {
      "text/plain": [
       "3737"
      ]
     },
     "execution_count": 84,
     "metadata": {},
     "output_type": "execute_result"
    }
   ],
   "source": [
    "shark.injury.nunique()"
   ]
  },
  {
   "cell_type": "code",
   "execution_count": 85,
   "id": "9b3b85df",
   "metadata": {},
   "outputs": [
    {
     "data": {
      "text/plain": [
       "injury\n",
       "<class 'str'>    6302\n",
       "Name: count, dtype: int64"
      ]
     },
     "execution_count": 85,
     "metadata": {},
     "output_type": "execute_result"
    }
   ],
   "source": [
    "shark['injury'].apply(type).value_counts()"
   ]
  },
  {
   "cell_type": "markdown",
   "id": "7e010114",
   "metadata": {},
   "source": [
    "Al ser datos str que indican el nivel de daños causados por el ataque no voy a trabajar más con ellos por el momento, más adelante revisaré a ver si puedo obtener más información."
   ]
  },
  {
   "cell_type": "markdown",
   "id": "9b771cba",
   "metadata": {},
   "source": [
    "---"
   ]
  },
  {
   "cell_type": "markdown",
   "id": "ad50989c",
   "metadata": {},
   "source": [
    "# Fatal"
   ]
  },
  {
   "cell_type": "code",
   "execution_count": 86,
   "id": "2155e828",
   "metadata": {},
   "outputs": [
    {
     "data": {
      "text/plain": [
       "0     N\n",
       "1     N\n",
       "2     N\n",
       "3     N\n",
       "4     N\n",
       "5     N\n",
       "6     Y\n",
       "7     N\n",
       "8     N\n",
       "9     N\n",
       "10    N\n",
       "11    N\n",
       "12    N\n",
       "13    N\n",
       "14    N\n",
       "15    N\n",
       "16    N\n",
       "17    N\n",
       "18    N\n",
       "19    N\n",
       "Name: fatal, dtype: object"
      ]
     },
     "execution_count": 86,
     "metadata": {},
     "output_type": "execute_result"
    }
   ],
   "source": [
    "shark.fatal[:20]"
   ]
  },
  {
   "cell_type": "code",
   "execution_count": 87,
   "id": "4883f3da",
   "metadata": {},
   "outputs": [
    {
     "data": {
      "text/plain": [
       "array(['N', 'Y', 'U', 'M', 'UNKNOWN', '2017', ' N', 'N ', 'y'],\n",
       "      dtype=object)"
      ]
     },
     "execution_count": 87,
     "metadata": {},
     "output_type": "execute_result"
    }
   ],
   "source": [
    "shark.fatal.unique()"
   ]
  },
  {
   "cell_type": "code",
   "execution_count": 88,
   "id": "7c46756e",
   "metadata": {},
   "outputs": [
    {
     "data": {
      "text/html": [
       "<div>\n",
       "<style scoped>\n",
       "    .dataframe tbody tr th:only-of-type {\n",
       "        vertical-align: middle;\n",
       "    }\n",
       "\n",
       "    .dataframe tbody tr th {\n",
       "        vertical-align: top;\n",
       "    }\n",
       "\n",
       "    .dataframe thead th {\n",
       "        text-align: right;\n",
       "    }\n",
       "</style>\n",
       "<table border=\"1\" class=\"dataframe\">\n",
       "  <thead>\n",
       "    <tr style=\"text-align: right;\">\n",
       "      <th></th>\n",
       "      <th>year</th>\n",
       "    </tr>\n",
       "  </thead>\n",
       "  <tbody>\n",
       "    <tr>\n",
       "      <th>786</th>\n",
       "      <td>2012</td>\n",
       "    </tr>\n",
       "  </tbody>\n",
       "</table>\n",
       "</div>"
      ],
      "text/plain": [
       "     year\n",
       "786  2012"
      ]
     },
     "execution_count": 88,
     "metadata": {},
     "output_type": "execute_result"
    }
   ],
   "source": [
    "shark.loc[shark['fatal'] == '2017', ['year']]"
   ]
  },
  {
   "cell_type": "markdown",
   "id": "3c95e523",
   "metadata": {},
   "source": [
    "En este caso entiendo que le causó la muerte las heridas sufridas por el ataque de 2012 en el año 2017"
   ]
  },
  {
   "cell_type": "code",
   "execution_count": 89,
   "id": "ea490868",
   "metadata": {},
   "outputs": [
    {
     "data": {
      "text/html": [
       "<div>\n",
       "<style scoped>\n",
       "    .dataframe tbody tr th:only-of-type {\n",
       "        vertical-align: middle;\n",
       "    }\n",
       "\n",
       "    .dataframe tbody tr th {\n",
       "        vertical-align: top;\n",
       "    }\n",
       "\n",
       "    .dataframe thead th {\n",
       "        text-align: right;\n",
       "    }\n",
       "</style>\n",
       "<table border=\"1\" class=\"dataframe\">\n",
       "  <thead>\n",
       "    <tr style=\"text-align: right;\">\n",
       "      <th></th>\n",
       "      <th>sex</th>\n",
       "    </tr>\n",
       "  </thead>\n",
       "  <tbody>\n",
       "    <tr>\n",
       "      <th>285</th>\n",
       "      <td>M</td>\n",
       "    </tr>\n",
       "  </tbody>\n",
       "</table>\n",
       "</div>"
      ],
      "text/plain": [
       "    sex\n",
       "285   M"
      ]
     },
     "execution_count": 89,
     "metadata": {},
     "output_type": "execute_result"
    }
   ],
   "source": [
    "shark.loc[shark['fatal'] == 'M', ['sex']]"
   ]
  },
  {
   "cell_type": "code",
   "execution_count": 90,
   "id": "a6283105",
   "metadata": {},
   "outputs": [],
   "source": [
    "reemplazos = {'M': 'U', 'UNKNOWN': 'U', '2017': 'Y', ' N': 'N', 'N ': 'N', 'y': 'Y'}\n",
    "shark['fatal'] = shark['fatal'].replace(reemplazos)"
   ]
  },
  {
   "cell_type": "code",
   "execution_count": 91,
   "id": "994f13f6",
   "metadata": {},
   "outputs": [
    {
     "data": {
      "text/plain": [
       "array(['N', 'Y', 'U'], dtype=object)"
      ]
     },
     "execution_count": 91,
     "metadata": {},
     "output_type": "execute_result"
    }
   ],
   "source": [
    "shark.fatal.unique()"
   ]
  },
  {
   "cell_type": "code",
   "execution_count": 92,
   "id": "3ba1c60d",
   "metadata": {},
   "outputs": [
    {
     "data": {
      "text/plain": [
       "fatal\n",
       "<class 'str'>    6302\n",
       "Name: count, dtype: int64"
      ]
     },
     "execution_count": 92,
     "metadata": {},
     "output_type": "execute_result"
    }
   ],
   "source": [
    "shark['fatal'].apply(type).value_counts()"
   ]
  },
  {
   "cell_type": "markdown",
   "id": "bdf61b41",
   "metadata": {},
   "source": [
    "---"
   ]
  },
  {
   "cell_type": "markdown",
   "id": "66278bfa",
   "metadata": {},
   "source": [
    "# Investigator"
   ]
  },
  {
   "cell_type": "code",
   "execution_count": 93,
   "id": "29316124",
   "metadata": {},
   "outputs": [
    {
     "data": {
      "text/plain": [
       "0                                      R. Collier, GSAF\n",
       "1                        K.McMurray, TrackingSharks.com\n",
       "2                        K.McMurray, TrackingSharks.com\n",
       "3                                        B. Myatt, GSAF\n",
       "4                                             A .Kipper\n",
       "5                             Daily Telegraph, 6/4/2018\n",
       "6                        Diario de Pernambuco, 6/4/2018\n",
       "7                       K. McMurray, TrackingSharks.com\n",
       "8                        K.McMurray, TrackingSharks.com\n",
       "9                      K. McMurray, Tracking Sharks.com\n",
       "10                               ABC.net.au ,05/24/2018\n",
       "11                                    C. Creswell, GSAF\n",
       "12    C. Creswell, GSAF & K. McMurray TrackingSharks...\n",
       "13                      K. McMurray, TrackingSharks.com\n",
       "14                                 Perth Now, 6/30/2018\n",
       "15                    B.Jacob, Dispatch Live, 5/12/2018\n",
       "16                                       B. Myatt, GSAF\n",
       "17                      K. McMurray, TrackingSharks.com\n",
       "18                           Costa Rica Star. 4/28/2018\n",
       "19                                       B. Myatt, GSAF\n",
       "Name: investigator, dtype: object"
      ]
     },
     "execution_count": 93,
     "metadata": {},
     "output_type": "execute_result"
    }
   ],
   "source": [
    "shark.investigator[:20]"
   ]
  },
  {
   "cell_type": "code",
   "execution_count": 94,
   "id": "eac24b03",
   "metadata": {},
   "outputs": [
    {
     "data": {
      "text/plain": [
       "investigator\n",
       "C. Moore, GSAF                                                    105\n",
       "C. Creswell, GSAF                                                  92\n",
       "S. Petersohn, GSAF                                                 82\n",
       "R. Collier                                                         55\n",
       "T. Peake, GSAF                                                     48\n",
       "                                                                 ... \n",
       "Deseret News, 2/19/1996; European Stars and Stripes, 2/20/1996      1\n",
       "Daily Telegraph, 2/29/1996, p.5; H. Edwards, pp.31-32               1\n",
       "J. Royle, et. al. (1997)                                            1\n",
       "Advertiser, 3/6/1996, p.9; Daily Mail (London), 3/9/1996            1\n",
       "S.W. Baker                                                          1\n",
       "Name: count, Length: 4970, dtype: int64"
      ]
     },
     "execution_count": 94,
     "metadata": {},
     "output_type": "execute_result"
    }
   ],
   "source": [
    "shark.investigator.value_counts()"
   ]
  },
  {
   "cell_type": "code",
   "execution_count": 95,
   "id": "5d8a3bba",
   "metadata": {},
   "outputs": [
    {
     "data": {
      "text/plain": [
       "investigator\n",
       "<class 'str'>    6302\n",
       "Name: count, dtype: int64"
      ]
     },
     "execution_count": 95,
     "metadata": {},
     "output_type": "execute_result"
    }
   ],
   "source": [
    "shark['investigator'].apply(type).value_counts()"
   ]
  },
  {
   "cell_type": "markdown",
   "id": "e2b90d8d",
   "metadata": {},
   "source": [
    "Como todos los datos son de tipo str no hay datos inconsistentes, por lo que los analizaré en la parte 4 más en profundidad"
   ]
  },
  {
   "cell_type": "markdown",
   "id": "58caaedb",
   "metadata": {},
   "source": [
    "---"
   ]
  },
  {
   "cell_type": "markdown",
   "id": "fda7c7d9",
   "metadata": {},
   "source": [
    "# Pdf"
   ]
  },
  {
   "cell_type": "code",
   "execution_count": 96,
   "id": "687595a3",
   "metadata": {},
   "outputs": [
    {
     "data": {
      "text/plain": [
       "0              2018.06.25-Wolfe.pdf\n",
       "1            2018.06.18-McNeely.pdf\n",
       "2             2018.06.09-Denges.pdf\n",
       "3          2018.06.08-Arrawarra.pdf\n",
       "4              2018.06.04-Ramos.pdf\n",
       "5         2018.06.03.b-FlatRock.pdf\n",
       "6          2018.06.03.a-daSilva.pdf\n",
       "7              2018.05.27-Ponce.pdf\n",
       "8             2018.05.26.b-High.pdf\n",
       "9     2018.05.26.a-DaytonaBeach.pdf\n",
       "10    2018.05.24-CairnsAquarium.pdf\n",
       "11            2018.05.21-deBoer.pdf\n",
       "12         2018.05.13.b-Turrell.pdf\n",
       "13        2018.05.13.a-Berryman.pdf\n",
       "14          2018.05.00-Brunning.pdf\n",
       "15        2018.05.12-EastLondon.pdf\n",
       "16      2018.05.09-SharpesBeach.pdf\n",
       "17        2018.04.30.R-Thailand.pdf\n",
       "18       2018.04.28.b-CostaRica.pdf\n",
       "19          2018.04.28.a-Murray.pdf\n",
       "Name: pdf, dtype: object"
      ]
     },
     "execution_count": 96,
     "metadata": {},
     "output_type": "execute_result"
    }
   ],
   "source": [
    "shark.pdf[:20]"
   ]
  },
  {
   "cell_type": "code",
   "execution_count": 97,
   "id": "62301aa2",
   "metadata": {},
   "outputs": [
    {
     "data": {
      "text/plain": [
       "pdf\n",
       "1923.00.00.a-NJ fisherman.pdf      2\n",
       "1935.06.05.R-SolomonIslands.pdf    2\n",
       "1916.12.08.a-b-German.pdf          2\n",
       "1907.10.16.R-HongKong.pdf          2\n",
       "1921.11.27.a-b-Jack.pdf            2\n",
       "                                  ..\n",
       "1999.10.30.a-TroyJesse.pdf         1\n",
       "1999.10.30.b-Dolsky.pdf            1\n",
       "1999.11.00.a-Morson.pdf            1\n",
       "1999.11.00.b-Bayo.pdf              1\n",
       "ND-0001-Ceylon.pdf                 1\n",
       "Name: count, Length: 6291, dtype: int64"
      ]
     },
     "execution_count": 97,
     "metadata": {},
     "output_type": "execute_result"
    }
   ],
   "source": [
    "shark['pdf'].value_counts()"
   ]
  },
  {
   "cell_type": "code",
   "execution_count": 98,
   "id": "5bc385c6",
   "metadata": {},
   "outputs": [
    {
     "data": {
      "text/plain": [
       "1"
      ]
     },
     "execution_count": 98,
     "metadata": {},
     "output_type": "execute_result"
    }
   ],
   "source": [
    "repetidos(shark, 'pdf')"
   ]
  },
  {
   "cell_type": "code",
   "execution_count": 99,
   "id": "e5873147",
   "metadata": {},
   "outputs": [
    {
     "data": {
      "text/plain": [
       "pdf\n",
       "<class 'str'>    6302\n",
       "Name: count, dtype: int64"
      ]
     },
     "execution_count": 99,
     "metadata": {},
     "output_type": "execute_result"
    }
   ],
   "source": [
    "shark['pdf'].apply(type).value_counts()"
   ]
  },
  {
   "cell_type": "markdown",
   "id": "535b9050",
   "metadata": {},
   "source": [
    "---"
   ]
  },
  {
   "cell_type": "markdown",
   "id": "f7f0c619",
   "metadata": {},
   "source": [
    "# href"
   ]
  },
  {
   "cell_type": "code",
   "execution_count": 100,
   "id": "65fcef0d",
   "metadata": {},
   "outputs": [
    {
     "data": {
      "text/plain": [
       "0     http://sharkattackfile.net/spreadsheets/pdf_di...\n",
       "1     http://sharkattackfile.net/spreadsheets/pdf_di...\n",
       "2     http://sharkattackfile.net/spreadsheets/pdf_di...\n",
       "3     http://sharkattackfile.net/spreadsheets/pdf_di...\n",
       "4     http://sharkattackfile.net/spreadsheets/pdf_di...\n",
       "5     http://sharkattackfile.net/spreadsheets/pdf_di...\n",
       "6     http://sharkattackfile.net/spreadsheets/pdf_di...\n",
       "7     http://sharkattackfile.net/spreadsheets/pdf_di...\n",
       "8     http://sharkattackfile.net/spreadsheets/pdf_di...\n",
       "9     http://sharkattackfile.net/spreadsheets/pdf_di...\n",
       "10    http://sharkattackfile.net/spreadsheets/pdf_di...\n",
       "11    http://sharkattackfile.net/spreadsheets/pdf_di...\n",
       "12    http://sharkattackfile.net/spreadsheets/pdf_di...\n",
       "13    http://sharkattackfile.net/spreadsheets/pdf_di...\n",
       "14    http://sharkattackfile.net/spreadsheets/pdf_di...\n",
       "15    http://sharkattackfile.net/spreadsheets/pdf_di...\n",
       "16    http://sharkattackfile.net/spreadsheets/pdf_di...\n",
       "17    http://sharkattackfile.net/spreadsheets/pdf_di...\n",
       "18    http://sharkattackfile.net/spreadsheets/pdf_di...\n",
       "19    http://sharkattackfile.net/spreadsheets/pdf_di...\n",
       "Name: href, dtype: object"
      ]
     },
     "execution_count": 100,
     "metadata": {},
     "output_type": "execute_result"
    }
   ],
   "source": [
    "shark.href[:20]"
   ]
  },
  {
   "cell_type": "code",
   "execution_count": 101,
   "id": "44b1813c",
   "metadata": {},
   "outputs": [
    {
     "data": {
      "text/plain": [
       "href\n",
       "http://sharkattackfile.net/spreadsheets/pdf_directory/1923.00.00.a-NJ fisherman.pdf      2\n",
       "http://sharkattackfile.net/spreadsheets/pdf_directory/1935.06.05.R-SolomonIslands.pdf    2\n",
       "http://sharkattackfile.net/spreadsheets/pdf_directory/1916.12.08.a-b-German.pdf          2\n",
       "http://sharkattackfile.net/spreadsheets/pdf_directory/1907.10.16.R-HongKong.pdf          2\n",
       "http://sharkattackfile.net/spreadsheets/pdf_directory/1921.11.27.a-b-Jack.pdf            2\n",
       "                                                                                        ..\n",
       "http://sharkattackfile.net/spreadsheets/pdf_directory/1999.10.30.a-TroyJesse.pdf         1\n",
       "http://sharkattackfile.net/spreadsheets/pdf_directory/1999.10.30.b-Dolsky.pdf            1\n",
       "http://sharkattackfile.net/spreadsheets/pdf_directory/1999.11.00.a-Morson.pdf            1\n",
       "http://sharkattackfile.net/spreadsheets/pdf_directory/1999.11.00.b-Bayo.pdf              1\n",
       "http://sharkattackfile.net/spreadsheets/pdf_directoryND-0001-Ceylon.pdf                  1\n",
       "Name: count, Length: 6291, dtype: int64"
      ]
     },
     "execution_count": 101,
     "metadata": {},
     "output_type": "execute_result"
    }
   ],
   "source": [
    "shark.href.value_counts()"
   ]
  },
  {
   "cell_type": "code",
   "execution_count": 102,
   "id": "059f63f8",
   "metadata": {},
   "outputs": [
    {
     "data": {
      "text/plain": [
       "1"
      ]
     },
     "execution_count": 102,
     "metadata": {},
     "output_type": "execute_result"
    }
   ],
   "source": [
    "repetidos(shark, 'href')"
   ]
  },
  {
   "cell_type": "code",
   "execution_count": 103,
   "id": "522aa881",
   "metadata": {},
   "outputs": [
    {
     "data": {
      "text/plain": [
       "href\n",
       "<class 'str'>    6302\n",
       "Name: count, dtype: int64"
      ]
     },
     "execution_count": 103,
     "metadata": {},
     "output_type": "execute_result"
    }
   ],
   "source": [
    "shark['href'].apply(type).value_counts()"
   ]
  },
  {
   "cell_type": "markdown",
   "id": "3d402cb5",
   "metadata": {},
   "source": [
    "---"
   ]
  },
  {
   "cell_type": "markdown",
   "id": "0a6f35a4",
   "metadata": {},
   "source": [
    "# href1"
   ]
  },
  {
   "cell_type": "code",
   "execution_count": 104,
   "id": "f474b154",
   "metadata": {},
   "outputs": [
    {
     "data": {
      "text/plain": [
       "0     http://sharkattackfile.net/spreadsheets/pdf_di...\n",
       "1     http://sharkattackfile.net/spreadsheets/pdf_di...\n",
       "2     http://sharkattackfile.net/spreadsheets/pdf_di...\n",
       "3     http://sharkattackfile.net/spreadsheets/pdf_di...\n",
       "4     http://sharkattackfile.net/spreadsheets/pdf_di...\n",
       "5     http://sharkattackfile.net/spreadsheets/pdf_di...\n",
       "6     http://sharkattackfile.net/spreadsheets/pdf_di...\n",
       "7     http://sharkattackfile.net/spreadsheets/pdf_di...\n",
       "8     http://sharkattackfile.net/spreadsheets/pdf_di...\n",
       "9     http://sharkattackfile.net/spreadsheets/pdf_di...\n",
       "10    http://sharkattackfile.net/spreadsheets/pdf_di...\n",
       "11    http://sharkattackfile.net/spreadsheets/pdf_di...\n",
       "12    http://sharkattackfile.net/spreadsheets/pdf_di...\n",
       "13    http://sharkattackfile.net/spreadsheets/pdf_di...\n",
       "14    http://sharkattackfile.net/spreadsheets/pdf_di...\n",
       "15    http://sharkattackfile.net/spreadsheets/pdf_di...\n",
       "16    http://sharkattackfile.net/spreadsheets/pdf_di...\n",
       "17    http://sharkattackfile.net/spreadsheets/pdf_di...\n",
       "18    http://sharkattackfile.net/spreadsheets/pdf_di...\n",
       "19    http://sharkattackfile.net/spreadsheets/pdf_di...\n",
       "Name: href1, dtype: object"
      ]
     },
     "execution_count": 104,
     "metadata": {},
     "output_type": "execute_result"
    }
   ],
   "source": [
    "shark.href1[:20]"
   ]
  },
  {
   "cell_type": "code",
   "execution_count": 105,
   "id": "19dda168",
   "metadata": {},
   "outputs": [
    {
     "data": {
      "text/plain": [
       "href1\n",
       "http://sharkattackfile.net/spreadsheets/pdf_directory/w014.01.25-Grant.pdf                 4\n",
       "http://sharkattackfile.net/spreadsheets/pdf_directory/2014.10.02.b-Vandenberg.pdf          3\n",
       "http://sharkattackfile.net/spreadsheets/pdf_directory/1923.00.00.a-NJ fisherman.pdf        2\n",
       "http://sharkattackfile.net/spreadsheets/pdf_directory/1934.12.23.a-b-Inman.pdf             2\n",
       "http://sharkattackfile.net/spreadsheets/pdf_directory/1929.03.04.a-b.Roads-Aldridge.pdf    2\n",
       "                                                                                          ..\n",
       "http://sharkattackfile.net/spreadsheets/pdf_directory/1999.09.10-Warnock.pdf               1\n",
       "http://sharkattackfile.net/spreadsheets/pdf_directory/1999.09.16-Ferguson.pdf              1\n",
       "http://sharkattackfile.net/spreadsheets/pdf_directory/1999.09.18-Wallersheim.pdf           1\n",
       "http://sharkattackfile.net/spreadsheets/pdf_directory/1999.09.24-boat.pdf                  1\n",
       "http://sharkattackfile.net/spreadsheets/pdf_directoryND-0001-Ceylon.pdf                    1\n",
       "Name: count, Length: 6285, dtype: int64"
      ]
     },
     "execution_count": 105,
     "metadata": {},
     "output_type": "execute_result"
    }
   ],
   "source": [
    "shark.href1.value_counts()"
   ]
  },
  {
   "cell_type": "code",
   "execution_count": 106,
   "id": "f6987323",
   "metadata": {},
   "outputs": [
    {
     "data": {
      "text/plain": [
       "1"
      ]
     },
     "execution_count": 106,
     "metadata": {},
     "output_type": "execute_result"
    }
   ],
   "source": [
    "repetidos(shark, 'href1')"
   ]
  },
  {
   "cell_type": "code",
   "execution_count": 107,
   "id": "d4c2ef24",
   "metadata": {},
   "outputs": [
    {
     "data": {
      "text/plain": [
       "href1\n",
       "<class 'str'>    6302\n",
       "Name: count, dtype: int64"
      ]
     },
     "execution_count": 107,
     "metadata": {},
     "output_type": "execute_result"
    }
   ],
   "source": [
    "shark['href1'].apply(type).value_counts()"
   ]
  },
  {
   "cell_type": "markdown",
   "id": "42a4e2b3",
   "metadata": {},
   "source": [
    "---"
   ]
  },
  {
   "cell_type": "markdown",
   "id": "20507614",
   "metadata": {},
   "source": [
    "# Casenumber1, Casenumber2"
   ]
  },
  {
   "cell_type": "code",
   "execution_count": 108,
   "id": "0ab8c5fe",
   "metadata": {},
   "outputs": [
    {
     "data": {
      "text/plain": [
       "(casenumber1\n",
       " <class 'str'>    6302\n",
       " Name: count, dtype: int64,\n",
       " casenumber2\n",
       " <class 'str'>    6302\n",
       " Name: count, dtype: int64)"
      ]
     },
     "execution_count": 108,
     "metadata": {},
     "output_type": "execute_result"
    }
   ],
   "source": [
    "shark['casenumber1'].apply(type).value_counts(), shark['casenumber2'].apply(type).value_counts()"
   ]
  },
  {
   "cell_type": "markdown",
   "id": "acec0591",
   "metadata": {},
   "source": [
    "---"
   ]
  },
  {
   "cell_type": "markdown",
   "id": "166b0f6f",
   "metadata": {},
   "source": [
    "# originalorder"
   ]
  },
  {
   "cell_type": "code",
   "execution_count": 109,
   "id": "cd858b68",
   "metadata": {},
   "outputs": [
    {
     "data": {
      "text/plain": [
       "0     6303.0\n",
       "1     6302.0\n",
       "2     6301.0\n",
       "3     6300.0\n",
       "4     6299.0\n",
       "5     6298.0\n",
       "6     6297.0\n",
       "7     6296.0\n",
       "8     6295.0\n",
       "9     6294.0\n",
       "10    6293.0\n",
       "11    6292.0\n",
       "12    6291.0\n",
       "13    6290.0\n",
       "14    6289.0\n",
       "15    6288.0\n",
       "16    6287.0\n",
       "17    6286.0\n",
       "18    6285.0\n",
       "19    6284.0\n",
       "Name: originalorder, dtype: float64"
      ]
     },
     "execution_count": 109,
     "metadata": {},
     "output_type": "execute_result"
    }
   ],
   "source": [
    "shark.originalorder[:20]"
   ]
  },
  {
   "cell_type": "code",
   "execution_count": 110,
   "id": "5e49c264",
   "metadata": {},
   "outputs": [],
   "source": [
    "shark['originalorder'] = shark.originalorder.astype('int16')"
   ]
  },
  {
   "cell_type": "code",
   "execution_count": 111,
   "id": "754e0447",
   "metadata": {},
   "outputs": [
    {
     "data": {
      "text/plain": [
       "originalorder\n",
       "<class 'int'>    6302\n",
       "Name: count, dtype: int64"
      ]
     },
     "execution_count": 111,
     "metadata": {},
     "output_type": "execute_result"
    }
   ],
   "source": [
    "shark['originalorder'].apply(type).value_counts()"
   ]
  },
  {
   "cell_type": "markdown",
   "id": "17f33a89",
   "metadata": {},
   "source": [
    "---"
   ]
  },
  {
   "cell_type": "markdown",
   "id": "4d474877",
   "metadata": {},
   "source": [
    "# Unnamed, Unnamed1"
   ]
  },
  {
   "cell_type": "code",
   "execution_count": 112,
   "id": "dedaaaf1",
   "metadata": {},
   "outputs": [
    {
     "data": {
      "text/plain": [
       "(unnamed\n",
       " <class 'int'>    6302\n",
       " Name: count, dtype: int64,\n",
       " unnamed1\n",
       " <class 'int'>    6302\n",
       " Name: count, dtype: int64)"
      ]
     },
     "execution_count": 112,
     "metadata": {},
     "output_type": "execute_result"
    }
   ],
   "source": [
    "shark['unnamed'].apply(type).value_counts(), shark['unnamed1'].apply(type).value_counts()"
   ]
  },
  {
   "cell_type": "markdown",
   "id": "55737c82",
   "metadata": {},
   "source": [
    "---"
   ]
  },
  {
   "cell_type": "markdown",
   "id": "6873d263",
   "metadata": {},
   "source": [
    "# Time"
   ]
  },
  {
   "cell_type": "code",
   "execution_count": 113,
   "id": "b995944d",
   "metadata": {},
   "outputs": [
    {
     "data": {
      "text/plain": [
       "0     18:00\n",
       "1     14:00\n",
       "2     07:45\n",
       "3     25:00\n",
       "4     25:00\n",
       "5     25:00\n",
       "6     18:00\n",
       "7     25:00\n",
       "8     17:00\n",
       "9     14:00\n",
       "10    09:00\n",
       "11    25:00\n",
       "12    15:00\n",
       "13    08:15\n",
       "14    25:00\n",
       "15    11:00\n",
       "16    10:30\n",
       "17    25:00\n",
       "18    10:40\n",
       "19    16:50\n",
       "Name: time, dtype: object"
      ]
     },
     "execution_count": 113,
     "metadata": {},
     "output_type": "execute_result"
    }
   ],
   "source": [
    "shark.time[:20]"
   ]
  },
  {
   "cell_type": "code",
   "execution_count": 114,
   "id": "81694baa",
   "metadata": {},
   "outputs": [
    {
     "data": {
      "text/plain": [
       "time\n",
       "<class 'str'>    6302\n",
       "Name: count, dtype: int64"
      ]
     },
     "execution_count": 114,
     "metadata": {},
     "output_type": "execute_result"
    }
   ],
   "source": [
    "shark['time'].apply(type).value_counts()"
   ]
  },
  {
   "cell_type": "code",
   "execution_count": 115,
   "id": "85497b22",
   "metadata": {},
   "outputs": [
    {
     "data": {
      "text/plain": [
       "time\n",
       "25:00    3531\n",
       "18:00     301\n",
       "09:00     190\n",
       "11:00     131\n",
       "12:00     113\n",
       "         ... \n",
       "09:20       1\n",
       "10:16       1\n",
       "10:27       1\n",
       "15:44       1\n",
       "01:50       1\n",
       "Name: count, Length: 247, dtype: int64"
      ]
     },
     "execution_count": 115,
     "metadata": {},
     "output_type": "execute_result"
    }
   ],
   "source": [
    "shark.time.value_counts()"
   ]
  },
  {
   "cell_type": "code",
   "execution_count": 116,
   "id": "cbf374d9",
   "metadata": {},
   "outputs": [],
   "source": [
    "shark['hora'] = shark['time'].str.split(':').str[0].astype(str)\n",
    "shark['minutos'] = shark['time'].str.split(':').str[1].astype(str)"
   ]
  },
  {
   "cell_type": "code",
   "execution_count": 117,
   "id": "77d42d61",
   "metadata": {},
   "outputs": [
    {
     "data": {
      "text/plain": [
       "0    18\n",
       "1    14\n",
       "2    07\n",
       "3    25\n",
       "4    25\n",
       "5    25\n",
       "6    18\n",
       "7    25\n",
       "8    17\n",
       "9    14\n",
       "Name: hora, dtype: object"
      ]
     },
     "execution_count": 117,
     "metadata": {},
     "output_type": "execute_result"
    }
   ],
   "source": [
    "shark.hora[:10]"
   ]
  },
  {
   "cell_type": "code",
   "execution_count": 118,
   "id": "cd3ffdd9",
   "metadata": {},
   "outputs": [
    {
     "data": {
      "text/plain": [
       "0     00\n",
       "1     00\n",
       "2     45\n",
       "3     00\n",
       "4     00\n",
       "5     00\n",
       "6     00\n",
       "7     00\n",
       "8     00\n",
       "9     00\n",
       "10    00\n",
       "11    00\n",
       "12    00\n",
       "13    15\n",
       "14    00\n",
       "15    00\n",
       "16    30\n",
       "17    00\n",
       "18    40\n",
       "19    50\n",
       "Name: minutos, dtype: object"
      ]
     },
     "execution_count": 118,
     "metadata": {},
     "output_type": "execute_result"
    }
   ],
   "source": [
    "shark.minutos[:20]"
   ]
  },
  {
   "cell_type": "code",
   "execution_count": 119,
   "id": "cd29f286",
   "metadata": {},
   "outputs": [],
   "source": [
    "shark['datetime'] = pd.to_datetime(shark['hora'].astype(str) + ':' + shark['minutos'].astype(str), format='%H:%M', errors='coerce').dt.time"
   ]
  },
  {
   "cell_type": "code",
   "execution_count": 120,
   "id": "c984b5a4",
   "metadata": {},
   "outputs": [
    {
     "data": {
      "text/plain": [
       "0     18:00:00\n",
       "1     14:00:00\n",
       "2     07:45:00\n",
       "3          NaT\n",
       "4          NaT\n",
       "5          NaT\n",
       "6     18:00:00\n",
       "7          NaT\n",
       "8     17:00:00\n",
       "9     14:00:00\n",
       "10    09:00:00\n",
       "11         NaT\n",
       "12    15:00:00\n",
       "13    08:15:00\n",
       "14         NaT\n",
       "15    11:00:00\n",
       "16    10:30:00\n",
       "17         NaT\n",
       "18    10:40:00\n",
       "19    16:50:00\n",
       "Name: datetime, dtype: object"
      ]
     },
     "execution_count": 120,
     "metadata": {},
     "output_type": "execute_result"
    }
   ],
   "source": [
    "shark.datetime[:20]"
   ]
  },
  {
   "cell_type": "code",
   "execution_count": 121,
   "id": "fac8e7c0",
   "metadata": {},
   "outputs": [],
   "source": [
    "shark['datetime'].fillna(pd.to_datetime('00:01', format='%H:%M').time(), inplace=True)"
   ]
  },
  {
   "cell_type": "code",
   "execution_count": 122,
   "id": "53ac5bd9",
   "metadata": {},
   "outputs": [
    {
     "data": {
      "text/plain": [
       "0     18:00:00\n",
       "1     14:00:00\n",
       "2     07:45:00\n",
       "3     00:01:00\n",
       "4     00:01:00\n",
       "5     00:01:00\n",
       "6     18:00:00\n",
       "7     00:01:00\n",
       "8     17:00:00\n",
       "9     14:00:00\n",
       "10    09:00:00\n",
       "11    00:01:00\n",
       "12    15:00:00\n",
       "13    08:15:00\n",
       "14    00:01:00\n",
       "15    11:00:00\n",
       "16    10:30:00\n",
       "17    00:01:00\n",
       "18    10:40:00\n",
       "19    16:50:00\n",
       "Name: datetime, dtype: object"
      ]
     },
     "execution_count": 122,
     "metadata": {},
     "output_type": "execute_result"
    }
   ],
   "source": [
    "shark.datetime[:20]"
   ]
  },
  {
   "cell_type": "code",
   "execution_count": 123,
   "id": "37ad531a",
   "metadata": {},
   "outputs": [
    {
     "data": {
      "text/plain": [
       "datetime\n",
       "<class 'datetime.time'>    6302\n",
       "Name: count, dtype: int64"
      ]
     },
     "execution_count": 123,
     "metadata": {},
     "output_type": "execute_result"
    }
   ],
   "source": [
    "shark['datetime'].apply(type).value_counts()"
   ]
  },
  {
   "cell_type": "code",
   "execution_count": 124,
   "id": "1ccb00b0",
   "metadata": {},
   "outputs": [],
   "source": [
    "shark['time'] = shark['datetime']\n",
    "shark.drop('datetime', axis=1, inplace=True)"
   ]
  },
  {
   "cell_type": "code",
   "execution_count": 125,
   "id": "8374093a",
   "metadata": {},
   "outputs": [
    {
     "name": "stdout",
     "output_type": "stream",
     "text": [
      "<class 'pandas.core.frame.DataFrame'>\n",
      "RangeIndex: 6302 entries, 0 to 6301\n",
      "Data columns (total 27 columns):\n",
      " #   Column         Non-Null Count  Dtype \n",
      "---  ------         --------------  ----- \n",
      " 0   casenumber     6302 non-null   object\n",
      " 1   date           6302 non-null   object\n",
      " 2   year           6302 non-null   int16 \n",
      " 3   type           6302 non-null   object\n",
      " 4   country        6302 non-null   object\n",
      " 5   area           6302 non-null   object\n",
      " 6   location       6302 non-null   object\n",
      " 7   activity       6302 non-null   object\n",
      " 8   name           6302 non-null   object\n",
      " 9   sex            6302 non-null   object\n",
      " 10  age            6302 non-null   int16 \n",
      " 11  injury         6302 non-null   object\n",
      " 12  fatal          6302 non-null   object\n",
      " 13  species        6302 non-null   object\n",
      " 14  investigator   6302 non-null   object\n",
      " 15  pdf            6302 non-null   object\n",
      " 16  href           6302 non-null   object\n",
      " 17  href1          6302 non-null   object\n",
      " 18  casenumber1    6302 non-null   object\n",
      " 19  casenumber2    6302 non-null   object\n",
      " 20  originalorder  6302 non-null   int16 \n",
      " 21  unnamed        6302 non-null   int64 \n",
      " 22  unnamed1       6302 non-null   int64 \n",
      " 23  time           6302 non-null   object\n",
      " 24  date1          6295 non-null   object\n",
      " 25  hora           6302 non-null   object\n",
      " 26  minutos        6302 non-null   object\n",
      "dtypes: int16(3), int64(2), object(22)\n",
      "memory usage: 1.2+ MB\n"
     ]
    }
   ],
   "source": [
    "shark.info()"
   ]
  },
  {
   "cell_type": "code",
   "execution_count": 127,
   "id": "e96fcbba",
   "metadata": {},
   "outputs": [
    {
     "data": {
      "text/html": [
       "<div>\n",
       "<style scoped>\n",
       "    .dataframe tbody tr th:only-of-type {\n",
       "        vertical-align: middle;\n",
       "    }\n",
       "\n",
       "    .dataframe tbody tr th {\n",
       "        vertical-align: top;\n",
       "    }\n",
       "\n",
       "    .dataframe thead th {\n",
       "        text-align: right;\n",
       "    }\n",
       "</style>\n",
       "<table border=\"1\" class=\"dataframe\">\n",
       "  <thead>\n",
       "    <tr style=\"text-align: right;\">\n",
       "      <th></th>\n",
       "      <th>casenumber</th>\n",
       "      <th>date</th>\n",
       "      <th>year</th>\n",
       "      <th>type</th>\n",
       "      <th>country</th>\n",
       "      <th>area</th>\n",
       "      <th>location</th>\n",
       "      <th>activity</th>\n",
       "      <th>name</th>\n",
       "      <th>sex</th>\n",
       "      <th>age</th>\n",
       "      <th>injury</th>\n",
       "      <th>fatal</th>\n",
       "      <th>species</th>\n",
       "      <th>investigator</th>\n",
       "      <th>pdf</th>\n",
       "      <th>href</th>\n",
       "      <th>href1</th>\n",
       "      <th>casenumber1</th>\n",
       "      <th>casenumber2</th>\n",
       "      <th>originalorder</th>\n",
       "      <th>unnamed</th>\n",
       "      <th>unnamed1</th>\n",
       "      <th>time</th>\n",
       "      <th>date1</th>\n",
       "      <th>hora</th>\n",
       "      <th>minutos</th>\n",
       "    </tr>\n",
       "  </thead>\n",
       "  <tbody>\n",
       "    <tr>\n",
       "      <th>0</th>\n",
       "      <td>2018.06.25</td>\n",
       "      <td>25-Jun-2018</td>\n",
       "      <td>2018</td>\n",
       "      <td>Boating</td>\n",
       "      <td>usa</td>\n",
       "      <td>California</td>\n",
       "      <td>Oceanside, San Diego County</td>\n",
       "      <td>Paddling</td>\n",
       "      <td>Julie Wolfe</td>\n",
       "      <td>F</td>\n",
       "      <td>57</td>\n",
       "      <td>No injury to occupant, outrigger canoe and pad...</td>\n",
       "      <td>N</td>\n",
       "      <td>White shark</td>\n",
       "      <td>R. Collier, GSAF</td>\n",
       "      <td>2018.06.25-Wolfe.pdf</td>\n",
       "      <td>http://sharkattackfile.net/spreadsheets/pdf_di...</td>\n",
       "      <td>http://sharkattackfile.net/spreadsheets/pdf_di...</td>\n",
       "      <td>2018.06.25</td>\n",
       "      <td>2018.06.25</td>\n",
       "      <td>6303</td>\n",
       "      <td>0</td>\n",
       "      <td>0</td>\n",
       "      <td>18:00:00</td>\n",
       "      <td>25-Jun-2018</td>\n",
       "      <td>18</td>\n",
       "      <td>00</td>\n",
       "    </tr>\n",
       "    <tr>\n",
       "      <th>1</th>\n",
       "      <td>2018.06.18</td>\n",
       "      <td>18-Jun-2018</td>\n",
       "      <td>2018</td>\n",
       "      <td>Unprovoked</td>\n",
       "      <td>usa</td>\n",
       "      <td>Georgia</td>\n",
       "      <td>St. Simon Island, Glynn County</td>\n",
       "      <td>Standing</td>\n",
       "      <td>Adyson McNeely</td>\n",
       "      <td>F</td>\n",
       "      <td>11</td>\n",
       "      <td>Minor injury to left thigh</td>\n",
       "      <td>N</td>\n",
       "      <td>unknown shark</td>\n",
       "      <td>K.McMurray, TrackingSharks.com</td>\n",
       "      <td>2018.06.18-McNeely.pdf</td>\n",
       "      <td>http://sharkattackfile.net/spreadsheets/pdf_di...</td>\n",
       "      <td>http://sharkattackfile.net/spreadsheets/pdf_di...</td>\n",
       "      <td>2018.06.18</td>\n",
       "      <td>2018.06.18</td>\n",
       "      <td>6302</td>\n",
       "      <td>0</td>\n",
       "      <td>0</td>\n",
       "      <td>14:00:00</td>\n",
       "      <td>18-Jun-2018</td>\n",
       "      <td>14</td>\n",
       "      <td>00</td>\n",
       "    </tr>\n",
       "    <tr>\n",
       "      <th>2</th>\n",
       "      <td>2018.06.09</td>\n",
       "      <td>09-Jun-2018</td>\n",
       "      <td>2018</td>\n",
       "      <td>Invalid</td>\n",
       "      <td>usa</td>\n",
       "      <td>Hawaii</td>\n",
       "      <td>Habush, Oahu</td>\n",
       "      <td>Surfing</td>\n",
       "      <td>John Denges</td>\n",
       "      <td>M</td>\n",
       "      <td>48</td>\n",
       "      <td>Injury to left lower leg from surfboard skeg</td>\n",
       "      <td>N</td>\n",
       "      <td>unknown shark</td>\n",
       "      <td>K.McMurray, TrackingSharks.com</td>\n",
       "      <td>2018.06.09-Denges.pdf</td>\n",
       "      <td>http://sharkattackfile.net/spreadsheets/pdf_di...</td>\n",
       "      <td>http://sharkattackfile.net/spreadsheets/pdf_di...</td>\n",
       "      <td>2018.06.09</td>\n",
       "      <td>2018.06.09</td>\n",
       "      <td>6301</td>\n",
       "      <td>0</td>\n",
       "      <td>0</td>\n",
       "      <td>07:45:00</td>\n",
       "      <td>09-Jun-2018</td>\n",
       "      <td>07</td>\n",
       "      <td>45</td>\n",
       "    </tr>\n",
       "    <tr>\n",
       "      <th>3</th>\n",
       "      <td>2018.06.08</td>\n",
       "      <td>08-Jun-2018</td>\n",
       "      <td>2018</td>\n",
       "      <td>Unprovoked</td>\n",
       "      <td>australia</td>\n",
       "      <td>New South Wales</td>\n",
       "      <td>Arrawarra Headland</td>\n",
       "      <td>Surfing</td>\n",
       "      <td>male</td>\n",
       "      <td>M</td>\n",
       "      <td>-1</td>\n",
       "      <td>Minor injury to lower leg</td>\n",
       "      <td>N</td>\n",
       "      <td>2 m shark</td>\n",
       "      <td>B. Myatt, GSAF</td>\n",
       "      <td>2018.06.08-Arrawarra.pdf</td>\n",
       "      <td>http://sharkattackfile.net/spreadsheets/pdf_di...</td>\n",
       "      <td>http://sharkattackfile.net/spreadsheets/pdf_di...</td>\n",
       "      <td>2018.06.08</td>\n",
       "      <td>2018.06.08</td>\n",
       "      <td>6300</td>\n",
       "      <td>0</td>\n",
       "      <td>0</td>\n",
       "      <td>00:01:00</td>\n",
       "      <td>08-Jun-2018</td>\n",
       "      <td>25</td>\n",
       "      <td>00</td>\n",
       "    </tr>\n",
       "    <tr>\n",
       "      <th>4</th>\n",
       "      <td>2018.06.04</td>\n",
       "      <td>04-Jun-2018</td>\n",
       "      <td>2018</td>\n",
       "      <td>Provoked</td>\n",
       "      <td>mexico</td>\n",
       "      <td>Colima</td>\n",
       "      <td>La Ticla</td>\n",
       "      <td>Free diving</td>\n",
       "      <td>Gustavo Ramos</td>\n",
       "      <td>M</td>\n",
       "      <td>-1</td>\n",
       "      <td>Lacerations to leg &amp; hand shark PROVOKED INCIDENT</td>\n",
       "      <td>N</td>\n",
       "      <td>Tiger shark, 3m</td>\n",
       "      <td>A .Kipper</td>\n",
       "      <td>2018.06.04-Ramos.pdf</td>\n",
       "      <td>http://sharkattackfile.net/spreadsheets/pdf_di...</td>\n",
       "      <td>http://sharkattackfile.net/spreadsheets/pdf_di...</td>\n",
       "      <td>2018.06.04</td>\n",
       "      <td>2018.06.04</td>\n",
       "      <td>6299</td>\n",
       "      <td>0</td>\n",
       "      <td>0</td>\n",
       "      <td>00:01:00</td>\n",
       "      <td>04-Jun-2018</td>\n",
       "      <td>25</td>\n",
       "      <td>00</td>\n",
       "    </tr>\n",
       "    <tr>\n",
       "      <th>5</th>\n",
       "      <td>2018.06.03.b</td>\n",
       "      <td>03-Jun-2018</td>\n",
       "      <td>2018</td>\n",
       "      <td>Unprovoked</td>\n",
       "      <td>australia</td>\n",
       "      <td>New South Wales</td>\n",
       "      <td>Flat Rock, Ballina</td>\n",
       "      <td>Kite surfing</td>\n",
       "      <td>Chris …</td>\n",
       "      <td>M</td>\n",
       "      <td>-1</td>\n",
       "      <td>No injury, board bitten</td>\n",
       "      <td>N</td>\n",
       "      <td>unknown shark</td>\n",
       "      <td>Daily Telegraph, 6/4/2018</td>\n",
       "      <td>2018.06.03.b-FlatRock.pdf</td>\n",
       "      <td>http://sharkattackfile.net/spreadsheets/pdf_di...</td>\n",
       "      <td>http://sharkattackfile.net/spreadsheets/pdf_di...</td>\n",
       "      <td>2018.06.03.b</td>\n",
       "      <td>2018.06.03.b</td>\n",
       "      <td>6298</td>\n",
       "      <td>0</td>\n",
       "      <td>0</td>\n",
       "      <td>00:01:00</td>\n",
       "      <td>03-Jun-2018</td>\n",
       "      <td>25</td>\n",
       "      <td>00</td>\n",
       "    </tr>\n",
       "    <tr>\n",
       "      <th>6</th>\n",
       "      <td>2018.06.03.a</td>\n",
       "      <td>03-Jun-2018</td>\n",
       "      <td>2018</td>\n",
       "      <td>Unprovoked</td>\n",
       "      <td>brazil</td>\n",
       "      <td>Pernambuco</td>\n",
       "      <td>Piedade Beach, Recife</td>\n",
       "      <td>Swimming</td>\n",
       "      <td>Jose Ernesto da Silva</td>\n",
       "      <td>M</td>\n",
       "      <td>18</td>\n",
       "      <td>FATAL</td>\n",
       "      <td>Y</td>\n",
       "      <td>Tiger shark</td>\n",
       "      <td>Diario de Pernambuco, 6/4/2018</td>\n",
       "      <td>2018.06.03.a-daSilva.pdf</td>\n",
       "      <td>http://sharkattackfile.net/spreadsheets/pdf_di...</td>\n",
       "      <td>http://sharkattackfile.net/spreadsheets/pdf_di...</td>\n",
       "      <td>2018.06.03.a</td>\n",
       "      <td>2018.06.03.a</td>\n",
       "      <td>6297</td>\n",
       "      <td>0</td>\n",
       "      <td>0</td>\n",
       "      <td>18:00:00</td>\n",
       "      <td>03-Jun-2018</td>\n",
       "      <td>18</td>\n",
       "      <td>00</td>\n",
       "    </tr>\n",
       "    <tr>\n",
       "      <th>7</th>\n",
       "      <td>2018.05.27</td>\n",
       "      <td>27-May-2018</td>\n",
       "      <td>2018</td>\n",
       "      <td>Unprovoked</td>\n",
       "      <td>usa</td>\n",
       "      <td>Florida</td>\n",
       "      <td>Lighhouse Point Park, Ponce Inlet, Volusia County</td>\n",
       "      <td>Fishing</td>\n",
       "      <td>male</td>\n",
       "      <td>M</td>\n",
       "      <td>52</td>\n",
       "      <td>Minor injury to foot. PROVOKED INCIDENT</td>\n",
       "      <td>N</td>\n",
       "      <td>Lemon shark, 3'</td>\n",
       "      <td>K. McMurray, TrackingSharks.com</td>\n",
       "      <td>2018.05.27-Ponce.pdf</td>\n",
       "      <td>http://sharkattackfile.net/spreadsheets/pdf_di...</td>\n",
       "      <td>http://sharkattackfile.net/spreadsheets/pdf_di...</td>\n",
       "      <td>2018.05.27</td>\n",
       "      <td>2018.05.27</td>\n",
       "      <td>6296</td>\n",
       "      <td>0</td>\n",
       "      <td>0</td>\n",
       "      <td>00:01:00</td>\n",
       "      <td>27-May-2018</td>\n",
       "      <td>25</td>\n",
       "      <td>00</td>\n",
       "    </tr>\n",
       "    <tr>\n",
       "      <th>8</th>\n",
       "      <td>2018.05.26.b</td>\n",
       "      <td>26-May-2018</td>\n",
       "      <td>2018</td>\n",
       "      <td>Unprovoked</td>\n",
       "      <td>usa</td>\n",
       "      <td>Florida</td>\n",
       "      <td>Cocoa Beach, Brevard  County</td>\n",
       "      <td>Walking</td>\n",
       "      <td>Cody High</td>\n",
       "      <td>M</td>\n",
       "      <td>15</td>\n",
       "      <td>Lower left leg bitten</td>\n",
       "      <td>N</td>\n",
       "      <td>Bull shark, 6'</td>\n",
       "      <td>K.McMurray, TrackingSharks.com</td>\n",
       "      <td>2018.05.26.b-High.pdf</td>\n",
       "      <td>http://sharkattackfile.net/spreadsheets/pdf_di...</td>\n",
       "      <td>http://sharkattackfile.net/spreadsheets/pdf_di...</td>\n",
       "      <td>2018.05.26.b</td>\n",
       "      <td>2018.05.26.b</td>\n",
       "      <td>6295</td>\n",
       "      <td>0</td>\n",
       "      <td>0</td>\n",
       "      <td>17:00:00</td>\n",
       "      <td>26-May-2018</td>\n",
       "      <td>17</td>\n",
       "      <td>00</td>\n",
       "    </tr>\n",
       "    <tr>\n",
       "      <th>9</th>\n",
       "      <td>2018.05.26.a</td>\n",
       "      <td>26-May-2018</td>\n",
       "      <td>2018</td>\n",
       "      <td>Unprovoked</td>\n",
       "      <td>usa</td>\n",
       "      <td>Florida</td>\n",
       "      <td>Daytona Beach, Volusia County</td>\n",
       "      <td>Standing</td>\n",
       "      <td>male</td>\n",
       "      <td>M</td>\n",
       "      <td>12</td>\n",
       "      <td>Minor injury to foot</td>\n",
       "      <td>N</td>\n",
       "      <td>unknown shark</td>\n",
       "      <td>K. McMurray, Tracking Sharks.com</td>\n",
       "      <td>2018.05.26.a-DaytonaBeach.pdf</td>\n",
       "      <td>http://sharkattackfile.net/spreadsheets/pdf_di...</td>\n",
       "      <td>http://sharkattackfile.net/spreadsheets/pdf_di...</td>\n",
       "      <td>2018.05.26.a</td>\n",
       "      <td>2018.05.26.a</td>\n",
       "      <td>6294</td>\n",
       "      <td>0</td>\n",
       "      <td>0</td>\n",
       "      <td>14:00:00</td>\n",
       "      <td>26-May-2018</td>\n",
       "      <td>14</td>\n",
       "      <td>00</td>\n",
       "    </tr>\n",
       "    <tr>\n",
       "      <th>10</th>\n",
       "      <td>2018.05.24</td>\n",
       "      <td>24-May-2018</td>\n",
       "      <td>2018</td>\n",
       "      <td>Provoked</td>\n",
       "      <td>australia</td>\n",
       "      <td>Queensland</td>\n",
       "      <td>Cairns Aquarium</td>\n",
       "      <td>Feeding sharks</td>\n",
       "      <td>male</td>\n",
       "      <td>M</td>\n",
       "      <td>32</td>\n",
       "      <td>Minor bite to hand by captive shark. PROVOKED ...</td>\n",
       "      <td>N</td>\n",
       "      <td>Grey reef shark</td>\n",
       "      <td>ABC.net.au ,05/24/2018</td>\n",
       "      <td>2018.05.24-CairnsAquarium.pdf</td>\n",
       "      <td>http://sharkattackfile.net/spreadsheets/pdf_di...</td>\n",
       "      <td>http://sharkattackfile.net/spreadsheets/pdf_di...</td>\n",
       "      <td>2018.05.24</td>\n",
       "      <td>2018.05.24</td>\n",
       "      <td>6293</td>\n",
       "      <td>0</td>\n",
       "      <td>0</td>\n",
       "      <td>09:00:00</td>\n",
       "      <td>24-May-2018</td>\n",
       "      <td>09</td>\n",
       "      <td>00</td>\n",
       "    </tr>\n",
       "    <tr>\n",
       "      <th>11</th>\n",
       "      <td>2018.05.21</td>\n",
       "      <td>21-May-2018</td>\n",
       "      <td>2018</td>\n",
       "      <td>Unprovoked</td>\n",
       "      <td>usa</td>\n",
       "      <td>South Carolina</td>\n",
       "      <td>Isle of Palms,  Charleston County</td>\n",
       "      <td>Boogie boarding</td>\n",
       "      <td>Trey de Boer</td>\n",
       "      <td>M</td>\n",
       "      <td>10</td>\n",
       "      <td>Injuries to lower right leg and foot</td>\n",
       "      <td>N</td>\n",
       "      <td>unknown shark</td>\n",
       "      <td>C. Creswell, GSAF</td>\n",
       "      <td>2018.05.21-deBoer.pdf</td>\n",
       "      <td>http://sharkattackfile.net/spreadsheets/pdf_di...</td>\n",
       "      <td>http://sharkattackfile.net/spreadsheets/pdf_di...</td>\n",
       "      <td>2018.05.21</td>\n",
       "      <td>2018.05.21</td>\n",
       "      <td>6292</td>\n",
       "      <td>0</td>\n",
       "      <td>0</td>\n",
       "      <td>00:01:00</td>\n",
       "      <td>21-May-2018</td>\n",
       "      <td>25</td>\n",
       "      <td>00</td>\n",
       "    </tr>\n",
       "    <tr>\n",
       "      <th>12</th>\n",
       "      <td>2018.05.13.b</td>\n",
       "      <td>13-May-2018</td>\n",
       "      <td>2018</td>\n",
       "      <td>Unprovoked</td>\n",
       "      <td>usa</td>\n",
       "      <td>South Carolina</td>\n",
       "      <td>Hilton Head Island, Beaufort County</td>\n",
       "      <td>Swimming</td>\n",
       "      <td>Jei Turrell</td>\n",
       "      <td>M</td>\n",
       "      <td>10</td>\n",
       "      <td>Severe bite to right forearm</td>\n",
       "      <td>N</td>\n",
       "      <td>unknown shark</td>\n",
       "      <td>C. Creswell, GSAF &amp; K. McMurray TrackingSharks...</td>\n",
       "      <td>2018.05.13.b-Turrell.pdf</td>\n",
       "      <td>http://sharkattackfile.net/spreadsheets/pdf_di...</td>\n",
       "      <td>http://sharkattackfile.net/spreadsheets/pdf_di...</td>\n",
       "      <td>2018.05.13.b</td>\n",
       "      <td>2018.05.13.b</td>\n",
       "      <td>6291</td>\n",
       "      <td>0</td>\n",
       "      <td>0</td>\n",
       "      <td>15:00:00</td>\n",
       "      <td>13-May-2018</td>\n",
       "      <td>15</td>\n",
       "      <td>00</td>\n",
       "    </tr>\n",
       "    <tr>\n",
       "      <th>13</th>\n",
       "      <td>2018.05.13.a</td>\n",
       "      <td>13-May-2018</td>\n",
       "      <td>2018</td>\n",
       "      <td>Invalid</td>\n",
       "      <td>england</td>\n",
       "      <td>Cornwall</td>\n",
       "      <td>Off Land's End</td>\n",
       "      <td>Fishing</td>\n",
       "      <td>Max Berryman</td>\n",
       "      <td>M</td>\n",
       "      <td>21</td>\n",
       "      <td>Injured by teeth of a dead porbeagle shark he ...</td>\n",
       "      <td>N</td>\n",
       "      <td>Invalid incident</td>\n",
       "      <td>K. McMurray, TrackingSharks.com</td>\n",
       "      <td>2018.05.13.a-Berryman.pdf</td>\n",
       "      <td>http://sharkattackfile.net/spreadsheets/pdf_di...</td>\n",
       "      <td>http://sharkattackfile.net/spreadsheets/pdf_di...</td>\n",
       "      <td>2018.05.13.a</td>\n",
       "      <td>2018.05.13.a</td>\n",
       "      <td>6290</td>\n",
       "      <td>0</td>\n",
       "      <td>0</td>\n",
       "      <td>08:15:00</td>\n",
       "      <td>13-May-2018</td>\n",
       "      <td>08</td>\n",
       "      <td>15</td>\n",
       "    </tr>\n",
       "    <tr>\n",
       "      <th>14</th>\n",
       "      <td>2018.05.00</td>\n",
       "      <td>2018</td>\n",
       "      <td>2018</td>\n",
       "      <td>Provoked</td>\n",
       "      <td>australia</td>\n",
       "      <td>Westerm Australia</td>\n",
       "      <td>Dugong Bay</td>\n",
       "      <td>Feeding sharks</td>\n",
       "      <td>Melisa Brunning</td>\n",
       "      <td>F</td>\n",
       "      <td>34</td>\n",
       "      <td>Shallow lacerations to finger PROVOKED INCIDENT</td>\n",
       "      <td>N</td>\n",
       "      <td>Tawny nurse shark, 2m</td>\n",
       "      <td>Perth Now, 6/30/2018</td>\n",
       "      <td>2018.05.00-Brunning.pdf</td>\n",
       "      <td>http://sharkattackfile.net/spreadsheets/pdf_di...</td>\n",
       "      <td>http://sharkattackfile.net/spreadsheets/pdf_di...</td>\n",
       "      <td>2018.05.00</td>\n",
       "      <td>2018.05.00</td>\n",
       "      <td>6289</td>\n",
       "      <td>0</td>\n",
       "      <td>0</td>\n",
       "      <td>00:01:00</td>\n",
       "      <td>2018</td>\n",
       "      <td>25</td>\n",
       "      <td>00</td>\n",
       "    </tr>\n",
       "    <tr>\n",
       "      <th>15</th>\n",
       "      <td>2018.05.12</td>\n",
       "      <td>12-May-2018</td>\n",
       "      <td>2018</td>\n",
       "      <td>Unprovoked</td>\n",
       "      <td>south africa</td>\n",
       "      <td>Eastern Cape Province</td>\n",
       "      <td>Nahoon Beach, East London</td>\n",
       "      <td>Surfing</td>\n",
       "      <td>male</td>\n",
       "      <td>M</td>\n",
       "      <td>-1</td>\n",
       "      <td>Minor injury, marks on board</td>\n",
       "      <td>N</td>\n",
       "      <td>unknown shark</td>\n",
       "      <td>B.Jacob, Dispatch Live, 5/12/2018</td>\n",
       "      <td>2018.05.12-EastLondon.pdf</td>\n",
       "      <td>http://sharkattackfile.net/spreadsheets/pdf_di...</td>\n",
       "      <td>http://sharkattackfile.net/spreadsheets/pdf_di...</td>\n",
       "      <td>2018.05.12</td>\n",
       "      <td>2018.05.12</td>\n",
       "      <td>6288</td>\n",
       "      <td>0</td>\n",
       "      <td>0</td>\n",
       "      <td>11:00:00</td>\n",
       "      <td>12-May-2018</td>\n",
       "      <td>11</td>\n",
       "      <td>00</td>\n",
       "    </tr>\n",
       "    <tr>\n",
       "      <th>16</th>\n",
       "      <td>2018.05.09</td>\n",
       "      <td>09-May-2018</td>\n",
       "      <td>2018</td>\n",
       "      <td>Questionable</td>\n",
       "      <td>australia</td>\n",
       "      <td>New South Wales</td>\n",
       "      <td>Sharpes Beach, Ballina</td>\n",
       "      <td>Surfing</td>\n",
       "      <td>male</td>\n",
       "      <td>M</td>\n",
       "      <td>-1</td>\n",
       "      <td>No injury, surfboard damaged</td>\n",
       "      <td>N</td>\n",
       "      <td>Shark involvement not confirmed</td>\n",
       "      <td>B. Myatt, GSAF</td>\n",
       "      <td>2018.05.09-SharpesBeach.pdf</td>\n",
       "      <td>http://sharkattackfile.net/spreadsheets/pdf_di...</td>\n",
       "      <td>http://sharkattackfile.net/spreadsheets/pdf_di...</td>\n",
       "      <td>2018.05.09</td>\n",
       "      <td>2018.05.09</td>\n",
       "      <td>6287</td>\n",
       "      <td>0</td>\n",
       "      <td>0</td>\n",
       "      <td>10:30:00</td>\n",
       "      <td>09-May-2018</td>\n",
       "      <td>10</td>\n",
       "      <td>30</td>\n",
       "    </tr>\n",
       "    <tr>\n",
       "      <th>17</th>\n",
       "      <td>2018.04.30.R</td>\n",
       "      <td>30-Apr-2018</td>\n",
       "      <td>2018</td>\n",
       "      <td>Unprovoked</td>\n",
       "      <td>thailand</td>\n",
       "      <td>Hua Hin</td>\n",
       "      <td>Sai Noi Beach</td>\n",
       "      <td>Swimming</td>\n",
       "      <td>female</td>\n",
       "      <td>M</td>\n",
       "      <td>-1</td>\n",
       "      <td>Minor injury to ankle</td>\n",
       "      <td>N</td>\n",
       "      <td>unknown shark</td>\n",
       "      <td>K. McMurray, TrackingSharks.com</td>\n",
       "      <td>2018.04.30.R-Thailand.pdf</td>\n",
       "      <td>http://sharkattackfile.net/spreadsheets/pdf_di...</td>\n",
       "      <td>http://sharkattackfile.net/spreadsheets/pdf_di...</td>\n",
       "      <td>2018.04.30.R</td>\n",
       "      <td>2018.04.30.R</td>\n",
       "      <td>6286</td>\n",
       "      <td>0</td>\n",
       "      <td>0</td>\n",
       "      <td>00:01:00</td>\n",
       "      <td>30-Apr-2018</td>\n",
       "      <td>25</td>\n",
       "      <td>00</td>\n",
       "    </tr>\n",
       "    <tr>\n",
       "      <th>18</th>\n",
       "      <td>2018.04.28.b</td>\n",
       "      <td>28-Apr-2018</td>\n",
       "      <td>2018</td>\n",
       "      <td>Unprovoked</td>\n",
       "      <td>costa rica</td>\n",
       "      <td>Cocos Island</td>\n",
       "      <td>Manuelita</td>\n",
       "      <td>Scuba diving</td>\n",
       "      <td>male</td>\n",
       "      <td>M</td>\n",
       "      <td>30</td>\n",
       "      <td>No injury, shark bit scuba gear</td>\n",
       "      <td>N</td>\n",
       "      <td>Tiger shark</td>\n",
       "      <td>Costa Rica Star. 4/28/2018</td>\n",
       "      <td>2018.04.28.b-CostaRica.pdf</td>\n",
       "      <td>http://sharkattackfile.net/spreadsheets/pdf_di...</td>\n",
       "      <td>http://sharkattackfile.net/spreadsheets/pdf_di...</td>\n",
       "      <td>2018.04.28.b</td>\n",
       "      <td>2018.04.28.b</td>\n",
       "      <td>6285</td>\n",
       "      <td>0</td>\n",
       "      <td>0</td>\n",
       "      <td>10:40:00</td>\n",
       "      <td>28-Apr-2018</td>\n",
       "      <td>10</td>\n",
       "      <td>40</td>\n",
       "    </tr>\n",
       "    <tr>\n",
       "      <th>19</th>\n",
       "      <td>2018.04.28.a</td>\n",
       "      <td>28-Apr-2018</td>\n",
       "      <td>2018</td>\n",
       "      <td>Unprovoked</td>\n",
       "      <td>australia</td>\n",
       "      <td>Western Australia</td>\n",
       "      <td>Gearys Beach</td>\n",
       "      <td>Surfing</td>\n",
       "      <td>Adam Murray</td>\n",
       "      <td>M</td>\n",
       "      <td>-1</td>\n",
       "      <td>No injury, knocked off board by shark</td>\n",
       "      <td>N</td>\n",
       "      <td>unknown shark</td>\n",
       "      <td>B. Myatt, GSAF</td>\n",
       "      <td>2018.04.28.a-Murray.pdf</td>\n",
       "      <td>http://sharkattackfile.net/spreadsheets/pdf_di...</td>\n",
       "      <td>http://sharkattackfile.net/spreadsheets/pdf_di...</td>\n",
       "      <td>2018.04.28.a</td>\n",
       "      <td>2018.04.28.a</td>\n",
       "      <td>6284</td>\n",
       "      <td>0</td>\n",
       "      <td>0</td>\n",
       "      <td>16:50:00</td>\n",
       "      <td>28-Apr-2018</td>\n",
       "      <td>16</td>\n",
       "      <td>50</td>\n",
       "    </tr>\n",
       "    <tr>\n",
       "      <th>20</th>\n",
       "      <td>2018.04.25.b</td>\n",
       "      <td>25-Apr-2018</td>\n",
       "      <td>2018</td>\n",
       "      <td>Questionable</td>\n",
       "      <td>australia</td>\n",
       "      <td>New South Wales</td>\n",
       "      <td>Lennox Head</td>\n",
       "      <td>Surfing</td>\n",
       "      <td>Matthew Lee</td>\n",
       "      <td>M</td>\n",
       "      <td>-1</td>\n",
       "      <td>No injury</td>\n",
       "      <td>N</td>\n",
       "      <td>Questionable</td>\n",
       "      <td>B. Myatt, GSAF</td>\n",
       "      <td>2018.04.25.b-Lee.pdf</td>\n",
       "      <td>http://sharkattackfile.net/spreadsheets/pdf_di...</td>\n",
       "      <td>http://sharkattackfile.net/spreadsheets/pdf_di...</td>\n",
       "      <td>2018.04.25.b</td>\n",
       "      <td>2018.04.25.b</td>\n",
       "      <td>6283</td>\n",
       "      <td>0</td>\n",
       "      <td>0</td>\n",
       "      <td>07:00:00</td>\n",
       "      <td>25-Apr-2018</td>\n",
       "      <td>07</td>\n",
       "      <td>00</td>\n",
       "    </tr>\n",
       "    <tr>\n",
       "      <th>21</th>\n",
       "      <td>2018.04.25.a</td>\n",
       "      <td>25-Apr-2018</td>\n",
       "      <td>2018</td>\n",
       "      <td>Unprovoked</td>\n",
       "      <td>australia</td>\n",
       "      <td>Western Australia</td>\n",
       "      <td>Surfers Point, Prevelly</td>\n",
       "      <td>Surfing</td>\n",
       "      <td>Rob Bruce</td>\n",
       "      <td>M</td>\n",
       "      <td>60</td>\n",
       "      <td>No injury, knocked off board by shark</td>\n",
       "      <td>N</td>\n",
       "      <td>3 m shark</td>\n",
       "      <td>B.Myatt, GSAF</td>\n",
       "      <td>2018.04.25.a-Bruce.pdf</td>\n",
       "      <td>http://sharkattackfile.net/spreadsheets/pdf_di...</td>\n",
       "      <td>http://sharkattackfile.net/spreadsheets/pdf_di...</td>\n",
       "      <td>2018.04.25.a</td>\n",
       "      <td>2018.04.25.a</td>\n",
       "      <td>6282</td>\n",
       "      <td>0</td>\n",
       "      <td>0</td>\n",
       "      <td>09:30:00</td>\n",
       "      <td>25-Apr-2018</td>\n",
       "      <td>09</td>\n",
       "      <td>30</td>\n",
       "    </tr>\n",
       "    <tr>\n",
       "      <th>22</th>\n",
       "      <td>2018.04.24</td>\n",
       "      <td>24-Apr-2018</td>\n",
       "      <td>2018</td>\n",
       "      <td>Unprovoked</td>\n",
       "      <td>australia</td>\n",
       "      <td>Western Australia</td>\n",
       "      <td>South Point, Gracetown</td>\n",
       "      <td>Surfing</td>\n",
       "      <td>Nathan Burch</td>\n",
       "      <td>M</td>\n",
       "      <td>-1</td>\n",
       "      <td>No injury, shark struck his leg</td>\n",
       "      <td>N</td>\n",
       "      <td>White shark, 3.5 m</td>\n",
       "      <td>B. Myatt, GSAF</td>\n",
       "      <td>2018.04.24-Burch.pdf</td>\n",
       "      <td>http://sharkattackfile.net/spreadsheets/pdf_di...</td>\n",
       "      <td>http://sharkattackfile.net/spreadsheets/pdf_di...</td>\n",
       "      <td>2018.04.24</td>\n",
       "      <td>2018.04.24</td>\n",
       "      <td>6281</td>\n",
       "      <td>0</td>\n",
       "      <td>0</td>\n",
       "      <td>18:00:00</td>\n",
       "      <td>24-Apr-2018</td>\n",
       "      <td>18</td>\n",
       "      <td>00</td>\n",
       "    </tr>\n",
       "    <tr>\n",
       "      <th>23</th>\n",
       "      <td>2018.04.23</td>\n",
       "      <td>23-Apr-2018</td>\n",
       "      <td>2018</td>\n",
       "      <td>Unprovoked</td>\n",
       "      <td>maldives</td>\n",
       "      <td>Alifu Alifu Atoll</td>\n",
       "      <td>Madoogali</td>\n",
       "      <td>Fishing</td>\n",
       "      <td>Ahmed Rasheed</td>\n",
       "      <td>M</td>\n",
       "      <td>32</td>\n",
       "      <td>5-inch cut to hand</td>\n",
       "      <td>N</td>\n",
       "      <td>Tiger shark</td>\n",
       "      <td>K. McMurray, TrackingSharks.com</td>\n",
       "      <td>2018.04.23-Maldives.pdf</td>\n",
       "      <td>http://sharkattackfile.net/spreadsheets/pdf_di...</td>\n",
       "      <td>http://sharkattackfile.net/spreadsheets/pdf_di...</td>\n",
       "      <td>2018.04.23</td>\n",
       "      <td>2018.04.23</td>\n",
       "      <td>6280</td>\n",
       "      <td>0</td>\n",
       "      <td>0</td>\n",
       "      <td>21:50:00</td>\n",
       "      <td>23-Apr-2018</td>\n",
       "      <td>21</td>\n",
       "      <td>50</td>\n",
       "    </tr>\n",
       "    <tr>\n",
       "      <th>24</th>\n",
       "      <td>2018.04.22</td>\n",
       "      <td>22-Apr-2018</td>\n",
       "      <td>2018</td>\n",
       "      <td>Unprovoked</td>\n",
       "      <td>south africa</td>\n",
       "      <td>Western Cape Province</td>\n",
       "      <td>Robberg Beach, Plettenberg Bay</td>\n",
       "      <td>Paddle-skiing</td>\n",
       "      <td>male</td>\n",
       "      <td>M</td>\n",
       "      <td>33</td>\n",
       "      <td>No injury, shark bit hole in ski</td>\n",
       "      <td>N</td>\n",
       "      <td>White shark, 2.5 m</td>\n",
       "      <td>Africa News Agency, 4/22/2018</td>\n",
       "      <td>2018.04.22-PlettenbergBay.pdf</td>\n",
       "      <td>http://sharkattackfile.net/spreadsheets/pdf_di...</td>\n",
       "      <td>http://sharkattackfile.net/spreadsheets/pdf_di...</td>\n",
       "      <td>2018.04.22</td>\n",
       "      <td>2018.04.22</td>\n",
       "      <td>6279</td>\n",
       "      <td>0</td>\n",
       "      <td>0</td>\n",
       "      <td>09:40:00</td>\n",
       "      <td>22-Apr-2018</td>\n",
       "      <td>09</td>\n",
       "      <td>40</td>\n",
       "    </tr>\n",
       "  </tbody>\n",
       "</table>\n",
       "</div>"
      ],
      "text/plain": [
       "      casenumber         date  year          type       country   \n",
       "0     2018.06.25  25-Jun-2018  2018       Boating           usa  \\\n",
       "1     2018.06.18  18-Jun-2018  2018    Unprovoked           usa   \n",
       "2     2018.06.09  09-Jun-2018  2018       Invalid           usa   \n",
       "3     2018.06.08  08-Jun-2018  2018    Unprovoked     australia   \n",
       "4     2018.06.04  04-Jun-2018  2018      Provoked        mexico   \n",
       "5   2018.06.03.b  03-Jun-2018  2018    Unprovoked     australia   \n",
       "6   2018.06.03.a  03-Jun-2018  2018    Unprovoked        brazil   \n",
       "7     2018.05.27  27-May-2018  2018    Unprovoked           usa   \n",
       "8   2018.05.26.b  26-May-2018  2018    Unprovoked           usa   \n",
       "9   2018.05.26.a  26-May-2018  2018    Unprovoked           usa   \n",
       "10    2018.05.24  24-May-2018  2018      Provoked     australia   \n",
       "11    2018.05.21  21-May-2018  2018    Unprovoked           usa   \n",
       "12  2018.05.13.b  13-May-2018  2018    Unprovoked           usa   \n",
       "13  2018.05.13.a  13-May-2018  2018       Invalid       england   \n",
       "14    2018.05.00         2018  2018      Provoked     australia   \n",
       "15    2018.05.12  12-May-2018  2018    Unprovoked  south africa   \n",
       "16    2018.05.09  09-May-2018  2018  Questionable     australia   \n",
       "17  2018.04.30.R  30-Apr-2018  2018    Unprovoked      thailand   \n",
       "18  2018.04.28.b  28-Apr-2018  2018    Unprovoked    costa rica   \n",
       "19  2018.04.28.a  28-Apr-2018  2018    Unprovoked     australia   \n",
       "20  2018.04.25.b  25-Apr-2018  2018  Questionable     australia   \n",
       "21  2018.04.25.a  25-Apr-2018  2018    Unprovoked     australia   \n",
       "22    2018.04.24  24-Apr-2018  2018    Unprovoked     australia   \n",
       "23    2018.04.23  23-Apr-2018  2018    Unprovoked      maldives   \n",
       "24    2018.04.22  22-Apr-2018  2018    Unprovoked  south africa   \n",
       "\n",
       "                     area                                           location   \n",
       "0              California                        Oceanside, San Diego County  \\\n",
       "1                 Georgia                     St. Simon Island, Glynn County   \n",
       "2                  Hawaii                                       Habush, Oahu   \n",
       "3         New South Wales                                 Arrawarra Headland   \n",
       "4                  Colima                                           La Ticla   \n",
       "5         New South Wales                                 Flat Rock, Ballina   \n",
       "6              Pernambuco                              Piedade Beach, Recife   \n",
       "7                 Florida  Lighhouse Point Park, Ponce Inlet, Volusia County   \n",
       "8                 Florida                       Cocoa Beach, Brevard  County   \n",
       "9                 Florida                      Daytona Beach, Volusia County   \n",
       "10             Queensland                                    Cairns Aquarium   \n",
       "11         South Carolina                  Isle of Palms,  Charleston County   \n",
       "12         South Carolina                Hilton Head Island, Beaufort County   \n",
       "13               Cornwall                                     Off Land's End   \n",
       "14      Westerm Australia                                         Dugong Bay   \n",
       "15  Eastern Cape Province                          Nahoon Beach, East London   \n",
       "16        New South Wales                             Sharpes Beach, Ballina   \n",
       "17                Hua Hin                                      Sai Noi Beach   \n",
       "18           Cocos Island                                          Manuelita   \n",
       "19      Western Australia                                       Gearys Beach   \n",
       "20        New South Wales                                        Lennox Head   \n",
       "21      Western Australia                            Surfers Point, Prevelly   \n",
       "22      Western Australia                             South Point, Gracetown   \n",
       "23      Alifu Alifu Atoll                                          Madoogali   \n",
       "24  Western Cape Province                     Robberg Beach, Plettenberg Bay   \n",
       "\n",
       "           activity                    name sex  age   \n",
       "0          Paddling             Julie Wolfe   F   57  \\\n",
       "1          Standing         Adyson McNeely    F   11   \n",
       "2           Surfing             John Denges   M   48   \n",
       "3           Surfing                    male   M   -1   \n",
       "4       Free diving          Gustavo Ramos    M   -1   \n",
       "5      Kite surfing                 Chris …   M   -1   \n",
       "6          Swimming  Jose Ernesto da Silva    M   18   \n",
       "7           Fishing                    male   M   52   \n",
       "8           Walking               Cody High   M   15   \n",
       "9          Standing                    male   M   12   \n",
       "10   Feeding sharks                    male   M   32   \n",
       "11  Boogie boarding            Trey de Boer   M   10   \n",
       "12         Swimming             Jei Turrell   M   10   \n",
       "13          Fishing            Max Berryman   M   21   \n",
       "14   Feeding sharks         Melisa Brunning   F   34   \n",
       "15          Surfing                    male   M   -1   \n",
       "16          Surfing                    male   M   -1   \n",
       "17         Swimming                  female   M   -1   \n",
       "18     Scuba diving                    male   M   30   \n",
       "19          Surfing             Adam Murray   M   -1   \n",
       "20          Surfing             Matthew Lee   M   -1   \n",
       "21          Surfing               Rob Bruce   M   60   \n",
       "22          Surfing            Nathan Burch   M   -1   \n",
       "23          Fishing           Ahmed Rasheed   M   32   \n",
       "24    Paddle-skiing                    male   M   33   \n",
       "\n",
       "                                               injury fatal   \n",
       "0   No injury to occupant, outrigger canoe and pad...     N  \\\n",
       "1                          Minor injury to left thigh     N   \n",
       "2        Injury to left lower leg from surfboard skeg     N   \n",
       "3                           Minor injury to lower leg     N   \n",
       "4   Lacerations to leg & hand shark PROVOKED INCIDENT     N   \n",
       "5                             No injury, board bitten     N   \n",
       "6                                               FATAL     Y   \n",
       "7             Minor injury to foot. PROVOKED INCIDENT     N   \n",
       "8                               Lower left leg bitten     N   \n",
       "9                                Minor injury to foot     N   \n",
       "10  Minor bite to hand by captive shark. PROVOKED ...     N   \n",
       "11               Injuries to lower right leg and foot     N   \n",
       "12                       Severe bite to right forearm     N   \n",
       "13  Injured by teeth of a dead porbeagle shark he ...     N   \n",
       "14    Shallow lacerations to finger PROVOKED INCIDENT     N   \n",
       "15                       Minor injury, marks on board     N   \n",
       "16                       No injury, surfboard damaged     N   \n",
       "17                              Minor injury to ankle     N   \n",
       "18                    No injury, shark bit scuba gear     N   \n",
       "19              No injury, knocked off board by shark     N   \n",
       "20                                          No injury     N   \n",
       "21              No injury, knocked off board by shark     N   \n",
       "22                    No injury, shark struck his leg     N   \n",
       "23                                 5-inch cut to hand     N   \n",
       "24                   No injury, shark bit hole in ski     N   \n",
       "\n",
       "                            species   \n",
       "0                       White shark  \\\n",
       "1                     unknown shark   \n",
       "2                     unknown shark   \n",
       "3                         2 m shark   \n",
       "4                   Tiger shark, 3m   \n",
       "5                     unknown shark   \n",
       "6                       Tiger shark   \n",
       "7                   Lemon shark, 3'   \n",
       "8                    Bull shark, 6'   \n",
       "9                     unknown shark   \n",
       "10                  Grey reef shark   \n",
       "11                    unknown shark   \n",
       "12                    unknown shark   \n",
       "13                 Invalid incident   \n",
       "14            Tawny nurse shark, 2m   \n",
       "15                    unknown shark   \n",
       "16  Shark involvement not confirmed   \n",
       "17                    unknown shark   \n",
       "18                      Tiger shark   \n",
       "19                    unknown shark   \n",
       "20                     Questionable   \n",
       "21                        3 m shark   \n",
       "22               White shark, 3.5 m   \n",
       "23                      Tiger shark   \n",
       "24               White shark, 2.5 m   \n",
       "\n",
       "                                         investigator   \n",
       "0                                    R. Collier, GSAF  \\\n",
       "1                      K.McMurray, TrackingSharks.com   \n",
       "2                      K.McMurray, TrackingSharks.com   \n",
       "3                                      B. Myatt, GSAF   \n",
       "4                                           A .Kipper   \n",
       "5                           Daily Telegraph, 6/4/2018   \n",
       "6                      Diario de Pernambuco, 6/4/2018   \n",
       "7                     K. McMurray, TrackingSharks.com   \n",
       "8                      K.McMurray, TrackingSharks.com   \n",
       "9                    K. McMurray, Tracking Sharks.com   \n",
       "10                             ABC.net.au ,05/24/2018   \n",
       "11                                  C. Creswell, GSAF   \n",
       "12  C. Creswell, GSAF & K. McMurray TrackingSharks...   \n",
       "13                    K. McMurray, TrackingSharks.com   \n",
       "14                               Perth Now, 6/30/2018   \n",
       "15                  B.Jacob, Dispatch Live, 5/12/2018   \n",
       "16                                     B. Myatt, GSAF   \n",
       "17                    K. McMurray, TrackingSharks.com   \n",
       "18                         Costa Rica Star. 4/28/2018   \n",
       "19                                     B. Myatt, GSAF   \n",
       "20                                     B. Myatt, GSAF   \n",
       "21                                      B.Myatt, GSAF   \n",
       "22                                     B. Myatt, GSAF   \n",
       "23                    K. McMurray, TrackingSharks.com   \n",
       "24                      Africa News Agency, 4/22/2018   \n",
       "\n",
       "                              pdf   \n",
       "0            2018.06.25-Wolfe.pdf  \\\n",
       "1          2018.06.18-McNeely.pdf   \n",
       "2           2018.06.09-Denges.pdf   \n",
       "3        2018.06.08-Arrawarra.pdf   \n",
       "4            2018.06.04-Ramos.pdf   \n",
       "5       2018.06.03.b-FlatRock.pdf   \n",
       "6        2018.06.03.a-daSilva.pdf   \n",
       "7            2018.05.27-Ponce.pdf   \n",
       "8           2018.05.26.b-High.pdf   \n",
       "9   2018.05.26.a-DaytonaBeach.pdf   \n",
       "10  2018.05.24-CairnsAquarium.pdf   \n",
       "11          2018.05.21-deBoer.pdf   \n",
       "12       2018.05.13.b-Turrell.pdf   \n",
       "13      2018.05.13.a-Berryman.pdf   \n",
       "14        2018.05.00-Brunning.pdf   \n",
       "15      2018.05.12-EastLondon.pdf   \n",
       "16    2018.05.09-SharpesBeach.pdf   \n",
       "17      2018.04.30.R-Thailand.pdf   \n",
       "18     2018.04.28.b-CostaRica.pdf   \n",
       "19        2018.04.28.a-Murray.pdf   \n",
       "20           2018.04.25.b-Lee.pdf   \n",
       "21         2018.04.25.a-Bruce.pdf   \n",
       "22           2018.04.24-Burch.pdf   \n",
       "23        2018.04.23-Maldives.pdf   \n",
       "24  2018.04.22-PlettenbergBay.pdf   \n",
       "\n",
       "                                                 href   \n",
       "0   http://sharkattackfile.net/spreadsheets/pdf_di...  \\\n",
       "1   http://sharkattackfile.net/spreadsheets/pdf_di...   \n",
       "2   http://sharkattackfile.net/spreadsheets/pdf_di...   \n",
       "3   http://sharkattackfile.net/spreadsheets/pdf_di...   \n",
       "4   http://sharkattackfile.net/spreadsheets/pdf_di...   \n",
       "5   http://sharkattackfile.net/spreadsheets/pdf_di...   \n",
       "6   http://sharkattackfile.net/spreadsheets/pdf_di...   \n",
       "7   http://sharkattackfile.net/spreadsheets/pdf_di...   \n",
       "8   http://sharkattackfile.net/spreadsheets/pdf_di...   \n",
       "9   http://sharkattackfile.net/spreadsheets/pdf_di...   \n",
       "10  http://sharkattackfile.net/spreadsheets/pdf_di...   \n",
       "11  http://sharkattackfile.net/spreadsheets/pdf_di...   \n",
       "12  http://sharkattackfile.net/spreadsheets/pdf_di...   \n",
       "13  http://sharkattackfile.net/spreadsheets/pdf_di...   \n",
       "14  http://sharkattackfile.net/spreadsheets/pdf_di...   \n",
       "15  http://sharkattackfile.net/spreadsheets/pdf_di...   \n",
       "16  http://sharkattackfile.net/spreadsheets/pdf_di...   \n",
       "17  http://sharkattackfile.net/spreadsheets/pdf_di...   \n",
       "18  http://sharkattackfile.net/spreadsheets/pdf_di...   \n",
       "19  http://sharkattackfile.net/spreadsheets/pdf_di...   \n",
       "20  http://sharkattackfile.net/spreadsheets/pdf_di...   \n",
       "21  http://sharkattackfile.net/spreadsheets/pdf_di...   \n",
       "22  http://sharkattackfile.net/spreadsheets/pdf_di...   \n",
       "23  http://sharkattackfile.net/spreadsheets/pdf_di...   \n",
       "24  http://sharkattackfile.net/spreadsheets/pdf_di...   \n",
       "\n",
       "                                                href1   casenumber1   \n",
       "0   http://sharkattackfile.net/spreadsheets/pdf_di...    2018.06.25  \\\n",
       "1   http://sharkattackfile.net/spreadsheets/pdf_di...    2018.06.18   \n",
       "2   http://sharkattackfile.net/spreadsheets/pdf_di...    2018.06.09   \n",
       "3   http://sharkattackfile.net/spreadsheets/pdf_di...    2018.06.08   \n",
       "4   http://sharkattackfile.net/spreadsheets/pdf_di...    2018.06.04   \n",
       "5   http://sharkattackfile.net/spreadsheets/pdf_di...  2018.06.03.b   \n",
       "6   http://sharkattackfile.net/spreadsheets/pdf_di...  2018.06.03.a   \n",
       "7   http://sharkattackfile.net/spreadsheets/pdf_di...    2018.05.27   \n",
       "8   http://sharkattackfile.net/spreadsheets/pdf_di...  2018.05.26.b   \n",
       "9   http://sharkattackfile.net/spreadsheets/pdf_di...  2018.05.26.a   \n",
       "10  http://sharkattackfile.net/spreadsheets/pdf_di...    2018.05.24   \n",
       "11  http://sharkattackfile.net/spreadsheets/pdf_di...    2018.05.21   \n",
       "12  http://sharkattackfile.net/spreadsheets/pdf_di...  2018.05.13.b   \n",
       "13  http://sharkattackfile.net/spreadsheets/pdf_di...  2018.05.13.a   \n",
       "14  http://sharkattackfile.net/spreadsheets/pdf_di...    2018.05.00   \n",
       "15  http://sharkattackfile.net/spreadsheets/pdf_di...    2018.05.12   \n",
       "16  http://sharkattackfile.net/spreadsheets/pdf_di...    2018.05.09   \n",
       "17  http://sharkattackfile.net/spreadsheets/pdf_di...  2018.04.30.R   \n",
       "18  http://sharkattackfile.net/spreadsheets/pdf_di...  2018.04.28.b   \n",
       "19  http://sharkattackfile.net/spreadsheets/pdf_di...  2018.04.28.a   \n",
       "20  http://sharkattackfile.net/spreadsheets/pdf_di...  2018.04.25.b   \n",
       "21  http://sharkattackfile.net/spreadsheets/pdf_di...  2018.04.25.a   \n",
       "22  http://sharkattackfile.net/spreadsheets/pdf_di...    2018.04.24   \n",
       "23  http://sharkattackfile.net/spreadsheets/pdf_di...    2018.04.23   \n",
       "24  http://sharkattackfile.net/spreadsheets/pdf_di...    2018.04.22   \n",
       "\n",
       "     casenumber2  originalorder  unnamed  unnamed1      time        date1   \n",
       "0     2018.06.25           6303        0         0  18:00:00  25-Jun-2018  \\\n",
       "1     2018.06.18           6302        0         0  14:00:00  18-Jun-2018   \n",
       "2     2018.06.09           6301        0         0  07:45:00  09-Jun-2018   \n",
       "3     2018.06.08           6300        0         0  00:01:00  08-Jun-2018   \n",
       "4     2018.06.04           6299        0         0  00:01:00  04-Jun-2018   \n",
       "5   2018.06.03.b           6298        0         0  00:01:00  03-Jun-2018   \n",
       "6   2018.06.03.a           6297        0         0  18:00:00  03-Jun-2018   \n",
       "7     2018.05.27           6296        0         0  00:01:00  27-May-2018   \n",
       "8   2018.05.26.b           6295        0         0  17:00:00  26-May-2018   \n",
       "9   2018.05.26.a           6294        0         0  14:00:00  26-May-2018   \n",
       "10    2018.05.24           6293        0         0  09:00:00  24-May-2018   \n",
       "11    2018.05.21           6292        0         0  00:01:00  21-May-2018   \n",
       "12  2018.05.13.b           6291        0         0  15:00:00  13-May-2018   \n",
       "13  2018.05.13.a           6290        0         0  08:15:00  13-May-2018   \n",
       "14    2018.05.00           6289        0         0  00:01:00         2018   \n",
       "15    2018.05.12           6288        0         0  11:00:00  12-May-2018   \n",
       "16    2018.05.09           6287        0         0  10:30:00  09-May-2018   \n",
       "17  2018.04.30.R           6286        0         0  00:01:00  30-Apr-2018   \n",
       "18  2018.04.28.b           6285        0         0  10:40:00  28-Apr-2018   \n",
       "19  2018.04.28.a           6284        0         0  16:50:00  28-Apr-2018   \n",
       "20  2018.04.25.b           6283        0         0  07:00:00  25-Apr-2018   \n",
       "21  2018.04.25.a           6282        0         0  09:30:00  25-Apr-2018   \n",
       "22    2018.04.24           6281        0         0  18:00:00  24-Apr-2018   \n",
       "23    2018.04.23           6280        0         0  21:50:00  23-Apr-2018   \n",
       "24    2018.04.22           6279        0         0  09:40:00  22-Apr-2018   \n",
       "\n",
       "   hora minutos  \n",
       "0    18      00  \n",
       "1    14      00  \n",
       "2    07      45  \n",
       "3    25      00  \n",
       "4    25      00  \n",
       "5    25      00  \n",
       "6    18      00  \n",
       "7    25      00  \n",
       "8    17      00  \n",
       "9    14      00  \n",
       "10   09      00  \n",
       "11   25      00  \n",
       "12   15      00  \n",
       "13   08      15  \n",
       "14   25      00  \n",
       "15   11      00  \n",
       "16   10      30  \n",
       "17   25      00  \n",
       "18   10      40  \n",
       "19   16      50  \n",
       "20   07      00  \n",
       "21   09      30  \n",
       "22   18      00  \n",
       "23   21      50  \n",
       "24   09      40  "
      ]
     },
     "execution_count": 127,
     "metadata": {},
     "output_type": "execute_result"
    }
   ],
   "source": [
    "shark.head(25)"
   ]
  },
  {
   "cell_type": "markdown",
   "id": "ff137ca6",
   "metadata": {},
   "source": [
    "Llegados a este punto entiendo que los valores ya son consistentes y por lo tanto, el siguiente paso es arreglar los datos para poder usarlos en los análisis. Pero esto lo realizo en la parte 4.\n",
    "\n",
    "Para podeer acceder a los datos a partir de este punto exporto el csv"
   ]
  },
  {
   "cell_type": "code",
   "execution_count": 126,
   "id": "d05bf50b",
   "metadata": {},
   "outputs": [],
   "source": [
    "shark.to_csv('../data/sharkattack_parte3.csv', index=False)"
   ]
  },
  {
   "cell_type": "markdown",
   "id": "8044d2b5",
   "metadata": {},
   "source": [
    "[SharkAttack - Parte 4 (Arreglo de datos)](./SharkAttack-Parte4.ipynb)"
   ]
  }
 ],
 "metadata": {
  "kernelspec": {
   "display_name": "Python 3 (ipykernel)",
   "language": "python",
   "name": "python3"
  },
  "language_info": {
   "codemirror_mode": {
    "name": "ipython",
    "version": 3
   },
   "file_extension": ".py",
   "mimetype": "text/x-python",
   "name": "python",
   "nbconvert_exporter": "python",
   "pygments_lexer": "ipython3",
   "version": "3.11.1"
  }
 },
 "nbformat": 4,
 "nbformat_minor": 5
}
