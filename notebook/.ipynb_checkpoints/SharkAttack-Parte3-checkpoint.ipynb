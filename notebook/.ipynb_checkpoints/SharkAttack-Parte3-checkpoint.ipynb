{
 "cells": [
  {
   "cell_type": "markdown",
   "id": "8cce6e21",
   "metadata": {},
   "source": [
    "### SharkAttack - Parte 3\n",
    "\n",
    "# Valores Inconsistentes "
   ]
  },
  {
   "cell_type": "code",
   "execution_count": 2,
   "id": "33207441",
   "metadata": {},
   "outputs": [],
   "source": [
    "import pandas as pd\n",
    "import numpy as np\n",
    "import re\n",
    "import zipfile\n",
    "import pylab as plt    \n",
    "import seaborn as sns\n",
    "import sys\n",
    "from datetime import datetime, time\n",
    "from jupyterthemes import jtplot\n",
    "jtplot.style()\n",
    "\n",
    "from functions import *\n",
    "\n",
    "pd.set_option('display.max_columns', None)  # me muestre todas las columnas"
   ]
  },
  {
   "cell_type": "code",
   "execution_count": 3,
   "id": "3944e4e0",
   "metadata": {},
   "outputs": [],
   "source": [
    "shark=pd.read_csv('../data/sharkattack_parte2.csv')"
   ]
  },
  {
   "cell_type": "code",
   "execution_count": 4,
   "id": "c77cc8d9",
   "metadata": {},
   "outputs": [
    {
     "data": {
      "text/html": [
       "<div>\n",
       "<style scoped>\n",
       "    .dataframe tbody tr th:only-of-type {\n",
       "        vertical-align: middle;\n",
       "    }\n",
       "\n",
       "    .dataframe tbody tr th {\n",
       "        vertical-align: top;\n",
       "    }\n",
       "\n",
       "    .dataframe thead th {\n",
       "        text-align: right;\n",
       "    }\n",
       "</style>\n",
       "<table border=\"1\" class=\"dataframe\">\n",
       "  <thead>\n",
       "    <tr style=\"text-align: right;\">\n",
       "      <th></th>\n",
       "      <th>casenumber</th>\n",
       "      <th>date</th>\n",
       "      <th>year</th>\n",
       "      <th>type</th>\n",
       "      <th>country</th>\n",
       "      <th>area</th>\n",
       "      <th>location</th>\n",
       "      <th>activity</th>\n",
       "      <th>name</th>\n",
       "      <th>sex</th>\n",
       "      <th>age</th>\n",
       "      <th>injury</th>\n",
       "      <th>fatal</th>\n",
       "      <th>species</th>\n",
       "      <th>investigator</th>\n",
       "      <th>pdf</th>\n",
       "      <th>href</th>\n",
       "      <th>href1</th>\n",
       "      <th>casenumber1</th>\n",
       "      <th>casenumber2</th>\n",
       "      <th>originalorder</th>\n",
       "      <th>unnamed</th>\n",
       "      <th>unnamed1</th>\n",
       "      <th>time</th>\n",
       "    </tr>\n",
       "  </thead>\n",
       "  <tbody>\n",
       "    <tr>\n",
       "      <th>0</th>\n",
       "      <td>2018.06.25</td>\n",
       "      <td>25-Jun-2018</td>\n",
       "      <td>2018.0</td>\n",
       "      <td>Boating</td>\n",
       "      <td>USA</td>\n",
       "      <td>California</td>\n",
       "      <td>Oceanside, San Diego County</td>\n",
       "      <td>Paddling</td>\n",
       "      <td>Julie Wolfe</td>\n",
       "      <td>F</td>\n",
       "      <td>57</td>\n",
       "      <td>No injury to occupant, outrigger canoe and pad...</td>\n",
       "      <td>N</td>\n",
       "      <td>White shark</td>\n",
       "      <td>R. Collier, GSAF</td>\n",
       "      <td>2018.06.25-Wolfe.pdf</td>\n",
       "      <td>http://sharkattackfile.net/spreadsheets/pdf_di...</td>\n",
       "      <td>http://sharkattackfile.net/spreadsheets/pdf_di...</td>\n",
       "      <td>2018.06.25</td>\n",
       "      <td>2018.06.25</td>\n",
       "      <td>6303.0</td>\n",
       "      <td>0</td>\n",
       "      <td>0</td>\n",
       "      <td>18:00</td>\n",
       "    </tr>\n",
       "    <tr>\n",
       "      <th>1</th>\n",
       "      <td>2018.06.18</td>\n",
       "      <td>18-Jun-2018</td>\n",
       "      <td>2018.0</td>\n",
       "      <td>Unprovoked</td>\n",
       "      <td>USA</td>\n",
       "      <td>Georgia</td>\n",
       "      <td>St. Simon Island, Glynn County</td>\n",
       "      <td>Standing</td>\n",
       "      <td>Adyson McNeely</td>\n",
       "      <td>F</td>\n",
       "      <td>11</td>\n",
       "      <td>Minor injury to left thigh</td>\n",
       "      <td>N</td>\n",
       "      <td>unknown shark</td>\n",
       "      <td>K.McMurray, TrackingSharks.com</td>\n",
       "      <td>2018.06.18-McNeely.pdf</td>\n",
       "      <td>http://sharkattackfile.net/spreadsheets/pdf_di...</td>\n",
       "      <td>http://sharkattackfile.net/spreadsheets/pdf_di...</td>\n",
       "      <td>2018.06.18</td>\n",
       "      <td>2018.06.18</td>\n",
       "      <td>6302.0</td>\n",
       "      <td>0</td>\n",
       "      <td>0</td>\n",
       "      <td>14:00</td>\n",
       "    </tr>\n",
       "    <tr>\n",
       "      <th>2</th>\n",
       "      <td>2018.06.09</td>\n",
       "      <td>09-Jun-2018</td>\n",
       "      <td>2018.0</td>\n",
       "      <td>Invalid</td>\n",
       "      <td>USA</td>\n",
       "      <td>Hawaii</td>\n",
       "      <td>Habush, Oahu</td>\n",
       "      <td>Surfing</td>\n",
       "      <td>John Denges</td>\n",
       "      <td>M</td>\n",
       "      <td>48</td>\n",
       "      <td>Injury to left lower leg from surfboard skeg</td>\n",
       "      <td>N</td>\n",
       "      <td>unknown shark</td>\n",
       "      <td>K.McMurray, TrackingSharks.com</td>\n",
       "      <td>2018.06.09-Denges.pdf</td>\n",
       "      <td>http://sharkattackfile.net/spreadsheets/pdf_di...</td>\n",
       "      <td>http://sharkattackfile.net/spreadsheets/pdf_di...</td>\n",
       "      <td>2018.06.09</td>\n",
       "      <td>2018.06.09</td>\n",
       "      <td>6301.0</td>\n",
       "      <td>0</td>\n",
       "      <td>0</td>\n",
       "      <td>07:45</td>\n",
       "    </tr>\n",
       "    <tr>\n",
       "      <th>3</th>\n",
       "      <td>2018.06.08</td>\n",
       "      <td>08-Jun-2018</td>\n",
       "      <td>2018.0</td>\n",
       "      <td>Unprovoked</td>\n",
       "      <td>AUSTRALIA</td>\n",
       "      <td>New South Wales</td>\n",
       "      <td>Arrawarra Headland</td>\n",
       "      <td>Surfing</td>\n",
       "      <td>male</td>\n",
       "      <td>M</td>\n",
       "      <td>-1</td>\n",
       "      <td>Minor injury to lower leg</td>\n",
       "      <td>N</td>\n",
       "      <td>2 m shark</td>\n",
       "      <td>B. Myatt, GSAF</td>\n",
       "      <td>2018.06.08-Arrawarra.pdf</td>\n",
       "      <td>http://sharkattackfile.net/spreadsheets/pdf_di...</td>\n",
       "      <td>http://sharkattackfile.net/spreadsheets/pdf_di...</td>\n",
       "      <td>2018.06.08</td>\n",
       "      <td>2018.06.08</td>\n",
       "      <td>6300.0</td>\n",
       "      <td>0</td>\n",
       "      <td>0</td>\n",
       "      <td>25:00</td>\n",
       "    </tr>\n",
       "    <tr>\n",
       "      <th>4</th>\n",
       "      <td>2018.06.04</td>\n",
       "      <td>04-Jun-2018</td>\n",
       "      <td>2018.0</td>\n",
       "      <td>Provoked</td>\n",
       "      <td>MEXICO</td>\n",
       "      <td>Colima</td>\n",
       "      <td>La Ticla</td>\n",
       "      <td>Free diving</td>\n",
       "      <td>Gustavo Ramos</td>\n",
       "      <td>M</td>\n",
       "      <td>-1</td>\n",
       "      <td>Lacerations to leg &amp; hand shark PROVOKED INCIDENT</td>\n",
       "      <td>N</td>\n",
       "      <td>Tiger shark, 3m</td>\n",
       "      <td>A .Kipper</td>\n",
       "      <td>2018.06.04-Ramos.pdf</td>\n",
       "      <td>http://sharkattackfile.net/spreadsheets/pdf_di...</td>\n",
       "      <td>http://sharkattackfile.net/spreadsheets/pdf_di...</td>\n",
       "      <td>2018.06.04</td>\n",
       "      <td>2018.06.04</td>\n",
       "      <td>6299.0</td>\n",
       "      <td>0</td>\n",
       "      <td>0</td>\n",
       "      <td>25:00</td>\n",
       "    </tr>\n",
       "  </tbody>\n",
       "</table>\n",
       "</div>"
      ],
      "text/plain": [
       "   casenumber         date    year        type    country             area   \n",
       "0  2018.06.25  25-Jun-2018  2018.0     Boating        USA       California  \\\n",
       "1  2018.06.18  18-Jun-2018  2018.0  Unprovoked        USA          Georgia   \n",
       "2  2018.06.09  09-Jun-2018  2018.0     Invalid        USA           Hawaii   \n",
       "3  2018.06.08  08-Jun-2018  2018.0  Unprovoked  AUSTRALIA  New South Wales   \n",
       "4  2018.06.04  04-Jun-2018  2018.0    Provoked     MEXICO           Colima   \n",
       "\n",
       "                         location     activity             name sex age   \n",
       "0     Oceanside, San Diego County     Paddling      Julie Wolfe   F  57  \\\n",
       "1  St. Simon Island, Glynn County     Standing  Adyson McNeely    F  11   \n",
       "2                    Habush, Oahu      Surfing      John Denges   M  48   \n",
       "3              Arrawarra Headland      Surfing             male   M  -1   \n",
       "4                        La Ticla  Free diving   Gustavo Ramos    M  -1   \n",
       "\n",
       "                                              injury fatal          species   \n",
       "0  No injury to occupant, outrigger canoe and pad...     N      White shark  \\\n",
       "1                         Minor injury to left thigh     N    unknown shark   \n",
       "2       Injury to left lower leg from surfboard skeg     N    unknown shark   \n",
       "3                          Minor injury to lower leg     N        2 m shark   \n",
       "4  Lacerations to leg & hand shark PROVOKED INCIDENT     N  Tiger shark, 3m   \n",
       "\n",
       "                     investigator                       pdf   \n",
       "0                R. Collier, GSAF      2018.06.25-Wolfe.pdf  \\\n",
       "1  K.McMurray, TrackingSharks.com    2018.06.18-McNeely.pdf   \n",
       "2  K.McMurray, TrackingSharks.com     2018.06.09-Denges.pdf   \n",
       "3                  B. Myatt, GSAF  2018.06.08-Arrawarra.pdf   \n",
       "4                       A .Kipper      2018.06.04-Ramos.pdf   \n",
       "\n",
       "                                                href   \n",
       "0  http://sharkattackfile.net/spreadsheets/pdf_di...  \\\n",
       "1  http://sharkattackfile.net/spreadsheets/pdf_di...   \n",
       "2  http://sharkattackfile.net/spreadsheets/pdf_di...   \n",
       "3  http://sharkattackfile.net/spreadsheets/pdf_di...   \n",
       "4  http://sharkattackfile.net/spreadsheets/pdf_di...   \n",
       "\n",
       "                                               href1 casenumber1 casenumber2   \n",
       "0  http://sharkattackfile.net/spreadsheets/pdf_di...  2018.06.25  2018.06.25  \\\n",
       "1  http://sharkattackfile.net/spreadsheets/pdf_di...  2018.06.18  2018.06.18   \n",
       "2  http://sharkattackfile.net/spreadsheets/pdf_di...  2018.06.09  2018.06.09   \n",
       "3  http://sharkattackfile.net/spreadsheets/pdf_di...  2018.06.08  2018.06.08   \n",
       "4  http://sharkattackfile.net/spreadsheets/pdf_di...  2018.06.04  2018.06.04   \n",
       "\n",
       "   originalorder  unnamed  unnamed1   time  \n",
       "0         6303.0        0         0  18:00  \n",
       "1         6302.0        0         0  14:00  \n",
       "2         6301.0        0         0  07:45  \n",
       "3         6300.0        0         0  25:00  \n",
       "4         6299.0        0         0  25:00  "
      ]
     },
     "execution_count": 4,
     "metadata": {},
     "output_type": "execute_result"
    }
   ],
   "source": [
    "shark.head()"
   ]
  },
  {
   "cell_type": "code",
   "execution_count": 5,
   "id": "686641af",
   "metadata": {},
   "outputs": [
    {
     "name": "stdout",
     "output_type": "stream",
     "text": [
      "<class 'pandas.core.frame.DataFrame'>\n",
      "RangeIndex: 6302 entries, 0 to 6301\n",
      "Data columns (total 24 columns):\n",
      " #   Column         Non-Null Count  Dtype  \n",
      "---  ------         --------------  -----  \n",
      " 0   casenumber     6302 non-null   object \n",
      " 1   date           6302 non-null   object \n",
      " 2   year           6302 non-null   float64\n",
      " 3   type           6302 non-null   object \n",
      " 4   country        6302 non-null   object \n",
      " 5   area           6302 non-null   object \n",
      " 6   location       6302 non-null   object \n",
      " 7   activity       6302 non-null   object \n",
      " 8   name           6302 non-null   object \n",
      " 9   sex            6302 non-null   object \n",
      " 10  age            6299 non-null   object \n",
      " 11  injury         6302 non-null   object \n",
      " 12  fatal          6302 non-null   object \n",
      " 13  species        6302 non-null   object \n",
      " 14  investigator   6302 non-null   object \n",
      " 15  pdf            6302 non-null   object \n",
      " 16  href           6302 non-null   object \n",
      " 17  href1          6302 non-null   object \n",
      " 18  casenumber1    6302 non-null   object \n",
      " 19  casenumber2    6302 non-null   object \n",
      " 20  originalorder  6302 non-null   float64\n",
      " 21  unnamed        6302 non-null   int64  \n",
      " 22  unnamed1       6302 non-null   int64  \n",
      " 23  time           6302 non-null   object \n",
      "dtypes: float64(2), int64(2), object(20)\n",
      "memory usage: 1.2+ MB\n"
     ]
    }
   ],
   "source": [
    "shark.info()"
   ]
  },
  {
   "cell_type": "markdown",
   "id": "b2f464c7",
   "metadata": {},
   "source": [
    "---"
   ]
  },
  {
   "cell_type": "markdown",
   "id": "f2178511",
   "metadata": {},
   "source": [
    "En esta parte voy a analizar la inconsistencia de los datos y por lo tanto voy a procurar que todos los valores de cada columna tengan el tipo de dato esperado. Los tipos de datos esperados son:\n",
    "1. casenumber: str\n",
    "2. date: date\n",
    "3. year: int16\n",
    "4. type: str\n",
    "5. country: str\n",
    "6. area: str\n",
    "7. location: str\n",
    "8. activity: str\n",
    "9. name: str\n",
    "10. sex: str\n",
    "11. age: int\n",
    "12. injury: str\n",
    "13. fatal: str\n",
    "14. species: str\n",
    "15. investigator: str\n",
    "16. pdf: str\n",
    "17. href: str\n",
    "18. href1: str\n",
    "19. casenumber1: str\n",
    "20. casenumber2: str\n",
    "21. originalorder: int16\n",
    "22. unnamed: int16\n",
    "23. unnamed1: int16\n",
    "24. time: datetime"
   ]
  },
  {
   "cell_type": "markdown",
   "id": "7f9139e4",
   "metadata": {},
   "source": [
    "---"
   ]
  },
  {
   "cell_type": "markdown",
   "id": "96efc024",
   "metadata": {},
   "source": [
    "# Casenumber"
   ]
  },
  {
   "cell_type": "code",
   "execution_count": 6,
   "id": "43a8082b",
   "metadata": {},
   "outputs": [
    {
     "data": {
      "text/plain": [
       "0      2018.06.25\n",
       "1      2018.06.18\n",
       "2      2018.06.09\n",
       "3      2018.06.08\n",
       "4      2018.06.04\n",
       "5    2018.06.03.b\n",
       "6    2018.06.03.a\n",
       "7      2018.05.27\n",
       "8    2018.05.26.b\n",
       "9    2018.05.26.a\n",
       "Name: casenumber, dtype: object"
      ]
     },
     "execution_count": 6,
     "metadata": {},
     "output_type": "execute_result"
    }
   ],
   "source": [
    "shark['casenumber'][:10]"
   ]
  },
  {
   "cell_type": "code",
   "execution_count": 7,
   "id": "e0b96416",
   "metadata": {},
   "outputs": [
    {
     "data": {
      "text/plain": [
       "array(['2018.06.25', '2018.06.18', '2018.06.09', ..., 'ND.0003',\n",
       "       'ND.0002', 'ND.0001'], dtype=object)"
      ]
     },
     "execution_count": 7,
     "metadata": {},
     "output_type": "execute_result"
    }
   ],
   "source": [
    "shark.casenumber.unique()"
   ]
  },
  {
   "cell_type": "code",
   "execution_count": 8,
   "id": "e89e4341",
   "metadata": {},
   "outputs": [
    {
     "data": {
      "text/plain": [
       "0       2018.06.25\n",
       "1       2018.06.18\n",
       "2       2018.06.09\n",
       "3       2018.06.08\n",
       "4       2018.06.04\n",
       "           ...    \n",
       "6297       ND.0005\n",
       "6298       ND.0004\n",
       "6299       ND.0003\n",
       "6300       ND.0002\n",
       "6301       ND.0001\n",
       "Name: casenumber, Length: 6302, dtype: object"
      ]
     },
     "execution_count": 8,
     "metadata": {},
     "output_type": "execute_result"
    }
   ],
   "source": [
    "shark.casenumber.str.strip()"
   ]
  },
  {
   "cell_type": "code",
   "execution_count": 9,
   "id": "aef30e7a",
   "metadata": {},
   "outputs": [
    {
     "data": {
      "text/plain": [
       "1"
      ]
     },
     "execution_count": 9,
     "metadata": {},
     "output_type": "execute_result"
    }
   ],
   "source": [
    "repetidos(shark, 'casenumber')"
   ]
  },
  {
   "cell_type": "code",
   "execution_count": 10,
   "id": "7020f904",
   "metadata": {},
   "outputs": [
    {
     "data": {
      "text/plain": [
       "casenumber\n",
       "<class 'str'>    6302\n",
       "Name: count, dtype: int64"
      ]
     },
     "execution_count": 10,
     "metadata": {},
     "output_type": "execute_result"
    }
   ],
   "source": [
    "shark['casenumber'].apply(type).value_counts()"
   ]
  },
  {
   "cell_type": "markdown",
   "id": "4a2da3bb",
   "metadata": {},
   "source": [
    "La mayoría son fechas que están en formato Y/M/D y algunos tienen un .* a la derecha que no aporta nada.\n",
    "\n",
    "En este caso como no deja de ser un elemento de identificación, no voy a trabajar más en el de momento y lo voy a dejar con este formato."
   ]
  },
  {
   "cell_type": "markdown",
   "id": "51715a4b",
   "metadata": {},
   "source": [
    "---"
   ]
  },
  {
   "cell_type": "markdown",
   "id": "64af4f80",
   "metadata": {},
   "source": [
    "# Date"
   ]
  },
  {
   "cell_type": "code",
   "execution_count": 11,
   "id": "348036e2",
   "metadata": {},
   "outputs": [
    {
     "data": {
      "text/plain": [
       "0    25-Jun-2018\n",
       "1    18-Jun-2018\n",
       "2    09-Jun-2018\n",
       "3    08-Jun-2018\n",
       "4    04-Jun-2018\n",
       "5    03-Jun-2018\n",
       "6    03-Jun-2018\n",
       "7    27-May-2018\n",
       "8    26-May-2018\n",
       "9    26-May-2018\n",
       "Name: date, dtype: object"
      ]
     },
     "execution_count": 11,
     "metadata": {},
     "output_type": "execute_result"
    }
   ],
   "source": [
    "shark.date[:10]"
   ]
  },
  {
   "cell_type": "code",
   "execution_count": 12,
   "id": "92ac4ec8",
   "metadata": {},
   "outputs": [
    {
     "data": {
      "text/plain": [
       "array(['25-Jun-2018', '18-Jun-2018', '09-Jun-2018', ..., '1900-1905',\n",
       "       '1883-1889', '1845-1853'], dtype=object)"
      ]
     },
     "execution_count": 12,
     "metadata": {},
     "output_type": "execute_result"
    }
   ],
   "source": [
    "shark.date.unique()"
   ]
  },
  {
   "cell_type": "code",
   "execution_count": 13,
   "id": "6f9908e0",
   "metadata": {},
   "outputs": [
    {
     "data": {
      "text/plain": [
       "0       25-Jun-2018\n",
       "1       18-Jun-2018\n",
       "2       09-Jun-2018\n",
       "3       08-Jun-2018\n",
       "4       04-Jun-2018\n",
       "           ...     \n",
       "6297    Before 1903\n",
       "6298    Before 1903\n",
       "6299      1900-1905\n",
       "6300      1883-1889\n",
       "6301      1845-1853\n",
       "Name: date, Length: 6302, dtype: object"
      ]
     },
     "execution_count": 13,
     "metadata": {},
     "output_type": "execute_result"
    }
   ],
   "source": [
    "shark.date.str.strip()"
   ]
  },
  {
   "cell_type": "markdown",
   "id": "957ff707",
   "metadata": {},
   "source": [
    "Esta columna es relevante y la necesito en formato date. Por lo que realizo las operaciones necesarias\n",
    "\n",
    "1.- Los valores que tengan formato xx-Mes-xxxx los paso a una nueva columna llamada date1 y los sustituyo por un valor proxy de -1\n",
    "2.- Si tiene la estructura Mes-xxxx establezco que es el día 01 y hago lo mismo que en el paso anterior\n",
    "\n",
    "el resto de valores los miro más adelante"
   ]
  },
  {
   "cell_type": "code",
   "execution_count": 14,
   "id": "0f554704",
   "metadata": {},
   "outputs": [],
   "source": [
    "patron = r'\\d{2}-\\b\\w{3}\\b-\\d{4}'\n",
    "for i, valor in enumerate(shark['date']):\n",
    "    fecha = re.search(patron, valor)\n",
    "    if fecha is not None:\n",
    "        shark.at[i, 'date1'] = fecha.group()\n",
    "        shark.at[i, 'date'] = 0"
   ]
  },
  {
   "cell_type": "code",
   "execution_count": 15,
   "id": "f1d994be",
   "metadata": {},
   "outputs": [
    {
     "data": {
      "text/plain": [
       "0            0\n",
       "1            0\n",
       "2            0\n",
       "3            0\n",
       "4            0\n",
       "5            0\n",
       "6            0\n",
       "7            0\n",
       "8            0\n",
       "9            0\n",
       "10           0\n",
       "11           0\n",
       "12           0\n",
       "13           0\n",
       "14    May 2018\n",
       "Name: date, dtype: object"
      ]
     },
     "execution_count": 15,
     "metadata": {},
     "output_type": "execute_result"
    }
   ],
   "source": [
    "shark.date[:15]"
   ]
  },
  {
   "cell_type": "code",
   "execution_count": 16,
   "id": "e77c3c0f",
   "metadata": {},
   "outputs": [],
   "source": [
    "patron = r'\\b\\w{3}\\b-\\d{4}'\n",
    "dia = '01-'\n",
    "for i, valor in enumerate(shark['date']):\n",
    "    fecha = re.search(patron, str(valor))\n",
    "    if fecha is not None:\n",
    "        fecha = dia + fecha.group(0)\n",
    "        shark.at[i, 'date1'] = fecha\n",
    "        shark.at[i, 'date'] = '0'"
   ]
  },
  {
   "cell_type": "code",
   "execution_count": 17,
   "id": "338a486b",
   "metadata": {},
   "outputs": [
    {
     "data": {
      "text/plain": [
       "date\n",
       "0                5349\n",
       "0                 370\n",
       "1957               11\n",
       "1942                9\n",
       "1956                8\n",
       "                 ... \n",
       "1928                1\n",
       "Ca. 1929            1\n",
       "Reported 1929       1\n",
       "1932                1\n",
       "1845-1853           1\n",
       "Name: count, Length: 376, dtype: int64"
      ]
     },
     "execution_count": 17,
     "metadata": {},
     "output_type": "execute_result"
    }
   ],
   "source": [
    "shark.date.value_counts()"
   ]
  },
  {
   "cell_type": "code",
   "execution_count": 18,
   "id": "0338294b",
   "metadata": {},
   "outputs": [],
   "source": [
    "patron = r'\\d{4}'\n",
    "for i, valor in enumerate(shark['date']):\n",
    "    fecha = re.search(patron, str(valor))\n",
    "    if fecha is not None:\n",
    "        shark.at[i, 'date1'] = fecha.group()\n",
    "        shark.at[i, 'date'] = 0"
   ]
  },
  {
   "cell_type": "code",
   "execution_count": 19,
   "id": "57251ce4",
   "metadata": {},
   "outputs": [
    {
     "data": {
      "text/plain": [
       "array(['22-Jul-144', 'Woirld War II', 'Reported 26-Sep-t937',\n",
       "       'Circa 500 A.D.', '77  A.D.', 'Ca. 5 A.D.', 'Ca. 214 B.C.',\n",
       "       'Ca. 336.B.C..', '493 B.C.', 'Ca. 725 B.C.', 'No date',\n",
       "       '\"Before the war\"', 'World War II'], dtype=object)"
      ]
     },
     "execution_count": 19,
     "metadata": {},
     "output_type": "execute_result"
    }
   ],
   "source": [
    "valores_unicos = shark.loc[(shark['date'] != 0) & (shark['date'] != '0'), 'date'].unique()\n",
    "valores_unicos"
   ]
  },
  {
   "cell_type": "code",
   "execution_count": 20,
   "id": "810446ac",
   "metadata": {},
   "outputs": [],
   "source": [
    "shark.loc[shark['date'] == '\"Before the war\"', 'date1'] = '01-Sep-1939'\n",
    "shark.loc[shark['date'] == '\"Before the war\"', 'date'] = '0'"
   ]
  },
  {
   "cell_type": "code",
   "execution_count": 21,
   "id": "a047fa91",
   "metadata": {},
   "outputs": [],
   "source": [
    "shark.loc[shark['date'] == 'World War II', 'date1'] = '02-Sep-1945'\n",
    "shark.loc[shark['date'] == 'World War II', 'date'] = '0'"
   ]
  },
  {
   "cell_type": "code",
   "execution_count": 22,
   "id": "8194dea5",
   "metadata": {},
   "outputs": [],
   "source": [
    "shark.loc[shark['date'] == 'Woirld War II', 'date1'] = '02-Sep-1945'\n",
    "shark.loc[shark['date'] == 'Woirld War II', 'date'] = '0'"
   ]
  },
  {
   "cell_type": "code",
   "execution_count": 23,
   "id": "5398f2f2",
   "metadata": {},
   "outputs": [],
   "source": [
    "shark.loc[shark['date'] == 'Reported 26-Sep-t937', 'date1'] = '26-Sep-1937'\n",
    "shark.loc[shark['date'] == 'Reported 26-Sep-t937', 'date'] = '0'"
   ]
  },
  {
   "cell_type": "code",
   "execution_count": 24,
   "id": "bc1acfe0",
   "metadata": {},
   "outputs": [],
   "source": [
    "shark.loc[shark['date'] == 'No date', 'date1'] = '01-Ene-1900'\n",
    "shark.loc[shark['date'] == 'No date', 'date'] = '0'"
   ]
  },
  {
   "cell_type": "code",
   "execution_count": 25,
   "id": "d6313d4e",
   "metadata": {},
   "outputs": [],
   "source": [
    "shark.loc[shark['date'] == '22-Jul-144', 'date1'] = '22-Jul-1944'\n",
    "shark.loc[shark['date'] == '22-Jul-144', 'date'] = '0'"
   ]
  },
  {
   "cell_type": "code",
   "execution_count": 26,
   "id": "283719a9",
   "metadata": {},
   "outputs": [
    {
     "data": {
      "text/plain": [
       "array(['Circa 500 A.D.', '77  A.D.', 'Ca. 5 A.D.', 'Ca. 214 B.C.',\n",
       "       'Ca. 336.B.C..', '493 B.C.', 'Ca. 725 B.C.'], dtype=object)"
      ]
     },
     "execution_count": 26,
     "metadata": {},
     "output_type": "execute_result"
    }
   ],
   "source": [
    "valores_unicos = shark.loc[(shark['date'] != 0) & (shark['date'] != '0'), 'date'].unique()\n",
    "valores_unicos"
   ]
  },
  {
   "cell_type": "code",
   "execution_count": 27,
   "id": "18abad92",
   "metadata": {},
   "outputs": [
    {
     "data": {
      "text/plain": [
       "7"
      ]
     },
     "execution_count": 27,
     "metadata": {},
     "output_type": "execute_result"
    }
   ],
   "source": [
    "valores_unicos.size"
   ]
  },
  {
   "cell_type": "markdown",
   "id": "d4cfda50",
   "metadata": {},
   "source": [
    "Como son solo 7 valores no lo considero representativo y los igualo a 01-Ene-1900"
   ]
  },
  {
   "cell_type": "code",
   "execution_count": 28,
   "id": "88d6d13c",
   "metadata": {},
   "outputs": [],
   "source": [
    "shark['date'] = shark['date1']"
   ]
  },
  {
   "cell_type": "code",
   "execution_count": 29,
   "id": "2ccc85a9",
   "metadata": {},
   "outputs": [
    {
     "data": {
      "text/plain": [
       "7"
      ]
     },
     "execution_count": 29,
     "metadata": {},
     "output_type": "execute_result"
    }
   ],
   "source": [
    "shark.date.isna().sum()"
   ]
  },
  {
   "cell_type": "code",
   "execution_count": 30,
   "id": "36e5296a",
   "metadata": {},
   "outputs": [],
   "source": [
    "shark.date.fillna('01-Ene-1900', inplace=True)"
   ]
  },
  {
   "cell_type": "code",
   "execution_count": 31,
   "id": "7ed80cfa",
   "metadata": {},
   "outputs": [
    {
     "data": {
      "text/plain": [
       "1"
      ]
     },
     "execution_count": 31,
     "metadata": {},
     "output_type": "execute_result"
    }
   ],
   "source": [
    "repetidos(shark, 'date')"
   ]
  },
  {
   "cell_type": "code",
   "execution_count": 32,
   "id": "da359e70",
   "metadata": {},
   "outputs": [
    {
     "data": {
      "text/plain": [
       "date\n",
       "<class 'str'>    6302\n",
       "Name: count, dtype: int64"
      ]
     },
     "execution_count": 32,
     "metadata": {},
     "output_type": "execute_result"
    }
   ],
   "source": [
    "shark['date'].apply(type).value_counts()"
   ]
  },
  {
   "cell_type": "markdown",
   "id": "5a94265f",
   "metadata": {},
   "source": [
    "---"
   ]
  },
  {
   "cell_type": "markdown",
   "id": "51ea77b3",
   "metadata": {},
   "source": [
    "# Year"
   ]
  },
  {
   "cell_type": "code",
   "execution_count": 33,
   "id": "9e7dfc6b",
   "metadata": {},
   "outputs": [
    {
     "data": {
      "text/plain": [
       "0    2018.0\n",
       "1    2018.0\n",
       "2    2018.0\n",
       "3    2018.0\n",
       "4    2018.0\n",
       "5    2018.0\n",
       "6    2018.0\n",
       "7    2018.0\n",
       "8    2018.0\n",
       "9    2018.0\n",
       "Name: year, dtype: float64"
      ]
     },
     "execution_count": 33,
     "metadata": {},
     "output_type": "execute_result"
    }
   ],
   "source": [
    "shark.year[:10]"
   ]
  },
  {
   "cell_type": "code",
   "execution_count": 37,
   "id": "7d15ed1e",
   "metadata": {},
   "outputs": [],
   "source": [
    "shark['year'] = shark['year'].astype('int16')"
   ]
  },
  {
   "cell_type": "code",
   "execution_count": 38,
   "id": "44291971",
   "metadata": {},
   "outputs": [
    {
     "data": {
      "text/plain": [
       "array([2018, 2017, 2016, 2015, 2014, 2013, 2012, 2011, 2010, 2009, 2008,\n",
       "       2007, 2006, 2005, 2004, 2003, 2002, 2001, 2000, 1999, 1998, 1997,\n",
       "       1996, 1995, 1984, 1994, 1993, 1992, 1991, 1990, 1989, 1969, 1988,\n",
       "       1987, 1986, 1985, 1983, 1982, 1981, 1980, 1979, 1978, 1977, 1976,\n",
       "       1975, 1974, 1973, 1972, 1971, 1970, 1968, 1967, 1966, 1965, 1964,\n",
       "       1963, 1962, 1961, 1960, 1959, 1958, 1957, 1956, 1955, 1954, 1953,\n",
       "       1952, 1951, 1950, 1949, 1948, 1848, 1947, 1946, 1945, 1944, 1943,\n",
       "       1942, 1941, 1940, 1939, 1938, 1937, 1936, 1935, 1934, 1933, 1932,\n",
       "       1931, 1930, 1929, 1928, 1927, 1926, 1925, 1924, 1923, 1922, 1921,\n",
       "       1920, 1919, 1918, 1917, 1916, 1915, 1914, 1913, 1912, 1911, 1910,\n",
       "       1909, 1908, 1907, 1906, 1905, 1904, 1903, 1902, 1901, 1900, 1899,\n",
       "       1898, 1897, 1896, 1895, 1894, 1893, 1892, 1891, 1890, 1889, 1888,\n",
       "       1887, 1886, 1885, 1884, 1883, 1882, 1881, 1880, 1879, 1878, 1877,\n",
       "       1876, 1875, 1874, 1873, 1872, 1871, 1870, 1869, 1868, 1867, 1866,\n",
       "       1865, 1864, 1863, 1862, 1861, 1860, 1859, 1858, 1857, 1856, 1855,\n",
       "       1853, 1852, 1851, 1850, 1849, 1847, 1846, 1845, 1844, 1842, 1841,\n",
       "       1840, 1839, 1837, 1836, 1835, 1834, 1832, 1831, 1830, 1829, 1828,\n",
       "       1827, 1826, 1825, 1823, 1822, 1819, 1818, 1817, 1816, 1815, 1812,\n",
       "       1811, 1810, 1808, 1807, 1805, 1804, 1803, 1802, 1801, 1800, 1797,\n",
       "       1792, 1791, 1788, 1787, 1786, 1785, 1784, 1783, 1780, 1779, 1776,\n",
       "       1771, 1767, 1764, 1758, 1753, 1751, 1749, 1755, 1748, 1742, 1738,\n",
       "       1733, 1723, 1721, 1703, 1700, 1642, 1638, 1637, 1617, 1595, 1580,\n",
       "       1555, 1554, 1543,  500,   77,    5,    0], dtype=int16)"
      ]
     },
     "execution_count": 38,
     "metadata": {},
     "output_type": "execute_result"
    }
   ],
   "source": [
    "shark.year.unique()"
   ]
  },
  {
   "cell_type": "code",
   "execution_count": 39,
   "id": "75e6b24f",
   "metadata": {},
   "outputs": [
    {
     "data": {
      "text/plain": [
       "1"
      ]
     },
     "execution_count": 39,
     "metadata": {},
     "output_type": "execute_result"
    }
   ],
   "source": [
    "repetidos(shark, 'year')"
   ]
  },
  {
   "cell_type": "code",
   "execution_count": 40,
   "id": "281b8775",
   "metadata": {},
   "outputs": [
    {
     "data": {
      "text/plain": [
       "year\n",
       "<class 'int'>    6302\n",
       "Name: count, dtype: int64"
      ]
     },
     "execution_count": 40,
     "metadata": {},
     "output_type": "execute_result"
    }
   ],
   "source": [
    "shark['year'].apply(type).value_counts()"
   ]
  },
  {
   "cell_type": "markdown",
   "id": "d88bc0dd",
   "metadata": {},
   "source": [
    "---"
   ]
  },
  {
   "cell_type": "markdown",
   "id": "ebfb3402",
   "metadata": {},
   "source": [
    "# Type"
   ]
  },
  {
   "cell_type": "code",
   "execution_count": 41,
   "id": "1ce5f070",
   "metadata": {},
   "outputs": [
    {
     "data": {
      "text/plain": [
       "0       Boating\n",
       "1    Unprovoked\n",
       "2       Invalid\n",
       "3    Unprovoked\n",
       "4      Provoked\n",
       "5    Unprovoked\n",
       "6    Unprovoked\n",
       "7    Unprovoked\n",
       "8    Unprovoked\n",
       "9    Unprovoked\n",
       "Name: type, dtype: object"
      ]
     },
     "execution_count": 41,
     "metadata": {},
     "output_type": "execute_result"
    }
   ],
   "source": [
    "shark.type[:10]"
   ]
  },
  {
   "cell_type": "code",
   "execution_count": 42,
   "id": "172fde2f",
   "metadata": {},
   "outputs": [
    {
     "data": {
      "text/plain": [
       "0          Boating\n",
       "1       Unprovoked\n",
       "2          Invalid\n",
       "3       Unprovoked\n",
       "4         Provoked\n",
       "           ...    \n",
       "6297    Unprovoked\n",
       "6298    Unprovoked\n",
       "6299    Unprovoked\n",
       "6300    Unprovoked\n",
       "6301    Unprovoked\n",
       "Name: type, Length: 6302, dtype: object"
      ]
     },
     "execution_count": 42,
     "metadata": {},
     "output_type": "execute_result"
    }
   ],
   "source": [
    "shark.type.str.strip()"
   ]
  },
  {
   "cell_type": "code",
   "execution_count": 43,
   "id": "35f63747",
   "metadata": {},
   "outputs": [
    {
     "data": {
      "text/plain": [
       "array(['Boating', 'Unprovoked', 'Invalid', 'Provoked', 'Questionable',\n",
       "       'Sea Disaster', 'unknown', 'Boat', 'Boatomg'], dtype=object)"
      ]
     },
     "execution_count": 43,
     "metadata": {},
     "output_type": "execute_result"
    }
   ],
   "source": [
    "shark.type.unique()"
   ]
  },
  {
   "cell_type": "code",
   "execution_count": 44,
   "id": "a397aa07",
   "metadata": {},
   "outputs": [],
   "source": [
    "shark.loc[shark['type'] == 'Boatomg', 'type'] = 'Boat'"
   ]
  },
  {
   "cell_type": "code",
   "execution_count": 45,
   "id": "ee52b1c0",
   "metadata": {},
   "outputs": [
    {
     "data": {
      "text/plain": [
       "array(['Boating', 'Unprovoked', 'Invalid', 'Provoked', 'Questionable',\n",
       "       'Sea Disaster', 'unknown', 'Boat'], dtype=object)"
      ]
     },
     "execution_count": 45,
     "metadata": {},
     "output_type": "execute_result"
    }
   ],
   "source": [
    "shark.type.unique()"
   ]
  },
  {
   "cell_type": "code",
   "execution_count": 46,
   "id": "b22949d4",
   "metadata": {},
   "outputs": [
    {
     "data": {
      "text/plain": [
       "1"
      ]
     },
     "execution_count": 46,
     "metadata": {},
     "output_type": "execute_result"
    }
   ],
   "source": [
    "repetidos(shark, 'type')"
   ]
  },
  {
   "cell_type": "code",
   "execution_count": 47,
   "id": "607ea577",
   "metadata": {},
   "outputs": [
    {
     "data": {
      "text/plain": [
       "type\n",
       "<class 'str'>    6302\n",
       "Name: count, dtype: int64"
      ]
     },
     "execution_count": 47,
     "metadata": {},
     "output_type": "execute_result"
    }
   ],
   "source": [
    "shark['type'].apply(type).value_counts()"
   ]
  },
  {
   "cell_type": "markdown",
   "id": "66d0b96f",
   "metadata": {},
   "source": [
    "---"
   ]
  },
  {
   "cell_type": "markdown",
   "id": "7efd90cd",
   "metadata": {},
   "source": [
    "# Country"
   ]
  },
  {
   "cell_type": "code",
   "execution_count": 48,
   "id": "d9182a5e",
   "metadata": {},
   "outputs": [
    {
     "data": {
      "text/plain": [
       "0              USA\n",
       "1              USA\n",
       "2              USA\n",
       "3        AUSTRALIA\n",
       "4           MEXICO\n",
       "5        AUSTRALIA\n",
       "6           BRAZIL\n",
       "7              USA\n",
       "8              USA\n",
       "9              USA\n",
       "10       AUSTRALIA\n",
       "11             USA\n",
       "12             USA\n",
       "13         ENGLAND\n",
       "14       AUSTRALIA\n",
       "15    SOUTH AFRICA\n",
       "16       AUSTRALIA\n",
       "17        THAILAND\n",
       "18      COSTA RICA\n",
       "19       AUSTRALIA\n",
       "Name: country, dtype: object"
      ]
     },
     "execution_count": 48,
     "metadata": {},
     "output_type": "execute_result"
    }
   ],
   "source": [
    "shark.country[:20]"
   ]
  },
  {
   "cell_type": "code",
   "execution_count": 49,
   "id": "8039a2fd",
   "metadata": {},
   "outputs": [
    {
     "data": {
      "text/plain": [
       "0                      USA\n",
       "1                      USA\n",
       "2                      USA\n",
       "3                AUSTRALIA\n",
       "4                   MEXICO\n",
       "               ...        \n",
       "6297             AUSTRALIA\n",
       "6298             AUSTRALIA\n",
       "6299                   USA\n",
       "6300                PANAMA\n",
       "6301    CEYLON (SRI LANKA)\n",
       "Name: country, Length: 6302, dtype: object"
      ]
     },
     "execution_count": 49,
     "metadata": {},
     "output_type": "execute_result"
    }
   ],
   "source": [
    "shark.country.str.strip()"
   ]
  },
  {
   "cell_type": "code",
   "execution_count": 50,
   "id": "ee9e2093",
   "metadata": {},
   "outputs": [
    {
     "data": {
      "text/plain": [
       "array(['USA', 'AUSTRALIA', 'MEXICO', 'BRAZIL', 'ENGLAND', 'SOUTH AFRICA',\n",
       "       'THAILAND', 'COSTA RICA', 'MALDIVES', 'BAHAMAS', 'NEW CALEDONIA',\n",
       "       'ECUADOR', 'MALAYSIA', 'LIBYA', 'unknown', 'CUBA', 'MAURITIUS',\n",
       "       'NEW ZEALAND', 'SPAIN', 'SAMOA', 'SOLOMON ISLANDS', 'JAPAN',\n",
       "       'EGYPT', 'ST HELENA, British overseas territory', 'COMOROS',\n",
       "       'REUNION', 'FRENCH POLYNESIA', 'UNITED KINGDOM',\n",
       "       'UNITED ARAB EMIRATES', 'PHILIPPINES', 'INDONESIA', 'CHINA',\n",
       "       'COLUMBIA', 'CAPE VERDE', 'Fiji', 'DOMINICAN REPUBLIC',\n",
       "       'CAYMAN ISLANDS', 'ARUBA', 'MOZAMBIQUE', 'FIJI', 'PUERTO RICO',\n",
       "       'ITALY', 'ATLANTIC OCEAN', 'GREECE', 'ST. MARTIN', 'FRANCE',\n",
       "       'PAPUA NEW GUINEA', 'TRINIDAD & TOBAGO', 'KIRIBATI', 'ISRAEL',\n",
       "       'DIEGO GARCIA', 'TAIWAN', 'JAMAICA', 'PALESTINIAN TERRITORIES',\n",
       "       'GUAM', 'SEYCHELLES', 'BELIZE', 'NIGERIA', 'TONGA', 'SCOTLAND',\n",
       "       'CANADA', 'CROATIA', 'SAUDI ARABIA', 'CHILE', 'ANTIGUA', 'KENYA',\n",
       "       'RUSSIA', 'TURKS & CAICOS', 'UNITED ARAB EMIRATES (UAE)', 'AZORES',\n",
       "       'SOUTH KOREA', 'MALTA', 'VIETNAM', 'MADAGASCAR', 'PANAMA',\n",
       "       'SOMALIA', 'NEVIS', 'BRITISH VIRGIN ISLANDS', 'NORWAY', 'SENEGAL',\n",
       "       'YEMEN', 'GULF OF ADEN', 'Sierra Leone', 'ST. MAARTIN',\n",
       "       'GRAND CAYMAN', 'Seychelles', 'LIBERIA', 'VANUATU', 'MEXICO ',\n",
       "       'HONDURAS', 'VENEZUELA', 'SRI LANKA', ' TONGA', 'URUGUAY', 'INDIA',\n",
       "       'MICRONESIA', 'CARIBBEAN SEA', 'OKINAWA', 'TANZANIA',\n",
       "       'MARSHALL ISLANDS', 'EGYPT / ISRAEL', 'NORTHERN ARABIAN SEA',\n",
       "       'HONG KONG', 'EL SALVADOR', 'ANGOLA', 'BERMUDA', 'MONTENEGRO',\n",
       "       'IRAN', 'TUNISIA', 'NAMIBIA', 'NORTH ATLANTIC OCEAN', 'PORTUGAL',\n",
       "       'SOUTH CHINA SEA', 'BANGLADESH', 'PALAU', 'WESTERN SAMOA',\n",
       "       'PACIFIC OCEAN ', 'BRITISH ISLES', 'GRENADA', 'IRAQ', 'TURKEY',\n",
       "       'SINGAPORE', 'NEW BRITAIN', 'SUDAN', 'JOHNSTON ISLAND',\n",
       "       'SOUTH PACIFIC OCEAN', 'NEW GUINEA', 'RED SEA',\n",
       "       'NORTH PACIFIC OCEAN', 'FEDERATED STATES OF MICRONESIA',\n",
       "       'MID ATLANTIC OCEAN', 'ADMIRALTY ISLANDS', 'BRITISH WEST INDIES',\n",
       "       'SOUTH ATLANTIC OCEAN', 'PERSIAN GULF', 'RED SEA / INDIAN OCEAN',\n",
       "       'PACIFIC OCEAN', 'NORTH SEA', 'NICARAGUA ', 'MALDIVE ISLANDS',\n",
       "       'AMERICAN SAMOA', 'ANDAMAN / NICOBAR ISLANDAS', 'GABON', 'MAYOTTE',\n",
       "       'NORTH ATLANTIC OCEAN ', 'THE BALKANS', 'SUDAN?', 'ARGENTINA',\n",
       "       'MARTINIQUE', 'INDIAN OCEAN', 'GUATEMALA', 'NETHERLANDS ANTILLES',\n",
       "       'NORTHERN MARIANA ISLANDS', 'IRAN / IRAQ', 'JAVA', 'SIERRA LEONE',\n",
       "       ' PHILIPPINES', 'NICARAGUA', 'CENTRAL PACIFIC',\n",
       "       'SOLOMON ISLANDS / VANUATU', 'SOUTHWEST PACIFIC OCEAN',\n",
       "       'BAY OF BENGAL', 'MID-PACIFC OCEAN', 'SLOVENIA', 'CURACAO',\n",
       "       'ICELAND', 'ITALY / CROATIA', 'BARBADOS', 'MONACO', 'GUYANA',\n",
       "       'HAITI', 'SAN DOMINGO', 'IRELAND', 'KUWAIT', 'YEMEN ',\n",
       "       'REUNION ISLAND', 'FALKLAND ISLANDS', 'CRETE', 'CYPRUS', 'EGYPT ',\n",
       "       'WEST INDIES', 'BURMA', 'LEBANON', 'PARAGUAY',\n",
       "       'BRITISH NEW GUINEA', 'CEYLON', 'OCEAN', 'GEORGIA', 'SYRIA',\n",
       "       'TUVALU', 'INDIAN OCEAN?', 'GUINEA', 'ANDAMAN ISLANDS',\n",
       "       'EQUATORIAL GUINEA / CAMEROON', 'COOK ISLANDS', 'TOBAGO', 'PERU',\n",
       "       'AFRICA', 'ALGERIA', 'Coast of AFRICA', 'TASMAN SEA', 'GHANA',\n",
       "       'GREENLAND', 'MEDITERRANEAN SEA', 'SWEDEN', 'ROATAN',\n",
       "       'Between PORTUGAL & INDIA', 'DJIBOUTI', 'BAHREIN', 'KOREA',\n",
       "       'RED SEA?', 'ASIA?', 'CEYLON (SRI LANKA)'], dtype=object)"
      ]
     },
     "execution_count": 50,
     "metadata": {},
     "output_type": "execute_result"
    }
   ],
   "source": [
    "shark.country.unique()"
   ]
  },
  {
   "cell_type": "code",
   "execution_count": 51,
   "id": "647d79fd",
   "metadata": {},
   "outputs": [],
   "source": [
    "shark.country = [e.lower() for e in shark.country]"
   ]
  },
  {
   "cell_type": "code",
   "execution_count": 52,
   "id": "f6b8bd07",
   "metadata": {},
   "outputs": [
    {
     "data": {
      "text/plain": [
       "array(['usa', 'australia', 'mexico', 'brazil', 'england', 'south africa',\n",
       "       'thailand', 'costa rica', 'maldives', 'bahamas', 'new caledonia',\n",
       "       'ecuador', 'malaysia', 'libya', 'unknown', 'cuba', 'mauritius',\n",
       "       'new zealand', 'spain', 'samoa', 'solomon islands', 'japan',\n",
       "       'egypt', 'st helena, british overseas territory', 'comoros',\n",
       "       'reunion', 'french polynesia', 'united kingdom',\n",
       "       'united arab emirates', 'philippines', 'indonesia', 'china',\n",
       "       'columbia', 'cape verde', 'fiji', 'dominican republic',\n",
       "       'cayman islands', 'aruba', 'mozambique', 'puerto rico', 'italy',\n",
       "       'atlantic ocean', 'greece', 'st. martin', 'france',\n",
       "       'papua new guinea', 'trinidad & tobago', 'kiribati', 'israel',\n",
       "       'diego garcia', 'taiwan', 'jamaica', 'palestinian territories',\n",
       "       'guam', 'seychelles', 'belize', 'nigeria', 'tonga', 'scotland',\n",
       "       'canada', 'croatia', 'saudi arabia', 'chile', 'antigua', 'kenya',\n",
       "       'russia', 'turks & caicos', 'united arab emirates (uae)', 'azores',\n",
       "       'south korea', 'malta', 'vietnam', 'madagascar', 'panama',\n",
       "       'somalia', 'nevis', 'british virgin islands', 'norway', 'senegal',\n",
       "       'yemen', 'gulf of aden', 'sierra leone', 'st. maartin',\n",
       "       'grand cayman', 'liberia', 'vanuatu', 'mexico ', 'honduras',\n",
       "       'venezuela', 'sri lanka', ' tonga', 'uruguay', 'india',\n",
       "       'micronesia', 'caribbean sea', 'okinawa', 'tanzania',\n",
       "       'marshall islands', 'egypt / israel', 'northern arabian sea',\n",
       "       'hong kong', 'el salvador', 'angola', 'bermuda', 'montenegro',\n",
       "       'iran', 'tunisia', 'namibia', 'north atlantic ocean', 'portugal',\n",
       "       'south china sea', 'bangladesh', 'palau', 'western samoa',\n",
       "       'pacific ocean ', 'british isles', 'grenada', 'iraq', 'turkey',\n",
       "       'singapore', 'new britain', 'sudan', 'johnston island',\n",
       "       'south pacific ocean', 'new guinea', 'red sea',\n",
       "       'north pacific ocean', 'federated states of micronesia',\n",
       "       'mid atlantic ocean', 'admiralty islands', 'british west indies',\n",
       "       'south atlantic ocean', 'persian gulf', 'red sea / indian ocean',\n",
       "       'pacific ocean', 'north sea', 'nicaragua ', 'maldive islands',\n",
       "       'american samoa', 'andaman / nicobar islandas', 'gabon', 'mayotte',\n",
       "       'north atlantic ocean ', 'the balkans', 'sudan?', 'argentina',\n",
       "       'martinique', 'indian ocean', 'guatemala', 'netherlands antilles',\n",
       "       'northern mariana islands', 'iran / iraq', 'java', ' philippines',\n",
       "       'nicaragua', 'central pacific', 'solomon islands / vanuatu',\n",
       "       'southwest pacific ocean', 'bay of bengal', 'mid-pacifc ocean',\n",
       "       'slovenia', 'curacao', 'iceland', 'italy / croatia', 'barbados',\n",
       "       'monaco', 'guyana', 'haiti', 'san domingo', 'ireland', 'kuwait',\n",
       "       'yemen ', 'reunion island', 'falkland islands', 'crete', 'cyprus',\n",
       "       'egypt ', 'west indies', 'burma', 'lebanon', 'paraguay',\n",
       "       'british new guinea', 'ceylon', 'ocean', 'georgia', 'syria',\n",
       "       'tuvalu', 'indian ocean?', 'guinea', 'andaman islands',\n",
       "       'equatorial guinea / cameroon', 'cook islands', 'tobago', 'peru',\n",
       "       'africa', 'algeria', 'coast of africa', 'tasman sea', 'ghana',\n",
       "       'greenland', 'mediterranean sea', 'sweden', 'roatan',\n",
       "       'between portugal & india', 'djibouti', 'bahrein', 'korea',\n",
       "       'red sea?', 'asia?', 'ceylon (sri lanka)'], dtype=object)"
      ]
     },
     "execution_count": 52,
     "metadata": {},
     "output_type": "execute_result"
    }
   ],
   "source": [
    "shark.country.unique()"
   ]
  },
  {
   "cell_type": "code",
   "execution_count": 53,
   "id": "cba35f64",
   "metadata": {},
   "outputs": [
    {
     "data": {
      "text/plain": [
       "1"
      ]
     },
     "execution_count": 53,
     "metadata": {},
     "output_type": "execute_result"
    }
   ],
   "source": [
    "repetidos(shark, 'country')"
   ]
  },
  {
   "cell_type": "code",
   "execution_count": 54,
   "id": "77386447",
   "metadata": {},
   "outputs": [
    {
     "data": {
      "text/plain": [
       "country\n",
       "<class 'str'>    6302\n",
       "Name: count, dtype: int64"
      ]
     },
     "execution_count": 54,
     "metadata": {},
     "output_type": "execute_result"
    }
   ],
   "source": [
    "shark['country'].apply(type).value_counts()"
   ]
  },
  {
   "cell_type": "markdown",
   "id": "6ce0fadf",
   "metadata": {},
   "source": [
    "Los datos parecen consistentes, por lo que los voy a dejar así, en caso de necesitarlo más adelante profundizaré más."
   ]
  },
  {
   "cell_type": "markdown",
   "id": "96e5f489",
   "metadata": {},
   "source": [
    "---"
   ]
  },
  {
   "cell_type": "markdown",
   "id": "d08073c0",
   "metadata": {},
   "source": [
    "# Area"
   ]
  },
  {
   "cell_type": "code",
   "execution_count": 55,
   "id": "cdf2c084",
   "metadata": {},
   "outputs": [
    {
     "data": {
      "text/plain": [
       "0         California\n",
       "1            Georgia\n",
       "2             Hawaii\n",
       "3    New South Wales\n",
       "4             Colima\n",
       "5    New South Wales\n",
       "6         Pernambuco\n",
       "7            Florida\n",
       "8            Florida\n",
       "9            Florida\n",
       "Name: area, dtype: object"
      ]
     },
     "execution_count": 55,
     "metadata": {},
     "output_type": "execute_result"
    }
   ],
   "source": [
    "shark.area[:10]"
   ]
  },
  {
   "cell_type": "code",
   "execution_count": 56,
   "id": "262de16d",
   "metadata": {},
   "outputs": [
    {
     "data": {
      "text/plain": [
       "0              California\n",
       "1                 Georgia\n",
       "2                  Hawaii\n",
       "3         New South Wales\n",
       "4                  Colima\n",
       "              ...        \n",
       "6297    Western Australia\n",
       "6298    Western Australia\n",
       "6299       North Carolina\n",
       "6300              unknown\n",
       "6301     Eastern Province\n",
       "Name: area, Length: 6302, dtype: object"
      ]
     },
     "execution_count": 56,
     "metadata": {},
     "output_type": "execute_result"
    }
   ],
   "source": [
    "shark.area.str.strip()"
   ]
  },
  {
   "cell_type": "code",
   "execution_count": 57,
   "id": "589268c3",
   "metadata": {},
   "outputs": [
    {
     "data": {
      "text/plain": [
       "1"
      ]
     },
     "execution_count": 57,
     "metadata": {},
     "output_type": "execute_result"
    }
   ],
   "source": [
    "repetidos(shark, 'area')"
   ]
  },
  {
   "cell_type": "code",
   "execution_count": 58,
   "id": "8d89959d",
   "metadata": {},
   "outputs": [
    {
     "data": {
      "text/plain": [
       "area\n",
       "<class 'str'>    6302\n",
       "Name: count, dtype: int64"
      ]
     },
     "execution_count": 58,
     "metadata": {},
     "output_type": "execute_result"
    }
   ],
   "source": [
    "shark['area'].apply(type).value_counts()"
   ]
  },
  {
   "cell_type": "markdown",
   "id": "97294451",
   "metadata": {},
   "source": [
    "Estos datos también parecen consistentes, por lo que también los voy a dejar así y en caso de necesitarlo más adelante profundizaré más."
   ]
  },
  {
   "cell_type": "markdown",
   "id": "121aa0a0",
   "metadata": {},
   "source": [
    "---"
   ]
  },
  {
   "cell_type": "markdown",
   "id": "a44e09fd",
   "metadata": {},
   "source": [
    "# Location"
   ]
  },
  {
   "cell_type": "code",
   "execution_count": 59,
   "id": "55dcf7df",
   "metadata": {},
   "outputs": [
    {
     "data": {
      "text/plain": [
       "0                          Oceanside, San Diego County\n",
       "1                       St. Simon Island, Glynn County\n",
       "2                                         Habush, Oahu\n",
       "3                                   Arrawarra Headland\n",
       "4                                             La Ticla\n",
       "5                                   Flat Rock, Ballina\n",
       "6                                Piedade Beach, Recife\n",
       "7    Lighhouse Point Park, Ponce Inlet, Volusia County\n",
       "8                         Cocoa Beach, Brevard  County\n",
       "9                        Daytona Beach, Volusia County\n",
       "Name: location, dtype: object"
      ]
     },
     "execution_count": 59,
     "metadata": {},
     "output_type": "execute_result"
    }
   ],
   "source": [
    "shark.location[:10]"
   ]
  },
  {
   "cell_type": "code",
   "execution_count": 60,
   "id": "460f415d",
   "metadata": {},
   "outputs": [
    {
     "data": {
      "text/plain": [
       "0               Oceanside, San Diego County\n",
       "1            St. Simon Island, Glynn County\n",
       "2                              Habush, Oahu\n",
       "3                        Arrawarra Headland\n",
       "4                                  La Ticla\n",
       "                       ...                 \n",
       "6297                            Roebuck Bay\n",
       "6298                                unknown\n",
       "6299                         Ocracoke Inlet\n",
       "6300                   Panama Bay 8ºN, 79ºW\n",
       "6301    Below the English fort, Trincomalee\n",
       "Name: location, Length: 6302, dtype: object"
      ]
     },
     "execution_count": 60,
     "metadata": {},
     "output_type": "execute_result"
    }
   ],
   "source": [
    "shark.location.str.strip()"
   ]
  },
  {
   "cell_type": "code",
   "execution_count": 61,
   "id": "0006b8f6",
   "metadata": {},
   "outputs": [
    {
     "data": {
      "text/plain": [
       "array(['Oceanside, San Diego County', 'St. Simon Island, Glynn County',\n",
       "       'Habush, Oahu', ..., 'Ocracoke Inlet', 'Panama Bay 8ºN, 79ºW',\n",
       "       'Below the English fort, Trincomalee'], dtype=object)"
      ]
     },
     "execution_count": 61,
     "metadata": {},
     "output_type": "execute_result"
    }
   ],
   "source": [
    "shark.location.unique()"
   ]
  },
  {
   "cell_type": "code",
   "execution_count": 62,
   "id": "6fb68800",
   "metadata": {},
   "outputs": [
    {
     "data": {
      "text/plain": [
       "1"
      ]
     },
     "execution_count": 62,
     "metadata": {},
     "output_type": "execute_result"
    }
   ],
   "source": [
    "repetidos(shark, 'location')"
   ]
  },
  {
   "cell_type": "code",
   "execution_count": 63,
   "id": "047d8a31",
   "metadata": {},
   "outputs": [
    {
     "data": {
      "text/plain": [
       "location\n",
       "<class 'str'>    6302\n",
       "Name: count, dtype: int64"
      ]
     },
     "execution_count": 63,
     "metadata": {},
     "output_type": "execute_result"
    }
   ],
   "source": [
    "shark['location'].apply(type).value_counts()"
   ]
  },
  {
   "cell_type": "markdown",
   "id": "6be78343",
   "metadata": {},
   "source": [
    "---"
   ]
  },
  {
   "cell_type": "markdown",
   "id": "d15699a8",
   "metadata": {},
   "source": [
    "# Activity"
   ]
  },
  {
   "cell_type": "code",
   "execution_count": 64,
   "id": "d5890e17",
   "metadata": {},
   "outputs": [
    {
     "data": {
      "text/plain": [
       "activity\n",
       "Surfing                                   971\n",
       "Swimming                                  869\n",
       "unknown                                   544\n",
       "Fishing                                   431\n",
       "Spearfishing                              333\n",
       "                                         ... \n",
       "Playing with a frisbee in the shallows      1\n",
       "Sinking of the ferryboat Dumaguete          1\n",
       "Wreck of the Storm King                     1\n",
       "Feeding mullet to sharks                    1\n",
       "Wreck of  large double sailing canoe        1\n",
       "Name: count, Length: 1533, dtype: int64"
      ]
     },
     "execution_count": 64,
     "metadata": {},
     "output_type": "execute_result"
    }
   ],
   "source": [
    "shark.activity.value_counts()"
   ]
  },
  {
   "cell_type": "code",
   "execution_count": 65,
   "id": "a8cde43a",
   "metadata": {},
   "outputs": [
    {
     "data": {
      "text/plain": [
       "0           Paddling\n",
       "1           Standing\n",
       "2            Surfing\n",
       "3            Surfing\n",
       "4        Free diving\n",
       "            ...     \n",
       "6297          Diving\n",
       "6298    Pearl diving\n",
       "6299        Swimming\n",
       "6300         unknown\n",
       "6301        Swimming\n",
       "Name: activity, Length: 6302, dtype: object"
      ]
     },
     "execution_count": 65,
     "metadata": {},
     "output_type": "execute_result"
    }
   ],
   "source": [
    "shark.activity.str.strip()"
   ]
  },
  {
   "cell_type": "code",
   "execution_count": 66,
   "id": "47d8c688",
   "metadata": {},
   "outputs": [
    {
     "data": {
      "text/plain": [
       "array(['Paddling', 'Standing', 'Surfing', ...,\n",
       "       'Crew swimming alongside their anchored ship',\n",
       "       '4 men were bathing', 'Wreck of  large double sailing canoe'],\n",
       "      dtype=object)"
      ]
     },
     "execution_count": 66,
     "metadata": {},
     "output_type": "execute_result"
    }
   ],
   "source": [
    "shark.activity.unique()"
   ]
  },
  {
   "cell_type": "code",
   "execution_count": 67,
   "id": "70b4a646",
   "metadata": {},
   "outputs": [
    {
     "data": {
      "text/plain": [
       "1"
      ]
     },
     "execution_count": 67,
     "metadata": {},
     "output_type": "execute_result"
    }
   ],
   "source": [
    "repetidos(shark, 'activity')  # Revisa la cantidad de tipos de datos diferentes que hay"
   ]
  },
  {
   "cell_type": "code",
   "execution_count": 68,
   "id": "3a1a0f7c",
   "metadata": {},
   "outputs": [
    {
     "data": {
      "text/plain": [
       "activity\n",
       "<class 'str'>    6302\n",
       "Name: count, dtype: int64"
      ]
     },
     "execution_count": 68,
     "metadata": {},
     "output_type": "execute_result"
    }
   ],
   "source": [
    "shark['activity'].apply(type).value_counts()"
   ]
  },
  {
   "cell_type": "markdown",
   "id": "ae1b5054",
   "metadata": {},
   "source": [
    "---"
   ]
  },
  {
   "cell_type": "markdown",
   "id": "406f2c7e",
   "metadata": {},
   "source": [
    "# Sex"
   ]
  },
  {
   "cell_type": "code",
   "execution_count": 69,
   "id": "c47039cf",
   "metadata": {},
   "outputs": [
    {
     "data": {
      "text/plain": [
       "0    F\n",
       "1    F\n",
       "2    M\n",
       "3    M\n",
       "4    M\n",
       "5    M\n",
       "6    M\n",
       "7    M\n",
       "8    M\n",
       "9    M\n",
       "Name: sex, dtype: object"
      ]
     },
     "execution_count": 69,
     "metadata": {},
     "output_type": "execute_result"
    }
   ],
   "source": [
    "shark.sex[:10]"
   ]
  },
  {
   "cell_type": "code",
   "execution_count": 70,
   "id": "2078f857",
   "metadata": {},
   "outputs": [
    {
     "data": {
      "text/plain": [
       "0       F\n",
       "1       F\n",
       "2       M\n",
       "3       M\n",
       "4       M\n",
       "       ..\n",
       "6297    M\n",
       "6298    M\n",
       "6299    M\n",
       "6300    M\n",
       "6301    M\n",
       "Name: sex, Length: 6302, dtype: object"
      ]
     },
     "execution_count": 70,
     "metadata": {},
     "output_type": "execute_result"
    }
   ],
   "source": [
    "shark.sex.str.strip()"
   ]
  },
  {
   "cell_type": "code",
   "execution_count": 71,
   "id": "5a2cba62",
   "metadata": {},
   "outputs": [
    {
     "data": {
      "text/plain": [
       "array(['F', 'M', 'u', 'M ', 'lli', 'N', '.'], dtype=object)"
      ]
     },
     "execution_count": 71,
     "metadata": {},
     "output_type": "execute_result"
    }
   ],
   "source": [
    "shark.sex.unique()"
   ]
  },
  {
   "cell_type": "code",
   "execution_count": 72,
   "id": "dcf6ac5e",
   "metadata": {},
   "outputs": [
    {
     "data": {
      "text/plain": [
       "sex\n",
       "M      5094\n",
       "F       637\n",
       "u       565\n",
       "M         2\n",
       "N         2\n",
       "lli       1\n",
       ".         1\n",
       "Name: count, dtype: int64"
      ]
     },
     "execution_count": 72,
     "metadata": {},
     "output_type": "execute_result"
    }
   ],
   "source": [
    "shark.sex.value_counts()"
   ]
  },
  {
   "cell_type": "code",
   "execution_count": 73,
   "id": "ec67d231",
   "metadata": {},
   "outputs": [],
   "source": [
    "shark.loc[shark['sex'] == '.', 'sex'] = 'u'\n",
    "shark.loc[shark['sex'] == 'lli', 'sex'] = 'u'\n",
    "shark.loc[shark['sex'] == 'N', 'sex'] = 'u'"
   ]
  },
  {
   "cell_type": "code",
   "execution_count": 74,
   "id": "a62dc4b9",
   "metadata": {},
   "outputs": [
    {
     "data": {
      "text/plain": [
       "['F', 'M', 'u', 'M ']"
      ]
     },
     "execution_count": 74,
     "metadata": {},
     "output_type": "execute_result"
    }
   ],
   "source": [
    "shark['sex'].unique().tolist()"
   ]
  },
  {
   "cell_type": "code",
   "execution_count": 75,
   "id": "8d28f984",
   "metadata": {},
   "outputs": [],
   "source": [
    "shark.loc[shark['sex'] == 'M ', 'sex'] = 'M'"
   ]
  },
  {
   "cell_type": "code",
   "execution_count": 76,
   "id": "5c5eb887",
   "metadata": {},
   "outputs": [
    {
     "data": {
      "text/plain": [
       "sex\n",
       "M    5096\n",
       "F     637\n",
       "u     569\n",
       "Name: count, dtype: int64"
      ]
     },
     "execution_count": 76,
     "metadata": {},
     "output_type": "execute_result"
    }
   ],
   "source": [
    "shark.sex.value_counts()"
   ]
  },
  {
   "cell_type": "code",
   "execution_count": 77,
   "id": "90ee4451",
   "metadata": {},
   "outputs": [
    {
     "data": {
      "text/plain": [
       "1"
      ]
     },
     "execution_count": 77,
     "metadata": {},
     "output_type": "execute_result"
    }
   ],
   "source": [
    "repetidos(shark, 'sex')"
   ]
  },
  {
   "cell_type": "code",
   "execution_count": 78,
   "id": "9e3dbd0b",
   "metadata": {},
   "outputs": [
    {
     "data": {
      "text/plain": [
       "sex\n",
       "<class 'str'>    6302\n",
       "Name: count, dtype: int64"
      ]
     },
     "execution_count": 78,
     "metadata": {},
     "output_type": "execute_result"
    }
   ],
   "source": [
    "shark['sex'].apply(type).value_counts()"
   ]
  },
  {
   "cell_type": "markdown",
   "id": "8eeb24a4",
   "metadata": {},
   "source": [
    "---"
   ]
  },
  {
   "cell_type": "markdown",
   "id": "c3c195bd",
   "metadata": {},
   "source": [
    "# Age"
   ]
  },
  {
   "cell_type": "code",
   "execution_count": 79,
   "id": "d68ad09a",
   "metadata": {},
   "outputs": [
    {
     "data": {
      "text/plain": [
       "0    57\n",
       "1    11\n",
       "2    48\n",
       "3    -1\n",
       "4    -1\n",
       "5    -1\n",
       "6    18\n",
       "7    52\n",
       "8    15\n",
       "9    12\n",
       "Name: age, dtype: object"
      ]
     },
     "execution_count": 79,
     "metadata": {},
     "output_type": "execute_result"
    }
   ],
   "source": [
    "shark.age[:10]"
   ]
  },
  {
   "cell_type": "code",
   "execution_count": 81,
   "id": "5e96330b",
   "metadata": {},
   "outputs": [
    {
     "data": {
      "text/plain": [
       "array(['57', '11', '48', '-1', '18', '52', '15', '12', '32', '10', '21',\n",
       "       '34', '30', '60', '33', '29', '54', '41', '37', '56', '19', '25',\n",
       "       '69', '38', '55', '35', '46', '45', '14', '40s', '28', '20', '24',\n",
       "       '26', '49', '22', '7', '31', '17', '40', '13', '42', '3', '8',\n",
       "       '50', '16', '82', '73', '20s', '68', '51', '39', '58', 'Teen',\n",
       "       '47', '61', '65', '36', '66', '43', '60s', '9', '72', '59', '6',\n",
       "       '27', '64', '23', '71', '44', '62', '63', '70', '18months', '53',\n",
       "       '30s', '50s', 'teen', '77', '74', '28&26', '5', '86', '18or20',\n",
       "       '12or13', '46&34', '28,23&30', 'Teens', '36&26', '8or10', '84',\n",
       "       '\\xa0', nan, '30or36', '6½', '21&?', '75', '33or37', 'mid-30s',\n",
       "       '23&20', '7&31', '20?', \"60's\", '32&30', '16to18', '87', '67',\n",
       "       'Elderly', 'mid-20s', 'Ca.33', '21or26', '>50', '18to22', 'adult',\n",
       "       '9&12', '?&19', '9months', '25to35', '23&26', '1', '(adult)',\n",
       "       '33&37', '25or28', '37,67,35,27,?&27', '21,34,24&35', '30&32',\n",
       "       '50&30', '17&35', 'X', '\"middle-age\"', '13or18', '34&19', '33&26',\n",
       "       '2to3months', 'MAKELINEGREEN', '81', '\"young\"', '7or8', '78',\n",
       "       '17&16', 'F', 'Both11', '9or10', 'young', '36&23', 'A.M.', '?&14',\n",
       "       '10or12', '31or33', '2½', '13or14'], dtype=object)"
      ]
     },
     "execution_count": 81,
     "metadata": {},
     "output_type": "execute_result"
    }
   ],
   "source": [
    "shark.age.unique()"
   ]
  },
  {
   "cell_type": "code",
   "execution_count": 82,
   "id": "ab2bec29",
   "metadata": {},
   "outputs": [
    {
     "data": {
      "text/plain": [
       "array(['57', '11', '48', '-1', '18', '52', '15', '12', '32', '10', '21',\n",
       "       '34', '30', '60', '33', '29', '54', '41', '37', '56', '19', '25',\n",
       "       '69', '38', '55', '35', '46', '45', '14', '40', '28', '20', '24',\n",
       "       '26', '49', '22', '7', '31', '17', '13', '42', '3', '8', '50',\n",
       "       '16', '82', '73', '68', '51', '39', '58', 'Teen', '47', '61', '65',\n",
       "       '36', '66', '43', '9', '72', '59', '6', '27', '64', '23', '71',\n",
       "       '44', '62', '63', '70', '53', 'teen', '77', '74', '5', '86',\n",
       "       'Teens', '84', '\\xa0', nan, '6½', '75', '87', '67', 'Elderly',\n",
       "       'adult', '9months', '1', '(adult)', 'X', '\"middle-age\"',\n",
       "       '2to3months', 'MAKELINEGREEN', '81', '\"young\"', '7or8', '78', 'F',\n",
       "       'young', 'A.M.', '2½'], dtype=object)"
      ]
     },
     "execution_count": 82,
     "metadata": {},
     "output_type": "execute_result"
    }
   ],
   "source": [
    "dos_num_seguidos(shark, 'age')"
   ]
  },
  {
   "cell_type": "code",
   "execution_count": 83,
   "id": "715a1cd2",
   "metadata": {},
   "outputs": [
    {
     "data": {
      "text/plain": [
       "0       57\n",
       "1       11\n",
       "2       48\n",
       "3       -1\n",
       "4       -1\n",
       "        ..\n",
       "6297    -1\n",
       "6298    -1\n",
       "6299    -1\n",
       "6300    -1\n",
       "6301    15\n",
       "Name: age, Length: 6302, dtype: object"
      ]
     },
     "execution_count": 83,
     "metadata": {},
     "output_type": "execute_result"
    }
   ],
   "source": [
    "shark.age.str.strip()"
   ]
  },
  {
   "cell_type": "code",
   "execution_count": 84,
   "id": "79edd909",
   "metadata": {},
   "outputs": [
    {
     "data": {
      "text/plain": [
       "[nan,\n",
       " '(adult)',\n",
       " '2to3months',\n",
       " 'X',\n",
       " 'Teen',\n",
       " 'Teens',\n",
       " 'MAKELINEGREEN',\n",
       " 'Elderly',\n",
       " '2½',\n",
       " '6½',\n",
       " 'F',\n",
       " '\\xa0',\n",
       " '7or8',\n",
       " '\"young\"',\n",
       " 'A.M.',\n",
       " 'teen',\n",
       " 'adult',\n",
       " 'young',\n",
       " '\"middle-age\"',\n",
       " '9months']"
      ]
     },
     "execution_count": 84,
     "metadata": {},
     "output_type": "execute_result"
    }
   ],
   "source": [
    "faltan = []\n",
    "años = [str(i) for i in range(-1, 100)]\n",
    "for valor in shark['age']:\n",
    "    if valor not in años:\n",
    "        faltan.append(valor)\n",
    "faltan_unicos = list(set(faltan))\n",
    "faltan_unicos"
   ]
  },
  {
   "cell_type": "code",
   "execution_count": 85,
   "id": "7dd398d5",
   "metadata": {},
   "outputs": [
    {
     "data": {
      "text/plain": [
       "20"
      ]
     },
     "execution_count": 85,
     "metadata": {},
     "output_type": "execute_result"
    }
   ],
   "source": [
    "len(faltan_unicos)"
   ]
  },
  {
   "cell_type": "markdown",
   "id": "41525a2c",
   "metadata": {},
   "source": [
    "Como no son muchos elementos voy a dividrlos en 4 grupos:\n",
    "1.- Meses: 1\n",
    "2.- Jovenes: 13\n",
    "3.- adultos: 30\n",
    "4.- anciano: 80"
   ]
  },
  {
   "cell_type": "code",
   "execution_count": 86,
   "id": "381c843d",
   "metadata": {},
   "outputs": [],
   "source": [
    "meses = ['2to3months', '9months']\n",
    "joven = ['young', 'teen', 'Teen', '\"young\"']\n",
    "adulto = ['adult', '\"middle-age\"', '(adult)']\n",
    "anciano = ['MAKELINEGREEN', 'Elderly']\n"
   ]
  },
  {
   "cell_type": "code",
   "execution_count": 87,
   "id": "7f1b700b",
   "metadata": {},
   "outputs": [
    {
     "data": {
      "text/plain": [
       "array(['57', '11', '48', '-1', '18', '52', '15', '12', '32', '10', '21',\n",
       "       '34', '30', '60', '33', '29', '54', '41', '37', '56', '19', '25',\n",
       "       '69', '38', '55', '35', '46', '45', '14', '40', '28', '20', '24',\n",
       "       '26', '49', '22', '7', '31', '17', '13', '42', '3', '8', '50',\n",
       "       '16', '82', '73', '68', '51', '39', '58', 13, '47', '61', '65',\n",
       "       '36', '66', '43', '9', '72', '59', '6', '27', '64', '23', '71',\n",
       "       '44', '62', '63', '70', '53', '77', '74', '5', '86', 'Teens', '84',\n",
       "       '\\xa0', nan, '6½', '75', '87', '67', 80, 30, 1, '1', 'X', '81',\n",
       "       '7or8', '78', 'F', 'A.M.', '2½'], dtype=object)"
      ]
     },
     "execution_count": 87,
     "metadata": {},
     "output_type": "execute_result"
    }
   ],
   "source": [
    "for i, valor in enumerate(shark['age']):\n",
    "    if valor in meses:\n",
    "        shark.at[i, 'age'] = 1\n",
    "    elif valor in joven:\n",
    "        shark.at[i, 'age'] = 13\n",
    "    elif valor in adulto:\n",
    "        shark.at[i, 'age'] = 30\n",
    "    elif valor in anciano:\n",
    "        shark.at[i, 'age'] = 80\n",
    "\n",
    "shark.age.unique()"
   ]
  },
  {
   "cell_type": "code",
   "execution_count": 88,
   "id": "3a97d50c",
   "metadata": {},
   "outputs": [
    {
     "data": {
      "text/plain": [
       "[1, '7or8', nan, 'X', 13, 80, 'A.M.', 'Teens', '2½', '\\xa0', '6½', 30, 'F']"
      ]
     },
     "execution_count": 88,
     "metadata": {},
     "output_type": "execute_result"
    }
   ],
   "source": [
    "faltan = []\n",
    "años = [str(i) for i in range(-1, 100)]\n",
    "for valor in shark['age']:\n",
    "    if valor not in años:\n",
    "        faltan.append(valor)\n",
    "faltan_unicos = list(set(faltan))\n",
    "faltan_unicos"
   ]
  },
  {
   "cell_type": "code",
   "execution_count": 89,
   "id": "d714bdf9",
   "metadata": {},
   "outputs": [
    {
     "data": {
      "text/plain": [
       "[80, 1, 13, 30]"
      ]
     },
     "execution_count": 89,
     "metadata": {},
     "output_type": "execute_result"
    }
   ],
   "source": [
    "shark.loc[shark['age'] == 'X', 'age'] = '0'\n",
    "shark.loc[shark['age'] == '6½', 'age'] = '6'\n",
    "shark.loc[shark['age'] == 'F', 'age'] = '0'\n",
    "shark.loc[shark['age'] == '7or8', 'age'] = '7'\n",
    "shark.loc[shark['age'] == 'A.M.', 'age'] = '0'\n",
    "shark.loc[shark['age'] == '\\xa0', 'age'] = '0'\n",
    "shark.loc[shark['age'] == 'Teens', 'age'] = '13'\n",
    "shark.loc[shark['age'] == '2½', 'age'] = '2'\n",
    "\n",
    "shark['age'].fillna('0', inplace=True)\n",
    "\n",
    "faltan = []\n",
    "años = [str(i) for i in range(-1, 100)]\n",
    "for valor in shark['age']:\n",
    "    if valor not in años:\n",
    "        faltan.append(valor)\n",
    "faltan_unicos = list(set(faltan))\n",
    "faltan_unicos"
   ]
  },
  {
   "cell_type": "code",
   "execution_count": 90,
   "id": "831eb115",
   "metadata": {},
   "outputs": [
    {
     "name": "stdout",
     "output_type": "stream",
     "text": [
      "80 <class 'int'>\n",
      "1 <class 'int'>\n",
      "13 <class 'int'>\n",
      "30 <class 'int'>\n"
     ]
    }
   ],
   "source": [
    "for valor in faltan_unicos:\n",
    "    print(valor, type(valor))"
   ]
  },
  {
   "cell_type": "code",
   "execution_count": 91,
   "id": "75eead84",
   "metadata": {},
   "outputs": [
    {
     "data": {
      "text/plain": [
       "array(['57', '11', '48', '-1', '18', '52', '15', '12', '32', '10', '21',\n",
       "       '34', '30', '60', '33', '29', '54', '41', '37', '56', '19', '25',\n",
       "       '69', '38', '55', '35', '46', '45', '14', '40', '28', '20', '24',\n",
       "       '26', '49', '22', '7', '31', '17', '13', '42', '3', '8', '50',\n",
       "       '16', '82', '73', '68', '51', '39', '58', 13, '47', '61', '65',\n",
       "       '36', '66', '43', '9', '72', '59', '6', '27', '64', '23', '71',\n",
       "       '44', '62', '63', '70', '53', '77', '74', '5', '86', '84', '0',\n",
       "       '75', '87', '67', 80, 30, 1, '1', '81', '78', '2'], dtype=object)"
      ]
     },
     "execution_count": 91,
     "metadata": {},
     "output_type": "execute_result"
    }
   ],
   "source": [
    "shark.age.unique()"
   ]
  },
  {
   "cell_type": "code",
   "execution_count": 92,
   "id": "be643361",
   "metadata": {},
   "outputs": [],
   "source": [
    "shark['age'] = shark['age'].astype('int16')"
   ]
  },
  {
   "cell_type": "code",
   "execution_count": 93,
   "id": "87db8a16",
   "metadata": {},
   "outputs": [
    {
     "data": {
      "text/plain": [
       "1"
      ]
     },
     "execution_count": 93,
     "metadata": {},
     "output_type": "execute_result"
    }
   ],
   "source": [
    "repetidos(shark, 'age')"
   ]
  },
  {
   "cell_type": "code",
   "execution_count": 94,
   "id": "6e4d2ffc",
   "metadata": {},
   "outputs": [
    {
     "data": {
      "text/plain": [
       "age\n",
       "<class 'int'>    6302\n",
       "Name: count, dtype: int64"
      ]
     },
     "execution_count": 94,
     "metadata": {},
     "output_type": "execute_result"
    }
   ],
   "source": [
    "shark['age'].apply(type).value_counts()"
   ]
  },
  {
   "cell_type": "markdown",
   "id": "016c2e85",
   "metadata": {},
   "source": [
    "---"
   ]
  },
  {
   "cell_type": "markdown",
   "id": "8efe300f",
   "metadata": {},
   "source": [
    "# Injury"
   ]
  },
  {
   "cell_type": "code",
   "execution_count": 95,
   "id": "356040f2",
   "metadata": {},
   "outputs": [
    {
     "data": {
      "text/plain": [
       "0    No injury to occupant, outrigger canoe and pad...\n",
       "1                           Minor injury to left thigh\n",
       "2         Injury to left lower leg from surfboard skeg\n",
       "3                            Minor injury to lower leg\n",
       "4    Lacerations to leg & hand shark PROVOKED INCIDENT\n",
       "5                              No injury, board bitten\n",
       "6                                                FATAL\n",
       "7              Minor injury to foot. PROVOKED INCIDENT\n",
       "8                                Lower left leg bitten\n",
       "9                                 Minor injury to foot\n",
       "Name: injury, dtype: object"
      ]
     },
     "execution_count": 95,
     "metadata": {},
     "output_type": "execute_result"
    }
   ],
   "source": [
    "shark.injury[:10]"
   ]
  },
  {
   "cell_type": "code",
   "execution_count": 96,
   "id": "114ee759",
   "metadata": {},
   "outputs": [
    {
     "data": {
      "text/plain": [
       "0       No injury to occupant, outrigger canoe and pad...\n",
       "1                              Minor injury to left thigh\n",
       "2            Injury to left lower leg from surfboard skeg\n",
       "3                               Minor injury to lower leg\n",
       "4       Lacerations to leg & hand shark PROVOKED INCIDENT\n",
       "                              ...                        \n",
       "6297                                                FATAL\n",
       "6298                                                FATAL\n",
       "6299                                                FATAL\n",
       "6300                                                FATAL\n",
       "6301    FATAL. \"Shark bit him in half, carrying away t...\n",
       "Name: injury, Length: 6302, dtype: object"
      ]
     },
     "execution_count": 96,
     "metadata": {},
     "output_type": "execute_result"
    }
   ],
   "source": [
    "shark.injury.str.strip()"
   ]
  },
  {
   "cell_type": "code",
   "execution_count": 97,
   "id": "882f8ac2",
   "metadata": {},
   "outputs": [
    {
     "data": {
      "text/plain": [
       "1"
      ]
     },
     "execution_count": 97,
     "metadata": {},
     "output_type": "execute_result"
    }
   ],
   "source": [
    "repetidos(shark, 'injury')"
   ]
  },
  {
   "cell_type": "code",
   "execution_count": 98,
   "id": "5f6c08fa",
   "metadata": {},
   "outputs": [
    {
     "data": {
      "text/plain": [
       "3737"
      ]
     },
     "execution_count": 98,
     "metadata": {},
     "output_type": "execute_result"
    }
   ],
   "source": [
    "shark.injury.nunique()"
   ]
  },
  {
   "cell_type": "code",
   "execution_count": 99,
   "id": "79885edc",
   "metadata": {},
   "outputs": [
    {
     "data": {
      "text/plain": [
       "injury\n",
       "<class 'str'>    6302\n",
       "Name: count, dtype: int64"
      ]
     },
     "execution_count": 99,
     "metadata": {},
     "output_type": "execute_result"
    }
   ],
   "source": [
    "shark['injury'].apply(type).value_counts()"
   ]
  },
  {
   "cell_type": "markdown",
   "id": "fa90e458",
   "metadata": {},
   "source": [
    "Al ser datos str que indican el nivel de daños causados por el ataque no voy a trabajar más con ellos por el momento, más adelante revisaré a ver si puedo obtener más información."
   ]
  },
  {
   "cell_type": "markdown",
   "id": "77d82c3e",
   "metadata": {},
   "source": [
    "---"
   ]
  },
  {
   "cell_type": "markdown",
   "id": "9063a828",
   "metadata": {},
   "source": [
    "# Fatal"
   ]
  },
  {
   "cell_type": "code",
   "execution_count": 100,
   "id": "2fdca1e5",
   "metadata": {},
   "outputs": [
    {
     "data": {
      "text/plain": [
       "0    N\n",
       "1    N\n",
       "2    N\n",
       "3    N\n",
       "4    N\n",
       "5    N\n",
       "6    Y\n",
       "7    N\n",
       "8    N\n",
       "9    N\n",
       "Name: fatal, dtype: object"
      ]
     },
     "execution_count": 100,
     "metadata": {},
     "output_type": "execute_result"
    }
   ],
   "source": [
    "shark.fatal[:10]"
   ]
  },
  {
   "cell_type": "code",
   "execution_count": 101,
   "id": "53654e2e",
   "metadata": {},
   "outputs": [
    {
     "data": {
      "text/plain": [
       "0       N\n",
       "1       N\n",
       "2       N\n",
       "3       N\n",
       "4       N\n",
       "       ..\n",
       "6297    Y\n",
       "6298    Y\n",
       "6299    Y\n",
       "6300    Y\n",
       "6301    Y\n",
       "Name: fatal, Length: 6302, dtype: object"
      ]
     },
     "execution_count": 101,
     "metadata": {},
     "output_type": "execute_result"
    }
   ],
   "source": [
    "shark.fatal.str.strip()"
   ]
  },
  {
   "cell_type": "code",
   "execution_count": 102,
   "id": "4a7e184c",
   "metadata": {},
   "outputs": [
    {
     "data": {
      "text/plain": [
       "array(['N', 'Y', 'U', 'M', 'UNKNOWN', '2017', ' N', 'N ', 'y'],\n",
       "      dtype=object)"
      ]
     },
     "execution_count": 102,
     "metadata": {},
     "output_type": "execute_result"
    }
   ],
   "source": [
    "shark.fatal.unique()"
   ]
  },
  {
   "cell_type": "code",
   "execution_count": 103,
   "id": "238a6c4d",
   "metadata": {},
   "outputs": [
    {
     "data": {
      "text/html": [
       "<div>\n",
       "<style scoped>\n",
       "    .dataframe tbody tr th:only-of-type {\n",
       "        vertical-align: middle;\n",
       "    }\n",
       "\n",
       "    .dataframe tbody tr th {\n",
       "        vertical-align: top;\n",
       "    }\n",
       "\n",
       "    .dataframe thead th {\n",
       "        text-align: right;\n",
       "    }\n",
       "</style>\n",
       "<table border=\"1\" class=\"dataframe\">\n",
       "  <thead>\n",
       "    <tr style=\"text-align: right;\">\n",
       "      <th></th>\n",
       "      <th>year</th>\n",
       "    </tr>\n",
       "  </thead>\n",
       "  <tbody>\n",
       "    <tr>\n",
       "      <th>786</th>\n",
       "      <td>2012</td>\n",
       "    </tr>\n",
       "  </tbody>\n",
       "</table>\n",
       "</div>"
      ],
      "text/plain": [
       "     year\n",
       "786  2012"
      ]
     },
     "execution_count": 103,
     "metadata": {},
     "output_type": "execute_result"
    }
   ],
   "source": [
    "shark.loc[shark['fatal'] == '2017', ['year']]"
   ]
  },
  {
   "cell_type": "markdown",
   "id": "75feb411",
   "metadata": {},
   "source": [
    "En este caso entiendo que le causó la muerte las heridas sufridas por el ataque de 2012 en el año 2017"
   ]
  },
  {
   "cell_type": "code",
   "execution_count": 104,
   "id": "ea490868",
   "metadata": {},
   "outputs": [
    {
     "data": {
      "text/html": [
       "<div>\n",
       "<style scoped>\n",
       "    .dataframe tbody tr th:only-of-type {\n",
       "        vertical-align: middle;\n",
       "    }\n",
       "\n",
       "    .dataframe tbody tr th {\n",
       "        vertical-align: top;\n",
       "    }\n",
       "\n",
       "    .dataframe thead th {\n",
       "        text-align: right;\n",
       "    }\n",
       "</style>\n",
       "<table border=\"1\" class=\"dataframe\">\n",
       "  <thead>\n",
       "    <tr style=\"text-align: right;\">\n",
       "      <th></th>\n",
       "      <th>sex</th>\n",
       "    </tr>\n",
       "  </thead>\n",
       "  <tbody>\n",
       "    <tr>\n",
       "      <th>285</th>\n",
       "      <td>M</td>\n",
       "    </tr>\n",
       "  </tbody>\n",
       "</table>\n",
       "</div>"
      ],
      "text/plain": [
       "    sex\n",
       "285   M"
      ]
     },
     "execution_count": 104,
     "metadata": {},
     "output_type": "execute_result"
    }
   ],
   "source": [
    "shark.loc[shark['fatal'] == 'M', ['sex']]"
   ]
  },
  {
   "cell_type": "code",
   "execution_count": 105,
   "id": "a6283105",
   "metadata": {},
   "outputs": [],
   "source": [
    "reemplazos = {'M': 'U', 'UNKNOWN': 'U', '2017': 'Y', ' N': 'N', 'N ': 'N', 'y': 'Y'}\n",
    "shark['fatal'] = shark['fatal'].replace(reemplazos)"
   ]
  },
  {
   "cell_type": "code",
   "execution_count": 106,
   "id": "994f13f6",
   "metadata": {},
   "outputs": [
    {
     "data": {
      "text/plain": [
       "array(['N', 'Y', 'U'], dtype=object)"
      ]
     },
     "execution_count": 106,
     "metadata": {},
     "output_type": "execute_result"
    }
   ],
   "source": [
    "shark.fatal.unique()"
   ]
  },
  {
   "cell_type": "code",
   "execution_count": 107,
   "id": "4c3d3094",
   "metadata": {},
   "outputs": [
    {
     "data": {
      "text/plain": [
       "fatal\n",
       "<class 'str'>    6302\n",
       "Name: count, dtype: int64"
      ]
     },
     "execution_count": 107,
     "metadata": {},
     "output_type": "execute_result"
    }
   ],
   "source": [
    "shark['fatal'].apply(type).value_counts()"
   ]
  },
  {
   "cell_type": "markdown",
   "id": "8460b8ae",
   "metadata": {},
   "source": [
    "---"
   ]
  },
  {
   "cell_type": "markdown",
   "id": "d059e0ef",
   "metadata": {},
   "source": [
    "# Investigator"
   ]
  },
  {
   "cell_type": "code",
   "execution_count": 108,
   "id": "29316124",
   "metadata": {},
   "outputs": [
    {
     "data": {
      "text/plain": [
       "0                    R. Collier, GSAF\n",
       "1      K.McMurray, TrackingSharks.com\n",
       "2      K.McMurray, TrackingSharks.com\n",
       "3                      B. Myatt, GSAF\n",
       "4                           A .Kipper\n",
       "5           Daily Telegraph, 6/4/2018\n",
       "6      Diario de Pernambuco, 6/4/2018\n",
       "7     K. McMurray, TrackingSharks.com\n",
       "8      K.McMurray, TrackingSharks.com\n",
       "9    K. McMurray, Tracking Sharks.com\n",
       "Name: investigator, dtype: object"
      ]
     },
     "execution_count": 108,
     "metadata": {},
     "output_type": "execute_result"
    }
   ],
   "source": [
    "shark.investigator[:10]"
   ]
  },
  {
   "cell_type": "code",
   "execution_count": 109,
   "id": "cdc1eeaa",
   "metadata": {},
   "outputs": [
    {
     "data": {
      "text/plain": [
       "0                            R. Collier, GSAF\n",
       "1              K.McMurray, TrackingSharks.com\n",
       "2              K.McMurray, TrackingSharks.com\n",
       "3                              B. Myatt, GSAF\n",
       "4                                   A .Kipper\n",
       "                        ...                  \n",
       "6297         H. Taunton; N. Bartlett,  p. 234\n",
       "6298    H. Taunton; N. Bartlett,  pp. 233-234\n",
       "6299     F. Schwartz, p.23; C. Creswell, GSAF\n",
       "6300                      The Sun, 10/20/1938\n",
       "6301                               S.W. Baker\n",
       "Name: investigator, Length: 6302, dtype: object"
      ]
     },
     "execution_count": 109,
     "metadata": {},
     "output_type": "execute_result"
    }
   ],
   "source": [
    "shark.investigator.str.strip()"
   ]
  },
  {
   "cell_type": "code",
   "execution_count": 110,
   "id": "eac24b03",
   "metadata": {},
   "outputs": [
    {
     "data": {
      "text/plain": [
       "investigator\n",
       "C. Moore, GSAF                                                    105\n",
       "C. Creswell, GSAF                                                  92\n",
       "S. Petersohn, GSAF                                                 82\n",
       "R. Collier                                                         55\n",
       "T. Peake, GSAF                                                     48\n",
       "                                                                 ... \n",
       "Deseret News, 2/19/1996; European Stars and Stripes, 2/20/1996      1\n",
       "Daily Telegraph, 2/29/1996, p.5; H. Edwards, pp.31-32               1\n",
       "J. Royle, et. al. (1997)                                            1\n",
       "Advertiser, 3/6/1996, p.9; Daily Mail (London), 3/9/1996            1\n",
       "S.W. Baker                                                          1\n",
       "Name: count, Length: 4970, dtype: int64"
      ]
     },
     "execution_count": 110,
     "metadata": {},
     "output_type": "execute_result"
    }
   ],
   "source": [
    "shark.investigator.value_counts()"
   ]
  },
  {
   "cell_type": "code",
   "execution_count": 111,
   "id": "5d8a3bba",
   "metadata": {},
   "outputs": [
    {
     "data": {
      "text/plain": [
       "investigator\n",
       "<class 'str'>    6302\n",
       "Name: count, dtype: int64"
      ]
     },
     "execution_count": 111,
     "metadata": {},
     "output_type": "execute_result"
    }
   ],
   "source": [
    "shark['investigator'].apply(type).value_counts()"
   ]
  },
  {
   "cell_type": "markdown",
   "id": "364569c9",
   "metadata": {},
   "source": [
    "Como todos los datos son de tipo str no hay datos inconsistentes, por lo que los analizaré en la parte 4 más en profundidad"
   ]
  },
  {
   "cell_type": "markdown",
   "id": "6b0b053b",
   "metadata": {},
   "source": [
    "---"
   ]
  },
  {
   "cell_type": "markdown",
   "id": "60f133cd",
   "metadata": {},
   "source": [
    "# Pdf"
   ]
  },
  {
   "cell_type": "code",
   "execution_count": 112,
   "id": "687595a3",
   "metadata": {},
   "outputs": [
    {
     "data": {
      "text/plain": [
       "0             2018.06.25-Wolfe.pdf\n",
       "1           2018.06.18-McNeely.pdf\n",
       "2            2018.06.09-Denges.pdf\n",
       "3         2018.06.08-Arrawarra.pdf\n",
       "4             2018.06.04-Ramos.pdf\n",
       "5        2018.06.03.b-FlatRock.pdf\n",
       "6         2018.06.03.a-daSilva.pdf\n",
       "7             2018.05.27-Ponce.pdf\n",
       "8            2018.05.26.b-High.pdf\n",
       "9    2018.05.26.a-DaytonaBeach.pdf\n",
       "Name: pdf, dtype: object"
      ]
     },
     "execution_count": 112,
     "metadata": {},
     "output_type": "execute_result"
    }
   ],
   "source": [
    "shark.pdf[:10]"
   ]
  },
  {
   "cell_type": "code",
   "execution_count": 113,
   "id": "a7d437a3",
   "metadata": {},
   "outputs": [
    {
     "data": {
      "text/plain": [
       "0                 2018.06.25-Wolfe.pdf\n",
       "1               2018.06.18-McNeely.pdf\n",
       "2                2018.06.09-Denges.pdf\n",
       "3             2018.06.08-Arrawarra.pdf\n",
       "4                 2018.06.04-Ramos.pdf\n",
       "                     ...              \n",
       "6297            ND-0005-RoebuckBay.pdf\n",
       "6298                 ND-0004-Ahmun.pdf\n",
       "6299    ND-0003-Ocracoke_1900-1905.pdf\n",
       "6300        ND-0002-JulesPatterson.pdf\n",
       "6301                ND-0001-Ceylon.pdf\n",
       "Name: pdf, Length: 6302, dtype: object"
      ]
     },
     "execution_count": 113,
     "metadata": {},
     "output_type": "execute_result"
    }
   ],
   "source": [
    "shark.pdf.str.strip()"
   ]
  },
  {
   "cell_type": "code",
   "execution_count": 114,
   "id": "e0da5b3a",
   "metadata": {},
   "outputs": [
    {
     "data": {
      "text/plain": [
       "pdf\n",
       "1923.00.00.a-NJ fisherman.pdf      2\n",
       "1935.06.05.R-SolomonIslands.pdf    2\n",
       "1916.12.08.a-b-German.pdf          2\n",
       "1907.10.16.R-HongKong.pdf          2\n",
       "1921.11.27.a-b-Jack.pdf            2\n",
       "                                  ..\n",
       "1999.10.30.a-TroyJesse.pdf         1\n",
       "1999.10.30.b-Dolsky.pdf            1\n",
       "1999.11.00.a-Morson.pdf            1\n",
       "1999.11.00.b-Bayo.pdf              1\n",
       "ND-0001-Ceylon.pdf                 1\n",
       "Name: count, Length: 6291, dtype: int64"
      ]
     },
     "execution_count": 114,
     "metadata": {},
     "output_type": "execute_result"
    }
   ],
   "source": [
    "shark['pdf'].value_counts()"
   ]
  },
  {
   "cell_type": "code",
   "execution_count": 115,
   "id": "a950a51a",
   "metadata": {},
   "outputs": [
    {
     "data": {
      "text/plain": [
       "1"
      ]
     },
     "execution_count": 115,
     "metadata": {},
     "output_type": "execute_result"
    }
   ],
   "source": [
    "repetidos(shark, 'pdf')"
   ]
  },
  {
   "cell_type": "code",
   "execution_count": 116,
   "id": "e5873147",
   "metadata": {},
   "outputs": [
    {
     "data": {
      "text/plain": [
       "pdf\n",
       "<class 'str'>    6302\n",
       "Name: count, dtype: int64"
      ]
     },
     "execution_count": 116,
     "metadata": {},
     "output_type": "execute_result"
    }
   ],
   "source": [
    "shark['pdf'].apply(type).value_counts()"
   ]
  },
  {
   "cell_type": "markdown",
   "id": "e28ff296",
   "metadata": {},
   "source": [
    "---"
   ]
  },
  {
   "cell_type": "markdown",
   "id": "2563ce93",
   "metadata": {},
   "source": [
    "# href"
   ]
  },
  {
   "cell_type": "code",
   "execution_count": 117,
   "id": "8ffb0e00",
   "metadata": {},
   "outputs": [
    {
     "data": {
      "text/plain": [
       "0    http://sharkattackfile.net/spreadsheets/pdf_di...\n",
       "1    http://sharkattackfile.net/spreadsheets/pdf_di...\n",
       "2    http://sharkattackfile.net/spreadsheets/pdf_di...\n",
       "3    http://sharkattackfile.net/spreadsheets/pdf_di...\n",
       "4    http://sharkattackfile.net/spreadsheets/pdf_di...\n",
       "5    http://sharkattackfile.net/spreadsheets/pdf_di...\n",
       "6    http://sharkattackfile.net/spreadsheets/pdf_di...\n",
       "7    http://sharkattackfile.net/spreadsheets/pdf_di...\n",
       "8    http://sharkattackfile.net/spreadsheets/pdf_di...\n",
       "9    http://sharkattackfile.net/spreadsheets/pdf_di...\n",
       "Name: href, dtype: object"
      ]
     },
     "execution_count": 117,
     "metadata": {},
     "output_type": "execute_result"
    }
   ],
   "source": [
    "shark.href[:10]"
   ]
  },
  {
   "cell_type": "code",
   "execution_count": 118,
   "id": "8a939ac2",
   "metadata": {},
   "outputs": [
    {
     "data": {
      "text/plain": [
       "0       http://sharkattackfile.net/spreadsheets/pdf_di...\n",
       "1       http://sharkattackfile.net/spreadsheets/pdf_di...\n",
       "2       http://sharkattackfile.net/spreadsheets/pdf_di...\n",
       "3       http://sharkattackfile.net/spreadsheets/pdf_di...\n",
       "4       http://sharkattackfile.net/spreadsheets/pdf_di...\n",
       "                              ...                        \n",
       "6297    http://sharkattackfile.net/spreadsheets/pdf_di...\n",
       "6298    http://sharkattackfile.net/spreadsheets/pdf_di...\n",
       "6299    http://sharkattackfile.net/spreadsheets/pdf_di...\n",
       "6300    http://sharkattackfile.net/spreadsheets/pdf_di...\n",
       "6301    http://sharkattackfile.net/spreadsheets/pdf_di...\n",
       "Name: href, Length: 6302, dtype: object"
      ]
     },
     "execution_count": 118,
     "metadata": {},
     "output_type": "execute_result"
    }
   ],
   "source": [
    "shark.href.str.strip()"
   ]
  },
  {
   "cell_type": "code",
   "execution_count": 119,
   "id": "b4495733",
   "metadata": {},
   "outputs": [
    {
     "data": {
      "text/plain": [
       "href\n",
       "http://sharkattackfile.net/spreadsheets/pdf_directory/1923.00.00.a-NJ fisherman.pdf      2\n",
       "http://sharkattackfile.net/spreadsheets/pdf_directory/1935.06.05.R-SolomonIslands.pdf    2\n",
       "http://sharkattackfile.net/spreadsheets/pdf_directory/1916.12.08.a-b-German.pdf          2\n",
       "http://sharkattackfile.net/spreadsheets/pdf_directory/1907.10.16.R-HongKong.pdf          2\n",
       "http://sharkattackfile.net/spreadsheets/pdf_directory/1921.11.27.a-b-Jack.pdf            2\n",
       "                                                                                        ..\n",
       "http://sharkattackfile.net/spreadsheets/pdf_directory/1999.10.30.a-TroyJesse.pdf         1\n",
       "http://sharkattackfile.net/spreadsheets/pdf_directory/1999.10.30.b-Dolsky.pdf            1\n",
       "http://sharkattackfile.net/spreadsheets/pdf_directory/1999.11.00.a-Morson.pdf            1\n",
       "http://sharkattackfile.net/spreadsheets/pdf_directory/1999.11.00.b-Bayo.pdf              1\n",
       "http://sharkattackfile.net/spreadsheets/pdf_directoryND-0001-Ceylon.pdf                  1\n",
       "Name: count, Length: 6291, dtype: int64"
      ]
     },
     "execution_count": 119,
     "metadata": {},
     "output_type": "execute_result"
    }
   ],
   "source": [
    "shark.href.value_counts()"
   ]
  },
  {
   "cell_type": "code",
   "execution_count": 120,
   "id": "8807f2d9",
   "metadata": {},
   "outputs": [
    {
     "data": {
      "text/plain": [
       "1"
      ]
     },
     "execution_count": 120,
     "metadata": {},
     "output_type": "execute_result"
    }
   ],
   "source": [
    "repetidos(shark, 'href')"
   ]
  },
  {
   "cell_type": "code",
   "execution_count": 121,
   "id": "4e4bba3c",
   "metadata": {},
   "outputs": [
    {
     "data": {
      "text/plain": [
       "href\n",
       "<class 'str'>    6302\n",
       "Name: count, dtype: int64"
      ]
     },
     "execution_count": 121,
     "metadata": {},
     "output_type": "execute_result"
    }
   ],
   "source": [
    "shark['href'].apply(type).value_counts()"
   ]
  },
  {
   "cell_type": "markdown",
   "id": "c10d96e1",
   "metadata": {},
   "source": [
    "---"
   ]
  },
  {
   "cell_type": "markdown",
   "id": "82c3e27a",
   "metadata": {},
   "source": [
    "# href1"
   ]
  },
  {
   "cell_type": "code",
   "execution_count": 122,
   "id": "ce16645c",
   "metadata": {},
   "outputs": [
    {
     "data": {
      "text/plain": [
       "0    http://sharkattackfile.net/spreadsheets/pdf_di...\n",
       "1    http://sharkattackfile.net/spreadsheets/pdf_di...\n",
       "2    http://sharkattackfile.net/spreadsheets/pdf_di...\n",
       "3    http://sharkattackfile.net/spreadsheets/pdf_di...\n",
       "4    http://sharkattackfile.net/spreadsheets/pdf_di...\n",
       "5    http://sharkattackfile.net/spreadsheets/pdf_di...\n",
       "6    http://sharkattackfile.net/spreadsheets/pdf_di...\n",
       "7    http://sharkattackfile.net/spreadsheets/pdf_di...\n",
       "8    http://sharkattackfile.net/spreadsheets/pdf_di...\n",
       "9    http://sharkattackfile.net/spreadsheets/pdf_di...\n",
       "Name: href1, dtype: object"
      ]
     },
     "execution_count": 122,
     "metadata": {},
     "output_type": "execute_result"
    }
   ],
   "source": [
    "shark.href1[:10]"
   ]
  },
  {
   "cell_type": "code",
   "execution_count": 123,
   "id": "d49b6460",
   "metadata": {},
   "outputs": [
    {
     "data": {
      "text/plain": [
       "0       http://sharkattackfile.net/spreadsheets/pdf_di...\n",
       "1       http://sharkattackfile.net/spreadsheets/pdf_di...\n",
       "2       http://sharkattackfile.net/spreadsheets/pdf_di...\n",
       "3       http://sharkattackfile.net/spreadsheets/pdf_di...\n",
       "4       http://sharkattackfile.net/spreadsheets/pdf_di...\n",
       "                              ...                        \n",
       "6297    http://sharkattackfile.net/spreadsheets/pdf_di...\n",
       "6298    http://sharkattackfile.net/spreadsheets/pdf_di...\n",
       "6299    http://sharkattackfile.net/spreadsheets/pdf_di...\n",
       "6300    http://sharkattackfile.net/spreadsheets/pdf_di...\n",
       "6301    http://sharkattackfile.net/spreadsheets/pdf_di...\n",
       "Name: href1, Length: 6302, dtype: object"
      ]
     },
     "execution_count": 123,
     "metadata": {},
     "output_type": "execute_result"
    }
   ],
   "source": [
    "shark.href1.str.strip()"
   ]
  },
  {
   "cell_type": "code",
   "execution_count": 124,
   "id": "eb8ddd5d",
   "metadata": {},
   "outputs": [
    {
     "data": {
      "text/plain": [
       "href1\n",
       "http://sharkattackfile.net/spreadsheets/pdf_directory/w014.01.25-Grant.pdf                 4\n",
       "http://sharkattackfile.net/spreadsheets/pdf_directory/2014.10.02.b-Vandenberg.pdf          3\n",
       "http://sharkattackfile.net/spreadsheets/pdf_directory/1923.00.00.a-NJ fisherman.pdf        2\n",
       "http://sharkattackfile.net/spreadsheets/pdf_directory/1934.12.23.a-b-Inman.pdf             2\n",
       "http://sharkattackfile.net/spreadsheets/pdf_directory/1929.03.04.a-b.Roads-Aldridge.pdf    2\n",
       "                                                                                          ..\n",
       "http://sharkattackfile.net/spreadsheets/pdf_directory/1999.09.10-Warnock.pdf               1\n",
       "http://sharkattackfile.net/spreadsheets/pdf_directory/1999.09.16-Ferguson.pdf              1\n",
       "http://sharkattackfile.net/spreadsheets/pdf_directory/1999.09.18-Wallersheim.pdf           1\n",
       "http://sharkattackfile.net/spreadsheets/pdf_directory/1999.09.24-boat.pdf                  1\n",
       "http://sharkattackfile.net/spreadsheets/pdf_directoryND-0001-Ceylon.pdf                    1\n",
       "Name: count, Length: 6285, dtype: int64"
      ]
     },
     "execution_count": 124,
     "metadata": {},
     "output_type": "execute_result"
    }
   ],
   "source": [
    "shark.href1.value_counts()"
   ]
  },
  {
   "cell_type": "code",
   "execution_count": 125,
   "id": "4a677005",
   "metadata": {},
   "outputs": [
    {
     "data": {
      "text/plain": [
       "1"
      ]
     },
     "execution_count": 125,
     "metadata": {},
     "output_type": "execute_result"
    }
   ],
   "source": [
    "repetidos(shark, 'href1')"
   ]
  },
  {
   "cell_type": "code",
   "execution_count": 126,
   "id": "3be66cf9",
   "metadata": {},
   "outputs": [
    {
     "data": {
      "text/plain": [
       "href1\n",
       "<class 'str'>    6302\n",
       "Name: count, dtype: int64"
      ]
     },
     "execution_count": 126,
     "metadata": {},
     "output_type": "execute_result"
    }
   ],
   "source": [
    "shark['href1'].apply(type).value_counts()"
   ]
  },
  {
   "cell_type": "markdown",
   "id": "07bdce60",
   "metadata": {},
   "source": [
    "---"
   ]
  },
  {
   "cell_type": "markdown",
   "id": "0277cd04",
   "metadata": {},
   "source": [
    "# Casenumber1, Casenumber2"
   ]
  },
  {
   "cell_type": "code",
   "execution_count": 127,
   "id": "14bc109f",
   "metadata": {},
   "outputs": [
    {
     "data": {
      "text/plain": [
       "(casenumber1\n",
       " <class 'str'>    6302\n",
       " Name: count, dtype: int64,\n",
       " casenumber2\n",
       " <class 'str'>    6302\n",
       " Name: count, dtype: int64)"
      ]
     },
     "execution_count": 127,
     "metadata": {},
     "output_type": "execute_result"
    }
   ],
   "source": [
    "shark['casenumber1'].apply(type).value_counts(), shark['casenumber2'].apply(type).value_counts()"
   ]
  },
  {
   "cell_type": "markdown",
   "id": "8b95715e",
   "metadata": {},
   "source": [
    "---"
   ]
  },
  {
   "cell_type": "markdown",
   "id": "f1c11494",
   "metadata": {},
   "source": [
    "# originalorder"
   ]
  },
  {
   "cell_type": "code",
   "execution_count": 128,
   "id": "701d864b",
   "metadata": {},
   "outputs": [
    {
     "data": {
      "text/plain": [
       "0    6303.0\n",
       "1    6302.0\n",
       "2    6301.0\n",
       "3    6300.0\n",
       "4    6299.0\n",
       "5    6298.0\n",
       "6    6297.0\n",
       "7    6296.0\n",
       "8    6295.0\n",
       "9    6294.0\n",
       "Name: originalorder, dtype: float64"
      ]
     },
     "execution_count": 128,
     "metadata": {},
     "output_type": "execute_result"
    }
   ],
   "source": [
    "shark.originalorder[:10]"
   ]
  },
  {
   "cell_type": "code",
   "execution_count": 130,
   "id": "4db82f93",
   "metadata": {},
   "outputs": [],
   "source": [
    "shark['originalorder'] = shark.originalorder.astype('int16')"
   ]
  },
  {
   "cell_type": "code",
   "execution_count": 131,
   "id": "61ad390f",
   "metadata": {},
   "outputs": [
    {
     "data": {
      "text/plain": [
       "originalorder\n",
       "<class 'int'>    6302\n",
       "Name: count, dtype: int64"
      ]
     },
     "execution_count": 131,
     "metadata": {},
     "output_type": "execute_result"
    }
   ],
   "source": [
    "shark['originalorder'].apply(type).value_counts()"
   ]
  },
  {
   "cell_type": "markdown",
   "id": "6a0ffca0",
   "metadata": {},
   "source": [
    "---"
   ]
  },
  {
   "cell_type": "markdown",
   "id": "a78c6880",
   "metadata": {},
   "source": [
    "# Unnamed, Unnamed1"
   ]
  },
  {
   "cell_type": "code",
   "execution_count": 132,
   "id": "c144070a",
   "metadata": {},
   "outputs": [
    {
     "data": {
      "text/plain": [
       "(unnamed\n",
       " <class 'int'>    6302\n",
       " Name: count, dtype: int64,\n",
       " unnamed1\n",
       " <class 'int'>    6302\n",
       " Name: count, dtype: int64)"
      ]
     },
     "execution_count": 132,
     "metadata": {},
     "output_type": "execute_result"
    }
   ],
   "source": [
    "shark['unnamed'].apply(type).value_counts(), shark['unnamed1'].apply(type).value_counts()"
   ]
  },
  {
   "cell_type": "markdown",
   "id": "8147af0b",
   "metadata": {},
   "source": [
    "---"
   ]
  },
  {
   "cell_type": "markdown",
   "id": "a4fdee0b",
   "metadata": {},
   "source": [
    "# Time"
   ]
  },
  {
   "cell_type": "code",
   "execution_count": 133,
   "id": "4af2328c",
   "metadata": {},
   "outputs": [
    {
     "data": {
      "text/plain": [
       "0    18:00\n",
       "1    14:00\n",
       "2    07:45\n",
       "3    25:00\n",
       "4    25:00\n",
       "5    25:00\n",
       "6    18:00\n",
       "7    25:00\n",
       "8    17:00\n",
       "9    14:00\n",
       "Name: time, dtype: object"
      ]
     },
     "execution_count": 133,
     "metadata": {},
     "output_type": "execute_result"
    }
   ],
   "source": [
    "shark.time[:10]"
   ]
  },
  {
   "cell_type": "code",
   "execution_count": 134,
   "id": "446f00a6",
   "metadata": {},
   "outputs": [
    {
     "data": {
      "text/plain": [
       "time\n",
       "<class 'str'>    6302\n",
       "Name: count, dtype: int64"
      ]
     },
     "execution_count": 134,
     "metadata": {},
     "output_type": "execute_result"
    }
   ],
   "source": [
    "shark['time'].apply(type).value_counts()"
   ]
  },
  {
   "cell_type": "code",
   "execution_count": 135,
   "id": "b37f74c1",
   "metadata": {},
   "outputs": [
    {
     "data": {
      "text/plain": [
       "time\n",
       "25:00    3531\n",
       "18:00     301\n",
       "09:00     190\n",
       "11:00     131\n",
       "12:00     113\n",
       "         ... \n",
       "09:20       1\n",
       "10:16       1\n",
       "10:27       1\n",
       "15:44       1\n",
       "01:50       1\n",
       "Name: count, Length: 247, dtype: int64"
      ]
     },
     "execution_count": 135,
     "metadata": {},
     "output_type": "execute_result"
    }
   ],
   "source": [
    "shark.time.value_counts()"
   ]
  },
  {
   "cell_type": "code",
   "execution_count": 136,
   "id": "073177ee",
   "metadata": {},
   "outputs": [],
   "source": [
    "shark['hora'] = shark['time'].str.split(':').str[0].astype(str)\n",
    "shark['minutos'] = shark['time'].str.split(':').str[1].astype(str)"
   ]
  },
  {
   "cell_type": "code",
   "execution_count": 137,
   "id": "725b179d",
   "metadata": {},
   "outputs": [
    {
     "data": {
      "text/plain": [
       "0    18\n",
       "1    14\n",
       "2    07\n",
       "3    25\n",
       "4    25\n",
       "5    25\n",
       "6    18\n",
       "7    25\n",
       "8    17\n",
       "9    14\n",
       "Name: hora, dtype: object"
      ]
     },
     "execution_count": 137,
     "metadata": {},
     "output_type": "execute_result"
    }
   ],
   "source": [
    "shark.hora[:10]"
   ]
  },
  {
   "cell_type": "code",
   "execution_count": 138,
   "id": "d870e5db",
   "metadata": {},
   "outputs": [
    {
     "data": {
      "text/plain": [
       "0    00\n",
       "1    00\n",
       "2    45\n",
       "3    00\n",
       "4    00\n",
       "5    00\n",
       "6    00\n",
       "7    00\n",
       "8    00\n",
       "9    00\n",
       "Name: minutos, dtype: object"
      ]
     },
     "execution_count": 138,
     "metadata": {},
     "output_type": "execute_result"
    }
   ],
   "source": [
    "shark.minutos[:10]"
   ]
  },
  {
   "cell_type": "code",
   "execution_count": 139,
   "id": "d2f9a0dc",
   "metadata": {},
   "outputs": [],
   "source": [
    "shark['datetime'] = pd.to_datetime(shark['hora'].astype(str) + ':' + shark['minutos'].astype(str), format='%H:%M', errors='coerce').dt.time"
   ]
  },
  {
   "cell_type": "code",
   "execution_count": 140,
   "id": "5d090f53",
   "metadata": {},
   "outputs": [
    {
     "data": {
      "text/plain": [
       "0    18:00:00\n",
       "1    14:00:00\n",
       "2    07:45:00\n",
       "3         NaT\n",
       "4         NaT\n",
       "5         NaT\n",
       "6    18:00:00\n",
       "7         NaT\n",
       "8    17:00:00\n",
       "9    14:00:00\n",
       "Name: datetime, dtype: object"
      ]
     },
     "execution_count": 140,
     "metadata": {},
     "output_type": "execute_result"
    }
   ],
   "source": [
    "shark.datetime[:10]"
   ]
  },
  {
   "cell_type": "code",
   "execution_count": 141,
   "id": "4d64a405",
   "metadata": {},
   "outputs": [],
   "source": [
    "shark['datetime'].fillna(pd.to_datetime('00:01', format='%H:%M').time(), inplace=True)"
   ]
  },
  {
   "cell_type": "code",
   "execution_count": 142,
   "id": "3beb9ddd",
   "metadata": {},
   "outputs": [
    {
     "data": {
      "text/plain": [
       "0    18:00:00\n",
       "1    14:00:00\n",
       "2    07:45:00\n",
       "3    00:01:00\n",
       "4    00:01:00\n",
       "5    00:01:00\n",
       "6    18:00:00\n",
       "7    00:01:00\n",
       "8    17:00:00\n",
       "9    14:00:00\n",
       "Name: datetime, dtype: object"
      ]
     },
     "execution_count": 142,
     "metadata": {},
     "output_type": "execute_result"
    }
   ],
   "source": [
    "shark.datetime[:10]"
   ]
  },
  {
   "cell_type": "code",
   "execution_count": 143,
   "id": "e3474bc8",
   "metadata": {},
   "outputs": [
    {
     "data": {
      "text/plain": [
       "datetime\n",
       "<class 'datetime.time'>    6302\n",
       "Name: count, dtype: int64"
      ]
     },
     "execution_count": 143,
     "metadata": {},
     "output_type": "execute_result"
    }
   ],
   "source": [
    "shark['datetime'].apply(type).value_counts()"
   ]
  },
  {
   "cell_type": "code",
   "execution_count": 144,
   "id": "2728b167",
   "metadata": {},
   "outputs": [],
   "source": [
    "shark['time'] = shark['datetime']\n",
    "shark.drop('datetime', axis=1, inplace=True)"
   ]
  },
  {
   "cell_type": "code",
   "execution_count": 145,
   "id": "a01fa927",
   "metadata": {},
   "outputs": [
    {
     "name": "stdout",
     "output_type": "stream",
     "text": [
      "<class 'pandas.core.frame.DataFrame'>\n",
      "RangeIndex: 6302 entries, 0 to 6301\n",
      "Data columns (total 27 columns):\n",
      " #   Column         Non-Null Count  Dtype \n",
      "---  ------         --------------  ----- \n",
      " 0   casenumber     6302 non-null   object\n",
      " 1   date           6302 non-null   object\n",
      " 2   year           6302 non-null   int16 \n",
      " 3   type           6302 non-null   object\n",
      " 4   country        6302 non-null   object\n",
      " 5   area           6302 non-null   object\n",
      " 6   location       6302 non-null   object\n",
      " 7   activity       6302 non-null   object\n",
      " 8   name           6302 non-null   object\n",
      " 9   sex            6302 non-null   object\n",
      " 10  age            6302 non-null   int16 \n",
      " 11  injury         6302 non-null   object\n",
      " 12  fatal          6302 non-null   object\n",
      " 13  species        6302 non-null   object\n",
      " 14  investigator   6302 non-null   object\n",
      " 15  pdf            6302 non-null   object\n",
      " 16  href           6302 non-null   object\n",
      " 17  href1          6302 non-null   object\n",
      " 18  casenumber1    6302 non-null   object\n",
      " 19  casenumber2    6302 non-null   object\n",
      " 20  originalorder  6302 non-null   int16 \n",
      " 21  unnamed        6302 non-null   int64 \n",
      " 22  unnamed1       6302 non-null   int64 \n",
      " 23  time           6302 non-null   object\n",
      " 24  date1          6295 non-null   object\n",
      " 25  hora           6302 non-null   object\n",
      " 26  minutos        6302 non-null   object\n",
      "dtypes: int16(3), int64(2), object(22)\n",
      "memory usage: 1.2+ MB\n"
     ]
    }
   ],
   "source": [
    "shark.info()"
   ]
  },
  {
   "cell_type": "code",
   "execution_count": 146,
   "id": "1fe5df8e",
   "metadata": {},
   "outputs": [
    {
     "data": {
      "text/html": [
       "<div>\n",
       "<style scoped>\n",
       "    .dataframe tbody tr th:only-of-type {\n",
       "        vertical-align: middle;\n",
       "    }\n",
       "\n",
       "    .dataframe tbody tr th {\n",
       "        vertical-align: top;\n",
       "    }\n",
       "\n",
       "    .dataframe thead th {\n",
       "        text-align: right;\n",
       "    }\n",
       "</style>\n",
       "<table border=\"1\" class=\"dataframe\">\n",
       "  <thead>\n",
       "    <tr style=\"text-align: right;\">\n",
       "      <th></th>\n",
       "      <th>casenumber</th>\n",
       "      <th>date</th>\n",
       "      <th>year</th>\n",
       "      <th>type</th>\n",
       "      <th>country</th>\n",
       "      <th>area</th>\n",
       "      <th>location</th>\n",
       "      <th>activity</th>\n",
       "      <th>name</th>\n",
       "      <th>sex</th>\n",
       "      <th>age</th>\n",
       "      <th>injury</th>\n",
       "      <th>fatal</th>\n",
       "      <th>species</th>\n",
       "      <th>investigator</th>\n",
       "      <th>pdf</th>\n",
       "      <th>href</th>\n",
       "      <th>href1</th>\n",
       "      <th>casenumber1</th>\n",
       "      <th>casenumber2</th>\n",
       "      <th>originalorder</th>\n",
       "      <th>unnamed</th>\n",
       "      <th>unnamed1</th>\n",
       "      <th>time</th>\n",
       "      <th>date1</th>\n",
       "      <th>hora</th>\n",
       "      <th>minutos</th>\n",
       "    </tr>\n",
       "  </thead>\n",
       "  <tbody>\n",
       "    <tr>\n",
       "      <th>0</th>\n",
       "      <td>2018.06.25</td>\n",
       "      <td>25-Jun-2018</td>\n",
       "      <td>2018</td>\n",
       "      <td>Boating</td>\n",
       "      <td>usa</td>\n",
       "      <td>California</td>\n",
       "      <td>Oceanside, San Diego County</td>\n",
       "      <td>Paddling</td>\n",
       "      <td>Julie Wolfe</td>\n",
       "      <td>F</td>\n",
       "      <td>57</td>\n",
       "      <td>No injury to occupant, outrigger canoe and pad...</td>\n",
       "      <td>N</td>\n",
       "      <td>White shark</td>\n",
       "      <td>R. Collier, GSAF</td>\n",
       "      <td>2018.06.25-Wolfe.pdf</td>\n",
       "      <td>http://sharkattackfile.net/spreadsheets/pdf_di...</td>\n",
       "      <td>http://sharkattackfile.net/spreadsheets/pdf_di...</td>\n",
       "      <td>2018.06.25</td>\n",
       "      <td>2018.06.25</td>\n",
       "      <td>6303</td>\n",
       "      <td>0</td>\n",
       "      <td>0</td>\n",
       "      <td>18:00:00</td>\n",
       "      <td>25-Jun-2018</td>\n",
       "      <td>18</td>\n",
       "      <td>00</td>\n",
       "    </tr>\n",
       "    <tr>\n",
       "      <th>1</th>\n",
       "      <td>2018.06.18</td>\n",
       "      <td>18-Jun-2018</td>\n",
       "      <td>2018</td>\n",
       "      <td>Unprovoked</td>\n",
       "      <td>usa</td>\n",
       "      <td>Georgia</td>\n",
       "      <td>St. Simon Island, Glynn County</td>\n",
       "      <td>Standing</td>\n",
       "      <td>Adyson McNeely</td>\n",
       "      <td>F</td>\n",
       "      <td>11</td>\n",
       "      <td>Minor injury to left thigh</td>\n",
       "      <td>N</td>\n",
       "      <td>unknown shark</td>\n",
       "      <td>K.McMurray, TrackingSharks.com</td>\n",
       "      <td>2018.06.18-McNeely.pdf</td>\n",
       "      <td>http://sharkattackfile.net/spreadsheets/pdf_di...</td>\n",
       "      <td>http://sharkattackfile.net/spreadsheets/pdf_di...</td>\n",
       "      <td>2018.06.18</td>\n",
       "      <td>2018.06.18</td>\n",
       "      <td>6302</td>\n",
       "      <td>0</td>\n",
       "      <td>0</td>\n",
       "      <td>14:00:00</td>\n",
       "      <td>18-Jun-2018</td>\n",
       "      <td>14</td>\n",
       "      <td>00</td>\n",
       "    </tr>\n",
       "    <tr>\n",
       "      <th>2</th>\n",
       "      <td>2018.06.09</td>\n",
       "      <td>09-Jun-2018</td>\n",
       "      <td>2018</td>\n",
       "      <td>Invalid</td>\n",
       "      <td>usa</td>\n",
       "      <td>Hawaii</td>\n",
       "      <td>Habush, Oahu</td>\n",
       "      <td>Surfing</td>\n",
       "      <td>John Denges</td>\n",
       "      <td>M</td>\n",
       "      <td>48</td>\n",
       "      <td>Injury to left lower leg from surfboard skeg</td>\n",
       "      <td>N</td>\n",
       "      <td>unknown shark</td>\n",
       "      <td>K.McMurray, TrackingSharks.com</td>\n",
       "      <td>2018.06.09-Denges.pdf</td>\n",
       "      <td>http://sharkattackfile.net/spreadsheets/pdf_di...</td>\n",
       "      <td>http://sharkattackfile.net/spreadsheets/pdf_di...</td>\n",
       "      <td>2018.06.09</td>\n",
       "      <td>2018.06.09</td>\n",
       "      <td>6301</td>\n",
       "      <td>0</td>\n",
       "      <td>0</td>\n",
       "      <td>07:45:00</td>\n",
       "      <td>09-Jun-2018</td>\n",
       "      <td>07</td>\n",
       "      <td>45</td>\n",
       "    </tr>\n",
       "    <tr>\n",
       "      <th>3</th>\n",
       "      <td>2018.06.08</td>\n",
       "      <td>08-Jun-2018</td>\n",
       "      <td>2018</td>\n",
       "      <td>Unprovoked</td>\n",
       "      <td>australia</td>\n",
       "      <td>New South Wales</td>\n",
       "      <td>Arrawarra Headland</td>\n",
       "      <td>Surfing</td>\n",
       "      <td>male</td>\n",
       "      <td>M</td>\n",
       "      <td>-1</td>\n",
       "      <td>Minor injury to lower leg</td>\n",
       "      <td>N</td>\n",
       "      <td>2 m shark</td>\n",
       "      <td>B. Myatt, GSAF</td>\n",
       "      <td>2018.06.08-Arrawarra.pdf</td>\n",
       "      <td>http://sharkattackfile.net/spreadsheets/pdf_di...</td>\n",
       "      <td>http://sharkattackfile.net/spreadsheets/pdf_di...</td>\n",
       "      <td>2018.06.08</td>\n",
       "      <td>2018.06.08</td>\n",
       "      <td>6300</td>\n",
       "      <td>0</td>\n",
       "      <td>0</td>\n",
       "      <td>00:01:00</td>\n",
       "      <td>08-Jun-2018</td>\n",
       "      <td>25</td>\n",
       "      <td>00</td>\n",
       "    </tr>\n",
       "    <tr>\n",
       "      <th>4</th>\n",
       "      <td>2018.06.04</td>\n",
       "      <td>04-Jun-2018</td>\n",
       "      <td>2018</td>\n",
       "      <td>Provoked</td>\n",
       "      <td>mexico</td>\n",
       "      <td>Colima</td>\n",
       "      <td>La Ticla</td>\n",
       "      <td>Free diving</td>\n",
       "      <td>Gustavo Ramos</td>\n",
       "      <td>M</td>\n",
       "      <td>-1</td>\n",
       "      <td>Lacerations to leg &amp; hand shark PROVOKED INCIDENT</td>\n",
       "      <td>N</td>\n",
       "      <td>Tiger shark, 3m</td>\n",
       "      <td>A .Kipper</td>\n",
       "      <td>2018.06.04-Ramos.pdf</td>\n",
       "      <td>http://sharkattackfile.net/spreadsheets/pdf_di...</td>\n",
       "      <td>http://sharkattackfile.net/spreadsheets/pdf_di...</td>\n",
       "      <td>2018.06.04</td>\n",
       "      <td>2018.06.04</td>\n",
       "      <td>6299</td>\n",
       "      <td>0</td>\n",
       "      <td>0</td>\n",
       "      <td>00:01:00</td>\n",
       "      <td>04-Jun-2018</td>\n",
       "      <td>25</td>\n",
       "      <td>00</td>\n",
       "    </tr>\n",
       "  </tbody>\n",
       "</table>\n",
       "</div>"
      ],
      "text/plain": [
       "   casenumber         date  year        type    country             area   \n",
       "0  2018.06.25  25-Jun-2018  2018     Boating        usa       California  \\\n",
       "1  2018.06.18  18-Jun-2018  2018  Unprovoked        usa          Georgia   \n",
       "2  2018.06.09  09-Jun-2018  2018     Invalid        usa           Hawaii   \n",
       "3  2018.06.08  08-Jun-2018  2018  Unprovoked  australia  New South Wales   \n",
       "4  2018.06.04  04-Jun-2018  2018    Provoked     mexico           Colima   \n",
       "\n",
       "                         location     activity             name sex  age   \n",
       "0     Oceanside, San Diego County     Paddling      Julie Wolfe   F   57  \\\n",
       "1  St. Simon Island, Glynn County     Standing  Adyson McNeely    F   11   \n",
       "2                    Habush, Oahu      Surfing      John Denges   M   48   \n",
       "3              Arrawarra Headland      Surfing             male   M   -1   \n",
       "4                        La Ticla  Free diving   Gustavo Ramos    M   -1   \n",
       "\n",
       "                                              injury fatal          species   \n",
       "0  No injury to occupant, outrigger canoe and pad...     N      White shark  \\\n",
       "1                         Minor injury to left thigh     N    unknown shark   \n",
       "2       Injury to left lower leg from surfboard skeg     N    unknown shark   \n",
       "3                          Minor injury to lower leg     N        2 m shark   \n",
       "4  Lacerations to leg & hand shark PROVOKED INCIDENT     N  Tiger shark, 3m   \n",
       "\n",
       "                     investigator                       pdf   \n",
       "0                R. Collier, GSAF      2018.06.25-Wolfe.pdf  \\\n",
       "1  K.McMurray, TrackingSharks.com    2018.06.18-McNeely.pdf   \n",
       "2  K.McMurray, TrackingSharks.com     2018.06.09-Denges.pdf   \n",
       "3                  B. Myatt, GSAF  2018.06.08-Arrawarra.pdf   \n",
       "4                       A .Kipper      2018.06.04-Ramos.pdf   \n",
       "\n",
       "                                                href   \n",
       "0  http://sharkattackfile.net/spreadsheets/pdf_di...  \\\n",
       "1  http://sharkattackfile.net/spreadsheets/pdf_di...   \n",
       "2  http://sharkattackfile.net/spreadsheets/pdf_di...   \n",
       "3  http://sharkattackfile.net/spreadsheets/pdf_di...   \n",
       "4  http://sharkattackfile.net/spreadsheets/pdf_di...   \n",
       "\n",
       "                                               href1 casenumber1 casenumber2   \n",
       "0  http://sharkattackfile.net/spreadsheets/pdf_di...  2018.06.25  2018.06.25  \\\n",
       "1  http://sharkattackfile.net/spreadsheets/pdf_di...  2018.06.18  2018.06.18   \n",
       "2  http://sharkattackfile.net/spreadsheets/pdf_di...  2018.06.09  2018.06.09   \n",
       "3  http://sharkattackfile.net/spreadsheets/pdf_di...  2018.06.08  2018.06.08   \n",
       "4  http://sharkattackfile.net/spreadsheets/pdf_di...  2018.06.04  2018.06.04   \n",
       "\n",
       "   originalorder  unnamed  unnamed1      time        date1 hora minutos  \n",
       "0           6303        0         0  18:00:00  25-Jun-2018   18      00  \n",
       "1           6302        0         0  14:00:00  18-Jun-2018   14      00  \n",
       "2           6301        0         0  07:45:00  09-Jun-2018   07      45  \n",
       "3           6300        0         0  00:01:00  08-Jun-2018   25      00  \n",
       "4           6299        0         0  00:01:00  04-Jun-2018   25      00  "
      ]
     },
     "execution_count": 146,
     "metadata": {},
     "output_type": "execute_result"
    }
   ],
   "source": [
    "shark.head()"
   ]
  },
  {
   "cell_type": "markdown",
   "id": "b377ee39",
   "metadata": {},
   "source": [
    "Llegados a este punto entiendo que los valores ya son consistentes y por lo tanto, el siguiente paso es arreglar los datos para poder usarlos en los análisis. Pero esto lo realizo en la parte 4.\n",
    "\n",
    "Para podeer acceder a los datos a partir de este punto exporto el csv"
   ]
  },
  {
   "cell_type": "code",
   "execution_count": 147,
   "id": "5372c208",
   "metadata": {},
   "outputs": [],
   "source": [
    "shark.to_csv('../data/sharkattack_parte3.csv', index=False)"
   ]
  },
  {
   "cell_type": "markdown",
   "id": "4c5e4798",
   "metadata": {},
   "source": [
    "[SharkAttack - Parte 4 (Arreglo de datos)](./SharkAttack-Parte4.ipynb)"
   ]
  }
 ],
 "metadata": {
  "kernelspec": {
   "display_name": "Python 3 (ipykernel)",
   "language": "python",
   "name": "python3"
  },
  "language_info": {
   "codemirror_mode": {
    "name": "ipython",
    "version": 3
   },
   "file_extension": ".py",
   "mimetype": "text/x-python",
   "name": "python",
   "nbconvert_exporter": "python",
   "pygments_lexer": "ipython3",
   "version": "3.11.1"
  }
 },
 "nbformat": 4,
 "nbformat_minor": 5
}
