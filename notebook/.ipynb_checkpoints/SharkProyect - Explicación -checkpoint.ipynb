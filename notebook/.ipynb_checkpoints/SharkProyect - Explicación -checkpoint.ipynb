{
 "cells": [
  {
   "cell_type": "markdown",
   "id": "47850b97",
   "metadata": {},
   "source": [
    "## Sharks Attack\n",
    "\n",
    "En este notebook voy a realizar las explicaciones necesarias del proyecto de Ironhack donde se nos pide que limpiemos un DataFrame sobre ataques de tiburón.\n",
    "\n",
    "El proyecto lo voy a dividir en 4 partes y cada una de ellas tendrá un notebook que lo argumente. De esta manera se podrá acceder a cada parte del proyecto por separado.\n",
    "    \n",
    "Las partes van a ser:\n",
    "\n",
    "    1.- Análisis inicial\n",
    "    2.- Valores nulos\n",
    "    3.- Valores Inconsistente\n",
    "    4.- Arreglo de datos\n",
    "    5.- Bonus: Análisis de hipótesis\n",
    "\n",
    "Al finalizar cada apartado exportaré un csv que se llamará sharkattack_parteX.csv, donde la x especificará a que parte corresponde. Por lo que al finalizar el proyecto en la carpeta data se podrá encontrar el csv inicial, otros 4 por cada parte y el csv ya con todos los datos limpios que se llamará sharkattack_limpio.csv\n",
    "\n",
    "Dicho esto, comencemos:\n"
   ]
  },
  {
   "cell_type": "markdown",
   "id": "85470d30",
   "metadata": {},
   "source": [
    "[SharkAttack - Parte 1 (Análisis inicial)](./SharkAttack-Parte1.ipynb)"
   ]
  },
  {
   "cell_type": "markdown",
   "id": "74bebdc8",
   "metadata": {},
   "source": [
    "[SharkAttack - Parte 2 (Valores nulos)](./SharkAttack-Parte2.ipynb)"
   ]
  },
  {
   "cell_type": "markdown",
   "id": "d5bf81b5",
   "metadata": {},
   "source": [
    "[SharkAttack - Parte 3 (Valores Inconsistente)](./SharkAttack-Parte3.ipynb)"
   ]
  },
  {
   "cell_type": "markdown",
   "id": "3e3d51a9",
   "metadata": {},
   "source": [
    "[SharkAttack - Parte 4 (Arreglo de datos)](./SharkAttack-Parte4.ipynb)"
   ]
  },
  {
   "cell_type": "markdown",
   "id": "e825c0c9",
   "metadata": {},
   "source": [
    "[SharkAttack - Parte 5 (Bonus: Análisis de hipótesis)](./SharkAttack-Parte5.ipynb)"
   ]
  }
 ],
 "metadata": {
  "kernelspec": {
   "display_name": "Python 3 (ipykernel)",
   "language": "python",
   "name": "python3"
  },
  "language_info": {
   "codemirror_mode": {
    "name": "ipython",
    "version": 3
   },
   "file_extension": ".py",
   "mimetype": "text/x-python",
   "name": "python",
   "nbconvert_exporter": "python",
   "pygments_lexer": "ipython3",
   "version": "3.11.1"
  }
 },
 "nbformat": 4,
 "nbformat_minor": 5
}
