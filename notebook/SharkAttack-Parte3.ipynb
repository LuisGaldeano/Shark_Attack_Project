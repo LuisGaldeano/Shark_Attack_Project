{
 "cells": [
  {
   "cell_type": "markdown",
   "id": "8cce6e21",
   "metadata": {},
   "source": [
    "### SharkAttack - Parte 3\n",
    "\n",
    "# Valores Inconsistentes "
   ]
  },
  {
   "cell_type": "code",
   "execution_count": 1,
   "id": "33207441",
   "metadata": {},
   "outputs": [],
   "source": [
    "import pandas as pd\n",
    "import numpy as np\n",
    "import re\n",
    "import zipfile\n",
    "import pylab as plt    \n",
    "import seaborn as sns\n",
    "import sys\n",
    "from jupyterthemes import jtplot\n",
    "jtplot.style()\n",
    "\n",
    "from functions import *\n",
    "\n",
    "pd.set_option('display.max_columns', None)  # me muestre todas las columnas"
   ]
  },
  {
   "cell_type": "code",
   "execution_count": 2,
   "id": "3944e4e0",
   "metadata": {},
   "outputs": [],
   "source": [
    "shark=pd.read_csv('../data/sharkattack_parte2.csv')"
   ]
  },
  {
   "cell_type": "code",
   "execution_count": 3,
   "id": "c77cc8d9",
   "metadata": {},
   "outputs": [
    {
     "data": {
      "text/html": [
       "<div>\n",
       "<style scoped>\n",
       "    .dataframe tbody tr th:only-of-type {\n",
       "        vertical-align: middle;\n",
       "    }\n",
       "\n",
       "    .dataframe tbody tr th {\n",
       "        vertical-align: top;\n",
       "    }\n",
       "\n",
       "    .dataframe thead th {\n",
       "        text-align: right;\n",
       "    }\n",
       "</style>\n",
       "<table border=\"1\" class=\"dataframe\">\n",
       "  <thead>\n",
       "    <tr style=\"text-align: right;\">\n",
       "      <th></th>\n",
       "      <th>casenumber</th>\n",
       "      <th>date</th>\n",
       "      <th>year</th>\n",
       "      <th>type</th>\n",
       "      <th>country</th>\n",
       "      <th>area</th>\n",
       "      <th>location</th>\n",
       "      <th>activity</th>\n",
       "      <th>name</th>\n",
       "      <th>sex</th>\n",
       "      <th>age</th>\n",
       "      <th>injury</th>\n",
       "      <th>fatal</th>\n",
       "      <th>species</th>\n",
       "      <th>investigator</th>\n",
       "      <th>pdf</th>\n",
       "      <th>href</th>\n",
       "      <th>href1</th>\n",
       "      <th>casenumber1</th>\n",
       "      <th>casenumber2</th>\n",
       "      <th>originalorder</th>\n",
       "      <th>unnamed</th>\n",
       "      <th>unnamed1</th>\n",
       "      <th>time</th>\n",
       "    </tr>\n",
       "  </thead>\n",
       "  <tbody>\n",
       "    <tr>\n",
       "      <th>0</th>\n",
       "      <td>2018.06.25</td>\n",
       "      <td>25-Jun-2018</td>\n",
       "      <td>2018.0</td>\n",
       "      <td>Boating</td>\n",
       "      <td>USA</td>\n",
       "      <td>California</td>\n",
       "      <td>Oceanside, San Diego County</td>\n",
       "      <td>Paddling</td>\n",
       "      <td>Julie Wolfe</td>\n",
       "      <td>F</td>\n",
       "      <td>57</td>\n",
       "      <td>No injury to occupant, outrigger canoe and pad...</td>\n",
       "      <td>N</td>\n",
       "      <td>White shark</td>\n",
       "      <td>R. Collier, GSAF</td>\n",
       "      <td>2018.06.25-Wolfe.pdf</td>\n",
       "      <td>http://sharkattackfile.net/spreadsheets/pdf_di...</td>\n",
       "      <td>http://sharkattackfile.net/spreadsheets/pdf_di...</td>\n",
       "      <td>2018.06.25</td>\n",
       "      <td>2018.06.25</td>\n",
       "      <td>6303.0</td>\n",
       "      <td>0</td>\n",
       "      <td>0</td>\n",
       "      <td>18:00</td>\n",
       "    </tr>\n",
       "    <tr>\n",
       "      <th>1</th>\n",
       "      <td>2018.06.18</td>\n",
       "      <td>18-Jun-2018</td>\n",
       "      <td>2018.0</td>\n",
       "      <td>Unprovoked</td>\n",
       "      <td>USA</td>\n",
       "      <td>Georgia</td>\n",
       "      <td>St. Simon Island, Glynn County</td>\n",
       "      <td>Standing</td>\n",
       "      <td>Adyson McNeely</td>\n",
       "      <td>F</td>\n",
       "      <td>11</td>\n",
       "      <td>Minor injury to left thigh</td>\n",
       "      <td>N</td>\n",
       "      <td>unknown shark</td>\n",
       "      <td>K.McMurray, TrackingSharks.com</td>\n",
       "      <td>2018.06.18-McNeely.pdf</td>\n",
       "      <td>http://sharkattackfile.net/spreadsheets/pdf_di...</td>\n",
       "      <td>http://sharkattackfile.net/spreadsheets/pdf_di...</td>\n",
       "      <td>2018.06.18</td>\n",
       "      <td>2018.06.18</td>\n",
       "      <td>6302.0</td>\n",
       "      <td>0</td>\n",
       "      <td>0</td>\n",
       "      <td>14:00</td>\n",
       "    </tr>\n",
       "    <tr>\n",
       "      <th>2</th>\n",
       "      <td>2018.06.09</td>\n",
       "      <td>09-Jun-2018</td>\n",
       "      <td>2018.0</td>\n",
       "      <td>Invalid</td>\n",
       "      <td>USA</td>\n",
       "      <td>Hawaii</td>\n",
       "      <td>Habush, Oahu</td>\n",
       "      <td>Surfing</td>\n",
       "      <td>John Denges</td>\n",
       "      <td>M</td>\n",
       "      <td>48</td>\n",
       "      <td>Injury to left lower leg from surfboard skeg</td>\n",
       "      <td>N</td>\n",
       "      <td>unknown shark</td>\n",
       "      <td>K.McMurray, TrackingSharks.com</td>\n",
       "      <td>2018.06.09-Denges.pdf</td>\n",
       "      <td>http://sharkattackfile.net/spreadsheets/pdf_di...</td>\n",
       "      <td>http://sharkattackfile.net/spreadsheets/pdf_di...</td>\n",
       "      <td>2018.06.09</td>\n",
       "      <td>2018.06.09</td>\n",
       "      <td>6301.0</td>\n",
       "      <td>0</td>\n",
       "      <td>0</td>\n",
       "      <td>07:45</td>\n",
       "    </tr>\n",
       "    <tr>\n",
       "      <th>3</th>\n",
       "      <td>2018.06.08</td>\n",
       "      <td>08-Jun-2018</td>\n",
       "      <td>2018.0</td>\n",
       "      <td>Unprovoked</td>\n",
       "      <td>AUSTRALIA</td>\n",
       "      <td>New South Wales</td>\n",
       "      <td>Arrawarra Headland</td>\n",
       "      <td>Surfing</td>\n",
       "      <td>male</td>\n",
       "      <td>M</td>\n",
       "      <td>-1</td>\n",
       "      <td>Minor injury to lower leg</td>\n",
       "      <td>N</td>\n",
       "      <td>2 m shark</td>\n",
       "      <td>B. Myatt, GSAF</td>\n",
       "      <td>2018.06.08-Arrawarra.pdf</td>\n",
       "      <td>http://sharkattackfile.net/spreadsheets/pdf_di...</td>\n",
       "      <td>http://sharkattackfile.net/spreadsheets/pdf_di...</td>\n",
       "      <td>2018.06.08</td>\n",
       "      <td>2018.06.08</td>\n",
       "      <td>6300.0</td>\n",
       "      <td>0</td>\n",
       "      <td>0</td>\n",
       "      <td>25:00</td>\n",
       "    </tr>\n",
       "    <tr>\n",
       "      <th>4</th>\n",
       "      <td>2018.06.04</td>\n",
       "      <td>04-Jun-2018</td>\n",
       "      <td>2018.0</td>\n",
       "      <td>Provoked</td>\n",
       "      <td>MEXICO</td>\n",
       "      <td>Colima</td>\n",
       "      <td>La Ticla</td>\n",
       "      <td>Free diving</td>\n",
       "      <td>Gustavo Ramos</td>\n",
       "      <td>M</td>\n",
       "      <td>-1</td>\n",
       "      <td>Lacerations to leg &amp; hand shark PROVOKED INCIDENT</td>\n",
       "      <td>N</td>\n",
       "      <td>Tiger shark, 3m</td>\n",
       "      <td>A .Kipper</td>\n",
       "      <td>2018.06.04-Ramos.pdf</td>\n",
       "      <td>http://sharkattackfile.net/spreadsheets/pdf_di...</td>\n",
       "      <td>http://sharkattackfile.net/spreadsheets/pdf_di...</td>\n",
       "      <td>2018.06.04</td>\n",
       "      <td>2018.06.04</td>\n",
       "      <td>6299.0</td>\n",
       "      <td>0</td>\n",
       "      <td>0</td>\n",
       "      <td>25:00</td>\n",
       "    </tr>\n",
       "  </tbody>\n",
       "</table>\n",
       "</div>"
      ],
      "text/plain": [
       "   casenumber         date    year        type    country             area   \n",
       "0  2018.06.25  25-Jun-2018  2018.0     Boating        USA       California  \\\n",
       "1  2018.06.18  18-Jun-2018  2018.0  Unprovoked        USA          Georgia   \n",
       "2  2018.06.09  09-Jun-2018  2018.0     Invalid        USA           Hawaii   \n",
       "3  2018.06.08  08-Jun-2018  2018.0  Unprovoked  AUSTRALIA  New South Wales   \n",
       "4  2018.06.04  04-Jun-2018  2018.0    Provoked     MEXICO           Colima   \n",
       "\n",
       "                         location     activity             name sex age   \n",
       "0     Oceanside, San Diego County     Paddling      Julie Wolfe   F  57  \\\n",
       "1  St. Simon Island, Glynn County     Standing  Adyson McNeely    F  11   \n",
       "2                    Habush, Oahu      Surfing      John Denges   M  48   \n",
       "3              Arrawarra Headland      Surfing             male   M  -1   \n",
       "4                        La Ticla  Free diving   Gustavo Ramos    M  -1   \n",
       "\n",
       "                                              injury fatal          species   \n",
       "0  No injury to occupant, outrigger canoe and pad...     N      White shark  \\\n",
       "1                         Minor injury to left thigh     N    unknown shark   \n",
       "2       Injury to left lower leg from surfboard skeg     N    unknown shark   \n",
       "3                          Minor injury to lower leg     N        2 m shark   \n",
       "4  Lacerations to leg & hand shark PROVOKED INCIDENT     N  Tiger shark, 3m   \n",
       "\n",
       "                     investigator                       pdf   \n",
       "0                R. Collier, GSAF      2018.06.25-Wolfe.pdf  \\\n",
       "1  K.McMurray, TrackingSharks.com    2018.06.18-McNeely.pdf   \n",
       "2  K.McMurray, TrackingSharks.com     2018.06.09-Denges.pdf   \n",
       "3                  B. Myatt, GSAF  2018.06.08-Arrawarra.pdf   \n",
       "4                       A .Kipper      2018.06.04-Ramos.pdf   \n",
       "\n",
       "                                                href   \n",
       "0  http://sharkattackfile.net/spreadsheets/pdf_di...  \\\n",
       "1  http://sharkattackfile.net/spreadsheets/pdf_di...   \n",
       "2  http://sharkattackfile.net/spreadsheets/pdf_di...   \n",
       "3  http://sharkattackfile.net/spreadsheets/pdf_di...   \n",
       "4  http://sharkattackfile.net/spreadsheets/pdf_di...   \n",
       "\n",
       "                                               href1 casenumber1 casenumber2   \n",
       "0  http://sharkattackfile.net/spreadsheets/pdf_di...  2018.06.25  2018.06.25  \\\n",
       "1  http://sharkattackfile.net/spreadsheets/pdf_di...  2018.06.18  2018.06.18   \n",
       "2  http://sharkattackfile.net/spreadsheets/pdf_di...  2018.06.09  2018.06.09   \n",
       "3  http://sharkattackfile.net/spreadsheets/pdf_di...  2018.06.08  2018.06.08   \n",
       "4  http://sharkattackfile.net/spreadsheets/pdf_di...  2018.06.04  2018.06.04   \n",
       "\n",
       "   originalorder  unnamed  unnamed1   time  \n",
       "0         6303.0        0         0  18:00  \n",
       "1         6302.0        0         0  14:00  \n",
       "2         6301.0        0         0  07:45  \n",
       "3         6300.0        0         0  25:00  \n",
       "4         6299.0        0         0  25:00  "
      ]
     },
     "execution_count": 3,
     "metadata": {},
     "output_type": "execute_result"
    }
   ],
   "source": [
    "shark.head()"
   ]
  },
  {
   "cell_type": "code",
   "execution_count": 4,
   "id": "f73cc1a0",
   "metadata": {},
   "outputs": [
    {
     "name": "stdout",
     "output_type": "stream",
     "text": [
      "<class 'pandas.core.frame.DataFrame'>\n",
      "RangeIndex: 6302 entries, 0 to 6301\n",
      "Data columns (total 24 columns):\n",
      " #   Column         Non-Null Count  Dtype  \n",
      "---  ------         --------------  -----  \n",
      " 0   casenumber     6302 non-null   object \n",
      " 1   date           6302 non-null   object \n",
      " 2   year           6302 non-null   float64\n",
      " 3   type           6302 non-null   object \n",
      " 4   country        6302 non-null   object \n",
      " 5   area           6302 non-null   object \n",
      " 6   location       6302 non-null   object \n",
      " 7   activity       6302 non-null   object \n",
      " 8   name           6302 non-null   object \n",
      " 9   sex            6302 non-null   object \n",
      " 10  age            6299 non-null   object \n",
      " 11  injury         6302 non-null   object \n",
      " 12  fatal          6302 non-null   object \n",
      " 13  species        6302 non-null   object \n",
      " 14  investigator   6302 non-null   object \n",
      " 15  pdf            6302 non-null   object \n",
      " 16  href           6302 non-null   object \n",
      " 17  href1          6302 non-null   object \n",
      " 18  casenumber1    6302 non-null   object \n",
      " 19  casenumber2    6302 non-null   object \n",
      " 20  originalorder  6302 non-null   float64\n",
      " 21  unnamed        6302 non-null   int64  \n",
      " 22  unnamed1       6302 non-null   int64  \n",
      " 23  time           6302 non-null   object \n",
      "dtypes: float64(2), int64(2), object(20)\n",
      "memory usage: 1.2+ MB\n"
     ]
    }
   ],
   "source": [
    "shark.info()"
   ]
  },
  {
   "cell_type": "markdown",
   "id": "ed1d4726",
   "metadata": {},
   "source": [
    "# Casenumber"
   ]
  },
  {
   "cell_type": "code",
   "execution_count": 5,
   "id": "41506a59",
   "metadata": {},
   "outputs": [
    {
     "data": {
      "text/plain": [
       "0       2018.06.25\n",
       "1       2018.06.18\n",
       "2       2018.06.09\n",
       "3       2018.06.08\n",
       "4       2018.06.04\n",
       "5     2018.06.03.b\n",
       "6     2018.06.03.a\n",
       "7       2018.05.27\n",
       "8     2018.05.26.b\n",
       "9     2018.05.26.a\n",
       "10      2018.05.24\n",
       "11      2018.05.21\n",
       "12    2018.05.13.b\n",
       "13    2018.05.13.a\n",
       "14      2018.05.00\n",
       "15      2018.05.12\n",
       "16      2018.05.09\n",
       "17    2018.04.30.R\n",
       "18    2018.04.28.b\n",
       "19    2018.04.28.a\n",
       "Name: casenumber, dtype: object"
      ]
     },
     "execution_count": 5,
     "metadata": {},
     "output_type": "execute_result"
    }
   ],
   "source": [
    "shark['casenumber'][:20]"
   ]
  },
  {
   "cell_type": "code",
   "execution_count": 6,
   "id": "8f347a0c",
   "metadata": {},
   "outputs": [
    {
     "data": {
      "text/plain": [
       "array(['2018.06.25', '2018.06.18', '2018.06.09', ..., 'ND.0003',\n",
       "       'ND.0002', 'ND.0001'], dtype=object)"
      ]
     },
     "execution_count": 6,
     "metadata": {},
     "output_type": "execute_result"
    }
   ],
   "source": [
    "shark.casenumber.unique()"
   ]
  },
  {
   "cell_type": "code",
   "execution_count": 7,
   "id": "42fa6aff",
   "metadata": {},
   "outputs": [
    {
     "data": {
      "text/plain": [
       "1"
      ]
     },
     "execution_count": 7,
     "metadata": {},
     "output_type": "execute_result"
    }
   ],
   "source": [
    "repetidos(shark, 'casenumber')"
   ]
  },
  {
   "cell_type": "markdown",
   "id": "4a2da3bb",
   "metadata": {},
   "source": [
    "La mayoría son fechas que están en formato Y/M/D y algunos tienen un .* a la derecha que no aporta nada.\n",
    "\n",
    "En este caso como no deja de ser un elemento de identificación, no voy a trabajar más en el de momento y lo voy a dejar con este formato."
   ]
  },
  {
   "cell_type": "markdown",
   "id": "51715a4b",
   "metadata": {},
   "source": [
    "---"
   ]
  },
  {
   "cell_type": "markdown",
   "id": "1c93f4d1",
   "metadata": {},
   "source": [
    "# Date"
   ]
  },
  {
   "cell_type": "code",
   "execution_count": 8,
   "id": "3efcb0f8",
   "metadata": {},
   "outputs": [
    {
     "data": {
      "text/plain": [
       "0              25-Jun-2018\n",
       "1              18-Jun-2018\n",
       "2              09-Jun-2018\n",
       "3              08-Jun-2018\n",
       "4              04-Jun-2018\n",
       "5              03-Jun-2018\n",
       "6              03-Jun-2018\n",
       "7              27-May-2018\n",
       "8              26-May-2018\n",
       "9              26-May-2018\n",
       "10             24-May-2018\n",
       "11             21-May-2018\n",
       "12             13-May-2018\n",
       "13             13-May-2018\n",
       "14                May 2018\n",
       "15             12-May-2018\n",
       "16             09-May-2018\n",
       "17    Reported 30-Apr-2018\n",
       "18             28-Apr-2018\n",
       "19             28-Apr-2018\n",
       "Name: date, dtype: object"
      ]
     },
     "execution_count": 8,
     "metadata": {},
     "output_type": "execute_result"
    }
   ],
   "source": [
    "shark.date[:20]"
   ]
  },
  {
   "cell_type": "code",
   "execution_count": 9,
   "id": "a73831e8",
   "metadata": {},
   "outputs": [
    {
     "data": {
      "text/plain": [
       "array(['25-Jun-2018', '18-Jun-2018', '09-Jun-2018', ..., '1900-1905',\n",
       "       '1883-1889', '1845-1853'], dtype=object)"
      ]
     },
     "execution_count": 9,
     "metadata": {},
     "output_type": "execute_result"
    }
   ],
   "source": [
    "shark.date.unique()"
   ]
  },
  {
   "cell_type": "markdown",
   "id": "5690ea34",
   "metadata": {},
   "source": [
    "Esta columna es relevante y la necesito en formato date. Por lo que realizo las operaciones necesarias\n",
    "\n",
    "1.- Los valores que tengan formato xx-Mes-xxxx los paso a una nueva columna llamada date1 y los sustituyo por un valor proxy de -1\n",
    "2.- Si tiene la estructura Mes-xxxx establezco que es el día 01 y hago lo mismo que en el paso anterior\n",
    "\n",
    "el resto de valores los miro más adelante"
   ]
  },
  {
   "cell_type": "code",
   "execution_count": 10,
   "id": "843c3225",
   "metadata": {},
   "outputs": [],
   "source": [
    "patron = r'\\d{2}-\\b\\w{3}\\b-\\d{4}'\n",
    "for i, valor in enumerate(shark['date']):\n",
    "    fecha = re.search(patron, valor)\n",
    "    if fecha is not None:\n",
    "        shark.at[i, 'date1'] = fecha.group()\n",
    "        shark.at[i, 'date'] = 0"
   ]
  },
  {
   "cell_type": "code",
   "execution_count": 11,
   "id": "ad4b8301",
   "metadata": {},
   "outputs": [
    {
     "data": {
      "text/plain": [
       "0            0\n",
       "1            0\n",
       "2            0\n",
       "3            0\n",
       "4            0\n",
       "5            0\n",
       "6            0\n",
       "7            0\n",
       "8            0\n",
       "9            0\n",
       "10           0\n",
       "11           0\n",
       "12           0\n",
       "13           0\n",
       "14    May 2018\n",
       "Name: date, dtype: object"
      ]
     },
     "execution_count": 11,
     "metadata": {},
     "output_type": "execute_result"
    }
   ],
   "source": [
    "shark.date[:15]"
   ]
  },
  {
   "cell_type": "code",
   "execution_count": 12,
   "id": "e956cf3f",
   "metadata": {},
   "outputs": [],
   "source": [
    "patron = r'\\b\\w{3}\\b-\\d{4}'\n",
    "dia = '01-'\n",
    "for i, valor in enumerate(shark['date']):\n",
    "    fecha = re.search(patron, str(valor))\n",
    "    if fecha is not None:\n",
    "        fecha = dia + fecha.group(0)\n",
    "        shark.at[i, 'date1'] = fecha\n",
    "        shark.at[i, 'date'] = '0'"
   ]
  },
  {
   "cell_type": "code",
   "execution_count": 13,
   "id": "5b79ad29",
   "metadata": {},
   "outputs": [
    {
     "data": {
      "text/plain": [
       "date\n",
       "0                5349\n",
       "0                 370\n",
       "1957               11\n",
       "1942                9\n",
       "1956                8\n",
       "                 ... \n",
       "1928                1\n",
       "Ca. 1929            1\n",
       "Reported 1929       1\n",
       "1932                1\n",
       "1845-1853           1\n",
       "Name: count, Length: 376, dtype: int64"
      ]
     },
     "execution_count": 13,
     "metadata": {},
     "output_type": "execute_result"
    }
   ],
   "source": [
    "shark.date.value_counts()"
   ]
  },
  {
   "cell_type": "code",
   "execution_count": 14,
   "id": "23e67965",
   "metadata": {},
   "outputs": [],
   "source": [
    "patron = r'\\d{4}'\n",
    "for i, valor in enumerate(shark['date']):\n",
    "    fecha = re.search(patron, str(valor))\n",
    "    if fecha is not None:\n",
    "        shark.at[i, 'date1'] = fecha.group()\n",
    "        shark.at[i, 'date'] = 0"
   ]
  },
  {
   "cell_type": "code",
   "execution_count": 15,
   "id": "5bfa800f",
   "metadata": {},
   "outputs": [
    {
     "data": {
      "text/plain": [
       "array(['22-Jul-144', 'Woirld War II', 'Reported 26-Sep-t937',\n",
       "       'Circa 500 A.D.', '77  A.D.', 'Ca. 5 A.D.', 'Ca. 214 B.C.',\n",
       "       'Ca. 336.B.C..', '493 B.C.', 'Ca. 725 B.C.', 'No date',\n",
       "       '\"Before the war\"', 'World War II'], dtype=object)"
      ]
     },
     "execution_count": 15,
     "metadata": {},
     "output_type": "execute_result"
    }
   ],
   "source": [
    "valores_unicos = shark.loc[(shark['date'] != 0) & (shark['date'] != '0'), 'date'].unique()\n",
    "valores_unicos"
   ]
  },
  {
   "cell_type": "code",
   "execution_count": 16,
   "id": "e4b39104",
   "metadata": {},
   "outputs": [],
   "source": [
    "shark.loc[shark['date'] == '\"Before the war\"', 'date1'] = '01-Sep-1939'\n",
    "shark.loc[shark['date'] == '\"Before the war\"', 'date'] = '0'"
   ]
  },
  {
   "cell_type": "code",
   "execution_count": 17,
   "id": "9c42d9c0",
   "metadata": {},
   "outputs": [],
   "source": [
    "shark.loc[shark['date'] == 'World War II', 'date1'] = '02-Sep-1945'\n",
    "shark.loc[shark['date'] == 'World War II', 'date'] = '0'"
   ]
  },
  {
   "cell_type": "code",
   "execution_count": 18,
   "id": "49455596",
   "metadata": {},
   "outputs": [],
   "source": [
    "shark.loc[shark['date'] == 'Woirld War II', 'date1'] = '02-Sep-1945'\n",
    "shark.loc[shark['date'] == 'Woirld War II', 'date'] = '0'"
   ]
  },
  {
   "cell_type": "code",
   "execution_count": 19,
   "id": "c106d3c8",
   "metadata": {},
   "outputs": [],
   "source": [
    "shark.loc[shark['date'] == 'Reported 26-Sep-t937', 'date1'] = '26-Sep-1937'\n",
    "shark.loc[shark['date'] == 'Reported 26-Sep-t937', 'date'] = '0'"
   ]
  },
  {
   "cell_type": "code",
   "execution_count": 20,
   "id": "f908c2df",
   "metadata": {},
   "outputs": [],
   "source": [
    "shark.loc[shark['date'] == 'No date', 'date1'] = '01-Ene-1900'\n",
    "shark.loc[shark['date'] == 'No date', 'date'] = '0'"
   ]
  },
  {
   "cell_type": "code",
   "execution_count": 21,
   "id": "d4f0107e",
   "metadata": {},
   "outputs": [],
   "source": [
    "shark.loc[shark['date'] == '22-Jul-144', 'date1'] = '22-Jul-1944'\n",
    "shark.loc[shark['date'] == '22-Jul-144', 'date'] = '0'"
   ]
  },
  {
   "cell_type": "code",
   "execution_count": 22,
   "id": "bb8a45f4",
   "metadata": {},
   "outputs": [
    {
     "data": {
      "text/plain": [
       "array(['Circa 500 A.D.', '77  A.D.', 'Ca. 5 A.D.', 'Ca. 214 B.C.',\n",
       "       'Ca. 336.B.C..', '493 B.C.', 'Ca. 725 B.C.'], dtype=object)"
      ]
     },
     "execution_count": 22,
     "metadata": {},
     "output_type": "execute_result"
    }
   ],
   "source": [
    "valores_unicos = shark.loc[(shark['date'] != 0) & (shark['date'] != '0'), 'date'].unique()\n",
    "valores_unicos"
   ]
  },
  {
   "cell_type": "code",
   "execution_count": 23,
   "id": "12765a41",
   "metadata": {},
   "outputs": [
    {
     "data": {
      "text/plain": [
       "7"
      ]
     },
     "execution_count": 23,
     "metadata": {},
     "output_type": "execute_result"
    }
   ],
   "source": [
    "valores_unicos.size"
   ]
  },
  {
   "cell_type": "markdown",
   "id": "a7c379e5",
   "metadata": {},
   "source": [
    "Como son solo 7 valores no lo considero representativo y los igualo a 01-Ene-1900"
   ]
  },
  {
   "cell_type": "code",
   "execution_count": 24,
   "id": "3fd74e3a",
   "metadata": {},
   "outputs": [],
   "source": [
    "shark['date'] = shark['date1']"
   ]
  },
  {
   "cell_type": "code",
   "execution_count": 25,
   "id": "9ad70b09",
   "metadata": {},
   "outputs": [
    {
     "data": {
      "text/plain": [
       "7"
      ]
     },
     "execution_count": 25,
     "metadata": {},
     "output_type": "execute_result"
    }
   ],
   "source": [
    "shark.date.isna().sum()"
   ]
  },
  {
   "cell_type": "code",
   "execution_count": 26,
   "id": "396dfbed",
   "metadata": {},
   "outputs": [],
   "source": [
    "shark.date.fillna('01-Ene-1900', inplace=True)"
   ]
  },
  {
   "cell_type": "code",
   "execution_count": 27,
   "id": "64a3969b",
   "metadata": {},
   "outputs": [
    {
     "data": {
      "text/plain": [
       "1"
      ]
     },
     "execution_count": 27,
     "metadata": {},
     "output_type": "execute_result"
    }
   ],
   "source": [
    "repetidos(shark, 'date')"
   ]
  },
  {
   "cell_type": "markdown",
   "id": "87888e9e",
   "metadata": {},
   "source": [
    "---"
   ]
  },
  {
   "cell_type": "markdown",
   "id": "a9fd61ce",
   "metadata": {},
   "source": [
    "# Year"
   ]
  },
  {
   "cell_type": "code",
   "execution_count": 28,
   "id": "477784cb",
   "metadata": {},
   "outputs": [
    {
     "data": {
      "text/plain": [
       "0     2018.0\n",
       "1     2018.0\n",
       "2     2018.0\n",
       "3     2018.0\n",
       "4     2018.0\n",
       "5     2018.0\n",
       "6     2018.0\n",
       "7     2018.0\n",
       "8     2018.0\n",
       "9     2018.0\n",
       "10    2018.0\n",
       "11    2018.0\n",
       "12    2018.0\n",
       "13    2018.0\n",
       "14    2018.0\n",
       "15    2018.0\n",
       "16    2018.0\n",
       "17    2018.0\n",
       "18    2018.0\n",
       "19    2018.0\n",
       "Name: year, dtype: float64"
      ]
     },
     "execution_count": 28,
     "metadata": {},
     "output_type": "execute_result"
    }
   ],
   "source": [
    "shark.year[:20]"
   ]
  },
  {
   "cell_type": "code",
   "execution_count": 29,
   "id": "fa7e28f0",
   "metadata": {},
   "outputs": [],
   "source": [
    "shark['year'] = shark['year'].astype('int16')"
   ]
  },
  {
   "cell_type": "code",
   "execution_count": 30,
   "id": "b730452e",
   "metadata": {},
   "outputs": [
    {
     "data": {
      "text/plain": [
       "array([2018, 2017, 2016, 2015, 2014, 2013, 2012, 2011, 2010, 2009, 2008,\n",
       "       2007, 2006, 2005, 2004, 2003, 2002, 2001, 2000, 1999, 1998, 1997,\n",
       "       1996, 1995, 1984, 1994, 1993, 1992, 1991, 1990, 1989, 1969, 1988,\n",
       "       1987, 1986, 1985, 1983, 1982, 1981, 1980, 1979, 1978, 1977, 1976,\n",
       "       1975, 1974, 1973, 1972, 1971, 1970, 1968, 1967, 1966, 1965, 1964,\n",
       "       1963, 1962, 1961, 1960, 1959, 1958, 1957, 1956, 1955, 1954, 1953,\n",
       "       1952, 1951, 1950, 1949, 1948, 1848, 1947, 1946, 1945, 1944, 1943,\n",
       "       1942, 1941, 1940, 1939, 1938, 1937, 1936, 1935, 1934, 1933, 1932,\n",
       "       1931, 1930, 1929, 1928, 1927, 1926, 1925, 1924, 1923, 1922, 1921,\n",
       "       1920, 1919, 1918, 1917, 1916, 1915, 1914, 1913, 1912, 1911, 1910,\n",
       "       1909, 1908, 1907, 1906, 1905, 1904, 1903, 1902, 1901, 1900, 1899,\n",
       "       1898, 1897, 1896, 1895, 1894, 1893, 1892, 1891, 1890, 1889, 1888,\n",
       "       1887, 1886, 1885, 1884, 1883, 1882, 1881, 1880, 1879, 1878, 1877,\n",
       "       1876, 1875, 1874, 1873, 1872, 1871, 1870, 1869, 1868, 1867, 1866,\n",
       "       1865, 1864, 1863, 1862, 1861, 1860, 1859, 1858, 1857, 1856, 1855,\n",
       "       1853, 1852, 1851, 1850, 1849, 1847, 1846, 1845, 1844, 1842, 1841,\n",
       "       1840, 1839, 1837, 1836, 1835, 1834, 1832, 1831, 1830, 1829, 1828,\n",
       "       1827, 1826, 1825, 1823, 1822, 1819, 1818, 1817, 1816, 1815, 1812,\n",
       "       1811, 1810, 1808, 1807, 1805, 1804, 1803, 1802, 1801, 1800, 1797,\n",
       "       1792, 1791, 1788, 1787, 1786, 1785, 1784, 1783, 1780, 1779, 1776,\n",
       "       1771, 1767, 1764, 1758, 1753, 1751, 1749, 1755, 1748, 1742, 1738,\n",
       "       1733, 1723, 1721, 1703, 1700, 1642, 1638, 1637, 1617, 1595, 1580,\n",
       "       1555, 1554, 1543,  500,   77,    5,    0], dtype=int16)"
      ]
     },
     "execution_count": 30,
     "metadata": {},
     "output_type": "execute_result"
    }
   ],
   "source": [
    "shark.year.unique()"
   ]
  },
  {
   "cell_type": "code",
   "execution_count": 31,
   "id": "e4be82ee",
   "metadata": {},
   "outputs": [
    {
     "data": {
      "text/plain": [
       "1"
      ]
     },
     "execution_count": 31,
     "metadata": {},
     "output_type": "execute_result"
    }
   ],
   "source": [
    "repetidos(shark, 'year')"
   ]
  },
  {
   "cell_type": "markdown",
   "id": "9b1c14e7",
   "metadata": {},
   "source": [
    "---"
   ]
  },
  {
   "cell_type": "markdown",
   "id": "747d6888",
   "metadata": {},
   "source": [
    "# Type"
   ]
  },
  {
   "cell_type": "code",
   "execution_count": 32,
   "id": "93807819",
   "metadata": {},
   "outputs": [
    {
     "data": {
      "text/plain": [
       "0          Boating\n",
       "1       Unprovoked\n",
       "2          Invalid\n",
       "3       Unprovoked\n",
       "4         Provoked\n",
       "5       Unprovoked\n",
       "6       Unprovoked\n",
       "7       Unprovoked\n",
       "8       Unprovoked\n",
       "9       Unprovoked\n",
       "10        Provoked\n",
       "11      Unprovoked\n",
       "12      Unprovoked\n",
       "13         Invalid\n",
       "14        Provoked\n",
       "15      Unprovoked\n",
       "16    Questionable\n",
       "17      Unprovoked\n",
       "18      Unprovoked\n",
       "19      Unprovoked\n",
       "Name: type, dtype: object"
      ]
     },
     "execution_count": 32,
     "metadata": {},
     "output_type": "execute_result"
    }
   ],
   "source": [
    "shark.type[:20]"
   ]
  },
  {
   "cell_type": "code",
   "execution_count": 33,
   "id": "fcb99216",
   "metadata": {},
   "outputs": [
    {
     "data": {
      "text/plain": [
       "array(['Boating', 'Unprovoked', 'Invalid', 'Provoked', 'Questionable',\n",
       "       'Sea Disaster', 'unknown', 'Boat', 'Boatomg'], dtype=object)"
      ]
     },
     "execution_count": 33,
     "metadata": {},
     "output_type": "execute_result"
    }
   ],
   "source": [
    "shark.type.unique()"
   ]
  },
  {
   "cell_type": "code",
   "execution_count": 34,
   "id": "00f3376a",
   "metadata": {},
   "outputs": [],
   "source": [
    "shark.loc[shark['type'] == 'Boatomg', 'type'] = 'Boat'"
   ]
  },
  {
   "cell_type": "code",
   "execution_count": 35,
   "id": "0eea2567",
   "metadata": {},
   "outputs": [
    {
     "data": {
      "text/plain": [
       "array(['Boating', 'Unprovoked', 'Invalid', 'Provoked', 'Questionable',\n",
       "       'Sea Disaster', 'unknown', 'Boat'], dtype=object)"
      ]
     },
     "execution_count": 35,
     "metadata": {},
     "output_type": "execute_result"
    }
   ],
   "source": [
    "shark.type.unique()"
   ]
  },
  {
   "cell_type": "code",
   "execution_count": 36,
   "id": "315f8881",
   "metadata": {},
   "outputs": [
    {
     "data": {
      "text/plain": [
       "1"
      ]
     },
     "execution_count": 36,
     "metadata": {},
     "output_type": "execute_result"
    }
   ],
   "source": [
    "repetidos(shark, 'type')"
   ]
  },
  {
   "cell_type": "markdown",
   "id": "af29dbbd",
   "metadata": {},
   "source": [
    "---"
   ]
  },
  {
   "cell_type": "markdown",
   "id": "37682c20",
   "metadata": {},
   "source": [
    "# Country"
   ]
  },
  {
   "cell_type": "code",
   "execution_count": 37,
   "id": "4ef78323",
   "metadata": {},
   "outputs": [
    {
     "data": {
      "text/plain": [
       "0              USA\n",
       "1              USA\n",
       "2              USA\n",
       "3        AUSTRALIA\n",
       "4           MEXICO\n",
       "5        AUSTRALIA\n",
       "6           BRAZIL\n",
       "7              USA\n",
       "8              USA\n",
       "9              USA\n",
       "10       AUSTRALIA\n",
       "11             USA\n",
       "12             USA\n",
       "13         ENGLAND\n",
       "14       AUSTRALIA\n",
       "15    SOUTH AFRICA\n",
       "16       AUSTRALIA\n",
       "17        THAILAND\n",
       "18      COSTA RICA\n",
       "19       AUSTRALIA\n",
       "Name: country, dtype: object"
      ]
     },
     "execution_count": 37,
     "metadata": {},
     "output_type": "execute_result"
    }
   ],
   "source": [
    "shark.country[:20]"
   ]
  },
  {
   "cell_type": "code",
   "execution_count": 38,
   "id": "c03beddc",
   "metadata": {},
   "outputs": [
    {
     "data": {
      "text/plain": [
       "array(['USA', 'AUSTRALIA', 'MEXICO', 'BRAZIL', 'ENGLAND', 'SOUTH AFRICA',\n",
       "       'THAILAND', 'COSTA RICA', 'MALDIVES', 'BAHAMAS', 'NEW CALEDONIA',\n",
       "       'ECUADOR', 'MALAYSIA', 'LIBYA', 'unknown', 'CUBA', 'MAURITIUS',\n",
       "       'NEW ZEALAND', 'SPAIN', 'SAMOA', 'SOLOMON ISLANDS', 'JAPAN',\n",
       "       'EGYPT', 'ST HELENA, British overseas territory', 'COMOROS',\n",
       "       'REUNION', 'FRENCH POLYNESIA', 'UNITED KINGDOM',\n",
       "       'UNITED ARAB EMIRATES', 'PHILIPPINES', 'INDONESIA', 'CHINA',\n",
       "       'COLUMBIA', 'CAPE VERDE', 'Fiji', 'DOMINICAN REPUBLIC',\n",
       "       'CAYMAN ISLANDS', 'ARUBA', 'MOZAMBIQUE', 'FIJI', 'PUERTO RICO',\n",
       "       'ITALY', 'ATLANTIC OCEAN', 'GREECE', 'ST. MARTIN', 'FRANCE',\n",
       "       'PAPUA NEW GUINEA', 'TRINIDAD & TOBAGO', 'KIRIBATI', 'ISRAEL',\n",
       "       'DIEGO GARCIA', 'TAIWAN', 'JAMAICA', 'PALESTINIAN TERRITORIES',\n",
       "       'GUAM', 'SEYCHELLES', 'BELIZE', 'NIGERIA', 'TONGA', 'SCOTLAND',\n",
       "       'CANADA', 'CROATIA', 'SAUDI ARABIA', 'CHILE', 'ANTIGUA', 'KENYA',\n",
       "       'RUSSIA', 'TURKS & CAICOS', 'UNITED ARAB EMIRATES (UAE)', 'AZORES',\n",
       "       'SOUTH KOREA', 'MALTA', 'VIETNAM', 'MADAGASCAR', 'PANAMA',\n",
       "       'SOMALIA', 'NEVIS', 'BRITISH VIRGIN ISLANDS', 'NORWAY', 'SENEGAL',\n",
       "       'YEMEN', 'GULF OF ADEN', 'Sierra Leone', 'ST. MAARTIN',\n",
       "       'GRAND CAYMAN', 'Seychelles', 'LIBERIA', 'VANUATU', 'MEXICO ',\n",
       "       'HONDURAS', 'VENEZUELA', 'SRI LANKA', ' TONGA', 'URUGUAY', 'INDIA',\n",
       "       'MICRONESIA', 'CARIBBEAN SEA', 'OKINAWA', 'TANZANIA',\n",
       "       'MARSHALL ISLANDS', 'EGYPT / ISRAEL', 'NORTHERN ARABIAN SEA',\n",
       "       'HONG KONG', 'EL SALVADOR', 'ANGOLA', 'BERMUDA', 'MONTENEGRO',\n",
       "       'IRAN', 'TUNISIA', 'NAMIBIA', 'NORTH ATLANTIC OCEAN', 'PORTUGAL',\n",
       "       'SOUTH CHINA SEA', 'BANGLADESH', 'PALAU', 'WESTERN SAMOA',\n",
       "       'PACIFIC OCEAN ', 'BRITISH ISLES', 'GRENADA', 'IRAQ', 'TURKEY',\n",
       "       'SINGAPORE', 'NEW BRITAIN', 'SUDAN', 'JOHNSTON ISLAND',\n",
       "       'SOUTH PACIFIC OCEAN', 'NEW GUINEA', 'RED SEA',\n",
       "       'NORTH PACIFIC OCEAN', 'FEDERATED STATES OF MICRONESIA',\n",
       "       'MID ATLANTIC OCEAN', 'ADMIRALTY ISLANDS', 'BRITISH WEST INDIES',\n",
       "       'SOUTH ATLANTIC OCEAN', 'PERSIAN GULF', 'RED SEA / INDIAN OCEAN',\n",
       "       'PACIFIC OCEAN', 'NORTH SEA', 'NICARAGUA ', 'MALDIVE ISLANDS',\n",
       "       'AMERICAN SAMOA', 'ANDAMAN / NICOBAR ISLANDAS', 'GABON', 'MAYOTTE',\n",
       "       'NORTH ATLANTIC OCEAN ', 'THE BALKANS', 'SUDAN?', 'ARGENTINA',\n",
       "       'MARTINIQUE', 'INDIAN OCEAN', 'GUATEMALA', 'NETHERLANDS ANTILLES',\n",
       "       'NORTHERN MARIANA ISLANDS', 'IRAN / IRAQ', 'JAVA', 'SIERRA LEONE',\n",
       "       ' PHILIPPINES', 'NICARAGUA', 'CENTRAL PACIFIC',\n",
       "       'SOLOMON ISLANDS / VANUATU', 'SOUTHWEST PACIFIC OCEAN',\n",
       "       'BAY OF BENGAL', 'MID-PACIFC OCEAN', 'SLOVENIA', 'CURACAO',\n",
       "       'ICELAND', 'ITALY / CROATIA', 'BARBADOS', 'MONACO', 'GUYANA',\n",
       "       'HAITI', 'SAN DOMINGO', 'IRELAND', 'KUWAIT', 'YEMEN ',\n",
       "       'REUNION ISLAND', 'FALKLAND ISLANDS', 'CRETE', 'CYPRUS', 'EGYPT ',\n",
       "       'WEST INDIES', 'BURMA', 'LEBANON', 'PARAGUAY',\n",
       "       'BRITISH NEW GUINEA', 'CEYLON', 'OCEAN', 'GEORGIA', 'SYRIA',\n",
       "       'TUVALU', 'INDIAN OCEAN?', 'GUINEA', 'ANDAMAN ISLANDS',\n",
       "       'EQUATORIAL GUINEA / CAMEROON', 'COOK ISLANDS', 'TOBAGO', 'PERU',\n",
       "       'AFRICA', 'ALGERIA', 'Coast of AFRICA', 'TASMAN SEA', 'GHANA',\n",
       "       'GREENLAND', 'MEDITERRANEAN SEA', 'SWEDEN', 'ROATAN',\n",
       "       'Between PORTUGAL & INDIA', 'DJIBOUTI', 'BAHREIN', 'KOREA',\n",
       "       'RED SEA?', 'ASIA?', 'CEYLON (SRI LANKA)'], dtype=object)"
      ]
     },
     "execution_count": 38,
     "metadata": {},
     "output_type": "execute_result"
    }
   ],
   "source": [
    "shark.country.unique()"
   ]
  },
  {
   "cell_type": "code",
   "execution_count": 39,
   "id": "d8ac6367",
   "metadata": {},
   "outputs": [],
   "source": [
    "shark.country = [e.lower() for e in shark.country]"
   ]
  },
  {
   "cell_type": "code",
   "execution_count": 40,
   "id": "cedef157",
   "metadata": {},
   "outputs": [
    {
     "data": {
      "text/plain": [
       "array(['usa', 'australia', 'mexico', 'brazil', 'england', 'south africa',\n",
       "       'thailand', 'costa rica', 'maldives', 'bahamas', 'new caledonia',\n",
       "       'ecuador', 'malaysia', 'libya', 'unknown', 'cuba', 'mauritius',\n",
       "       'new zealand', 'spain', 'samoa', 'solomon islands', 'japan',\n",
       "       'egypt', 'st helena, british overseas territory', 'comoros',\n",
       "       'reunion', 'french polynesia', 'united kingdom',\n",
       "       'united arab emirates', 'philippines', 'indonesia', 'china',\n",
       "       'columbia', 'cape verde', 'fiji', 'dominican republic',\n",
       "       'cayman islands', 'aruba', 'mozambique', 'puerto rico', 'italy',\n",
       "       'atlantic ocean', 'greece', 'st. martin', 'france',\n",
       "       'papua new guinea', 'trinidad & tobago', 'kiribati', 'israel',\n",
       "       'diego garcia', 'taiwan', 'jamaica', 'palestinian territories',\n",
       "       'guam', 'seychelles', 'belize', 'nigeria', 'tonga', 'scotland',\n",
       "       'canada', 'croatia', 'saudi arabia', 'chile', 'antigua', 'kenya',\n",
       "       'russia', 'turks & caicos', 'united arab emirates (uae)', 'azores',\n",
       "       'south korea', 'malta', 'vietnam', 'madagascar', 'panama',\n",
       "       'somalia', 'nevis', 'british virgin islands', 'norway', 'senegal',\n",
       "       'yemen', 'gulf of aden', 'sierra leone', 'st. maartin',\n",
       "       'grand cayman', 'liberia', 'vanuatu', 'mexico ', 'honduras',\n",
       "       'venezuela', 'sri lanka', ' tonga', 'uruguay', 'india',\n",
       "       'micronesia', 'caribbean sea', 'okinawa', 'tanzania',\n",
       "       'marshall islands', 'egypt / israel', 'northern arabian sea',\n",
       "       'hong kong', 'el salvador', 'angola', 'bermuda', 'montenegro',\n",
       "       'iran', 'tunisia', 'namibia', 'north atlantic ocean', 'portugal',\n",
       "       'south china sea', 'bangladesh', 'palau', 'western samoa',\n",
       "       'pacific ocean ', 'british isles', 'grenada', 'iraq', 'turkey',\n",
       "       'singapore', 'new britain', 'sudan', 'johnston island',\n",
       "       'south pacific ocean', 'new guinea', 'red sea',\n",
       "       'north pacific ocean', 'federated states of micronesia',\n",
       "       'mid atlantic ocean', 'admiralty islands', 'british west indies',\n",
       "       'south atlantic ocean', 'persian gulf', 'red sea / indian ocean',\n",
       "       'pacific ocean', 'north sea', 'nicaragua ', 'maldive islands',\n",
       "       'american samoa', 'andaman / nicobar islandas', 'gabon', 'mayotte',\n",
       "       'north atlantic ocean ', 'the balkans', 'sudan?', 'argentina',\n",
       "       'martinique', 'indian ocean', 'guatemala', 'netherlands antilles',\n",
       "       'northern mariana islands', 'iran / iraq', 'java', ' philippines',\n",
       "       'nicaragua', 'central pacific', 'solomon islands / vanuatu',\n",
       "       'southwest pacific ocean', 'bay of bengal', 'mid-pacifc ocean',\n",
       "       'slovenia', 'curacao', 'iceland', 'italy / croatia', 'barbados',\n",
       "       'monaco', 'guyana', 'haiti', 'san domingo', 'ireland', 'kuwait',\n",
       "       'yemen ', 'reunion island', 'falkland islands', 'crete', 'cyprus',\n",
       "       'egypt ', 'west indies', 'burma', 'lebanon', 'paraguay',\n",
       "       'british new guinea', 'ceylon', 'ocean', 'georgia', 'syria',\n",
       "       'tuvalu', 'indian ocean?', 'guinea', 'andaman islands',\n",
       "       'equatorial guinea / cameroon', 'cook islands', 'tobago', 'peru',\n",
       "       'africa', 'algeria', 'coast of africa', 'tasman sea', 'ghana',\n",
       "       'greenland', 'mediterranean sea', 'sweden', 'roatan',\n",
       "       'between portugal & india', 'djibouti', 'bahrein', 'korea',\n",
       "       'red sea?', 'asia?', 'ceylon (sri lanka)'], dtype=object)"
      ]
     },
     "execution_count": 40,
     "metadata": {},
     "output_type": "execute_result"
    }
   ],
   "source": [
    "shark.country.unique()"
   ]
  },
  {
   "cell_type": "code",
   "execution_count": 41,
   "id": "bd3e6ec1",
   "metadata": {},
   "outputs": [
    {
     "data": {
      "text/plain": [
       "1"
      ]
     },
     "execution_count": 41,
     "metadata": {},
     "output_type": "execute_result"
    }
   ],
   "source": [
    "repetidos(shark, 'country')"
   ]
  },
  {
   "cell_type": "markdown",
   "id": "d91c58eb",
   "metadata": {},
   "source": [
    "Los datos parecen consistentes, por lo que los voy a dejar así, en caso de necesitarlo más adelante profundizaré más."
   ]
  },
  {
   "cell_type": "markdown",
   "id": "232b254c",
   "metadata": {},
   "source": [
    "---"
   ]
  },
  {
   "cell_type": "markdown",
   "id": "536befe0",
   "metadata": {},
   "source": [
    "# Area"
   ]
  },
  {
   "cell_type": "code",
   "execution_count": 42,
   "id": "9157a171",
   "metadata": {},
   "outputs": [
    {
     "data": {
      "text/plain": [
       "0                California\n",
       "1                   Georgia\n",
       "2                    Hawaii\n",
       "3           New South Wales\n",
       "4                    Colima\n",
       "5           New South Wales\n",
       "6                Pernambuco\n",
       "7                   Florida\n",
       "8                   Florida\n",
       "9                   Florida\n",
       "10               Queensland\n",
       "11           South Carolina\n",
       "12           South Carolina\n",
       "13                 Cornwall\n",
       "14        Westerm Australia\n",
       "15    Eastern Cape Province\n",
       "16          New South Wales\n",
       "17                  Hua Hin\n",
       "18             Cocos Island\n",
       "19        Western Australia\n",
       "Name: area, dtype: object"
      ]
     },
     "execution_count": 42,
     "metadata": {},
     "output_type": "execute_result"
    }
   ],
   "source": [
    "shark.area[:20]"
   ]
  },
  {
   "cell_type": "code",
   "execution_count": 43,
   "id": "ad7de8b7",
   "metadata": {},
   "outputs": [
    {
     "data": {
      "text/plain": [
       "array(['California', 'Georgia', 'Hawaii', 'New South Wales', 'Colima',\n",
       "       'Pernambuco', 'Florida', 'Queensland', 'South Carolina',\n",
       "       'Cornwall', 'Westerm Australia', 'Eastern Cape Province',\n",
       "       'Hua Hin', 'Cocos Island', 'Western Australia',\n",
       "       'Alifu Alifu Atoll', 'Western Cape Province', 'New Providence',\n",
       "       'Alagoas', 'unknown', 'Victoria', 'KwaZulu-Natal',\n",
       "       'Boi Island, Victoria', 'Galapagos Islands', 'Fernando de Noronha',\n",
       "       'Sepang', 'Holquin Province', 'Pamplemousses ', 'South Australia',\n",
       "       'North Island', 'New York', 'Canary Islands', ' Upolu Island',\n",
       "       'Shizuoka Prefecture', 'Texas', 'Castellón', 'Massachusetts',\n",
       "       'Red Sea Protectorate', 'New Providence District',\n",
       "       '40 miles off Grand Bahama Island', 'Ascension Island',\n",
       "       'New Jersey', 'Majorca', 'Washington', 'Tabasco', 'Anjouan',\n",
       "       'Ibiza Island', 'Marquesas', 'South Devon', 'New Providence ',\n",
       "       'Sharjah, ', 'Baja California Sur', 'Saint-Leu', 'South Island',\n",
       "       'Luzon Island', 'Great Exuma', 'Saint-Andre', 'Bimini', 'Bali',\n",
       "       'Tuamotos', 'Oregon', 'North Province', 'New Providence Island',\n",
       "       'Alicante Province', 'Hong Kong', 'Kochi Prefecture', 'Tasmania',\n",
       "       'Abaco Islands', 'Alabama', 'North Carolina', 'Isla Provedencia',\n",
       "       'Suez', 'Grand Terre', 'Boa Vista Island', 'Vanua Levu',\n",
       "       'Santa Catarina State', 'South Province', 'Altagracia Province',\n",
       "       'Grand Cayman', 'Balneário Camboriú', 'Fujairah Emirate',\n",
       "       'Grand Canary Island', 'Inhambane Province', 'Phuket', 'Alicante',\n",
       "       'Guanacaste', 'Bora Bora', 'Grand Bahama Island', 'Le Port',\n",
       "       'Rangiroa', 'Saint-Gilles-les-Bains', 'Sardinia', 'Sinaloa',\n",
       "       'Central Tuamotu', 'd’Étang-Salé', 'Granada',\n",
       "       'Cargados Carajos Shoals (St. Brandon)', 'Moorea', 'Catalonia',\n",
       "       'Maryland', 'Louisiana', 'West End', 'Delaware',\n",
       "       'Atsumi peninsula', 'Palmyra Atoll', 'Wallis and Futuna',\n",
       "       'Baie de Sainte-Marie', 'Society Islands', 'Trinidad',\n",
       "       'Okinawa Prefecture', '740 miles SE of Tarawa Atoll',\n",
       "       'Southern District', 'Bay of Biscay', 'Quintana Roo',\n",
       "       'Exuma Islands', 'Saint-Paul', 'Taitung ', 'Kingston Parish',\n",
       "       'Santa Cruz Island', 'Saint-Gilles', 'Tuamotus', 'Eleuthera',\n",
       "       'St. Catherine', 'Palawan', 'Mercury Islands', 'Delta', \"Vava'u\",\n",
       "       'Inner Hebrides', 'Saint Leu', 'Trois-Bassins', 'British Colombia',\n",
       "       'Guerrero', 'Saint-Benoit', 'Tabuk Province',\n",
       "       'Antofagasta Province', \"St John's\", 'Santa Elena',\n",
       "       'East New Britain', 'Bois-Blanc ', 'Moray', 'Puerto Rico',\n",
       "       'Samaná Province', 'Coast Province', 'Central Province',\n",
       "       'Primorsky Krai',\n",
       "       'Peter the Great Bay, Khasan, Primorsky Krai (Far East)',\n",
       "       'Telyakovsky Bay, Khasan,  Primorsky Krai (Far East)', 'Praslin',\n",
       "       'Sucre', 'Middle Caicos', 'Caicos Bank', 'San Andrés archipelago',\n",
       "       'Kedah', 'Umm al Qaywayan Province', 'Vitu Levu',\n",
       "       'South Sinai Peninsula', ' Loyalty Islands', 'Saint Gilles ',\n",
       "       'Maine', 'Virginia', \"Ha'api \", 'Western Province',\n",
       "       'Jeju Province', 'Binh Dinh Province', 'Antsiranana Province',\n",
       "       'Sinai Peninsula', 'Off Vanua Levu', 'Merizo', 'Rio Grande Do Sul',\n",
       "       'Dubai', 'Torres Strait', 'Eastern Province',\n",
       "       'Eastern Cape  Province', 'Maputo Province', 'Bocas', 'Fife',\n",
       "       'Devon', 'Makira-Ulawa Province', 'Mombasa', 'Catalunya',\n",
       "       'St. Johns Reef', 'Off Green Island', 'North Region',\n",
       "       'Batangas province', 'Strait of Malacca', 'Guantanamo Province',\n",
       "       'Maranhão', 'Red Sea', 'Batanes Provine', 'Luzon',\n",
       "       'Northern Territory', ' Split-Dalmatia Count,', 'North Devon',\n",
       "       'US Virgin Islands', 'San Carlos', 'Cabo San Lucas', 'Sussex',\n",
       "       'Bahia', 'Easter Ross', 'Guerro', 'Yasawa Islands',\n",
       "       'Northern Bahamas', 'Tokyo Bay', 'Baja California', 'Green Bay',\n",
       "       'Loyalty Islands', 'Marovo Lagoon',\n",
       "       'Territory of Cocos (Keeling) Islands', 'Oslo Fjord', 'Kent',\n",
       "       'Bird Island', 'Providenciales', 'Bimini Islands',\n",
       "       'Muhafazat Hadramawt', 'Cook islans', 'Surigao del Norte',\n",
       "       'Between Somalia & Yemen', 'Ambergris Caye', 'Saint-Pierre',\n",
       "       'Kentucky', 'Andros Islands', 'Guam', 'Western Area',\n",
       "       '300 miles from Antigua', '800 miles from land',\n",
       "       '600 nm west of the Canary Islands', 'Simpson Bay', 'East Wall',\n",
       "       'Inner Islands', 'Shanghai', 'Malampa Province',\n",
       "       \"South Ch'ungch'ong Province\", 'Bay Islands', 'New Mexico',\n",
       "       'Santa Isabel Province', 'Santiago de Cuba Province',\n",
       "       'Camaguey Province', 'Conservatória District', 'South Carolina ',\n",
       "       'Kuril Islands in the Pacific', 'Wakayama Prefecture',\n",
       "       \"Nuku'alofa\", 'Saint-Benoît',\n",
       "       'South Island, near Karitane north of Dunedin', 'Rocha',\n",
       "       'Northlands', 'Anzoategui', 'Cook Islands', 'Tamil Nadu',\n",
       "       'Pearl Islands', 'Taveuni', 'Johnston Atoll', 'Baatan',\n",
       "       'Rio de Janeiro', 'Nueva Esparta', 'Southland',\n",
       "       'North Pacific coast', 'Caroline Islands', 'Cheshire',\n",
       "       'Louisiade Archipelago',\n",
       "       'KwaZulu-Natal between Port Edward and Port St Johns',\n",
       "       'Milne Bay Province', 'Cikobia Island (north of Vanua Levu)',\n",
       "       'Rayong Province', 'Zamboanga del Sur Province',\n",
       "       'Rio Grande de Norte',\n",
       "       'Off the western coast of peninsular Malaysia', 'New Brunswick',\n",
       "       'Miyako Island', 'Alaska', 'Minerva Reef', 'Madang Province',\n",
       "       'Worcestershire', 'Phang nga Province', 'Alinglaplap Atoll',\n",
       "       'Adriatic Sea', 'Ralik Chain', 'Grand Baie',\n",
       "       \"L' Etang Salé-les-Bains\", 'Southern Japan', 'Cap Vert Peninsula',\n",
       "       'Marches region', 'Berry Islands', 'Transvaal', 'Gaza',\n",
       "       \"Grand'Anse\", 'Beaufonds', 'Miyako', \"L'Etang-Sale\",\n",
       "       'Chatham Islands ', 'South Sinai, Gulf of Aqaba', 'Cat Cay',\n",
       "       'Missouri', '12 miles off the north coast', 'Saint-Paul ',\n",
       "       'Chatham Islands, east of New  Zealand', 'Saint-Denis', 'Vava’u',\n",
       "       'Mississippi', 'Clearwater Bay', 'New Territories',\n",
       "       'Aichi Prefecture', 'Tafea Province', 'Kagoshima Prefecture',\n",
       "       'Saint-Joseph', 'Banaadir Region', 'La Libertad', 'Costa Blanca',\n",
       "       'Walkers Cay', 'On the Kowloon penisula, south of Sai Kung',\n",
       "       'Ehime Prefecture', 'Tongapatu Group', 'West Africa',\n",
       "       'Wakaya Island', 'North Carolina ', 'Mexico / Caribbean Sea',\n",
       "       'Antarctic Ocean', 'La Saline-les-Bains', 'Sea of Japan',\n",
       "       'Tavenui', 'Ligurian Sea', \"L'Etang-Salé\", 'Kowloon Peninsula',\n",
       "       'Port Shelter', 'Laucala Island', 'Sainte-Marie',\n",
       "       'Great Exuma Island', 'Sainte-Suzanne', 'Tuscany',\n",
       "       'Tyrrhenian Sea', 'New Ireland', 'Valpariso Province',\n",
       "       'Viscayan Sea', 'Manfredonia ', 'Tokyo Prefecture', 'Saint-Louis',\n",
       "       'Mindoro', 'Between DR and Puerto Rico',\n",
       "       'Between Honiara & Isabel Island', 'Florida Straits',\n",
       "       'Gulf of Lyons', 'Cádiz', 'Sicily', 'Andikira Fokithes',\n",
       "       'Central Philippines', 'Rhode Island', 'Northwest Italy',\n",
       "       'English Channel', 'North & South Carolina', 'Kumamoto Prefecture',\n",
       "       'Biserta', 'Saint-Philippe', 'Chungnam', 'Eronogo Region',\n",
       "       'Coquimbo', 'Pagasitikos Gulf', \"St. Mary's Parish\",\n",
       "       'Romblon Province', 'Lamu Archipelago', 'Los Vilos',\n",
       "       'Island of Kos', \"Ha'api\", 'Madeira Islands',\n",
       "       'Ho Ha Wan Marine Park', 'Southern Thailand', 'Golfo de Venezia',\n",
       "       'Ralik Archipelago', 'South China Sea 200 miles from Hong Kong',\n",
       "       'Reggio Calabria Province', 'Mirs Bay ', 'Genoa Province',\n",
       "       'Ganges-Brahmaputra delta', ' Split-Dalmatia County', 'Florida ',\n",
       "       'Primorje-Gorski Kotar County ', 'Aulong Island',\n",
       "       'Western Caroline Islands', 'Upolu Island', 'Antibes',\n",
       "       'Illeginni Atoll', 'Istria County', 'Between Beira & Maputo',\n",
       "       'Khuzestan Province', 'Inhambe Province', 'Namonuito Atoll',\n",
       "       'Eastern Caroline Islands',\n",
       "       'Western Caroline Islands (North Pacific Ocean)', 'Caribbean Sea',\n",
       "       'St. Andrew Parish', '200 nm southeast of Manila', 'Limpopo River',\n",
       "       'New Ireland Province', 'Zadar County', 'Basrah', 'Clarendon',\n",
       "       'Moro Gulf', 'Johor', 'Magdalena Department', 'Mafia Island',\n",
       "       'Gulf Province', 'Morobe Province', 'Limón Province',\n",
       "       'Rombion Province', 'Veracruz', 'Brindisi Province',\n",
       "       'Kagawa Prefecture', 'Liguria', 'Hamilton', 'Out Islands',\n",
       "       'Mugla Province', 'Gibraltar', 'New Britain', 'Bay of Maputo',\n",
       "       'Duke of York Islands', 'Taranto province', 'Northern Taiwan',\n",
       "       'Admiralty Islands, Manus Province', 'North Sumatra',\n",
       "       \"250 miles southwest of O'ahu, Hawaii\", 'West coast', 'East Sepik',\n",
       "       'Near Bougainville (North Solomons)', 'East of the Gulf of Aqaba',\n",
       "       'Bougainville (North Solomons)', 'Victoria ', 'Okayama Prefecture',\n",
       "       'San Blas', 'Connecticut', 'Lau Group', 'Caribbean Coast',\n",
       "       'Vita Levu', 'San Blas Islands', 'Puntarenas Province',\n",
       "       'Lomaloma, Lau', 'Between Southampton & Canary Islands',\n",
       "       'South Coast, East New Britain', ' Lau Province', 'Ysabel Island',\n",
       "       'Santo Domingo', 'San Blas coast', 'Thessaly',\n",
       "       'Lomaiviti  Island Group', 'Rodrigues', 'Manus Island',\n",
       "       'Pinas Bay', 'Grand Turk Island', 'Off coast of West Africa',\n",
       "       'Sharon', 'Antalya Province', 'Northern District',\n",
       "       'New Ireland Province, Bismarck Archipelago', 'Cyclades',\n",
       "       'Viti Levu', 'Off the Coromandel Peninsula, North Island',\n",
       "       'Madang', 'Guadalcanal Province', '10ºS, 142ºE', 'Kwajalein Atoll',\n",
       "       'East Flores', 'Guerrrero', 'Western Luzon Island',\n",
       "       'Shefa Province', '165  miles from Bermuda',\n",
       "       '25 km off the coast of Iran & 483km from mouth of Persian Gulf',\n",
       "       'Venice Province', 'Sandaun Province', 'Anatolia',\n",
       "       'East New Britain Province', 'United Arab Emirates',\n",
       "       'Wake Island (EnenKio)', '19S, 178?E', 'Pennsylvania',\n",
       "       '9.35N 79.35W', 'Roncador Bank', 'Western District',\n",
       "       'Enroute from Suez to Aden (Yemen)',\n",
       "       '180 miles southeast of Okinawa', 'Eniwetok Atoll',\n",
       "       'Cap-Vert Peninsula', 'Delagoa Bay', 'In the English Channel ',\n",
       "       'Cook Strait', 'Unknown, treated at Wick, SCOTLAND',\n",
       "       'Corregidor Island', 'Paget', '33N, 68W', 'Casamance',\n",
       "       'Madang (WO)', 'Between Timor & Darwin, Australia',\n",
       "       'Pacific coast', 'St. Georges ', 'Eastern  Province',\n",
       "       'Northwest of Viti Levu', 'West New Britain Province',\n",
       "       'Rigo subdistrict', 'Masbate', '400 miles southeast of Sri Lanka',\n",
       "       'Lomaiviti Province', 'Kadavu', 'Leyte Island', 'Orissa',\n",
       "       'Hokkaido Prefecture', 'North Palawan', 'Queaon', 'Istria',\n",
       "       'PANAMA', 'In the Gulf Stream ', 'Mersin Province', 'Guyamas',\n",
       "       'Between England & South Africa', 'Mindanao',\n",
       "       ' Kikori River mouth', 'South Chungcheong Province',\n",
       "       'Ahirkapi coast', 'Tutuila Island', 'Primorje-Gorski Kotar County',\n",
       "       'Between Hawaii & Wake Island', 'Taipei Hsien',\n",
       "       'Ibaraki Prefecture', 'South Pacific Ocean', 'Canal Zone',\n",
       "       '1,000 miles east of Hawaii', 'Honiara', 'Yucatan Channel',\n",
       "       'Havana Province', 'Karun River',\n",
       "       'Abau Subdistrict,Central Province',\n",
       "       'New Britain, Bismarck Archipelago', 'Estuaire Province',\n",
       "       'Near Dakar, Cap Vert Peninsula',\n",
       "       'Near the Andaman & Nicobar Islands', 'Mozambique Channel',\n",
       "       'Tyrrenian Sea', 'Congreve Channel', 'St. Thomas Bay', 'Madeira',\n",
       "       'Between Comores & Madagascar', 'Corfu Island',\n",
       "       '1000 miles west of Hawaii', 'Izo Islands',\n",
       "       ' Primorje-Gorski Kotar County', 'Open sea', 'Aden',\n",
       "       'New Ireland, Bismarck Archipelago', '18S / 50E', 'Illinois',\n",
       "       'Isles del Rosario', 'Wake Island', 'Isle of Man',\n",
       "       'Nagasaki Prefecture', 'Liguaria', 'Slovenia', 'South shore ',\n",
       "       'Buenos Aires Province', '330 to 350 miles east of Wake Island',\n",
       "       'Nova Scotia', 'Gulf of Panama', 'Genoa  Province',\n",
       "       'Abau Sub District, Central Province', 'Teramo', 'Red Sea State',\n",
       "       'Curacao', 'Port Louis Province', 'Montserrado', 'Bay of Maputu',\n",
       "       'Sofala Province', 'Salerno', 'Salerno Province', 'Taranto',\n",
       "       'Naples Province', ' La Libertad', 'Sago Prefecture', 'Savona',\n",
       "       'Southern Province', 'Jakarta Harbour', 'Singapore Harbor',\n",
       "       'Calabria', 'Shatt-el-Arab River', 'Shatt-al-Arab River',\n",
       "       'Tamaulipas', 'Calvados Archipelago', 'Shat-Al-Arab River',\n",
       "       'Between Kwajalein Atoll & Johnston Island', 'Attica',\n",
       "       'Adana Province', 'Bandar Ma’shur sea inlet', 'Saipan',\n",
       "       'Carpathian Sea', 'Kwajalein', 'Dar-es-Salaam ',\n",
       "       '\"Head of the Gulf\"', 'Ryukyu', ' North Carolina',\n",
       "       'In transit between Tinian and Leyte', 'Northern Java', 'Tel Aviv',\n",
       "       'Colon Province', '300 miles east of Luzon',\n",
       "       'Bernardino Strait near Gulf of Leyte',\n",
       "       'Off Samar Island in the Gulf of Leyte',\n",
       "       'Lake Nicaragua (fresh water)', 'Pacific Ocean',\n",
       "       'Near the Fiji Islands', '40 miles south of Naples ',\n",
       "       'Northwest of Papua New Guinea', 'Between Hawaii and U.S.A.',\n",
       "       'Off South American coast', 'Makora-Ulawa Province',\n",
       "       '04.05N-13.23W', 'Midway Atoll',\n",
       "       '300 miles east of St. Thomas (Virgin Islands)',\n",
       "       'West of Ceylon (Sri  Lanka)', 'East Java', 'Camiguin Island',\n",
       "       'Cay Sal Bank', '(Southwestern Pacific)', 'Panama City',\n",
       "       'Off Libya', 'North of Pernambuco, Brazil', 'Off coast of Ecuador',\n",
       "       'Trelawney Province', 'In Convoy OB 274', 'New Georgia',\n",
       "       'Panama Bay (Pacific Ocean)', 'Bwagaoia', 'Western Papuan Gulf',\n",
       "       'Torres Strait ', 'Carabobo', 'Ascension Bay', 'North China',\n",
       "       'Lower San Juan River', 'Nicoya Peninsula', 'Basrah City',\n",
       "       'West Bengal', 'Queensland ', 'Argyllshire', 'Arran', 'Argyll',\n",
       "       'Fishing Grounds', 'Newfoundland', 'Isle of Wight',\n",
       "       'Makira-Uluwa Province', 'Northern (Oro) Province', 'Herzliyah',\n",
       "       'Elqui Province', 'Istanbul', 'St Michael Parish',\n",
       "       'Barlavento Islands', 'Viti Levu Island', 'Bay of Fundy', 'Manila',\n",
       "       'French Southern Territories', 'Niua ', 'Black River',\n",
       "       'Phoenix Islands', 'Cienfuegos Province', 'Valencia',\n",
       "       'Santiago Island', 'Near Puntarenas', 'Porto Seguro',\n",
       "       'Salinas Bay', 'Golfo di Genova in the Ligurian Sea',\n",
       "       'Sants-Montjic', 'South of the Equator ', 'Bay of Monaco',\n",
       "       'Valencia ', 'Vancouver',\n",
       "       '2 to 3 miles off Taboguilla Island, Pacific Ocean', 'Dorset',\n",
       "       '150 miles offshore', 'Galica', 'Demerara County', 'Vera Cruz',\n",
       "       ' Manila Bay', 'Lucy', 'East Yorkshire', 'Westmoreland Parish',\n",
       "       'Cavite Province, Luzon', 'Cape Haitien', 'Leyte', 'Halifax',\n",
       "       'Turtle Bogue', '60 miles north of San Domingo in the West Indies',\n",
       "       'Colon', 'Off Ireland', 'Mediterranean Sea', 'Gran Canaria',\n",
       "       'Apolima Strait', 'Essequibo', 'Lagos ', 'Trieste', '5aint-Denis',\n",
       "       'Viti Levu group', 'Balearics', 'Málaga ', 'Chatham Islands',\n",
       "       'Georges Bank', 'Zambesi River', 'Colón Province',\n",
       "       '30 nm from Singapore', 'Andalucia', 'Sfax',\n",
       "       'South Atlantic Ocean', 'Galicia', 'Gulf of Suez', 'Java',\n",
       "       'Tiburon Peninsula', 'Oaxaca', 'Harare Province',\n",
       "       'Khánh Hòa Province', 'Maluku Province', 'Suez Canal',\n",
       "       ' Nusa Tenggara', 'Between Noumea & Sydney',\n",
       "       'Villa Clara Province', 'Ancona Province', 'Quezon',\n",
       "       'Rio San Juan', 'Southern Cyprus', 'Syracuse', 'Western Viscayas',\n",
       "       'Mindoro Occidental', 'Negros ', 'Imperia Province', 'Muala',\n",
       "       'East coast', 'Ratak ', 'Socotra Islands', 'Off Cape Haitien',\n",
       "       'Moluccas', 'Bocas del Toro', 'Provence', 'Bay of Campeche',\n",
       "       'Rangoon', 'Bay of Bengal', 'Bayelsa State', 'South Island?',\n",
       "       'Norfolk Island', 'Brittany', 'Line Islands', 'Woodlark Islands',\n",
       "       'Munxar Reef', 'Northern Peloponnese', 'Between Perth & Colombo',\n",
       "       'Gujarat', 'Lukovo', 'Cortés', 'Gulf of California',\n",
       "       'Somewhere between Philadelphia and Hiogo, Japan', ' New Jersey',\n",
       "       \"Côte d'Azur  \", 'Maldonado coast', 'Western Banks',\n",
       "       'Andaman Islands', 'Off the coast of West Africa',\n",
       "       'Misamis Oriental', 'Strait of Messina', 'Hoogly River',\n",
       "       'Cyclades archipelago', 'Mount Lebanon',\n",
       "       'Between Hastings & Fairlight, Sussex', 'Veracruz ',\n",
       "       'Gilbert Islands', 'Lomaiviti Provine',\n",
       "       'Off the coast of South America', '22ºN, 88ºE',\n",
       "       'Matanzas Province (north coast)', 'Alpes Maritime', 'Edinburgh',\n",
       "       'Eastern Catalona', '300 miles east of Mauritius',\n",
       "       'Foveaux Strait', 'Sumatra', 'Conakry Region', 'Corfu', 'Malaga',\n",
       "       'Bonin Islands', 'Fernando Po Island', 'Mangaia Island',\n",
       "       'New York ', 'Corfu ', 'Between Australia & USA', 'Tongatapu',\n",
       "       'Norfolk', 'Island of St. Thomas', 'Cumberland', 'Sanma Province',\n",
       "       \"35º39 : 165º8'\", 'CUBA', 'Western Area ', 'Paraiba', 'Cape Coast',\n",
       "       'Rivers State', 'Maharashtra', 'St. Anne', 'St Helena',\n",
       "       \"Côte d'Azur \", 'Skagerrak arm of the North Sea',\n",
       "       'Las Perlas archipelago', 'Bardestrand', 'Southwest coast',\n",
       "       'Kerala', 'Nice & Marseilles', 'Magarita or Cubagua Islands',\n",
       "       'Ionian Sea', 'Piraeus', 'Off Thessaly', 'Bocas del Toro Province',\n",
       "       'Rocha ', 'Gulf of Tadjoura', 'Cyrenaica', 'Northern Province',\n",
       "       'Los Roques  Islands', 'Dodecanese Islands', 'Malaita Province',\n",
       "       'South Korea', 'Milne Bay  Province', 'Island of Volos',\n",
       "       'Amirante Islands', 'Kadavu Island Group', 'Toamasina Province',\n",
       "       'Riau Province', 'Bikini Atoll',\n",
       "       'Between New Ireland & New Britain', 'Ba Ria-Vung Tau  Province',\n",
       "       'Moala Island'], dtype=object)"
      ]
     },
     "execution_count": 43,
     "metadata": {},
     "output_type": "execute_result"
    }
   ],
   "source": [
    "shark.area.unique()"
   ]
  },
  {
   "cell_type": "code",
   "execution_count": 44,
   "id": "6d948cce",
   "metadata": {},
   "outputs": [
    {
     "data": {
      "text/plain": [
       "1"
      ]
     },
     "execution_count": 44,
     "metadata": {},
     "output_type": "execute_result"
    }
   ],
   "source": [
    "repetidos(shark, 'area')"
   ]
  },
  {
   "cell_type": "markdown",
   "id": "1a63ffad",
   "metadata": {},
   "source": [
    "Estos datos también parecen consistentes, por lo que también los voy a dejar así y en caso de necesitarlo más adelante profundizaré más."
   ]
  },
  {
   "cell_type": "markdown",
   "id": "264cd7bd",
   "metadata": {},
   "source": [
    "---"
   ]
  },
  {
   "cell_type": "markdown",
   "id": "25c7e56e",
   "metadata": {},
   "source": [
    "# Location"
   ]
  },
  {
   "cell_type": "code",
   "execution_count": 45,
   "id": "02bacc29",
   "metadata": {},
   "outputs": [
    {
     "data": {
      "text/plain": [
       "0                           Oceanside, San Diego County\n",
       "1                        St. Simon Island, Glynn County\n",
       "2                                          Habush, Oahu\n",
       "3                                    Arrawarra Headland\n",
       "4                                              La Ticla\n",
       "5                                    Flat Rock, Ballina\n",
       "6                                 Piedade Beach, Recife\n",
       "7     Lighhouse Point Park, Ponce Inlet, Volusia County\n",
       "8                          Cocoa Beach, Brevard  County\n",
       "9                         Daytona Beach, Volusia County\n",
       "10                                      Cairns Aquarium\n",
       "11                    Isle of Palms,  Charleston County\n",
       "12                  Hilton Head Island, Beaufort County\n",
       "13                                       Off Land's End\n",
       "14                                           Dugong Bay\n",
       "15                            Nahoon Beach, East London\n",
       "16                               Sharpes Beach, Ballina\n",
       "17                                        Sai Noi Beach\n",
       "18                                            Manuelita\n",
       "19                                         Gearys Beach\n",
       "Name: location, dtype: object"
      ]
     },
     "execution_count": 45,
     "metadata": {},
     "output_type": "execute_result"
    }
   ],
   "source": [
    "shark.location[:20]"
   ]
  },
  {
   "cell_type": "code",
   "execution_count": 46,
   "id": "d664263c",
   "metadata": {},
   "outputs": [
    {
     "data": {
      "text/plain": [
       "array(['Oceanside, San Diego County', 'St. Simon Island, Glynn County',\n",
       "       'Habush, Oahu', ..., 'Ocracoke Inlet', 'Panama Bay 8ºN, 79ºW',\n",
       "       'Below the English fort, Trincomalee'], dtype=object)"
      ]
     },
     "execution_count": 46,
     "metadata": {},
     "output_type": "execute_result"
    }
   ],
   "source": [
    "shark.location.unique()"
   ]
  },
  {
   "cell_type": "code",
   "execution_count": 47,
   "id": "66a6fb5e",
   "metadata": {},
   "outputs": [
    {
     "data": {
      "text/plain": [
       "1"
      ]
     },
     "execution_count": 47,
     "metadata": {},
     "output_type": "execute_result"
    }
   ],
   "source": [
    "repetidos(shark, 'location')"
   ]
  },
  {
   "cell_type": "markdown",
   "id": "8c9abeaf",
   "metadata": {},
   "source": [
    "---"
   ]
  },
  {
   "cell_type": "markdown",
   "id": "91ca45ba",
   "metadata": {},
   "source": [
    "# Activity"
   ]
  },
  {
   "cell_type": "code",
   "execution_count": 48,
   "id": "eee74765",
   "metadata": {},
   "outputs": [
    {
     "data": {
      "text/plain": [
       "activity\n",
       "Surfing                                   971\n",
       "Swimming                                  869\n",
       "unknown                                   544\n",
       "Fishing                                   431\n",
       "Spearfishing                              333\n",
       "                                         ... \n",
       "Playing with a frisbee in the shallows      1\n",
       "Sinking of the ferryboat Dumaguete          1\n",
       "Wreck of the Storm King                     1\n",
       "Feeding mullet to sharks                    1\n",
       "Wreck of  large double sailing canoe        1\n",
       "Name: count, Length: 1533, dtype: int64"
      ]
     },
     "execution_count": 48,
     "metadata": {},
     "output_type": "execute_result"
    }
   ],
   "source": [
    "shark.activity.value_counts()"
   ]
  },
  {
   "cell_type": "code",
   "execution_count": 49,
   "id": "649cc0b5",
   "metadata": {},
   "outputs": [
    {
     "data": {
      "text/plain": [
       "array(['Paddling', 'Standing', 'Surfing', ...,\n",
       "       'Crew swimming alongside their anchored ship',\n",
       "       '4 men were bathing', 'Wreck of  large double sailing canoe'],\n",
       "      dtype=object)"
      ]
     },
     "execution_count": 49,
     "metadata": {},
     "output_type": "execute_result"
    }
   ],
   "source": [
    "shark.activity.unique()"
   ]
  },
  {
   "cell_type": "code",
   "execution_count": 50,
   "id": "70957989",
   "metadata": {},
   "outputs": [
    {
     "data": {
      "text/plain": [
       "1"
      ]
     },
     "execution_count": 50,
     "metadata": {},
     "output_type": "execute_result"
    }
   ],
   "source": [
    "repetidos(shark, 'activity')  # Revisa la cantidad de tipos de datos diferentes que hay"
   ]
  },
  {
   "cell_type": "markdown",
   "id": "f668a524",
   "metadata": {},
   "source": [
    "---"
   ]
  },
  {
   "cell_type": "markdown",
   "id": "1ef3403b",
   "metadata": {},
   "source": [
    "# Sex"
   ]
  },
  {
   "cell_type": "code",
   "execution_count": 51,
   "id": "887a5afb",
   "metadata": {},
   "outputs": [
    {
     "data": {
      "text/plain": [
       "0     F\n",
       "1     F\n",
       "2     M\n",
       "3     M\n",
       "4     M\n",
       "5     M\n",
       "6     M\n",
       "7     M\n",
       "8     M\n",
       "9     M\n",
       "10    M\n",
       "11    M\n",
       "12    M\n",
       "13    M\n",
       "14    F\n",
       "15    M\n",
       "16    M\n",
       "17    M\n",
       "18    M\n",
       "19    M\n",
       "Name: sex, dtype: object"
      ]
     },
     "execution_count": 51,
     "metadata": {},
     "output_type": "execute_result"
    }
   ],
   "source": [
    "shark.sex[:20]"
   ]
  },
  {
   "cell_type": "code",
   "execution_count": 52,
   "id": "1cd8833e",
   "metadata": {},
   "outputs": [
    {
     "data": {
      "text/plain": [
       "array(['F', 'M', 'u', 'M ', 'lli', 'N', '.'], dtype=object)"
      ]
     },
     "execution_count": 52,
     "metadata": {},
     "output_type": "execute_result"
    }
   ],
   "source": [
    "shark.sex.unique()"
   ]
  },
  {
   "cell_type": "code",
   "execution_count": 53,
   "id": "5010a028",
   "metadata": {},
   "outputs": [
    {
     "data": {
      "text/plain": [
       "sex\n",
       "M      5094\n",
       "F       637\n",
       "u       565\n",
       "M         2\n",
       "N         2\n",
       "lli       1\n",
       ".         1\n",
       "Name: count, dtype: int64"
      ]
     },
     "execution_count": 53,
     "metadata": {},
     "output_type": "execute_result"
    }
   ],
   "source": [
    "shark.sex.value_counts()"
   ]
  },
  {
   "cell_type": "code",
   "execution_count": 54,
   "id": "c6857f34",
   "metadata": {},
   "outputs": [],
   "source": [
    "shark.loc[shark['sex'] == '.', 'sex'] = 'u'\n",
    "shark.loc[shark['sex'] == 'lli', 'sex'] = 'u'\n",
    "shark.loc[shark['sex'] == 'N', 'sex'] = 'u'"
   ]
  },
  {
   "cell_type": "code",
   "execution_count": 55,
   "id": "31cbf8bd",
   "metadata": {},
   "outputs": [
    {
     "data": {
      "text/plain": [
       "['F', 'M', 'u', 'M ']"
      ]
     },
     "execution_count": 55,
     "metadata": {},
     "output_type": "execute_result"
    }
   ],
   "source": [
    "shark['sex'].unique().tolist()"
   ]
  },
  {
   "cell_type": "code",
   "execution_count": 56,
   "id": "4aec20e5",
   "metadata": {},
   "outputs": [],
   "source": [
    "shark.loc[shark['sex'] == 'M ', 'sex'] = 'M'"
   ]
  },
  {
   "cell_type": "code",
   "execution_count": 57,
   "id": "434f4b7c",
   "metadata": {},
   "outputs": [
    {
     "data": {
      "text/plain": [
       "sex\n",
       "M    5096\n",
       "F     637\n",
       "u     569\n",
       "Name: count, dtype: int64"
      ]
     },
     "execution_count": 57,
     "metadata": {},
     "output_type": "execute_result"
    }
   ],
   "source": [
    "shark.sex.value_counts()"
   ]
  },
  {
   "cell_type": "code",
   "execution_count": 58,
   "id": "25cd18a5",
   "metadata": {},
   "outputs": [
    {
     "data": {
      "text/plain": [
       "1"
      ]
     },
     "execution_count": 58,
     "metadata": {},
     "output_type": "execute_result"
    }
   ],
   "source": [
    "repetidos(shark, 'sex')"
   ]
  },
  {
   "cell_type": "markdown",
   "id": "7126c712",
   "metadata": {},
   "source": [
    "---"
   ]
  },
  {
   "cell_type": "markdown",
   "id": "31b53e90",
   "metadata": {},
   "source": [
    "# Age"
   ]
  },
  {
   "cell_type": "code",
   "execution_count": 59,
   "id": "03023b76",
   "metadata": {},
   "outputs": [
    {
     "data": {
      "text/plain": [
       "0     57\n",
       "1     11\n",
       "2     48\n",
       "3     -1\n",
       "4     -1\n",
       "5     -1\n",
       "6     18\n",
       "7     52\n",
       "8     15\n",
       "9     12\n",
       "10    32\n",
       "11    10\n",
       "12    10\n",
       "13    21\n",
       "14    34\n",
       "15    -1\n",
       "16    -1\n",
       "17    -1\n",
       "18    30\n",
       "19    -1\n",
       "Name: age, dtype: object"
      ]
     },
     "execution_count": 59,
     "metadata": {},
     "output_type": "execute_result"
    }
   ],
   "source": [
    "shark.age[:20]"
   ]
  },
  {
   "cell_type": "code",
   "execution_count": 60,
   "id": "3ffa7778",
   "metadata": {},
   "outputs": [
    {
     "data": {
      "text/plain": [
       "array(['57', '11', '48', '-1', '18', '52', '15', '12', '32', '10', '21',\n",
       "       '34', '30', '60', '33', '29', '54', '41', '37', '56', '19', '25',\n",
       "       '69', '38', '55', '35', '46', '45', '14', '40s', '28', '20', '24',\n",
       "       '26', '49', '22', '7', '31', '17', '40', '13', '42', '3', '8',\n",
       "       '50', '16', '82', '73', '20s', '68', '51', '39', '58', 'Teen',\n",
       "       '47', '61', '65', '36', '66', '43', '60s', '9', '72', '59', '6',\n",
       "       '27', '64', '23', '71', '44', '62', '63', '70', '18months', '53',\n",
       "       '30s', '50s', 'teen', '77', '74', '28&26', '5', '86', '18or20',\n",
       "       '12or13', '46&34', '28,23&30', 'Teens', '36&26', '8or10', '84',\n",
       "       '\\xa0', nan, '30or36', '6½', '21&?', '75', '33or37', 'mid-30s',\n",
       "       '23&20', '7&31', '20?', \"60's\", '32&30', '16to18', '87', '67',\n",
       "       'Elderly', 'mid-20s', 'Ca.33', '21or26', '>50', '18to22', 'adult',\n",
       "       '9&12', '?&19', '9months', '25to35', '23&26', '1', '(adult)',\n",
       "       '33&37', '25or28', '37,67,35,27,?&27', '21,34,24&35', '30&32',\n",
       "       '50&30', '17&35', 'X', '\"middle-age\"', '13or18', '34&19', '33&26',\n",
       "       '2to3months', 'MAKELINEGREEN', '81', '\"young\"', '7or8', '78',\n",
       "       '17&16', 'F', 'Both11', '9or10', 'young', '36&23', 'A.M.', '?&14',\n",
       "       '10or12', '31or33', '2½', '13or14'], dtype=object)"
      ]
     },
     "execution_count": 60,
     "metadata": {},
     "output_type": "execute_result"
    }
   ],
   "source": [
    "shark.age.unique()"
   ]
  },
  {
   "cell_type": "code",
   "execution_count": 62,
   "id": "64e70df5",
   "metadata": {},
   "outputs": [
    {
     "data": {
      "text/plain": [
       "array(['57', '11', '48', '-1', '18', '52', '15', '12', '32', '10', '21',\n",
       "       '34', '30', '60', '33', '29', '54', '41', '37', '56', '19', '25',\n",
       "       '69', '38', '55', '35', '46', '45', '14', '40', '28', '20', '24',\n",
       "       '26', '49', '22', '7', '31', '17', '13', '42', '3', '8', '50',\n",
       "       '16', '82', '73', '68', '51', '39', '58', 'Teen', '47', '61', '65',\n",
       "       '36', '66', '43', '9', '72', '59', '6', '27', '64', '23', '71',\n",
       "       '44', '62', '63', '70', '53', 'teen', '77', '74', '5', '86',\n",
       "       'Teens', '84', '\\xa0', nan, '6½', '75', '87', '67', 'Elderly',\n",
       "       'adult', '9months', '1', '(adult)', 'X', '\"middle-age\"',\n",
       "       '2to3months', 'MAKELINEGREEN', '81', '\"young\"', '7or8', '78', 'F',\n",
       "       'young', 'A.M.', '2½'], dtype=object)"
      ]
     },
     "execution_count": 62,
     "metadata": {},
     "output_type": "execute_result"
    }
   ],
   "source": [
    "dos_num_seguidos(shark, 'age')"
   ]
  },
  {
   "cell_type": "code",
   "execution_count": 77,
   "id": "eaa28f9b",
   "metadata": {},
   "outputs": [
    {
     "data": {
      "text/plain": [
       "['X',\n",
       " '6½',\n",
       " 'young',\n",
       " 'teen',\n",
       " '\\xa0',\n",
       " 'Teens',\n",
       " nan,\n",
       " 'Teen',\n",
       " '2to3months',\n",
       " '2½',\n",
       " 'adult',\n",
       " '\"middle-age\"',\n",
       " '7or8',\n",
       " '(adult)',\n",
       " '\"young\"',\n",
       " 'MAKELINEGREEN',\n",
       " 'F',\n",
       " 'A.M.',\n",
       " 'Elderly',\n",
       " '9months']"
      ]
     },
     "execution_count": 77,
     "metadata": {},
     "output_type": "execute_result"
    }
   ],
   "source": [
    "faltan = []\n",
    "años = [str(i) for i in range(-1, 100)]\n",
    "for valor in shark['age']:\n",
    "    if valor not in años:\n",
    "        faltan.append(valor)\n",
    "faltan_unicos = list(set(faltan))\n",
    "faltan_unicos"
   ]
  },
  {
   "cell_type": "code",
   "execution_count": null,
   "id": "6d3c875c",
   "metadata": {},
   "outputs": [],
   "source": []
  },
  {
   "cell_type": "code",
   "execution_count": null,
   "id": "3b623fa4",
   "metadata": {},
   "outputs": [],
   "source": []
  },
  {
   "cell_type": "code",
   "execution_count": null,
   "id": "aac3199a",
   "metadata": {},
   "outputs": [],
   "source": []
  },
  {
   "cell_type": "code",
   "execution_count": null,
   "id": "fc768423",
   "metadata": {},
   "outputs": [],
   "source": []
  },
  {
   "cell_type": "code",
   "execution_count": null,
   "id": "6ae526ab",
   "metadata": {},
   "outputs": [],
   "source": []
  },
  {
   "cell_type": "code",
   "execution_count": null,
   "id": "c3b0bdc3",
   "metadata": {},
   "outputs": [],
   "source": []
  },
  {
   "cell_type": "code",
   "execution_count": null,
   "id": "d38f041c",
   "metadata": {},
   "outputs": [],
   "source": []
  },
  {
   "cell_type": "code",
   "execution_count": null,
   "id": "ebca6f4b",
   "metadata": {},
   "outputs": [],
   "source": []
  },
  {
   "cell_type": "code",
   "execution_count": null,
   "id": "e8c0dc29",
   "metadata": {},
   "outputs": [],
   "source": []
  },
  {
   "cell_type": "code",
   "execution_count": null,
   "id": "a04058b3",
   "metadata": {},
   "outputs": [],
   "source": []
  },
  {
   "cell_type": "code",
   "execution_count": null,
   "id": "5572131e",
   "metadata": {},
   "outputs": [],
   "source": []
  },
  {
   "cell_type": "code",
   "execution_count": null,
   "id": "db78d69d",
   "metadata": {},
   "outputs": [],
   "source": []
  },
  {
   "cell_type": "code",
   "execution_count": null,
   "id": "75c914ff",
   "metadata": {},
   "outputs": [],
   "source": []
  },
  {
   "cell_type": "code",
   "execution_count": null,
   "id": "1ac0a714",
   "metadata": {},
   "outputs": [],
   "source": []
  },
  {
   "cell_type": "code",
   "execution_count": null,
   "id": "238dccfa",
   "metadata": {},
   "outputs": [],
   "source": []
  },
  {
   "cell_type": "code",
   "execution_count": null,
   "id": "a3a05174",
   "metadata": {},
   "outputs": [],
   "source": []
  },
  {
   "cell_type": "code",
   "execution_count": null,
   "id": "d5dd86e8",
   "metadata": {},
   "outputs": [],
   "source": []
  },
  {
   "cell_type": "code",
   "execution_count": null,
   "id": "6f502cdb",
   "metadata": {},
   "outputs": [],
   "source": []
  },
  {
   "cell_type": "code",
   "execution_count": null,
   "id": "d504a92c",
   "metadata": {},
   "outputs": [],
   "source": []
  },
  {
   "cell_type": "code",
   "execution_count": null,
   "id": "66c0f9fe",
   "metadata": {},
   "outputs": [],
   "source": []
  },
  {
   "cell_type": "code",
   "execution_count": null,
   "id": "ea490868",
   "metadata": {},
   "outputs": [],
   "source": []
  },
  {
   "cell_type": "code",
   "execution_count": null,
   "id": "2b39fe3d",
   "metadata": {},
   "outputs": [],
   "source": []
  },
  {
   "cell_type": "code",
   "execution_count": null,
   "id": "a6283105",
   "metadata": {},
   "outputs": [],
   "source": []
  },
  {
   "cell_type": "code",
   "execution_count": null,
   "id": "994f13f6",
   "metadata": {},
   "outputs": [],
   "source": []
  },
  {
   "cell_type": "code",
   "execution_count": null,
   "id": "705661fa",
   "metadata": {},
   "outputs": [],
   "source": []
  },
  {
   "cell_type": "code",
   "execution_count": null,
   "id": "29316124",
   "metadata": {},
   "outputs": [],
   "source": []
  },
  {
   "cell_type": "code",
   "execution_count": null,
   "id": "9400a79d",
   "metadata": {},
   "outputs": [],
   "source": []
  },
  {
   "cell_type": "code",
   "execution_count": null,
   "id": "e2d2722e",
   "metadata": {},
   "outputs": [],
   "source": []
  },
  {
   "cell_type": "code",
   "execution_count": null,
   "id": "4dbf12b0",
   "metadata": {},
   "outputs": [],
   "source": []
  },
  {
   "cell_type": "code",
   "execution_count": null,
   "id": "7279d081",
   "metadata": {},
   "outputs": [],
   "source": []
  },
  {
   "cell_type": "code",
   "execution_count": null,
   "id": "13a67703",
   "metadata": {},
   "outputs": [],
   "source": []
  },
  {
   "cell_type": "code",
   "execution_count": null,
   "id": "eac24b03",
   "metadata": {},
   "outputs": [],
   "source": []
  },
  {
   "cell_type": "code",
   "execution_count": null,
   "id": "5d8a3bba",
   "metadata": {},
   "outputs": [],
   "source": []
  },
  {
   "cell_type": "code",
   "execution_count": null,
   "id": "9bfb3646",
   "metadata": {},
   "outputs": [],
   "source": []
  },
  {
   "cell_type": "code",
   "execution_count": null,
   "id": "d0dd0c84",
   "metadata": {},
   "outputs": [],
   "source": []
  },
  {
   "cell_type": "code",
   "execution_count": null,
   "id": "4563cc6a",
   "metadata": {},
   "outputs": [],
   "source": []
  },
  {
   "cell_type": "code",
   "execution_count": null,
   "id": "687595a3",
   "metadata": {},
   "outputs": [],
   "source": []
  },
  {
   "cell_type": "code",
   "execution_count": null,
   "id": "e5873147",
   "metadata": {},
   "outputs": [],
   "source": []
  },
  {
   "cell_type": "code",
   "execution_count": null,
   "id": "95f1039d",
   "metadata": {},
   "outputs": [],
   "source": []
  },
  {
   "cell_type": "markdown",
   "id": "0a72563e",
   "metadata": {},
   "source": [
    "# EXTRAS"
   ]
  },
  {
   "cell_type": "code",
   "execution_count": 64,
   "id": "46082f08",
   "metadata": {},
   "outputs": [],
   "source": [
    "shark['time_fhora'] = shark['time'].str.extract(r'(\\d{2}:\\d{2})', expand=False)"
   ]
  },
  {
   "cell_type": "code",
   "execution_count": 65,
   "id": "631c1982",
   "metadata": {},
   "outputs": [],
   "source": [
    "times = {\n",
    "    'Afternoon': '18:00',\n",
    "    'afternoon': '18:00',\n",
    "    'Morning': '09:00',\n",
    "    'morning': '09:00',\n",
    "    'Night': '00:00',\n",
    "    'night': '00:00',\n",
    "    'Evening': '21:00',\n",
    "    'evening': '21:00',\n",
    "}"
   ]
  },
  {
   "cell_type": "code",
   "execution_count": 66,
   "id": "9d5c6e67",
   "metadata": {},
   "outputs": [],
   "source": [
    "shark['time'] = shark['time'].replace(times, inplace=True)"
   ]
  },
  {
   "cell_type": "code",
   "execution_count": 67,
   "id": "43e19068",
   "metadata": {},
   "outputs": [
    {
     "data": {
      "text/plain": [
       "Series([], Name: count, dtype: int64)"
      ]
     },
     "execution_count": 67,
     "metadata": {},
     "output_type": "execute_result"
    }
   ],
   "source": [
    "null = shark['time_fhora'].isna()\n",
    "\n",
    "# Filtrar filas en 'col1' que no sean NaN pero 'col2' sí sea NaN\n",
    "filtro = shark.loc[null, 'time']\n",
    "\n",
    "filtro.value_counts()"
   ]
  },
  {
   "cell_type": "code",
   "execution_count": 68,
   "id": "e01d0875",
   "metadata": {},
   "outputs": [
    {
     "ename": "KeyError",
     "evalue": "'numero'",
     "output_type": "error",
     "traceback": [
      "\u001b[1;31m---------------------------------------------------------------------------\u001b[0m",
      "\u001b[1;31mKeyError\u001b[0m                                  Traceback (most recent call last)",
      "File \u001b[1;32m~\\AppData\\Local\\Programs\\Python\\Python311\\Lib\\site-packages\\pandas\\core\\indexes\\base.py:3652\u001b[0m, in \u001b[0;36mIndex.get_loc\u001b[1;34m(self, key)\u001b[0m\n\u001b[0;32m   3651\u001b[0m \u001b[38;5;28;01mtry\u001b[39;00m:\n\u001b[1;32m-> 3652\u001b[0m     \u001b[38;5;28;01mreturn\u001b[39;00m \u001b[38;5;28;43mself\u001b[39;49m\u001b[38;5;241;43m.\u001b[39;49m\u001b[43m_engine\u001b[49m\u001b[38;5;241;43m.\u001b[39;49m\u001b[43mget_loc\u001b[49m\u001b[43m(\u001b[49m\u001b[43mcasted_key\u001b[49m\u001b[43m)\u001b[49m\n\u001b[0;32m   3653\u001b[0m \u001b[38;5;28;01mexcept\u001b[39;00m \u001b[38;5;167;01mKeyError\u001b[39;00m \u001b[38;5;28;01mas\u001b[39;00m err:\n",
      "File \u001b[1;32m~\\AppData\\Local\\Programs\\Python\\Python311\\Lib\\site-packages\\pandas\\_libs\\index.pyx:147\u001b[0m, in \u001b[0;36mpandas._libs.index.IndexEngine.get_loc\u001b[1;34m()\u001b[0m\n",
      "File \u001b[1;32m~\\AppData\\Local\\Programs\\Python\\Python311\\Lib\\site-packages\\pandas\\_libs\\index.pyx:176\u001b[0m, in \u001b[0;36mpandas._libs.index.IndexEngine.get_loc\u001b[1;34m()\u001b[0m\n",
      "File \u001b[1;32mpandas\\_libs\\hashtable_class_helper.pxi:7080\u001b[0m, in \u001b[0;36mpandas._libs.hashtable.PyObjectHashTable.get_item\u001b[1;34m()\u001b[0m\n",
      "File \u001b[1;32mpandas\\_libs\\hashtable_class_helper.pxi:7088\u001b[0m, in \u001b[0;36mpandas._libs.hashtable.PyObjectHashTable.get_item\u001b[1;34m()\u001b[0m\n",
      "\u001b[1;31mKeyError\u001b[0m: 'numero'",
      "\nThe above exception was the direct cause of the following exception:\n",
      "\u001b[1;31mKeyError\u001b[0m                                  Traceback (most recent call last)",
      "Cell \u001b[1;32mIn[68], line 1\u001b[0m\n\u001b[1;32m----> 1\u001b[0m shark[(\u001b[43mshark\u001b[49m\u001b[43m[\u001b[49m\u001b[38;5;124;43m'\u001b[39;49m\u001b[38;5;124;43mnumero\u001b[39;49m\u001b[38;5;124;43m'\u001b[39;49m\u001b[43m]\u001b[49m\u001b[38;5;241m<\u001b[39m\u001b[38;5;241m87\u001b[39m) \u001b[38;5;241m&\u001b[39m (shark[\u001b[38;5;124m'\u001b[39m\u001b[38;5;124mnumero\u001b[39m\u001b[38;5;124m'\u001b[39m]\u001b[38;5;241m>\u001b[39m\u001b[38;5;241m0\u001b[39m)][\u001b[38;5;124m'\u001b[39m\u001b[38;5;124mnumero\u001b[39m\u001b[38;5;124m'\u001b[39m]\u001b[38;5;241m.\u001b[39mhist(bins\u001b[38;5;241m=\u001b[39m\u001b[38;5;241m87\u001b[39m);\n",
      "File \u001b[1;32m~\\AppData\\Local\\Programs\\Python\\Python311\\Lib\\site-packages\\pandas\\core\\frame.py:3760\u001b[0m, in \u001b[0;36mDataFrame.__getitem__\u001b[1;34m(self, key)\u001b[0m\n\u001b[0;32m   3758\u001b[0m \u001b[38;5;28;01mif\u001b[39;00m \u001b[38;5;28mself\u001b[39m\u001b[38;5;241m.\u001b[39mcolumns\u001b[38;5;241m.\u001b[39mnlevels \u001b[38;5;241m>\u001b[39m \u001b[38;5;241m1\u001b[39m:\n\u001b[0;32m   3759\u001b[0m     \u001b[38;5;28;01mreturn\u001b[39;00m \u001b[38;5;28mself\u001b[39m\u001b[38;5;241m.\u001b[39m_getitem_multilevel(key)\n\u001b[1;32m-> 3760\u001b[0m indexer \u001b[38;5;241m=\u001b[39m \u001b[38;5;28;43mself\u001b[39;49m\u001b[38;5;241;43m.\u001b[39;49m\u001b[43mcolumns\u001b[49m\u001b[38;5;241;43m.\u001b[39;49m\u001b[43mget_loc\u001b[49m\u001b[43m(\u001b[49m\u001b[43mkey\u001b[49m\u001b[43m)\u001b[49m\n\u001b[0;32m   3761\u001b[0m \u001b[38;5;28;01mif\u001b[39;00m is_integer(indexer):\n\u001b[0;32m   3762\u001b[0m     indexer \u001b[38;5;241m=\u001b[39m [indexer]\n",
      "File \u001b[1;32m~\\AppData\\Local\\Programs\\Python\\Python311\\Lib\\site-packages\\pandas\\core\\indexes\\base.py:3654\u001b[0m, in \u001b[0;36mIndex.get_loc\u001b[1;34m(self, key)\u001b[0m\n\u001b[0;32m   3652\u001b[0m     \u001b[38;5;28;01mreturn\u001b[39;00m \u001b[38;5;28mself\u001b[39m\u001b[38;5;241m.\u001b[39m_engine\u001b[38;5;241m.\u001b[39mget_loc(casted_key)\n\u001b[0;32m   3653\u001b[0m \u001b[38;5;28;01mexcept\u001b[39;00m \u001b[38;5;167;01mKeyError\u001b[39;00m \u001b[38;5;28;01mas\u001b[39;00m err:\n\u001b[1;32m-> 3654\u001b[0m     \u001b[38;5;28;01mraise\u001b[39;00m \u001b[38;5;167;01mKeyError\u001b[39;00m(key) \u001b[38;5;28;01mfrom\u001b[39;00m \u001b[38;5;21;01merr\u001b[39;00m\n\u001b[0;32m   3655\u001b[0m \u001b[38;5;28;01mexcept\u001b[39;00m \u001b[38;5;167;01mTypeError\u001b[39;00m:\n\u001b[0;32m   3656\u001b[0m     \u001b[38;5;66;03m# If we have a listlike key, _check_indexing_error will raise\u001b[39;00m\n\u001b[0;32m   3657\u001b[0m     \u001b[38;5;66;03m#  InvalidIndexError. Otherwise we fall through and re-raise\u001b[39;00m\n\u001b[0;32m   3658\u001b[0m     \u001b[38;5;66;03m#  the TypeError.\u001b[39;00m\n\u001b[0;32m   3659\u001b[0m     \u001b[38;5;28mself\u001b[39m\u001b[38;5;241m.\u001b[39m_check_indexing_error(key)\n",
      "\u001b[1;31mKeyError\u001b[0m: 'numero'"
     ]
    }
   ],
   "source": [
    "shark[(shark['numero']<87) & (shark['numero']>0)]['numero'].hist(bins=87);"
   ]
  }
 ],
 "metadata": {
  "kernelspec": {
   "display_name": "Python 3 (ipykernel)",
   "language": "python",
   "name": "python3"
  },
  "language_info": {
   "codemirror_mode": {
    "name": "ipython",
    "version": 3
   },
   "file_extension": ".py",
   "mimetype": "text/x-python",
   "name": "python",
   "nbconvert_exporter": "python",
   "pygments_lexer": "ipython3",
   "version": "3.11.1"
  }
 },
 "nbformat": 4,
 "nbformat_minor": 5
}
