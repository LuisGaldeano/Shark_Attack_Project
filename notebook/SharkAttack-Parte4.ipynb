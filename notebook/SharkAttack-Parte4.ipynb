{
 "cells": [
  {
   "cell_type": "code",
   "execution_count": 1,
   "id": "0bcbba80",
   "metadata": {},
   "outputs": [],
   "source": [
    "import pandas as pd\n",
    "import numpy as np\n",
    "import re\n",
    "import zipfile\n",
    "import pylab as plt    \n",
    "import seaborn as sns\n",
    "import sys\n",
    "from datetime import datetime, time\n",
    "from jupyterthemes import jtplot\n",
    "jtplot.style()\n",
    "\n",
    "from functions import *\n",
    "\n",
    "pd.set_option('display.max_columns', None)  # me muestre todas las columnas"
   ]
  },
  {
   "cell_type": "code",
   "execution_count": 56,
   "id": "cad92d62",
   "metadata": {},
   "outputs": [],
   "source": [
    "shark=pd.read_csv('../data/sharkattack_parte3.csv')"
   ]
  },
  {
   "cell_type": "markdown",
   "id": "e8d93b77",
   "metadata": {},
   "source": [
    "Una vez que ya esta limpia la tabla de valores nulos e inconsistentes, el siguiente paso es analizarla para encontrar la mejor manera de poder obtener información relevante para el objetivo que me he impuesto.  \n",
    "  \n",
    "El objetivo es relacionar las cinco especies de tiburones con mayor cantidad de ataques, con la actividad que estaban realizando los atacados y con las fechas en las que se producen, para así poder establecer un periodo anual en el eque incrementar la seguridad mientras se realizan las diferentes actividades.\n",
    "  \n",
    "Para ello, las principales columnas que voy a necesitar son las de:\n",
    "1. date: Ok\n",
    "2. year: Ok\n",
    "3. hora: Ok\n",
    "4. activity: Ok\n",
    "5. sex: Ok\n",
    "6. fatal: Ok\n",
    "7. species: Ok"
   ]
  },
  {
   "cell_type": "code",
   "execution_count": 57,
   "id": "75bd9e59",
   "metadata": {},
   "outputs": [
    {
     "data": {
      "text/html": [
       "<div>\n",
       "<style scoped>\n",
       "    .dataframe tbody tr th:only-of-type {\n",
       "        vertical-align: middle;\n",
       "    }\n",
       "\n",
       "    .dataframe tbody tr th {\n",
       "        vertical-align: top;\n",
       "    }\n",
       "\n",
       "    .dataframe thead th {\n",
       "        text-align: right;\n",
       "    }\n",
       "</style>\n",
       "<table border=\"1\" class=\"dataframe\">\n",
       "  <thead>\n",
       "    <tr style=\"text-align: right;\">\n",
       "      <th></th>\n",
       "      <th>casenumber</th>\n",
       "      <th>date</th>\n",
       "      <th>year</th>\n",
       "      <th>type</th>\n",
       "      <th>country</th>\n",
       "      <th>area</th>\n",
       "      <th>location</th>\n",
       "      <th>activity</th>\n",
       "      <th>name</th>\n",
       "      <th>sex</th>\n",
       "      <th>age</th>\n",
       "      <th>injury</th>\n",
       "      <th>fatal</th>\n",
       "      <th>species</th>\n",
       "      <th>investigator</th>\n",
       "      <th>pdf</th>\n",
       "      <th>href</th>\n",
       "      <th>href1</th>\n",
       "      <th>casenumber1</th>\n",
       "      <th>casenumber2</th>\n",
       "      <th>originalorder</th>\n",
       "      <th>unnamed</th>\n",
       "      <th>unnamed1</th>\n",
       "      <th>time</th>\n",
       "      <th>date1</th>\n",
       "      <th>hora</th>\n",
       "      <th>minutos</th>\n",
       "    </tr>\n",
       "  </thead>\n",
       "  <tbody>\n",
       "    <tr>\n",
       "      <th>0</th>\n",
       "      <td>2018.06.25</td>\n",
       "      <td>25-Jun-2018</td>\n",
       "      <td>2018</td>\n",
       "      <td>Boating</td>\n",
       "      <td>usa</td>\n",
       "      <td>California</td>\n",
       "      <td>Oceanside, San Diego County</td>\n",
       "      <td>Paddling</td>\n",
       "      <td>Julie Wolfe</td>\n",
       "      <td>F</td>\n",
       "      <td>57</td>\n",
       "      <td>No injury to occupant, outrigger canoe and pad...</td>\n",
       "      <td>N</td>\n",
       "      <td>White shark</td>\n",
       "      <td>R. Collier, GSAF</td>\n",
       "      <td>2018.06.25-Wolfe.pdf</td>\n",
       "      <td>http://sharkattackfile.net/spreadsheets/pdf_di...</td>\n",
       "      <td>http://sharkattackfile.net/spreadsheets/pdf_di...</td>\n",
       "      <td>2018.06.25</td>\n",
       "      <td>2018.06.25</td>\n",
       "      <td>6303</td>\n",
       "      <td>0</td>\n",
       "      <td>0</td>\n",
       "      <td>18:00:00</td>\n",
       "      <td>25-Jun-2018</td>\n",
       "      <td>18</td>\n",
       "      <td>0</td>\n",
       "    </tr>\n",
       "    <tr>\n",
       "      <th>1</th>\n",
       "      <td>2018.06.18</td>\n",
       "      <td>18-Jun-2018</td>\n",
       "      <td>2018</td>\n",
       "      <td>Unprovoked</td>\n",
       "      <td>usa</td>\n",
       "      <td>Georgia</td>\n",
       "      <td>St. Simon Island, Glynn County</td>\n",
       "      <td>Standing</td>\n",
       "      <td>Adyson McNeely</td>\n",
       "      <td>F</td>\n",
       "      <td>11</td>\n",
       "      <td>Minor injury to left thigh</td>\n",
       "      <td>N</td>\n",
       "      <td>unknown shark</td>\n",
       "      <td>K.McMurray, TrackingSharks.com</td>\n",
       "      <td>2018.06.18-McNeely.pdf</td>\n",
       "      <td>http://sharkattackfile.net/spreadsheets/pdf_di...</td>\n",
       "      <td>http://sharkattackfile.net/spreadsheets/pdf_di...</td>\n",
       "      <td>2018.06.18</td>\n",
       "      <td>2018.06.18</td>\n",
       "      <td>6302</td>\n",
       "      <td>0</td>\n",
       "      <td>0</td>\n",
       "      <td>14:00:00</td>\n",
       "      <td>18-Jun-2018</td>\n",
       "      <td>14</td>\n",
       "      <td>0</td>\n",
       "    </tr>\n",
       "    <tr>\n",
       "      <th>2</th>\n",
       "      <td>2018.06.09</td>\n",
       "      <td>09-Jun-2018</td>\n",
       "      <td>2018</td>\n",
       "      <td>Invalid</td>\n",
       "      <td>usa</td>\n",
       "      <td>Hawaii</td>\n",
       "      <td>Habush, Oahu</td>\n",
       "      <td>Surfing</td>\n",
       "      <td>John Denges</td>\n",
       "      <td>M</td>\n",
       "      <td>48</td>\n",
       "      <td>Injury to left lower leg from surfboard skeg</td>\n",
       "      <td>N</td>\n",
       "      <td>unknown shark</td>\n",
       "      <td>K.McMurray, TrackingSharks.com</td>\n",
       "      <td>2018.06.09-Denges.pdf</td>\n",
       "      <td>http://sharkattackfile.net/spreadsheets/pdf_di...</td>\n",
       "      <td>http://sharkattackfile.net/spreadsheets/pdf_di...</td>\n",
       "      <td>2018.06.09</td>\n",
       "      <td>2018.06.09</td>\n",
       "      <td>6301</td>\n",
       "      <td>0</td>\n",
       "      <td>0</td>\n",
       "      <td>07:45:00</td>\n",
       "      <td>09-Jun-2018</td>\n",
       "      <td>7</td>\n",
       "      <td>45</td>\n",
       "    </tr>\n",
       "    <tr>\n",
       "      <th>3</th>\n",
       "      <td>2018.06.08</td>\n",
       "      <td>08-Jun-2018</td>\n",
       "      <td>2018</td>\n",
       "      <td>Unprovoked</td>\n",
       "      <td>australia</td>\n",
       "      <td>New South Wales</td>\n",
       "      <td>Arrawarra Headland</td>\n",
       "      <td>Surfing</td>\n",
       "      <td>male</td>\n",
       "      <td>M</td>\n",
       "      <td>-1</td>\n",
       "      <td>Minor injury to lower leg</td>\n",
       "      <td>N</td>\n",
       "      <td>2 m shark</td>\n",
       "      <td>B. Myatt, GSAF</td>\n",
       "      <td>2018.06.08-Arrawarra.pdf</td>\n",
       "      <td>http://sharkattackfile.net/spreadsheets/pdf_di...</td>\n",
       "      <td>http://sharkattackfile.net/spreadsheets/pdf_di...</td>\n",
       "      <td>2018.06.08</td>\n",
       "      <td>2018.06.08</td>\n",
       "      <td>6300</td>\n",
       "      <td>0</td>\n",
       "      <td>0</td>\n",
       "      <td>00:01:00</td>\n",
       "      <td>08-Jun-2018</td>\n",
       "      <td>25</td>\n",
       "      <td>0</td>\n",
       "    </tr>\n",
       "    <tr>\n",
       "      <th>4</th>\n",
       "      <td>2018.06.04</td>\n",
       "      <td>04-Jun-2018</td>\n",
       "      <td>2018</td>\n",
       "      <td>Provoked</td>\n",
       "      <td>mexico</td>\n",
       "      <td>Colima</td>\n",
       "      <td>La Ticla</td>\n",
       "      <td>Free diving</td>\n",
       "      <td>Gustavo Ramos</td>\n",
       "      <td>M</td>\n",
       "      <td>-1</td>\n",
       "      <td>Lacerations to leg &amp; hand shark PROVOKED INCIDENT</td>\n",
       "      <td>N</td>\n",
       "      <td>Tiger shark, 3m</td>\n",
       "      <td>A .Kipper</td>\n",
       "      <td>2018.06.04-Ramos.pdf</td>\n",
       "      <td>http://sharkattackfile.net/spreadsheets/pdf_di...</td>\n",
       "      <td>http://sharkattackfile.net/spreadsheets/pdf_di...</td>\n",
       "      <td>2018.06.04</td>\n",
       "      <td>2018.06.04</td>\n",
       "      <td>6299</td>\n",
       "      <td>0</td>\n",
       "      <td>0</td>\n",
       "      <td>00:01:00</td>\n",
       "      <td>04-Jun-2018</td>\n",
       "      <td>25</td>\n",
       "      <td>0</td>\n",
       "    </tr>\n",
       "  </tbody>\n",
       "</table>\n",
       "</div>"
      ],
      "text/plain": [
       "   casenumber         date  year        type    country             area   \n",
       "0  2018.06.25  25-Jun-2018  2018     Boating        usa       California  \\\n",
       "1  2018.06.18  18-Jun-2018  2018  Unprovoked        usa          Georgia   \n",
       "2  2018.06.09  09-Jun-2018  2018     Invalid        usa           Hawaii   \n",
       "3  2018.06.08  08-Jun-2018  2018  Unprovoked  australia  New South Wales   \n",
       "4  2018.06.04  04-Jun-2018  2018    Provoked     mexico           Colima   \n",
       "\n",
       "                         location     activity             name sex  age   \n",
       "0     Oceanside, San Diego County     Paddling      Julie Wolfe   F   57  \\\n",
       "1  St. Simon Island, Glynn County     Standing  Adyson McNeely    F   11   \n",
       "2                    Habush, Oahu      Surfing      John Denges   M   48   \n",
       "3              Arrawarra Headland      Surfing             male   M   -1   \n",
       "4                        La Ticla  Free diving   Gustavo Ramos    M   -1   \n",
       "\n",
       "                                              injury fatal          species   \n",
       "0  No injury to occupant, outrigger canoe and pad...     N      White shark  \\\n",
       "1                         Minor injury to left thigh     N    unknown shark   \n",
       "2       Injury to left lower leg from surfboard skeg     N    unknown shark   \n",
       "3                          Minor injury to lower leg     N        2 m shark   \n",
       "4  Lacerations to leg & hand shark PROVOKED INCIDENT     N  Tiger shark, 3m   \n",
       "\n",
       "                     investigator                       pdf   \n",
       "0                R. Collier, GSAF      2018.06.25-Wolfe.pdf  \\\n",
       "1  K.McMurray, TrackingSharks.com    2018.06.18-McNeely.pdf   \n",
       "2  K.McMurray, TrackingSharks.com     2018.06.09-Denges.pdf   \n",
       "3                  B. Myatt, GSAF  2018.06.08-Arrawarra.pdf   \n",
       "4                       A .Kipper      2018.06.04-Ramos.pdf   \n",
       "\n",
       "                                                href   \n",
       "0  http://sharkattackfile.net/spreadsheets/pdf_di...  \\\n",
       "1  http://sharkattackfile.net/spreadsheets/pdf_di...   \n",
       "2  http://sharkattackfile.net/spreadsheets/pdf_di...   \n",
       "3  http://sharkattackfile.net/spreadsheets/pdf_di...   \n",
       "4  http://sharkattackfile.net/spreadsheets/pdf_di...   \n",
       "\n",
       "                                               href1 casenumber1 casenumber2   \n",
       "0  http://sharkattackfile.net/spreadsheets/pdf_di...  2018.06.25  2018.06.25  \\\n",
       "1  http://sharkattackfile.net/spreadsheets/pdf_di...  2018.06.18  2018.06.18   \n",
       "2  http://sharkattackfile.net/spreadsheets/pdf_di...  2018.06.09  2018.06.09   \n",
       "3  http://sharkattackfile.net/spreadsheets/pdf_di...  2018.06.08  2018.06.08   \n",
       "4  http://sharkattackfile.net/spreadsheets/pdf_di...  2018.06.04  2018.06.04   \n",
       "\n",
       "   originalorder  unnamed  unnamed1      time        date1  hora  minutos  \n",
       "0           6303        0         0  18:00:00  25-Jun-2018    18        0  \n",
       "1           6302        0         0  14:00:00  18-Jun-2018    14        0  \n",
       "2           6301        0         0  07:45:00  09-Jun-2018     7       45  \n",
       "3           6300        0         0  00:01:00  08-Jun-2018    25        0  \n",
       "4           6299        0         0  00:01:00  04-Jun-2018    25        0  "
      ]
     },
     "execution_count": 57,
     "metadata": {},
     "output_type": "execute_result"
    }
   ],
   "source": [
    "shark.head()"
   ]
  },
  {
   "cell_type": "markdown",
   "id": "84ba9918",
   "metadata": {},
   "source": [
    "---"
   ]
  },
  {
   "cell_type": "markdown",
   "id": "1465bd82",
   "metadata": {},
   "source": [
    "# Date"
   ]
  },
  {
   "cell_type": "code",
   "execution_count": 58,
   "id": "908b5d47",
   "metadata": {},
   "outputs": [
    {
     "data": {
      "text/plain": [
       "0    25-Jun-2018\n",
       "1    18-Jun-2018\n",
       "2    09-Jun-2018\n",
       "3    08-Jun-2018\n",
       "4    04-Jun-2018\n",
       "5    03-Jun-2018\n",
       "6    03-Jun-2018\n",
       "7    27-May-2018\n",
       "8    26-May-2018\n",
       "9    26-May-2018\n",
       "Name: date, dtype: object"
      ]
     },
     "execution_count": 58,
     "metadata": {},
     "output_type": "execute_result"
    }
   ],
   "source": [
    "shark.date[:10]"
   ]
  },
  {
   "cell_type": "code",
   "execution_count": 59,
   "id": "7b713bbf",
   "metadata": {},
   "outputs": [],
   "source": [
    "meses_dict = {'Ene': 1,'Jan': 1, 'Feb': 2, 'Mar': 3, 'Abr': 4, 'Apr': 4, 'May': 5, 'Jun': 6, 'Jul': 7, 'Ago': 8,'Aug': 8, 'Sep': 9, 'Oct': 10, 'Nov': 11, 'Dic': 12,'Dec': 12,}\n",
    "shark['mes'] = shark['date'].replace(meses_dict, regex=True)"
   ]
  },
  {
   "cell_type": "code",
   "execution_count": 60,
   "id": "aa9d1eaf",
   "metadata": {},
   "outputs": [
    {
     "data": {
      "text/html": [
       "<div>\n",
       "<style scoped>\n",
       "    .dataframe tbody tr th:only-of-type {\n",
       "        vertical-align: middle;\n",
       "    }\n",
       "\n",
       "    .dataframe tbody tr th {\n",
       "        vertical-align: top;\n",
       "    }\n",
       "\n",
       "    .dataframe thead th {\n",
       "        text-align: right;\n",
       "    }\n",
       "</style>\n",
       "<table border=\"1\" class=\"dataframe\">\n",
       "  <thead>\n",
       "    <tr style=\"text-align: right;\">\n",
       "      <th></th>\n",
       "      <th>casenumber</th>\n",
       "      <th>date</th>\n",
       "      <th>year</th>\n",
       "      <th>type</th>\n",
       "      <th>country</th>\n",
       "      <th>area</th>\n",
       "      <th>location</th>\n",
       "      <th>activity</th>\n",
       "      <th>name</th>\n",
       "      <th>sex</th>\n",
       "      <th>age</th>\n",
       "      <th>injury</th>\n",
       "      <th>fatal</th>\n",
       "      <th>species</th>\n",
       "      <th>investigator</th>\n",
       "      <th>pdf</th>\n",
       "      <th>href</th>\n",
       "      <th>href1</th>\n",
       "      <th>casenumber1</th>\n",
       "      <th>casenumber2</th>\n",
       "      <th>originalorder</th>\n",
       "      <th>unnamed</th>\n",
       "      <th>unnamed1</th>\n",
       "      <th>time</th>\n",
       "      <th>date1</th>\n",
       "      <th>hora</th>\n",
       "      <th>minutos</th>\n",
       "      <th>mes</th>\n",
       "    </tr>\n",
       "  </thead>\n",
       "  <tbody>\n",
       "    <tr>\n",
       "      <th>0</th>\n",
       "      <td>2018.06.25</td>\n",
       "      <td>25-Jun-2018</td>\n",
       "      <td>2018</td>\n",
       "      <td>Boating</td>\n",
       "      <td>usa</td>\n",
       "      <td>California</td>\n",
       "      <td>Oceanside, San Diego County</td>\n",
       "      <td>Paddling</td>\n",
       "      <td>Julie Wolfe</td>\n",
       "      <td>F</td>\n",
       "      <td>57</td>\n",
       "      <td>No injury to occupant, outrigger canoe and pad...</td>\n",
       "      <td>N</td>\n",
       "      <td>White shark</td>\n",
       "      <td>R. Collier, GSAF</td>\n",
       "      <td>2018.06.25-Wolfe.pdf</td>\n",
       "      <td>http://sharkattackfile.net/spreadsheets/pdf_di...</td>\n",
       "      <td>http://sharkattackfile.net/spreadsheets/pdf_di...</td>\n",
       "      <td>2018.06.25</td>\n",
       "      <td>2018.06.25</td>\n",
       "      <td>6303</td>\n",
       "      <td>0</td>\n",
       "      <td>0</td>\n",
       "      <td>18:00:00</td>\n",
       "      <td>25-Jun-2018</td>\n",
       "      <td>18</td>\n",
       "      <td>0</td>\n",
       "      <td>6</td>\n",
       "    </tr>\n",
       "    <tr>\n",
       "      <th>1</th>\n",
       "      <td>2018.06.18</td>\n",
       "      <td>18-Jun-2018</td>\n",
       "      <td>2018</td>\n",
       "      <td>Unprovoked</td>\n",
       "      <td>usa</td>\n",
       "      <td>Georgia</td>\n",
       "      <td>St. Simon Island, Glynn County</td>\n",
       "      <td>Standing</td>\n",
       "      <td>Adyson McNeely</td>\n",
       "      <td>F</td>\n",
       "      <td>11</td>\n",
       "      <td>Minor injury to left thigh</td>\n",
       "      <td>N</td>\n",
       "      <td>unknown shark</td>\n",
       "      <td>K.McMurray, TrackingSharks.com</td>\n",
       "      <td>2018.06.18-McNeely.pdf</td>\n",
       "      <td>http://sharkattackfile.net/spreadsheets/pdf_di...</td>\n",
       "      <td>http://sharkattackfile.net/spreadsheets/pdf_di...</td>\n",
       "      <td>2018.06.18</td>\n",
       "      <td>2018.06.18</td>\n",
       "      <td>6302</td>\n",
       "      <td>0</td>\n",
       "      <td>0</td>\n",
       "      <td>14:00:00</td>\n",
       "      <td>18-Jun-2018</td>\n",
       "      <td>14</td>\n",
       "      <td>0</td>\n",
       "      <td>6</td>\n",
       "    </tr>\n",
       "    <tr>\n",
       "      <th>2</th>\n",
       "      <td>2018.06.09</td>\n",
       "      <td>09-Jun-2018</td>\n",
       "      <td>2018</td>\n",
       "      <td>Invalid</td>\n",
       "      <td>usa</td>\n",
       "      <td>Hawaii</td>\n",
       "      <td>Habush, Oahu</td>\n",
       "      <td>Surfing</td>\n",
       "      <td>John Denges</td>\n",
       "      <td>M</td>\n",
       "      <td>48</td>\n",
       "      <td>Injury to left lower leg from surfboard skeg</td>\n",
       "      <td>N</td>\n",
       "      <td>unknown shark</td>\n",
       "      <td>K.McMurray, TrackingSharks.com</td>\n",
       "      <td>2018.06.09-Denges.pdf</td>\n",
       "      <td>http://sharkattackfile.net/spreadsheets/pdf_di...</td>\n",
       "      <td>http://sharkattackfile.net/spreadsheets/pdf_di...</td>\n",
       "      <td>2018.06.09</td>\n",
       "      <td>2018.06.09</td>\n",
       "      <td>6301</td>\n",
       "      <td>0</td>\n",
       "      <td>0</td>\n",
       "      <td>07:45:00</td>\n",
       "      <td>09-Jun-2018</td>\n",
       "      <td>7</td>\n",
       "      <td>45</td>\n",
       "      <td>6</td>\n",
       "    </tr>\n",
       "    <tr>\n",
       "      <th>3</th>\n",
       "      <td>2018.06.08</td>\n",
       "      <td>08-Jun-2018</td>\n",
       "      <td>2018</td>\n",
       "      <td>Unprovoked</td>\n",
       "      <td>australia</td>\n",
       "      <td>New South Wales</td>\n",
       "      <td>Arrawarra Headland</td>\n",
       "      <td>Surfing</td>\n",
       "      <td>male</td>\n",
       "      <td>M</td>\n",
       "      <td>-1</td>\n",
       "      <td>Minor injury to lower leg</td>\n",
       "      <td>N</td>\n",
       "      <td>2 m shark</td>\n",
       "      <td>B. Myatt, GSAF</td>\n",
       "      <td>2018.06.08-Arrawarra.pdf</td>\n",
       "      <td>http://sharkattackfile.net/spreadsheets/pdf_di...</td>\n",
       "      <td>http://sharkattackfile.net/spreadsheets/pdf_di...</td>\n",
       "      <td>2018.06.08</td>\n",
       "      <td>2018.06.08</td>\n",
       "      <td>6300</td>\n",
       "      <td>0</td>\n",
       "      <td>0</td>\n",
       "      <td>00:01:00</td>\n",
       "      <td>08-Jun-2018</td>\n",
       "      <td>25</td>\n",
       "      <td>0</td>\n",
       "      <td>6</td>\n",
       "    </tr>\n",
       "    <tr>\n",
       "      <th>4</th>\n",
       "      <td>2018.06.04</td>\n",
       "      <td>04-Jun-2018</td>\n",
       "      <td>2018</td>\n",
       "      <td>Provoked</td>\n",
       "      <td>mexico</td>\n",
       "      <td>Colima</td>\n",
       "      <td>La Ticla</td>\n",
       "      <td>Free diving</td>\n",
       "      <td>Gustavo Ramos</td>\n",
       "      <td>M</td>\n",
       "      <td>-1</td>\n",
       "      <td>Lacerations to leg &amp; hand shark PROVOKED INCIDENT</td>\n",
       "      <td>N</td>\n",
       "      <td>Tiger shark, 3m</td>\n",
       "      <td>A .Kipper</td>\n",
       "      <td>2018.06.04-Ramos.pdf</td>\n",
       "      <td>http://sharkattackfile.net/spreadsheets/pdf_di...</td>\n",
       "      <td>http://sharkattackfile.net/spreadsheets/pdf_di...</td>\n",
       "      <td>2018.06.04</td>\n",
       "      <td>2018.06.04</td>\n",
       "      <td>6299</td>\n",
       "      <td>0</td>\n",
       "      <td>0</td>\n",
       "      <td>00:01:00</td>\n",
       "      <td>04-Jun-2018</td>\n",
       "      <td>25</td>\n",
       "      <td>0</td>\n",
       "      <td>6</td>\n",
       "    </tr>\n",
       "  </tbody>\n",
       "</table>\n",
       "</div>"
      ],
      "text/plain": [
       "   casenumber         date  year        type    country             area   \n",
       "0  2018.06.25  25-Jun-2018  2018     Boating        usa       California  \\\n",
       "1  2018.06.18  18-Jun-2018  2018  Unprovoked        usa          Georgia   \n",
       "2  2018.06.09  09-Jun-2018  2018     Invalid        usa           Hawaii   \n",
       "3  2018.06.08  08-Jun-2018  2018  Unprovoked  australia  New South Wales   \n",
       "4  2018.06.04  04-Jun-2018  2018    Provoked     mexico           Colima   \n",
       "\n",
       "                         location     activity             name sex  age   \n",
       "0     Oceanside, San Diego County     Paddling      Julie Wolfe   F   57  \\\n",
       "1  St. Simon Island, Glynn County     Standing  Adyson McNeely    F   11   \n",
       "2                    Habush, Oahu      Surfing      John Denges   M   48   \n",
       "3              Arrawarra Headland      Surfing             male   M   -1   \n",
       "4                        La Ticla  Free diving   Gustavo Ramos    M   -1   \n",
       "\n",
       "                                              injury fatal          species   \n",
       "0  No injury to occupant, outrigger canoe and pad...     N      White shark  \\\n",
       "1                         Minor injury to left thigh     N    unknown shark   \n",
       "2       Injury to left lower leg from surfboard skeg     N    unknown shark   \n",
       "3                          Minor injury to lower leg     N        2 m shark   \n",
       "4  Lacerations to leg & hand shark PROVOKED INCIDENT     N  Tiger shark, 3m   \n",
       "\n",
       "                     investigator                       pdf   \n",
       "0                R. Collier, GSAF      2018.06.25-Wolfe.pdf  \\\n",
       "1  K.McMurray, TrackingSharks.com    2018.06.18-McNeely.pdf   \n",
       "2  K.McMurray, TrackingSharks.com     2018.06.09-Denges.pdf   \n",
       "3                  B. Myatt, GSAF  2018.06.08-Arrawarra.pdf   \n",
       "4                       A .Kipper      2018.06.04-Ramos.pdf   \n",
       "\n",
       "                                                href   \n",
       "0  http://sharkattackfile.net/spreadsheets/pdf_di...  \\\n",
       "1  http://sharkattackfile.net/spreadsheets/pdf_di...   \n",
       "2  http://sharkattackfile.net/spreadsheets/pdf_di...   \n",
       "3  http://sharkattackfile.net/spreadsheets/pdf_di...   \n",
       "4  http://sharkattackfile.net/spreadsheets/pdf_di...   \n",
       "\n",
       "                                               href1 casenumber1 casenumber2   \n",
       "0  http://sharkattackfile.net/spreadsheets/pdf_di...  2018.06.25  2018.06.25  \\\n",
       "1  http://sharkattackfile.net/spreadsheets/pdf_di...  2018.06.18  2018.06.18   \n",
       "2  http://sharkattackfile.net/spreadsheets/pdf_di...  2018.06.09  2018.06.09   \n",
       "3  http://sharkattackfile.net/spreadsheets/pdf_di...  2018.06.08  2018.06.08   \n",
       "4  http://sharkattackfile.net/spreadsheets/pdf_di...  2018.06.04  2018.06.04   \n",
       "\n",
       "   originalorder  unnamed  unnamed1      time        date1  hora  minutos mes  \n",
       "0           6303        0         0  18:00:00  25-Jun-2018    18        0   6  \n",
       "1           6302        0         0  14:00:00  18-Jun-2018    14        0   6  \n",
       "2           6301        0         0  07:45:00  09-Jun-2018     7       45   6  \n",
       "3           6300        0         0  00:01:00  08-Jun-2018    25        0   6  \n",
       "4           6299        0         0  00:01:00  04-Jun-2018    25        0   6  "
      ]
     },
     "execution_count": 60,
     "metadata": {},
     "output_type": "execute_result"
    }
   ],
   "source": [
    "shark.head()"
   ]
  },
  {
   "cell_type": "code",
   "execution_count": 61,
   "id": "58f831ca",
   "metadata": {},
   "outputs": [
    {
     "data": {
      "text/plain": [
       "mes\n",
       "<class 'int'>    5737\n",
       "<class 'str'>     565\n",
       "Name: count, dtype: int64"
      ]
     },
     "execution_count": 61,
     "metadata": {},
     "output_type": "execute_result"
    }
   ],
   "source": [
    "shark['mes'].apply(type).value_counts()"
   ]
  },
  {
   "cell_type": "code",
   "execution_count": 62,
   "id": "7012e7b8",
   "metadata": {},
   "outputs": [
    {
     "data": {
      "text/plain": [
       "array(['2018', '2017', '2015', '2014', '2013', '2012', '2011', '2010',\n",
       "       '2009', '2008', '2006', '2004', '2001', '2000', '1999', '1998',\n",
       "       '1996', '1995', '1994', '1993', '1992', '1991', '1990', '1989',\n",
       "       '1988', '1987', '1986', '1985', '1984', '1983', '1982', '1981',\n",
       "       '1980', '1979', '1978', '1976', '1975', '1974', '1973', '1972',\n",
       "       '1971', '1970', '1969', '1968', '1966', '1965', '1964', '1963',\n",
       "       '1962', '1961', '1960', '2176', '1959', '1958', '1957', '1956',\n",
       "       '1955', '1954', '1953', '1952', '1951', '1950', '1949', '1948',\n",
       "       '1946', '1945', '1944', '1943', '1942', '1941', '1940', '1939',\n",
       "       '1938', '1937', '1936', '1932', '1931', '1930', '1929', '1928',\n",
       "       '1927', '1926', '1925', '1923', '1922', '1920', '1919', '1918',\n",
       "       '1917', '1915', '1914', '1913', '1912', '1911', '1910', '1909',\n",
       "       '1907', '1906', '1905', '1904', '1903', '1901', '1900', '1899',\n",
       "       '1898', '1897', '1896', '1895', '1893', '1892', '1890', '1888',\n",
       "       '1887', '1886', '1883', '1882', '1881', '1880', '1879', '1878',\n",
       "       '1876', '01-mid-1870', '1874', '1872', '1871', '1870', '1868',\n",
       "       '1867', '1865', '1864', '1863', '1862', '1858', '1855', '1853',\n",
       "       '1852', '1851', '1850', '1847', '1845', '1844', '1842', '1839',\n",
       "       '1837', '1836', '1829', '1828', '1827', '1820', '1825', '1816',\n",
       "       '1815', '1812', '1806', '1803', '1802', '1800', '1797', '1791',\n",
       "       '1779', '1776', '1767', '1764', '1758', '1749', '1755', '1748',\n",
       "       '1733', '1723', '1721', '1700', '1600', '1638', '1637', '1617',\n",
       "       '1642', '1595', '1555', '1554', '1543', '2016', '1934', '1916',\n",
       "       '1908', '2003', '1902', '1921'], dtype=object)"
      ]
     },
     "execution_count": 62,
     "metadata": {},
     "output_type": "execute_result"
    }
   ],
   "source": [
    "shark.loc[shark['mes'].apply(lambda x: isinstance(x, str)), 'mes'].unique()"
   ]
  },
  {
   "cell_type": "code",
   "execution_count": 63,
   "id": "d68ae413",
   "metadata": {},
   "outputs": [
    {
     "data": {
      "text/plain": [
       "7"
      ]
     },
     "execution_count": 63,
     "metadata": {},
     "output_type": "execute_result"
    }
   ],
   "source": [
    "shark.date1.isna().sum()"
   ]
  },
  {
   "cell_type": "code",
   "execution_count": 64,
   "id": "6e6c438c",
   "metadata": {},
   "outputs": [
    {
     "data": {
      "text/plain": [
       "mes\n",
       "7       662\n",
       "8       598\n",
       "9       556\n",
       "1       528\n",
       "6       497\n",
       "       ... \n",
       "1928      1\n",
       "2013      1\n",
       "1976      1\n",
       "1865      1\n",
       "1868      1\n",
       "Name: count, Length: 199, dtype: int64"
      ]
     },
     "execution_count": 64,
     "metadata": {},
     "output_type": "execute_result"
    }
   ],
   "source": [
    "shark.mes.value_counts()"
   ]
  },
  {
   "cell_type": "code",
   "execution_count": 65,
   "id": "ab332c4a",
   "metadata": {},
   "outputs": [],
   "source": [
    "meses = [1,2,3,4,5,6,7,8,9,10,11,12]\n",
    "for i, valor in enumerate(shark['mes']):\n",
    "    if valor not in meses:\n",
    "        shark.at[i, 'mes'] = 0"
   ]
  },
  {
   "cell_type": "code",
   "execution_count": 66,
   "id": "6bbd2f00",
   "metadata": {},
   "outputs": [
    {
     "data": {
      "text/plain": [
       "mes\n",
       "7     662\n",
       "8     598\n",
       "0     565\n",
       "9     556\n",
       "1     528\n",
       "6     497\n",
       "4     451\n",
       "10    444\n",
       "12    436\n",
       "3     412\n",
       "11    407\n",
       "2     380\n",
       "5     366\n",
       "Name: count, dtype: int64"
      ]
     },
     "execution_count": 66,
     "metadata": {},
     "output_type": "execute_result"
    }
   ],
   "source": [
    "shark.mes.value_counts()"
   ]
  },
  {
   "cell_type": "markdown",
   "id": "c0ff5a6b",
   "metadata": {},
   "source": [
    "---"
   ]
  },
  {
   "cell_type": "markdown",
   "id": "6a5e30d1",
   "metadata": {},
   "source": [
    "Una vez que tengo los meses, el siguiente paso es establecer el año, para ello voy a revisar la columna de year"
   ]
  },
  {
   "cell_type": "code",
   "execution_count": 67,
   "id": "c1feb3f1",
   "metadata": {},
   "outputs": [
    {
     "data": {
      "text/plain": [
       "array([2018, 2017, 2016, 2015, 2014, 2013, 2012, 2011, 2010, 2009, 2008,\n",
       "       2007, 2006, 2005, 2004, 2003, 2002, 2001, 2000, 1999, 1998, 1997,\n",
       "       1996, 1995, 1984, 1994, 1993, 1992, 1991, 1990, 1989, 1969, 1988,\n",
       "       1987, 1986, 1985, 1983, 1982, 1981, 1980, 1979, 1978, 1977, 1976,\n",
       "       1975, 1974, 1973, 1972, 1971, 1970, 1968, 1967, 1966, 1965, 1964,\n",
       "       1963, 1962, 1961, 1960, 1959, 1958, 1957, 1956, 1955, 1954, 1953,\n",
       "       1952, 1951, 1950, 1949, 1948, 1848, 1947, 1946, 1945, 1944, 1943,\n",
       "       1942, 1941, 1940, 1939, 1938, 1937, 1936, 1935, 1934, 1933, 1932,\n",
       "       1931, 1930, 1929, 1928, 1927, 1926, 1925, 1924, 1923, 1922, 1921,\n",
       "       1920, 1919, 1918, 1917, 1916, 1915, 1914, 1913, 1912, 1911, 1910,\n",
       "       1909, 1908, 1907, 1906, 1905, 1904, 1903, 1902, 1901, 1900, 1899,\n",
       "       1898, 1897, 1896, 1895, 1894, 1893, 1892, 1891, 1890, 1889, 1888,\n",
       "       1887, 1886, 1885, 1884, 1883, 1882, 1881, 1880, 1879, 1878, 1877,\n",
       "       1876, 1875, 1874, 1873, 1872, 1871, 1870, 1869, 1868, 1867, 1866,\n",
       "       1865, 1864, 1863, 1862, 1861, 1860, 1859, 1858, 1857, 1856, 1855,\n",
       "       1853, 1852, 1851, 1850, 1849, 1847, 1846, 1845, 1844, 1842, 1841,\n",
       "       1840, 1839, 1837, 1836, 1835, 1834, 1832, 1831, 1830, 1829, 1828,\n",
       "       1827, 1826, 1825, 1823, 1822, 1819, 1818, 1817, 1816, 1815, 1812,\n",
       "       1811, 1810, 1808, 1807, 1805, 1804, 1803, 1802, 1801, 1800, 1797,\n",
       "       1792, 1791, 1788, 1787, 1786, 1785, 1784, 1783, 1780, 1779, 1776,\n",
       "       1771, 1767, 1764, 1758, 1753, 1751, 1749, 1755, 1748, 1742, 1738,\n",
       "       1733, 1723, 1721, 1703, 1700, 1642, 1638, 1637, 1617, 1595, 1580,\n",
       "       1555, 1554, 1543,  500,   77,    5,    0], dtype=int64)"
      ]
     },
     "execution_count": 67,
     "metadata": {},
     "output_type": "execute_result"
    }
   ],
   "source": [
    "shark.year.unique()"
   ]
  },
  {
   "cell_type": "code",
   "execution_count": 68,
   "id": "1f7a2072",
   "metadata": {},
   "outputs": [
    {
     "data": {
      "text/plain": [
       "(1, 1, 1, 125)"
      ]
     },
     "execution_count": 68,
     "metadata": {},
     "output_type": "execute_result"
    }
   ],
   "source": [
    "(shark['year'] == 500).sum(), (shark['year'] == 77).sum(), (shark['year'] == 5).sum(), (shark['year'] == 0).sum()"
   ]
  },
  {
   "cell_type": "markdown",
   "id": "dfe67605",
   "metadata": {},
   "source": [
    "---\n",
    "\n",
    "Una vez que tengo los ayos, el siguiente paso es establecer la hora, para ello voy a revisar la columna de hora"
   ]
  },
  {
   "cell_type": "code",
   "execution_count": 69,
   "id": "09a58448",
   "metadata": {},
   "outputs": [
    {
     "data": {
      "text/plain": [
       "array([18, 14,  7, 25, 17,  9, 15,  8, 11, 10, 16, 21, 19, 12, 13, 23,  6,\n",
       "        2, 22,  4,  5,  3, 20,  0,  1], dtype=int64)"
      ]
     },
     "execution_count": 69,
     "metadata": {},
     "output_type": "execute_result"
    }
   ],
   "source": [
    "shark.hora.unique()"
   ]
  },
  {
   "cell_type": "markdown",
   "id": "49441d52",
   "metadata": {},
   "source": [
    "Para que sea más facil de analizar lo voy a dividir en 4 franjas:\n",
    "1. Mañana: 6 - 12\n",
    "2. Tarde: 12 - 19\n",
    "3. Noche: 19 - 0\n",
    "4. Madrugada: 0 - 6"
   ]
  },
  {
   "cell_type": "code",
   "execution_count": 70,
   "id": "b2389358",
   "metadata": {},
   "outputs": [],
   "source": [
    "for valor in shark.hora:\n",
    "    if 6 <= valor < 12: \n",
    "        shark['hora'].replace(valor, 'mañana', inplace=True)\n",
    "    elif 12 <= valor < 19:\n",
    "        shark['hora'].replace(valor, 'tarde', inplace=True)\n",
    "    elif 19 <= valor <= 23:\n",
    "        shark['hora'].replace(valor, 'noche', inplace=True)\n",
    "    elif 0 <= valor < 6:\n",
    "        shark['hora'].replace(valor, 'madrugada', inplace=True)\n",
    "    else:\n",
    "        shark['hora'].replace(valor, 'unknown', inplace=True)"
   ]
  },
  {
   "cell_type": "code",
   "execution_count": 71,
   "id": "b7837b67",
   "metadata": {},
   "outputs": [
    {
     "data": {
      "text/plain": [
       "array(['tarde', 'mañana', 'unknown', 'noche', 'madrugada'], dtype=object)"
      ]
     },
     "execution_count": 71,
     "metadata": {},
     "output_type": "execute_result"
    }
   ],
   "source": [
    "shark.hora.unique()"
   ]
  },
  {
   "cell_type": "code",
   "execution_count": 72,
   "id": "6dad4ff7",
   "metadata": {},
   "outputs": [
    {
     "data": {
      "text/html": [
       "<div>\n",
       "<style scoped>\n",
       "    .dataframe tbody tr th:only-of-type {\n",
       "        vertical-align: middle;\n",
       "    }\n",
       "\n",
       "    .dataframe tbody tr th {\n",
       "        vertical-align: top;\n",
       "    }\n",
       "\n",
       "    .dataframe thead th {\n",
       "        text-align: right;\n",
       "    }\n",
       "</style>\n",
       "<table border=\"1\" class=\"dataframe\">\n",
       "  <thead>\n",
       "    <tr style=\"text-align: right;\">\n",
       "      <th></th>\n",
       "      <th>casenumber</th>\n",
       "      <th>date</th>\n",
       "      <th>year</th>\n",
       "      <th>type</th>\n",
       "      <th>country</th>\n",
       "      <th>area</th>\n",
       "      <th>location</th>\n",
       "      <th>activity</th>\n",
       "      <th>name</th>\n",
       "      <th>sex</th>\n",
       "      <th>age</th>\n",
       "      <th>injury</th>\n",
       "      <th>fatal</th>\n",
       "      <th>species</th>\n",
       "      <th>investigator</th>\n",
       "      <th>pdf</th>\n",
       "      <th>href</th>\n",
       "      <th>href1</th>\n",
       "      <th>casenumber1</th>\n",
       "      <th>casenumber2</th>\n",
       "      <th>originalorder</th>\n",
       "      <th>unnamed</th>\n",
       "      <th>unnamed1</th>\n",
       "      <th>time</th>\n",
       "      <th>date1</th>\n",
       "      <th>hora</th>\n",
       "      <th>minutos</th>\n",
       "      <th>mes</th>\n",
       "    </tr>\n",
       "  </thead>\n",
       "  <tbody>\n",
       "    <tr>\n",
       "      <th>0</th>\n",
       "      <td>2018.06.25</td>\n",
       "      <td>25-Jun-2018</td>\n",
       "      <td>2018</td>\n",
       "      <td>Boating</td>\n",
       "      <td>usa</td>\n",
       "      <td>California</td>\n",
       "      <td>Oceanside, San Diego County</td>\n",
       "      <td>Paddling</td>\n",
       "      <td>Julie Wolfe</td>\n",
       "      <td>F</td>\n",
       "      <td>57</td>\n",
       "      <td>No injury to occupant, outrigger canoe and pad...</td>\n",
       "      <td>N</td>\n",
       "      <td>White shark</td>\n",
       "      <td>R. Collier, GSAF</td>\n",
       "      <td>2018.06.25-Wolfe.pdf</td>\n",
       "      <td>http://sharkattackfile.net/spreadsheets/pdf_di...</td>\n",
       "      <td>http://sharkattackfile.net/spreadsheets/pdf_di...</td>\n",
       "      <td>2018.06.25</td>\n",
       "      <td>2018.06.25</td>\n",
       "      <td>6303</td>\n",
       "      <td>0</td>\n",
       "      <td>0</td>\n",
       "      <td>18:00:00</td>\n",
       "      <td>25-Jun-2018</td>\n",
       "      <td>tarde</td>\n",
       "      <td>0</td>\n",
       "      <td>6</td>\n",
       "    </tr>\n",
       "    <tr>\n",
       "      <th>1</th>\n",
       "      <td>2018.06.18</td>\n",
       "      <td>18-Jun-2018</td>\n",
       "      <td>2018</td>\n",
       "      <td>Unprovoked</td>\n",
       "      <td>usa</td>\n",
       "      <td>Georgia</td>\n",
       "      <td>St. Simon Island, Glynn County</td>\n",
       "      <td>Standing</td>\n",
       "      <td>Adyson McNeely</td>\n",
       "      <td>F</td>\n",
       "      <td>11</td>\n",
       "      <td>Minor injury to left thigh</td>\n",
       "      <td>N</td>\n",
       "      <td>unknown shark</td>\n",
       "      <td>K.McMurray, TrackingSharks.com</td>\n",
       "      <td>2018.06.18-McNeely.pdf</td>\n",
       "      <td>http://sharkattackfile.net/spreadsheets/pdf_di...</td>\n",
       "      <td>http://sharkattackfile.net/spreadsheets/pdf_di...</td>\n",
       "      <td>2018.06.18</td>\n",
       "      <td>2018.06.18</td>\n",
       "      <td>6302</td>\n",
       "      <td>0</td>\n",
       "      <td>0</td>\n",
       "      <td>14:00:00</td>\n",
       "      <td>18-Jun-2018</td>\n",
       "      <td>tarde</td>\n",
       "      <td>0</td>\n",
       "      <td>6</td>\n",
       "    </tr>\n",
       "    <tr>\n",
       "      <th>2</th>\n",
       "      <td>2018.06.09</td>\n",
       "      <td>09-Jun-2018</td>\n",
       "      <td>2018</td>\n",
       "      <td>Invalid</td>\n",
       "      <td>usa</td>\n",
       "      <td>Hawaii</td>\n",
       "      <td>Habush, Oahu</td>\n",
       "      <td>Surfing</td>\n",
       "      <td>John Denges</td>\n",
       "      <td>M</td>\n",
       "      <td>48</td>\n",
       "      <td>Injury to left lower leg from surfboard skeg</td>\n",
       "      <td>N</td>\n",
       "      <td>unknown shark</td>\n",
       "      <td>K.McMurray, TrackingSharks.com</td>\n",
       "      <td>2018.06.09-Denges.pdf</td>\n",
       "      <td>http://sharkattackfile.net/spreadsheets/pdf_di...</td>\n",
       "      <td>http://sharkattackfile.net/spreadsheets/pdf_di...</td>\n",
       "      <td>2018.06.09</td>\n",
       "      <td>2018.06.09</td>\n",
       "      <td>6301</td>\n",
       "      <td>0</td>\n",
       "      <td>0</td>\n",
       "      <td>07:45:00</td>\n",
       "      <td>09-Jun-2018</td>\n",
       "      <td>mañana</td>\n",
       "      <td>45</td>\n",
       "      <td>6</td>\n",
       "    </tr>\n",
       "    <tr>\n",
       "      <th>3</th>\n",
       "      <td>2018.06.08</td>\n",
       "      <td>08-Jun-2018</td>\n",
       "      <td>2018</td>\n",
       "      <td>Unprovoked</td>\n",
       "      <td>australia</td>\n",
       "      <td>New South Wales</td>\n",
       "      <td>Arrawarra Headland</td>\n",
       "      <td>Surfing</td>\n",
       "      <td>male</td>\n",
       "      <td>M</td>\n",
       "      <td>-1</td>\n",
       "      <td>Minor injury to lower leg</td>\n",
       "      <td>N</td>\n",
       "      <td>2 m shark</td>\n",
       "      <td>B. Myatt, GSAF</td>\n",
       "      <td>2018.06.08-Arrawarra.pdf</td>\n",
       "      <td>http://sharkattackfile.net/spreadsheets/pdf_di...</td>\n",
       "      <td>http://sharkattackfile.net/spreadsheets/pdf_di...</td>\n",
       "      <td>2018.06.08</td>\n",
       "      <td>2018.06.08</td>\n",
       "      <td>6300</td>\n",
       "      <td>0</td>\n",
       "      <td>0</td>\n",
       "      <td>00:01:00</td>\n",
       "      <td>08-Jun-2018</td>\n",
       "      <td>unknown</td>\n",
       "      <td>0</td>\n",
       "      <td>6</td>\n",
       "    </tr>\n",
       "    <tr>\n",
       "      <th>4</th>\n",
       "      <td>2018.06.04</td>\n",
       "      <td>04-Jun-2018</td>\n",
       "      <td>2018</td>\n",
       "      <td>Provoked</td>\n",
       "      <td>mexico</td>\n",
       "      <td>Colima</td>\n",
       "      <td>La Ticla</td>\n",
       "      <td>Free diving</td>\n",
       "      <td>Gustavo Ramos</td>\n",
       "      <td>M</td>\n",
       "      <td>-1</td>\n",
       "      <td>Lacerations to leg &amp; hand shark PROVOKED INCIDENT</td>\n",
       "      <td>N</td>\n",
       "      <td>Tiger shark, 3m</td>\n",
       "      <td>A .Kipper</td>\n",
       "      <td>2018.06.04-Ramos.pdf</td>\n",
       "      <td>http://sharkattackfile.net/spreadsheets/pdf_di...</td>\n",
       "      <td>http://sharkattackfile.net/spreadsheets/pdf_di...</td>\n",
       "      <td>2018.06.04</td>\n",
       "      <td>2018.06.04</td>\n",
       "      <td>6299</td>\n",
       "      <td>0</td>\n",
       "      <td>0</td>\n",
       "      <td>00:01:00</td>\n",
       "      <td>04-Jun-2018</td>\n",
       "      <td>unknown</td>\n",
       "      <td>0</td>\n",
       "      <td>6</td>\n",
       "    </tr>\n",
       "  </tbody>\n",
       "</table>\n",
       "</div>"
      ],
      "text/plain": [
       "   casenumber         date  year        type    country             area   \n",
       "0  2018.06.25  25-Jun-2018  2018     Boating        usa       California  \\\n",
       "1  2018.06.18  18-Jun-2018  2018  Unprovoked        usa          Georgia   \n",
       "2  2018.06.09  09-Jun-2018  2018     Invalid        usa           Hawaii   \n",
       "3  2018.06.08  08-Jun-2018  2018  Unprovoked  australia  New South Wales   \n",
       "4  2018.06.04  04-Jun-2018  2018    Provoked     mexico           Colima   \n",
       "\n",
       "                         location     activity             name sex  age   \n",
       "0     Oceanside, San Diego County     Paddling      Julie Wolfe   F   57  \\\n",
       "1  St. Simon Island, Glynn County     Standing  Adyson McNeely    F   11   \n",
       "2                    Habush, Oahu      Surfing      John Denges   M   48   \n",
       "3              Arrawarra Headland      Surfing             male   M   -1   \n",
       "4                        La Ticla  Free diving   Gustavo Ramos    M   -1   \n",
       "\n",
       "                                              injury fatal          species   \n",
       "0  No injury to occupant, outrigger canoe and pad...     N      White shark  \\\n",
       "1                         Minor injury to left thigh     N    unknown shark   \n",
       "2       Injury to left lower leg from surfboard skeg     N    unknown shark   \n",
       "3                          Minor injury to lower leg     N        2 m shark   \n",
       "4  Lacerations to leg & hand shark PROVOKED INCIDENT     N  Tiger shark, 3m   \n",
       "\n",
       "                     investigator                       pdf   \n",
       "0                R. Collier, GSAF      2018.06.25-Wolfe.pdf  \\\n",
       "1  K.McMurray, TrackingSharks.com    2018.06.18-McNeely.pdf   \n",
       "2  K.McMurray, TrackingSharks.com     2018.06.09-Denges.pdf   \n",
       "3                  B. Myatt, GSAF  2018.06.08-Arrawarra.pdf   \n",
       "4                       A .Kipper      2018.06.04-Ramos.pdf   \n",
       "\n",
       "                                                href   \n",
       "0  http://sharkattackfile.net/spreadsheets/pdf_di...  \\\n",
       "1  http://sharkattackfile.net/spreadsheets/pdf_di...   \n",
       "2  http://sharkattackfile.net/spreadsheets/pdf_di...   \n",
       "3  http://sharkattackfile.net/spreadsheets/pdf_di...   \n",
       "4  http://sharkattackfile.net/spreadsheets/pdf_di...   \n",
       "\n",
       "                                               href1 casenumber1 casenumber2   \n",
       "0  http://sharkattackfile.net/spreadsheets/pdf_di...  2018.06.25  2018.06.25  \\\n",
       "1  http://sharkattackfile.net/spreadsheets/pdf_di...  2018.06.18  2018.06.18   \n",
       "2  http://sharkattackfile.net/spreadsheets/pdf_di...  2018.06.09  2018.06.09   \n",
       "3  http://sharkattackfile.net/spreadsheets/pdf_di...  2018.06.08  2018.06.08   \n",
       "4  http://sharkattackfile.net/spreadsheets/pdf_di...  2018.06.04  2018.06.04   \n",
       "\n",
       "   originalorder  unnamed  unnamed1      time        date1     hora  minutos   \n",
       "0           6303        0         0  18:00:00  25-Jun-2018    tarde        0  \\\n",
       "1           6302        0         0  14:00:00  18-Jun-2018    tarde        0   \n",
       "2           6301        0         0  07:45:00  09-Jun-2018   mañana       45   \n",
       "3           6300        0         0  00:01:00  08-Jun-2018  unknown        0   \n",
       "4           6299        0         0  00:01:00  04-Jun-2018  unknown        0   \n",
       "\n",
       "  mes  \n",
       "0   6  \n",
       "1   6  \n",
       "2   6  \n",
       "3   6  \n",
       "4   6  "
      ]
     },
     "execution_count": 72,
     "metadata": {},
     "output_type": "execute_result"
    }
   ],
   "source": [
    "shark.head()"
   ]
  },
  {
   "cell_type": "markdown",
   "id": "d5ed24cf",
   "metadata": {},
   "source": [
    "---"
   ]
  },
  {
   "cell_type": "markdown",
   "id": "a17f3e8f",
   "metadata": {},
   "source": [
    "# Activity"
   ]
  },
  {
   "cell_type": "code",
   "execution_count": 73,
   "id": "c55e9c18",
   "metadata": {},
   "outputs": [],
   "source": [
    "shark.activity = [e.lower() for e in shark.activity]"
   ]
  },
  {
   "cell_type": "code",
   "execution_count": 74,
   "id": "46b32b62",
   "metadata": {},
   "outputs": [],
   "source": [
    "actividades = shark.activity.value_counts().to_dict()"
   ]
  },
  {
   "cell_type": "code",
   "execution_count": 77,
   "id": "3bd2c41f",
   "metadata": {},
   "outputs": [],
   "source": [
    "shark.loc[shark['activity'].str.contains('surf|board', case=False, regex=True), 'activity'] = 'surfing'\n",
    "shark.loc[shark['activity'].str.contains('div|snork', case=False, regex=True), 'activity'] = 'diving'\n",
    "shark.loc[shark['activity'].str.contains('swim|bath|wading|float', case=False, regex=True), 'activity'] = 'swimming'\n",
    "shark.loc[shark['activity'].str.contains('fish|stand|walk|tread', case=False, regex=True), 'activity'] = 'fishing'\n",
    "shark.loc[shark['activity'].str.contains('boat|sail|kaya|kite|cano|row', case=False, regex=True), 'activity'] = 'sailing'\n",
    "shark.loc[shark['activity'].str.contains('paddl', case=False, regex=True), 'activity'] = 'paddeling'"
   ]
  },
  {
   "cell_type": "markdown",
   "id": "d3dca7f8",
   "metadata": {},
   "source": [
    "El resto de casos los considero demasiado particulares y los voy a catalogar como 'other'"
   ]
  },
  {
   "cell_type": "code",
   "execution_count": 78,
   "id": "2e5b30da",
   "metadata": {},
   "outputs": [],
   "source": [
    "act = ['surfing', 'diving', 'activity', 'fishing', 'sailing', 'paddeling']\n",
    "shark['activity'] = shark['activity'].where(shark['activity'].isin(act), 'other')"
   ]
  },
  {
   "cell_type": "code",
   "execution_count": 79,
   "id": "56b89d9e",
   "metadata": {},
   "outputs": [
    {
     "data": {
      "text/plain": [
       "41.09806410663281"
      ]
     },
     "execution_count": 79,
     "metadata": {},
     "output_type": "execute_result"
    }
   ],
   "source": [
    "(shark['activity'] == 'other').mean() * 100"
   ]
  },
  {
   "cell_type": "markdown",
   "id": "f6d21c5a",
   "metadata": {},
   "source": [
    "Aunque es un % representativo, debido a la granularidad de los datos he decidido agruparlo así."
   ]
  },
  {
   "cell_type": "code",
   "execution_count": 80,
   "id": "a8f108ff",
   "metadata": {},
   "outputs": [
    {
     "data": {
      "text/plain": [
       "activity\n",
       "other        2590\n",
       "surfing      1562\n",
       "fishing      1280\n",
       "diving        674\n",
       "sailing       184\n",
       "paddeling      12\n",
       "Name: count, dtype: int64"
      ]
     },
     "execution_count": 80,
     "metadata": {},
     "output_type": "execute_result"
    }
   ],
   "source": [
    "shark.activity.value_counts()"
   ]
  },
  {
   "cell_type": "markdown",
   "id": "b7d742fe",
   "metadata": {},
   "source": [
    "---"
   ]
  },
  {
   "cell_type": "markdown",
   "id": "25ba2ea6",
   "metadata": {},
   "source": [
    "# Sex"
   ]
  },
  {
   "cell_type": "code",
   "execution_count": 81,
   "id": "e0abb8b0",
   "metadata": {},
   "outputs": [
    {
     "data": {
      "text/plain": [
       "sex\n",
       "M    5096\n",
       "F     637\n",
       "u     569\n",
       "Name: count, dtype: int64"
      ]
     },
     "execution_count": 81,
     "metadata": {},
     "output_type": "execute_result"
    }
   ],
   "source": [
    "shark.sex.value_counts()"
   ]
  },
  {
   "cell_type": "markdown",
   "id": "c477d23d",
   "metadata": {},
   "source": [
    "La columna está ya limpia y se puede trabajar con ella"
   ]
  },
  {
   "cell_type": "markdown",
   "id": "092920c8",
   "metadata": {},
   "source": [
    "---"
   ]
  },
  {
   "cell_type": "markdown",
   "id": "13ccba27",
   "metadata": {},
   "source": [
    "# Fatal"
   ]
  },
  {
   "cell_type": "code",
   "execution_count": 82,
   "id": "33ea07f1",
   "metadata": {},
   "outputs": [
    {
     "data": {
      "text/plain": [
       "fatal\n",
       "N    4301\n",
       "Y    1390\n",
       "U     611\n",
       "Name: count, dtype: int64"
      ]
     },
     "execution_count": 82,
     "metadata": {},
     "output_type": "execute_result"
    }
   ],
   "source": [
    "shark.fatal.value_counts()"
   ]
  },
  {
   "cell_type": "markdown",
   "id": "f3cfceab",
   "metadata": {},
   "source": [
    "La columna está ya limpia y se puede trabajar con ella"
   ]
  },
  {
   "cell_type": "markdown",
   "id": "1b0dbaaa",
   "metadata": {},
   "source": [
    "---"
   ]
  },
  {
   "cell_type": "markdown",
   "id": "145506ba",
   "metadata": {},
   "source": [
    "# Species"
   ]
  },
  {
   "cell_type": "code",
   "execution_count": 83,
   "id": "5ba1dce7",
   "metadata": {},
   "outputs": [
    {
     "data": {
      "text/plain": [
       "species\n",
       "unknown shark                                                                                                                    2838\n",
       "White shark                                                                                                                       163\n",
       "Shark involvement prior to death was not confirmed                                                                                105\n",
       "Invalid                                                                                                                           102\n",
       "Shark involvement not confirmed                                                                                                    88\n",
       "                                                                                                                                 ... \n",
       "1.2 m to 1.5 m [4.5' to 5'] shark                                                                                                   1\n",
       "Bull shark, 2.3 m [7.5']                                                                                                            1\n",
       "0.9 m  [3'] shark                                                                                                                   1\n",
       "Mako shark, 14'                                                                                                                     1\n",
       "Said to involve a grey nurse shark that leapt out of the water and  seized the boy but species identification is questionable       1\n",
       "Name: count, Length: 1550, dtype: int64"
      ]
     },
     "execution_count": 83,
     "metadata": {},
     "output_type": "execute_result"
    }
   ],
   "source": [
    "shark.species.value_counts()"
   ]
  },
  {
   "cell_type": "code",
   "execution_count": 84,
   "id": "1de30635",
   "metadata": {},
   "outputs": [
    {
     "data": {
      "text/plain": [
       "0        White shark\n",
       "1      unknown shark\n",
       "2      unknown shark\n",
       "3          2 m shark\n",
       "4    Tiger shark, 3m\n",
       "5      unknown shark\n",
       "6        Tiger shark\n",
       "7    Lemon shark, 3'\n",
       "8     Bull shark, 6'\n",
       "9      unknown shark\n",
       "Name: species, dtype: object"
      ]
     },
     "execution_count": 84,
     "metadata": {},
     "output_type": "execute_result"
    }
   ],
   "source": [
    "shark.species[:10]"
   ]
  },
  {
   "cell_type": "code",
   "execution_count": 85,
   "id": "82d5369e",
   "metadata": {},
   "outputs": [],
   "source": [
    "shark.loc[shark['species'].str.contains('not c', case=False, regex=True), 'species'] = 'unknown shark'"
   ]
  },
  {
   "cell_type": "markdown",
   "id": "5f2299b1",
   "metadata": {},
   "source": [
    "Al igual que en la columna hora, para que sea más facil de analizar lo voy a agrupar en las 6 especiens más representativas:\n",
    "  \n",
    "Según una rápida investigación en internet las 6 especies que más atacan a los humanos son:\n",
    "  \n",
    "1. White Shark\n",
    "2. Tiger shark\n",
    "3. Spinner shark\n",
    "4. Bull shark\n",
    "5. Reef shark\n",
    "6. Hammerhead shark\n",
    "  \n",
    "Así que las agruparé según esa lista y a los que no se puedan agrupar así, los calificaré de other shark"
   ]
  },
  {
   "cell_type": "code",
   "execution_count": 86,
   "id": "9b23d57f",
   "metadata": {},
   "outputs": [
    {
     "data": {
      "text/plain": [
       "species\n",
       "unknown shark                                                                                                                    3064\n",
       "White shark                                                                                                                       163\n",
       "Invalid                                                                                                                           102\n",
       "Tiger shark                                                                                                                        73\n",
       "Shark involvement prior to death unconfirmed                                                                                       68\n",
       "                                                                                                                                 ... \n",
       "Spinner shark, 1.2 m to 1.5 m [4' to 5']                                                                                            1\n",
       "1 m shark, possibly whitetip reef shark                                                                                             1\n",
       "Possibly a 1.5 m [5'] blacktip or spinner shark                                                                                     1\n",
       "White shark, 2.7 m to 3 m [9' to 10']                                                                                               1\n",
       "Said to involve a grey nurse shark that leapt out of the water and  seized the boy but species identification is questionable       1\n",
       "Name: count, Length: 1532, dtype: int64"
      ]
     },
     "execution_count": 86,
     "metadata": {},
     "output_type": "execute_result"
    }
   ],
   "source": [
    "shark.species.value_counts()"
   ]
  },
  {
   "cell_type": "code",
   "execution_count": 87,
   "id": "553af813",
   "metadata": {},
   "outputs": [],
   "source": [
    "shark.species = [e.lower() for e in shark.species]"
   ]
  },
  {
   "cell_type": "code",
   "execution_count": 88,
   "id": "fc078260",
   "metadata": {},
   "outputs": [],
   "source": [
    "shark.loc[shark['species'].str.contains('not c|invalid', case=False, regex=True), 'species'] = 'unknown shark'\n",
    "shark.loc[shark['species'].str.contains('white', case=False, regex=True), 'species'] = 'white shark'\n",
    "shark.loc[shark['species'].str.contains('tiger', case=False, regex=True), 'species'] = 'tiger shark'\n",
    "shark.loc[shark['species'].str.contains('spinner', case=False, regex=True), 'species'] = 'spinner shark'\n",
    "shark.loc[shark['species'].str.contains('bull', case=False, regex=True), 'species'] = 'bull shark'\n",
    "shark.loc[shark['species'].str.contains('reef', case=False, regex=True), 'species'] = 'reef shark'\n",
    "shark.loc[shark['species'].str.contains('hamme', case=False, regex=True), 'species'] = 'hammerhead shark'"
   ]
  },
  {
   "cell_type": "code",
   "execution_count": 89,
   "id": "090f527c",
   "metadata": {},
   "outputs": [],
   "source": [
    "act = ['white shark', 'tiger shark', 'spinner shark', 'bull shark', 'reef shark', 'hammerhead shark', 'unknown shark']\n",
    "shark['species'] = shark['species'].where(shark['species'].isin(act), 'other shark')"
   ]
  },
  {
   "cell_type": "code",
   "execution_count": 90,
   "id": "073ceee7",
   "metadata": {},
   "outputs": [
    {
     "data": {
      "text/plain": [
       "species\n",
       "unknown shark       3167\n",
       "other shark         1849\n",
       "white shark          666\n",
       "tiger shark          283\n",
       "bull shark           177\n",
       "reef shark            64\n",
       "spinner shark         48\n",
       "hammerhead shark      48\n",
       "Name: count, dtype: int64"
      ]
     },
     "execution_count": 90,
     "metadata": {},
     "output_type": "execute_result"
    }
   ],
   "source": [
    "shark.species.value_counts()"
   ]
  },
  {
   "cell_type": "markdown",
   "id": "9466ce0c",
   "metadata": {},
   "source": [
    "---"
   ]
  },
  {
   "cell_type": "markdown",
   "id": "9bc5d8be",
   "metadata": {},
   "source": [
    "Llegados a este punto considero que ya tengo todos los datos necesarios para realizar el análisis, por lo que creo un nuevo df solo con las columnas que me interesan y lo exporto para analizarlo en la parte 5"
   ]
  },
  {
   "cell_type": "code",
   "execution_count": 37,
   "id": "fee739a0",
   "metadata": {},
   "outputs": [],
   "source": [
    "shark.to_csv('../data/sharkattack_parte4.csv', index=False)"
   ]
  },
  {
   "cell_type": "code",
   "execution_count": 91,
   "id": "cddf7f1f",
   "metadata": {},
   "outputs": [],
   "source": [
    "shark_analisis = pd.DataFrame(shark, columns=['mes', 'year', 'hora', 'activity', 'sex', 'fatal', 'species'])"
   ]
  },
  {
   "cell_type": "code",
   "execution_count": 42,
   "id": "96eef3fe",
   "metadata": {},
   "outputs": [],
   "source": [
    "shark_analisis.to_csv('../data/sharkattack_análisis.csv', index=False)"
   ]
  },
  {
   "cell_type": "markdown",
   "id": "52de3be3",
   "metadata": {},
   "source": [
    "[SharkAttack - Parte 5 (Bonus: Análisis de hipótesis)](./SharkAttack-Parte5.ipynb)"
   ]
  }
 ],
 "metadata": {
  "kernelspec": {
   "display_name": "Python 3 (ipykernel)",
   "language": "python",
   "name": "python3"
  },
  "language_info": {
   "codemirror_mode": {
    "name": "ipython",
    "version": 3
   },
   "file_extension": ".py",
   "mimetype": "text/x-python",
   "name": "python",
   "nbconvert_exporter": "python",
   "pygments_lexer": "ipython3",
   "version": "3.11.1"
  }
 },
 "nbformat": 4,
 "nbformat_minor": 5
}
