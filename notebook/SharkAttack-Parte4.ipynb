{
 "cells": [
  {
   "cell_type": "markdown",
   "id": "823c59b0",
   "metadata": {},
   "source": [
    "---"
   ]
  },
  {
   "cell_type": "markdown",
   "id": "c00ba37d",
   "metadata": {},
   "source": [
    "# Investigator"
   ]
  },
  {
   "cell_type": "code",
   "execution_count": null,
   "id": "f07d45da",
   "metadata": {},
   "outputs": [],
   "source": [
    "shark.investigator[:20]"
   ]
  },
  {
   "cell_type": "code",
   "execution_count": null,
   "id": "27c0fb43",
   "metadata": {},
   "outputs": [],
   "source": [
    "shark['investigator1'] = shark['investigator'].str.extract(r'^(.*?),')"
   ]
  },
  {
   "cell_type": "code",
   "execution_count": null,
   "id": "71e23e0d",
   "metadata": {},
   "outputs": [],
   "source": [
    "shark.investigator1[:20]"
   ]
  },
  {
   "cell_type": "code",
   "execution_count": null,
   "id": "173fd4f1",
   "metadata": {},
   "outputs": [],
   "source": [
    "shark.investigator.isna().sum(), shark.investigator1.isna().sum()"
   ]
  },
  {
   "cell_type": "code",
   "execution_count": null,
   "id": "dbbfc70a",
   "metadata": {},
   "outputs": [],
   "source": [
    "shark.loc[shark['investigator1'].isna(), 'investigator'].values[:20]"
   ]
  },
  {
   "cell_type": "code",
   "execution_count": null,
   "id": "931d5c08",
   "metadata": {},
   "outputs": [],
   "source": [
    "shark.pdf[:50], shark.investigator[:50]"
   ]
  }
 ],
 "metadata": {
  "kernelspec": {
   "display_name": "Python 3 (ipykernel)",
   "language": "python",
   "name": "python3"
  },
  "language_info": {
   "codemirror_mode": {
    "name": "ipython",
    "version": 3
   },
   "file_extension": ".py",
   "mimetype": "text/x-python",
   "name": "python",
   "nbconvert_exporter": "python",
   "pygments_lexer": "ipython3",
   "version": "3.11.1"
  }
 },
 "nbformat": 4,
 "nbformat_minor": 5
}
