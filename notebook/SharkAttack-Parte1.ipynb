{
 "cells": [
  {
   "cell_type": "markdown",
   "id": "44491c07",
   "metadata": {},
   "source": [
    "### SharkAttack - Parte 1\n",
    "\n",
    "# Análisis inicial"
   ]
  },
  {
   "cell_type": "code",
   "execution_count": 14,
   "id": "d502b57b",
   "metadata": {},
   "outputs": [],
   "source": [
    "import pandas as pd\n",
    "import numpy as np\n",
    "import zipfile\n",
    "import pylab as plt    \n",
    "import seaborn as sns\n",
    "from jupyterthemes import jtplot\n",
    "jtplot.style()\n",
    "\n",
    "import functions \n",
    "\n",
    "pd.set_option('display.max_columns', None)  # me muestre todas las columnas\n"
   ]
  },
  {
   "cell_type": "markdown",
   "id": "991509bf",
   "metadata": {},
   "source": [
    "Al importar me da error UnicodeDecodeError: 'utf-8' codec can't decode byte 0xa0 in position 698: invalid start byte por lo que necesito saber el encode del archivo"
   ]
  },
  {
   "cell_type": "code",
   "execution_count": 3,
   "id": "1e219bbe",
   "metadata": {},
   "outputs": [
    {
     "ename": "ModuleNotFoundError",
     "evalue": "No module named 'chardet'",
     "output_type": "error",
     "traceback": [
      "\u001b[1;31m---------------------------------------------------------------------------\u001b[0m",
      "\u001b[1;31mModuleNotFoundError\u001b[0m                       Traceback (most recent call last)",
      "Cell \u001b[1;32mIn[3], line 1\u001b[0m\n\u001b[1;32m----> 1\u001b[0m \u001b[38;5;28;01mimport\u001b[39;00m \u001b[38;5;21;01mchardet\u001b[39;00m\n\u001b[0;32m      3\u001b[0m \u001b[38;5;66;03m# Detectar la codificación de un archivo\u001b[39;00m\n\u001b[0;32m      4\u001b[0m \u001b[38;5;28;01mwith\u001b[39;00m \u001b[38;5;28mopen\u001b[39m(\u001b[38;5;124m'\u001b[39m\u001b[38;5;124m../data/attacks.csv\u001b[39m\u001b[38;5;124m'\u001b[39m, \u001b[38;5;124m'\u001b[39m\u001b[38;5;124mrb\u001b[39m\u001b[38;5;124m'\u001b[39m) \u001b[38;5;28;01mas\u001b[39;00m file:\n",
      "\u001b[1;31mModuleNotFoundError\u001b[0m: No module named 'chardet'"
     ]
    }
   ],
   "source": [
    "import chardet\n",
    "\n",
    "# Detectar la codificación de un archivo\n",
    "with open('../data/attacks.csv', 'rb') as file:\n",
    "    result = chardet.detect(file.read())\n",
    "    encoding = result['encoding']\n",
    "\n",
    "print(\"La codificación del archivo es:\", encoding)"
   ]
  },
  {
   "cell_type": "markdown",
   "id": "ae8d6327",
   "metadata": {},
   "source": [
    "Una vez conocido lo especifico en el código"
   ]
  },
  {
   "cell_type": "code",
   "execution_count": 4,
   "id": "bb3aeae2",
   "metadata": {},
   "outputs": [
    {
     "data": {
      "text/html": [
       "<div>\n",
       "<style scoped>\n",
       "    .dataframe tbody tr th:only-of-type {\n",
       "        vertical-align: middle;\n",
       "    }\n",
       "\n",
       "    .dataframe tbody tr th {\n",
       "        vertical-align: top;\n",
       "    }\n",
       "\n",
       "    .dataframe thead th {\n",
       "        text-align: right;\n",
       "    }\n",
       "</style>\n",
       "<table border=\"1\" class=\"dataframe\">\n",
       "  <thead>\n",
       "    <tr style=\"text-align: right;\">\n",
       "      <th></th>\n",
       "      <th>Case Number</th>\n",
       "      <th>Date</th>\n",
       "      <th>Year</th>\n",
       "      <th>Type</th>\n",
       "      <th>Country</th>\n",
       "      <th>Area</th>\n",
       "      <th>Location</th>\n",
       "      <th>Activity</th>\n",
       "      <th>Name</th>\n",
       "      <th>Sex</th>\n",
       "      <th>Age</th>\n",
       "      <th>Injury</th>\n",
       "      <th>Fatal (Y/N)</th>\n",
       "      <th>Time</th>\n",
       "      <th>Species</th>\n",
       "      <th>Investigator or Source</th>\n",
       "      <th>pdf</th>\n",
       "      <th>href formula</th>\n",
       "      <th>href</th>\n",
       "      <th>Case Number.1</th>\n",
       "      <th>Case Number.2</th>\n",
       "      <th>original order</th>\n",
       "      <th>Unnamed: 22</th>\n",
       "      <th>Unnamed: 23</th>\n",
       "    </tr>\n",
       "  </thead>\n",
       "  <tbody>\n",
       "    <tr>\n",
       "      <th>0</th>\n",
       "      <td>2018.06.25</td>\n",
       "      <td>25-Jun-2018</td>\n",
       "      <td>2018.0</td>\n",
       "      <td>Boating</td>\n",
       "      <td>USA</td>\n",
       "      <td>California</td>\n",
       "      <td>Oceanside, San Diego County</td>\n",
       "      <td>Paddling</td>\n",
       "      <td>Julie Wolfe</td>\n",
       "      <td>F</td>\n",
       "      <td>57</td>\n",
       "      <td>No injury to occupant, outrigger canoe and pad...</td>\n",
       "      <td>N</td>\n",
       "      <td>18h00</td>\n",
       "      <td>White shark</td>\n",
       "      <td>R. Collier, GSAF</td>\n",
       "      <td>2018.06.25-Wolfe.pdf</td>\n",
       "      <td>http://sharkattackfile.net/spreadsheets/pdf_di...</td>\n",
       "      <td>http://sharkattackfile.net/spreadsheets/pdf_di...</td>\n",
       "      <td>2018.06.25</td>\n",
       "      <td>2018.06.25</td>\n",
       "      <td>6303.0</td>\n",
       "      <td>NaN</td>\n",
       "      <td>NaN</td>\n",
       "    </tr>\n",
       "    <tr>\n",
       "      <th>1</th>\n",
       "      <td>2018.06.18</td>\n",
       "      <td>18-Jun-2018</td>\n",
       "      <td>2018.0</td>\n",
       "      <td>Unprovoked</td>\n",
       "      <td>USA</td>\n",
       "      <td>Georgia</td>\n",
       "      <td>St. Simon Island, Glynn County</td>\n",
       "      <td>Standing</td>\n",
       "      <td>Adyson McNeely</td>\n",
       "      <td>F</td>\n",
       "      <td>11</td>\n",
       "      <td>Minor injury to left thigh</td>\n",
       "      <td>N</td>\n",
       "      <td>14h00  -15h00</td>\n",
       "      <td>NaN</td>\n",
       "      <td>K.McMurray, TrackingSharks.com</td>\n",
       "      <td>2018.06.18-McNeely.pdf</td>\n",
       "      <td>http://sharkattackfile.net/spreadsheets/pdf_di...</td>\n",
       "      <td>http://sharkattackfile.net/spreadsheets/pdf_di...</td>\n",
       "      <td>2018.06.18</td>\n",
       "      <td>2018.06.18</td>\n",
       "      <td>6302.0</td>\n",
       "      <td>NaN</td>\n",
       "      <td>NaN</td>\n",
       "    </tr>\n",
       "    <tr>\n",
       "      <th>2</th>\n",
       "      <td>2018.06.09</td>\n",
       "      <td>09-Jun-2018</td>\n",
       "      <td>2018.0</td>\n",
       "      <td>Invalid</td>\n",
       "      <td>USA</td>\n",
       "      <td>Hawaii</td>\n",
       "      <td>Habush, Oahu</td>\n",
       "      <td>Surfing</td>\n",
       "      <td>John Denges</td>\n",
       "      <td>M</td>\n",
       "      <td>48</td>\n",
       "      <td>Injury to left lower leg from surfboard skeg</td>\n",
       "      <td>N</td>\n",
       "      <td>07h45</td>\n",
       "      <td>NaN</td>\n",
       "      <td>K.McMurray, TrackingSharks.com</td>\n",
       "      <td>2018.06.09-Denges.pdf</td>\n",
       "      <td>http://sharkattackfile.net/spreadsheets/pdf_di...</td>\n",
       "      <td>http://sharkattackfile.net/spreadsheets/pdf_di...</td>\n",
       "      <td>2018.06.09</td>\n",
       "      <td>2018.06.09</td>\n",
       "      <td>6301.0</td>\n",
       "      <td>NaN</td>\n",
       "      <td>NaN</td>\n",
       "    </tr>\n",
       "    <tr>\n",
       "      <th>3</th>\n",
       "      <td>2018.06.08</td>\n",
       "      <td>08-Jun-2018</td>\n",
       "      <td>2018.0</td>\n",
       "      <td>Unprovoked</td>\n",
       "      <td>AUSTRALIA</td>\n",
       "      <td>New South Wales</td>\n",
       "      <td>Arrawarra Headland</td>\n",
       "      <td>Surfing</td>\n",
       "      <td>male</td>\n",
       "      <td>M</td>\n",
       "      <td>NaN</td>\n",
       "      <td>Minor injury to lower leg</td>\n",
       "      <td>N</td>\n",
       "      <td>NaN</td>\n",
       "      <td>2 m shark</td>\n",
       "      <td>B. Myatt, GSAF</td>\n",
       "      <td>2018.06.08-Arrawarra.pdf</td>\n",
       "      <td>http://sharkattackfile.net/spreadsheets/pdf_di...</td>\n",
       "      <td>http://sharkattackfile.net/spreadsheets/pdf_di...</td>\n",
       "      <td>2018.06.08</td>\n",
       "      <td>2018.06.08</td>\n",
       "      <td>6300.0</td>\n",
       "      <td>NaN</td>\n",
       "      <td>NaN</td>\n",
       "    </tr>\n",
       "    <tr>\n",
       "      <th>4</th>\n",
       "      <td>2018.06.04</td>\n",
       "      <td>04-Jun-2018</td>\n",
       "      <td>2018.0</td>\n",
       "      <td>Provoked</td>\n",
       "      <td>MEXICO</td>\n",
       "      <td>Colima</td>\n",
       "      <td>La Ticla</td>\n",
       "      <td>Free diving</td>\n",
       "      <td>Gustavo Ramos</td>\n",
       "      <td>M</td>\n",
       "      <td>NaN</td>\n",
       "      <td>Lacerations to leg &amp; hand shark PROVOKED INCIDENT</td>\n",
       "      <td>N</td>\n",
       "      <td>NaN</td>\n",
       "      <td>Tiger shark, 3m</td>\n",
       "      <td>A .Kipper</td>\n",
       "      <td>2018.06.04-Ramos.pdf</td>\n",
       "      <td>http://sharkattackfile.net/spreadsheets/pdf_di...</td>\n",
       "      <td>http://sharkattackfile.net/spreadsheets/pdf_di...</td>\n",
       "      <td>2018.06.04</td>\n",
       "      <td>2018.06.04</td>\n",
       "      <td>6299.0</td>\n",
       "      <td>NaN</td>\n",
       "      <td>NaN</td>\n",
       "    </tr>\n",
       "  </tbody>\n",
       "</table>\n",
       "</div>"
      ],
      "text/plain": [
       "  Case Number         Date    Year        Type    Country             Area   \n",
       "0  2018.06.25  25-Jun-2018  2018.0     Boating        USA       California  \\\n",
       "1  2018.06.18  18-Jun-2018  2018.0  Unprovoked        USA          Georgia   \n",
       "2  2018.06.09  09-Jun-2018  2018.0     Invalid        USA           Hawaii   \n",
       "3  2018.06.08  08-Jun-2018  2018.0  Unprovoked  AUSTRALIA  New South Wales   \n",
       "4  2018.06.04  04-Jun-2018  2018.0    Provoked     MEXICO           Colima   \n",
       "\n",
       "                         Location     Activity             Name Sex   Age   \n",
       "0     Oceanside, San Diego County     Paddling      Julie Wolfe    F   57  \\\n",
       "1  St. Simon Island, Glynn County     Standing  Adyson McNeely     F   11   \n",
       "2                    Habush, Oahu      Surfing      John Denges    M   48   \n",
       "3              Arrawarra Headland      Surfing             male    M  NaN   \n",
       "4                        La Ticla  Free diving   Gustavo Ramos     M  NaN   \n",
       "\n",
       "                                              Injury Fatal (Y/N)   \n",
       "0  No injury to occupant, outrigger canoe and pad...           N  \\\n",
       "1                         Minor injury to left thigh           N   \n",
       "2       Injury to left lower leg from surfboard skeg           N   \n",
       "3                          Minor injury to lower leg           N   \n",
       "4  Lacerations to leg & hand shark PROVOKED INCIDENT           N   \n",
       "\n",
       "            Time         Species           Investigator or Source   \n",
       "0          18h00      White shark                R. Collier, GSAF  \\\n",
       "1  14h00  -15h00              NaN  K.McMurray, TrackingSharks.com   \n",
       "2          07h45              NaN  K.McMurray, TrackingSharks.com   \n",
       "3            NaN        2 m shark                  B. Myatt, GSAF   \n",
       "4            NaN  Tiger shark, 3m                       A .Kipper   \n",
       "\n",
       "                        pdf   \n",
       "0      2018.06.25-Wolfe.pdf  \\\n",
       "1    2018.06.18-McNeely.pdf   \n",
       "2     2018.06.09-Denges.pdf   \n",
       "3  2018.06.08-Arrawarra.pdf   \n",
       "4      2018.06.04-Ramos.pdf   \n",
       "\n",
       "                                        href formula   \n",
       "0  http://sharkattackfile.net/spreadsheets/pdf_di...  \\\n",
       "1  http://sharkattackfile.net/spreadsheets/pdf_di...   \n",
       "2  http://sharkattackfile.net/spreadsheets/pdf_di...   \n",
       "3  http://sharkattackfile.net/spreadsheets/pdf_di...   \n",
       "4  http://sharkattackfile.net/spreadsheets/pdf_di...   \n",
       "\n",
       "                                                href Case Number.1   \n",
       "0  http://sharkattackfile.net/spreadsheets/pdf_di...    2018.06.25  \\\n",
       "1  http://sharkattackfile.net/spreadsheets/pdf_di...    2018.06.18   \n",
       "2  http://sharkattackfile.net/spreadsheets/pdf_di...    2018.06.09   \n",
       "3  http://sharkattackfile.net/spreadsheets/pdf_di...    2018.06.08   \n",
       "4  http://sharkattackfile.net/spreadsheets/pdf_di...    2018.06.04   \n",
       "\n",
       "  Case Number.2  original order Unnamed: 22 Unnamed: 23  \n",
       "0    2018.06.25          6303.0         NaN         NaN  \n",
       "1    2018.06.18          6302.0         NaN         NaN  \n",
       "2    2018.06.09          6301.0         NaN         NaN  \n",
       "3    2018.06.08          6300.0         NaN         NaN  \n",
       "4    2018.06.04          6299.0         NaN         NaN  "
      ]
     },
     "execution_count": 4,
     "metadata": {},
     "output_type": "execute_result"
    }
   ],
   "source": [
    "zf=zipfile.ZipFile('../data/archive.zip')\n",
    "\n",
    "shark = pd.read_csv(zf.open('attacks.csv'), nrows=1e4, encoding='Windows-1252')\n",
    "\n",
    "shark.head()"
   ]
  },
  {
   "cell_type": "markdown",
   "id": "2145bcd0",
   "metadata": {},
   "source": [
    "Elimino todos los espacios que hay en los nombres de las columnas y hago todas minúsculas para poder trabajar sin problemas con las columnas"
   ]
  },
  {
   "cell_type": "code",
   "execution_count": 5,
   "id": "c2df782b",
   "metadata": {},
   "outputs": [],
   "source": [
    "shark.columns = [e.lower().replace(' ', '') for e in shark.columns]"
   ]
  },
  {
   "cell_type": "markdown",
   "id": "a08daf65",
   "metadata": {},
   "source": [
    "Reviso el número de filas y columnas que tiene el df y lo asigno a una variable para poder compararlo en el futuro "
   ]
  },
  {
   "cell_type": "code",
   "execution_count": 6,
   "id": "5a14f1c6",
   "metadata": {},
   "outputs": [
    {
     "data": {
      "text/plain": [
       "(10000, 24)"
      ]
     },
     "execution_count": 6,
     "metadata": {},
     "output_type": "execute_result"
    }
   ],
   "source": [
    "shark_size = shark.shape\n",
    "shark_size"
   ]
  },
  {
   "cell_type": "markdown",
   "id": "1eb0c834",
   "metadata": {},
   "source": [
    "Reviso de que tipo de dato son las columnas y el número de nulos que tienen"
   ]
  },
  {
   "cell_type": "code",
   "execution_count": 7,
   "id": "65046697",
   "metadata": {},
   "outputs": [
    {
     "name": "stdout",
     "output_type": "stream",
     "text": [
      "<class 'pandas.core.frame.DataFrame'>\n",
      "RangeIndex: 10000 entries, 0 to 9999\n",
      "Data columns (total 24 columns):\n",
      " #   Column                Non-Null Count  Dtype  \n",
      "---  ------                --------------  -----  \n",
      " 0   casenumber            8701 non-null   object \n",
      " 1   date                  6302 non-null   object \n",
      " 2   year                  6300 non-null   float64\n",
      " 3   type                  6298 non-null   object \n",
      " 4   country               6252 non-null   object \n",
      " 5   area                  5847 non-null   object \n",
      " 6   location              5762 non-null   object \n",
      " 7   activity              5758 non-null   object \n",
      " 8   name                  6092 non-null   object \n",
      " 9   sex                   5737 non-null   object \n",
      " 10  age                   3471 non-null   object \n",
      " 11  injury                6274 non-null   object \n",
      " 12  fatal(y/n)            5763 non-null   object \n",
      " 13  time                  2948 non-null   object \n",
      " 14  species               3464 non-null   object \n",
      " 15  investigatororsource  6285 non-null   object \n",
      " 16  pdf                   6302 non-null   object \n",
      " 17  hrefformula           6301 non-null   object \n",
      " 18  href                  6302 non-null   object \n",
      " 19  casenumber.1          6302 non-null   object \n",
      " 20  casenumber.2          6302 non-null   object \n",
      " 21  originalorder         6309 non-null   float64\n",
      " 22  unnamed:22            1 non-null      object \n",
      " 23  unnamed:23            2 non-null      object \n",
      "dtypes: float64(2), object(22)\n",
      "memory usage: 12.0 MB\n"
     ]
    }
   ],
   "source": [
    "shark.info(memory_usage='deep')"
   ]
  },
  {
   "cell_type": "markdown",
   "id": "16f4e173",
   "metadata": {},
   "source": [
    "Hay algunos nombres de columnas con : que me pueden molestar así que los voy a modificar"
   ]
  },
  {
   "cell_type": "code",
   "execution_count": 8,
   "id": "726c7e6d",
   "metadata": {},
   "outputs": [],
   "source": [
    "shark.columns = [e.replace(':', '') for e in shark.columns]"
   ]
  },
  {
   "cell_type": "code",
   "execution_count": 9,
   "id": "47077204",
   "metadata": {},
   "outputs": [
    {
     "data": {
      "text/plain": [
       "['casenumber',\n",
       " 'date',\n",
       " 'year',\n",
       " 'type',\n",
       " 'country',\n",
       " 'area',\n",
       " 'location',\n",
       " 'activity',\n",
       " 'name',\n",
       " 'sex',\n",
       " 'age',\n",
       " 'injury',\n",
       " 'fatal(y/n)',\n",
       " 'time',\n",
       " 'species',\n",
       " 'investigatororsource',\n",
       " 'pdf',\n",
       " 'hrefformula',\n",
       " 'href',\n",
       " 'casenumber.1',\n",
       " 'casenumber.2',\n",
       " 'originalorder',\n",
       " 'unnamed22',\n",
       " 'unnamed23']"
      ]
     },
     "execution_count": 9,
     "metadata": {},
     "output_type": "execute_result"
    }
   ],
   "source": [
    "nombres_columnas = shark.columns.tolist()\n",
    "nombres_columnas"
   ]
  },
  {
   "cell_type": "code",
   "execution_count": 10,
   "id": "d8cd0bce",
   "metadata": {},
   "outputs": [],
   "source": [
    "n_columnas = {\n",
    " 'casenumber': 'casenumber',\n",
    " 'date': 'date',\n",
    " 'year': 'year',\n",
    " 'type': 'type',\n",
    " 'country': 'country',\n",
    " 'area': 'area',\n",
    " 'location': 'location',\n",
    " 'activity': 'activity',\n",
    " 'name': 'name',\n",
    " 'sex': 'sex',\n",
    " 'age': 'age',\n",
    " 'injury': 'injury',\n",
    " 'fatal(y/n)': 'fatal',\n",
    " 'time': 'time',\n",
    " 'species': 'species',\n",
    " 'investigatororsource': 'investigator',\n",
    " 'pdf': 'pdf',\n",
    " 'hrefformula': 'href',\n",
    " 'href': 'href1',\n",
    " 'casenumber.1': 'casenumber1',\n",
    " 'casenumber.2': 'casenumber2',\n",
    " 'originalorder': 'originalorder',\n",
    " 'unnamed22': 'unnamed',\n",
    " 'unnamed23': 'unnamed1'\n",
    "}\n",
    "shark.rename(columns = n_columnas, inplace=True)"
   ]
  },
  {
   "cell_type": "code",
   "execution_count": 11,
   "id": "b48e8d67",
   "metadata": {},
   "outputs": [
    {
     "data": {
      "text/html": [
       "<div>\n",
       "<style scoped>\n",
       "    .dataframe tbody tr th:only-of-type {\n",
       "        vertical-align: middle;\n",
       "    }\n",
       "\n",
       "    .dataframe tbody tr th {\n",
       "        vertical-align: top;\n",
       "    }\n",
       "\n",
       "    .dataframe thead th {\n",
       "        text-align: right;\n",
       "    }\n",
       "</style>\n",
       "<table border=\"1\" class=\"dataframe\">\n",
       "  <thead>\n",
       "    <tr style=\"text-align: right;\">\n",
       "      <th></th>\n",
       "      <th>casenumber</th>\n",
       "      <th>date</th>\n",
       "      <th>year</th>\n",
       "      <th>type</th>\n",
       "      <th>country</th>\n",
       "      <th>area</th>\n",
       "      <th>location</th>\n",
       "      <th>activity</th>\n",
       "      <th>name</th>\n",
       "      <th>sex</th>\n",
       "      <th>age</th>\n",
       "      <th>injury</th>\n",
       "      <th>fatal</th>\n",
       "      <th>time</th>\n",
       "      <th>species</th>\n",
       "      <th>investigator</th>\n",
       "      <th>pdf</th>\n",
       "      <th>href</th>\n",
       "      <th>href1</th>\n",
       "      <th>casenumber1</th>\n",
       "      <th>casenumber2</th>\n",
       "      <th>originalorder</th>\n",
       "      <th>unnamed</th>\n",
       "      <th>unnamed1</th>\n",
       "    </tr>\n",
       "  </thead>\n",
       "  <tbody>\n",
       "    <tr>\n",
       "      <th>0</th>\n",
       "      <td>2018.06.25</td>\n",
       "      <td>25-Jun-2018</td>\n",
       "      <td>2018.0</td>\n",
       "      <td>Boating</td>\n",
       "      <td>USA</td>\n",
       "      <td>California</td>\n",
       "      <td>Oceanside, San Diego County</td>\n",
       "      <td>Paddling</td>\n",
       "      <td>Julie Wolfe</td>\n",
       "      <td>F</td>\n",
       "      <td>57</td>\n",
       "      <td>No injury to occupant, outrigger canoe and pad...</td>\n",
       "      <td>N</td>\n",
       "      <td>18h00</td>\n",
       "      <td>White shark</td>\n",
       "      <td>R. Collier, GSAF</td>\n",
       "      <td>2018.06.25-Wolfe.pdf</td>\n",
       "      <td>http://sharkattackfile.net/spreadsheets/pdf_di...</td>\n",
       "      <td>http://sharkattackfile.net/spreadsheets/pdf_di...</td>\n",
       "      <td>2018.06.25</td>\n",
       "      <td>2018.06.25</td>\n",
       "      <td>6303.0</td>\n",
       "      <td>NaN</td>\n",
       "      <td>NaN</td>\n",
       "    </tr>\n",
       "    <tr>\n",
       "      <th>1</th>\n",
       "      <td>2018.06.18</td>\n",
       "      <td>18-Jun-2018</td>\n",
       "      <td>2018.0</td>\n",
       "      <td>Unprovoked</td>\n",
       "      <td>USA</td>\n",
       "      <td>Georgia</td>\n",
       "      <td>St. Simon Island, Glynn County</td>\n",
       "      <td>Standing</td>\n",
       "      <td>Adyson McNeely</td>\n",
       "      <td>F</td>\n",
       "      <td>11</td>\n",
       "      <td>Minor injury to left thigh</td>\n",
       "      <td>N</td>\n",
       "      <td>14h00  -15h00</td>\n",
       "      <td>NaN</td>\n",
       "      <td>K.McMurray, TrackingSharks.com</td>\n",
       "      <td>2018.06.18-McNeely.pdf</td>\n",
       "      <td>http://sharkattackfile.net/spreadsheets/pdf_di...</td>\n",
       "      <td>http://sharkattackfile.net/spreadsheets/pdf_di...</td>\n",
       "      <td>2018.06.18</td>\n",
       "      <td>2018.06.18</td>\n",
       "      <td>6302.0</td>\n",
       "      <td>NaN</td>\n",
       "      <td>NaN</td>\n",
       "    </tr>\n",
       "    <tr>\n",
       "      <th>2</th>\n",
       "      <td>2018.06.09</td>\n",
       "      <td>09-Jun-2018</td>\n",
       "      <td>2018.0</td>\n",
       "      <td>Invalid</td>\n",
       "      <td>USA</td>\n",
       "      <td>Hawaii</td>\n",
       "      <td>Habush, Oahu</td>\n",
       "      <td>Surfing</td>\n",
       "      <td>John Denges</td>\n",
       "      <td>M</td>\n",
       "      <td>48</td>\n",
       "      <td>Injury to left lower leg from surfboard skeg</td>\n",
       "      <td>N</td>\n",
       "      <td>07h45</td>\n",
       "      <td>NaN</td>\n",
       "      <td>K.McMurray, TrackingSharks.com</td>\n",
       "      <td>2018.06.09-Denges.pdf</td>\n",
       "      <td>http://sharkattackfile.net/spreadsheets/pdf_di...</td>\n",
       "      <td>http://sharkattackfile.net/spreadsheets/pdf_di...</td>\n",
       "      <td>2018.06.09</td>\n",
       "      <td>2018.06.09</td>\n",
       "      <td>6301.0</td>\n",
       "      <td>NaN</td>\n",
       "      <td>NaN</td>\n",
       "    </tr>\n",
       "    <tr>\n",
       "      <th>3</th>\n",
       "      <td>2018.06.08</td>\n",
       "      <td>08-Jun-2018</td>\n",
       "      <td>2018.0</td>\n",
       "      <td>Unprovoked</td>\n",
       "      <td>AUSTRALIA</td>\n",
       "      <td>New South Wales</td>\n",
       "      <td>Arrawarra Headland</td>\n",
       "      <td>Surfing</td>\n",
       "      <td>male</td>\n",
       "      <td>M</td>\n",
       "      <td>NaN</td>\n",
       "      <td>Minor injury to lower leg</td>\n",
       "      <td>N</td>\n",
       "      <td>NaN</td>\n",
       "      <td>2 m shark</td>\n",
       "      <td>B. Myatt, GSAF</td>\n",
       "      <td>2018.06.08-Arrawarra.pdf</td>\n",
       "      <td>http://sharkattackfile.net/spreadsheets/pdf_di...</td>\n",
       "      <td>http://sharkattackfile.net/spreadsheets/pdf_di...</td>\n",
       "      <td>2018.06.08</td>\n",
       "      <td>2018.06.08</td>\n",
       "      <td>6300.0</td>\n",
       "      <td>NaN</td>\n",
       "      <td>NaN</td>\n",
       "    </tr>\n",
       "    <tr>\n",
       "      <th>4</th>\n",
       "      <td>2018.06.04</td>\n",
       "      <td>04-Jun-2018</td>\n",
       "      <td>2018.0</td>\n",
       "      <td>Provoked</td>\n",
       "      <td>MEXICO</td>\n",
       "      <td>Colima</td>\n",
       "      <td>La Ticla</td>\n",
       "      <td>Free diving</td>\n",
       "      <td>Gustavo Ramos</td>\n",
       "      <td>M</td>\n",
       "      <td>NaN</td>\n",
       "      <td>Lacerations to leg &amp; hand shark PROVOKED INCIDENT</td>\n",
       "      <td>N</td>\n",
       "      <td>NaN</td>\n",
       "      <td>Tiger shark, 3m</td>\n",
       "      <td>A .Kipper</td>\n",
       "      <td>2018.06.04-Ramos.pdf</td>\n",
       "      <td>http://sharkattackfile.net/spreadsheets/pdf_di...</td>\n",
       "      <td>http://sharkattackfile.net/spreadsheets/pdf_di...</td>\n",
       "      <td>2018.06.04</td>\n",
       "      <td>2018.06.04</td>\n",
       "      <td>6299.0</td>\n",
       "      <td>NaN</td>\n",
       "      <td>NaN</td>\n",
       "    </tr>\n",
       "  </tbody>\n",
       "</table>\n",
       "</div>"
      ],
      "text/plain": [
       "   casenumber         date    year        type    country             area   \n",
       "0  2018.06.25  25-Jun-2018  2018.0     Boating        USA       California  \\\n",
       "1  2018.06.18  18-Jun-2018  2018.0  Unprovoked        USA          Georgia   \n",
       "2  2018.06.09  09-Jun-2018  2018.0     Invalid        USA           Hawaii   \n",
       "3  2018.06.08  08-Jun-2018  2018.0  Unprovoked  AUSTRALIA  New South Wales   \n",
       "4  2018.06.04  04-Jun-2018  2018.0    Provoked     MEXICO           Colima   \n",
       "\n",
       "                         location     activity             name sex  age   \n",
       "0     Oceanside, San Diego County     Paddling      Julie Wolfe   F   57  \\\n",
       "1  St. Simon Island, Glynn County     Standing  Adyson McNeely    F   11   \n",
       "2                    Habush, Oahu      Surfing      John Denges   M   48   \n",
       "3              Arrawarra Headland      Surfing             male   M  NaN   \n",
       "4                        La Ticla  Free diving   Gustavo Ramos    M  NaN   \n",
       "\n",
       "                                              injury fatal           time   \n",
       "0  No injury to occupant, outrigger canoe and pad...     N          18h00  \\\n",
       "1                         Minor injury to left thigh     N  14h00  -15h00   \n",
       "2       Injury to left lower leg from surfboard skeg     N          07h45   \n",
       "3                          Minor injury to lower leg     N            NaN   \n",
       "4  Lacerations to leg & hand shark PROVOKED INCIDENT     N            NaN   \n",
       "\n",
       "           species                    investigator                       pdf   \n",
       "0      White shark                R. Collier, GSAF      2018.06.25-Wolfe.pdf  \\\n",
       "1              NaN  K.McMurray, TrackingSharks.com    2018.06.18-McNeely.pdf   \n",
       "2              NaN  K.McMurray, TrackingSharks.com     2018.06.09-Denges.pdf   \n",
       "3        2 m shark                  B. Myatt, GSAF  2018.06.08-Arrawarra.pdf   \n",
       "4  Tiger shark, 3m                       A .Kipper      2018.06.04-Ramos.pdf   \n",
       "\n",
       "                                                href   \n",
       "0  http://sharkattackfile.net/spreadsheets/pdf_di...  \\\n",
       "1  http://sharkattackfile.net/spreadsheets/pdf_di...   \n",
       "2  http://sharkattackfile.net/spreadsheets/pdf_di...   \n",
       "3  http://sharkattackfile.net/spreadsheets/pdf_di...   \n",
       "4  http://sharkattackfile.net/spreadsheets/pdf_di...   \n",
       "\n",
       "                                               href1 casenumber1 casenumber2   \n",
       "0  http://sharkattackfile.net/spreadsheets/pdf_di...  2018.06.25  2018.06.25  \\\n",
       "1  http://sharkattackfile.net/spreadsheets/pdf_di...  2018.06.18  2018.06.18   \n",
       "2  http://sharkattackfile.net/spreadsheets/pdf_di...  2018.06.09  2018.06.09   \n",
       "3  http://sharkattackfile.net/spreadsheets/pdf_di...  2018.06.08  2018.06.08   \n",
       "4  http://sharkattackfile.net/spreadsheets/pdf_di...  2018.06.04  2018.06.04   \n",
       "\n",
       "   originalorder unnamed unnamed1  \n",
       "0         6303.0     NaN      NaN  \n",
       "1         6302.0     NaN      NaN  \n",
       "2         6301.0     NaN      NaN  \n",
       "3         6300.0     NaN      NaN  \n",
       "4         6299.0     NaN      NaN  "
      ]
     },
     "execution_count": 11,
     "metadata": {},
     "output_type": "execute_result"
    }
   ],
   "source": [
    "shark.head()"
   ]
  },
  {
   "cell_type": "markdown",
   "id": "82c38825",
   "metadata": {},
   "source": [
    "La mayoría de las columnas son objetos y la mayoría tienen muchos valores nulos, así que reviso el total de nulos tiene cada una"
   ]
  },
  {
   "cell_type": "code",
   "execution_count": 12,
   "id": "4078ba4d",
   "metadata": {},
   "outputs": [
    {
     "data": {
      "text/plain": [
       "casenumber       1299\n",
       "date             3698\n",
       "year             3700\n",
       "type             3702\n",
       "country          3748\n",
       "area             4153\n",
       "location         4238\n",
       "activity         4242\n",
       "name             3908\n",
       "sex              4263\n",
       "age              6529\n",
       "injury           3726\n",
       "fatal            4237\n",
       "time             7052\n",
       "species          6536\n",
       "investigator     3715\n",
       "pdf              3698\n",
       "href             3699\n",
       "href1            3698\n",
       "casenumber1      3698\n",
       "casenumber2      3698\n",
       "originalorder    3691\n",
       "unnamed          9999\n",
       "unnamed1         9998\n",
       "dtype: int64"
      ]
     },
     "execution_count": 12,
     "metadata": {},
     "output_type": "execute_result"
    }
   ],
   "source": [
    "nan_cols = shark.isna().sum()\n",
    "\n",
    "nan_cols[nan_cols>0]"
   ]
  },
  {
   "cell_type": "markdown",
   "id": "4157167a",
   "metadata": {},
   "source": [
    "Para verlo de una manera más gráfica creo una grafico de nulos en el dataframe"
   ]
  },
  {
   "cell_type": "code",
   "execution_count": 15,
   "id": "c6bd6e0b",
   "metadata": {},
   "outputs": [
    {
     "data": {
      "image/png": "[encoded data removed]",
      "text/plain": [
       "<Figure size 1000x600 with 1 Axes>"
      ]
     },
     "metadata": {},
     "output_type": "display_data"
    }
   ],
   "source": [
    "plt.figure(figsize=(10, 6))  # inicia la figura y establece el tamaño\n",
    "\n",
    "sns.heatmap(shark.isna(),      # datos\n",
    "            yticklabels=False,  # quita las etiquetas del eje y\n",
    "            cmap='viridis',     # mapa de color\n",
    "            cbar=False,         # sin barra lateral\n",
    "           )\n",
    "\n",
    "\n",
    "plt.show();"
   ]
  },
  {
   "cell_type": "markdown",
   "id": "79cdf5e8",
   "metadata": {},
   "source": [
    "🤯🤯🤯🤯🤯🤯🤯🤯🤯🤯🤯🤯🤯🤯\n",
    "\n",
    "\n"
   ]
  },
  {
   "cell_type": "markdown",
   "id": "2603aecc",
   "metadata": {},
   "source": [
    "Las dos últimas columnas Unnamed parece que están completamente vacías. Voy a comprobarlo, y si lo están (como no puedo eliminar columnas) las voy a rellenar todo con 0"
   ]
  },
  {
   "cell_type": "code",
   "execution_count": 16,
   "id": "654acea5",
   "metadata": {},
   "outputs": [
    {
     "data": {
      "text/plain": [
       "(10000, 24)"
      ]
     },
     "execution_count": 16,
     "metadata": {},
     "output_type": "execute_result"
    }
   ],
   "source": [
    "shark_size"
   ]
  },
  {
   "cell_type": "code",
   "execution_count": 17,
   "id": "9a9d71cc",
   "metadata": {},
   "outputs": [
    {
     "data": {
      "text/plain": [
       "9999"
      ]
     },
     "execution_count": 17,
     "metadata": {},
     "output_type": "execute_result"
    }
   ],
   "source": [
    "shark.unnamed.isna().sum()"
   ]
  },
  {
   "cell_type": "markdown",
   "id": "e15b15fa",
   "metadata": {},
   "source": [
    "Como solo hay un valor que no es nan no lo considero representativo y relleno toda la columna con 0"
   ]
  },
  {
   "cell_type": "code",
   "execution_count": 18,
   "id": "50eaa002",
   "metadata": {},
   "outputs": [],
   "source": [
    "shark['unnamed'] = 0"
   ]
  },
  {
   "cell_type": "markdown",
   "id": "86773e39",
   "metadata": {},
   "source": [
    "Realizo la misma operación con unnamed1"
   ]
  },
  {
   "cell_type": "code",
   "execution_count": 19,
   "id": "c81a39cc",
   "metadata": {},
   "outputs": [
    {
     "data": {
      "text/plain": [
       "9998"
      ]
     },
     "execution_count": 19,
     "metadata": {},
     "output_type": "execute_result"
    }
   ],
   "source": [
    "shark.unnamed1.isna().sum()"
   ]
  },
  {
   "cell_type": "code",
   "execution_count": 20,
   "id": "8d15462a",
   "metadata": {},
   "outputs": [],
   "source": [
    "shark['unnamed1'] = 0"
   ]
  },
  {
   "cell_type": "code",
   "execution_count": 21,
   "id": "c48f4e80",
   "metadata": {},
   "outputs": [
    {
     "data": {
      "image/png": "[encoded data removed]",
      "text/plain": [
       "<Figure size 1000x600 with 1 Axes>"
      ]
     },
     "metadata": {},
     "output_type": "display_data"
    }
   ],
   "source": [
    "plt.figure(figsize=(10, 6))  # inicia la figura y establece el tamaño\n",
    "\n",
    "sns.heatmap(shark.isna(),      # datos\n",
    "            yticklabels=False,  # quita las etiquetas del eje y\n",
    "            cmap='viridis',     # mapa de color\n",
    "            cbar=False,         # sin barra lateral\n",
    "           )\n",
    "\n",
    "\n",
    "plt.show();"
   ]
  },
  {
   "cell_type": "markdown",
   "id": "afd6422a",
   "metadata": {},
   "source": [
    "Como veo que el código de la representación gráfica lo voy a usar varias veces le voy a hacer una función"
   ]
  },
  {
   "cell_type": "code",
   "execution_count": 23,
   "id": "eabcd9a1",
   "metadata": {},
   "outputs": [],
   "source": [
    "def grafico(df):\n",
    "    plt.figure(figsize=(10, 6))  # inicia la figura y establece el tamaño\n",
    "\n",
    "    sns.heatmap(shark.isna(),      # datos\n",
    "            yticklabels=False,  # quita las etiquetas del eje y\n",
    "            cmap='viridis',     # mapa de color\n",
    "            cbar=False,         # sin barra lateral\n",
    "           )\n",
    "\n",
    "\n",
    "plt.show();"
   ]
  },
  {
   "cell_type": "code",
   "execution_count": 24,
   "id": "31cc1327",
   "metadata": {},
   "outputs": [
    {
     "data": {
      "image/png": "[encoded data removed]",
      "text/plain": [
       "<Figure size 1000x600 with 1 Axes>"
      ]
     },
     "metadata": {},
     "output_type": "display_data"
    }
   ],
   "source": [
    "grafico(shark)"
   ]
  },
  {
   "cell_type": "markdown",
   "id": "a93f9fe8",
   "metadata": {},
   "source": [
    "Estoy viendo que la mayoría de filas a partir de un determinado numero no tienen apenas datos y parece que son poco representativas así que voy a profundizar un poco en este proceso"
   ]
  },
  {
   "cell_type": "markdown",
   "id": "da414d52",
   "metadata": {},
   "source": [
    "Veo a partir de que fila empieza a tener nulos la columna year que es de las primeras que muestra este patron"
   ]
  },
  {
   "cell_type": "code",
   "execution_count": 25,
   "id": "8b9b2e3b",
   "metadata": {},
   "outputs": [
    {
     "data": {
      "text/plain": [
       "[187,\n",
       " 6079,\n",
       " 6302,\n",
       " 6303,\n",
       " 6304,\n",
       " 6305,\n",
       " 6306,\n",
       " 6307,\n",
       " 6308,\n",
       " 6309,\n",
       " 6310,\n",
       " 6311,\n",
       " 6312,\n",
       " 6313,\n",
       " 6314]"
      ]
     },
     "execution_count": 25,
     "metadata": {},
     "output_type": "execute_result"
    }
   ],
   "source": [
    "filas_nulas = shark.index[shark['year'].isnull()].tolist()\n",
    "\n",
    "filas_nulas[:15]"
   ]
  },
  {
   "cell_type": "markdown",
   "id": "4133d471",
   "metadata": {},
   "source": [
    "como quiero saber que a partir de que fila tienen todos los valores nulos salvo los de la columna unnamed y unnamed1 hago un bucle que me lo compruebe y de ser así que me lo introduzca en un diccionario"
   ]
  },
  {
   "cell_type": "code",
   "execution_count": 26,
   "id": "c60e3664",
   "metadata": {},
   "outputs": [],
   "source": [
    "col_vac = {}\n",
    "\n",
    "for columna in shark:\n",
    "    filas_nulas = shark.index[shark[columna].isnull()].tolist()\n",
    "    col_vac[columna] = filas_nulas"
   ]
  },
  {
   "cell_type": "code",
   "execution_count": 27,
   "id": "b889b4be",
   "metadata": {},
   "outputs": [
    {
     "data": {
      "text/plain": [
       "{'casenumber': [5488, 8702, 8703, 8704, 8705],\n",
       " 'date': [6302, 6303, 6304, 6305, 6306],\n",
       " 'year': [187, 6079, 6302, 6303, 6304],\n",
       " 'type': [85, 382, 4867, 5705, 6302],\n",
       " 'country': [62, 525, 2956, 3378, 3387],\n",
       " 'area': [32, 33, 48, 56, 59],\n",
       " 'location': [56, 62, 101, 110, 132],\n",
       " 'activity': [47, 108, 112, 114, 154],\n",
       " 'name': [32, 86, 124, 154, 184],\n",
       " 'sex': [32, 59, 86, 124, 154],\n",
       " 'age': [3, 4, 5, 15, 16],\n",
       " 'injury': [1270, 1366, 2250, 2267, 2648],\n",
       " 'fatal': [27, 76, 79, 84, 98],\n",
       " 'time': [3, 4, 5, 7, 11],\n",
       " 'species': [1, 2, 5, 9, 11],\n",
       " 'investigator': [119, 290, 382, 631, 1130],\n",
       " 'pdf': [6302, 6303, 6304, 6305, 6306],\n",
       " 'href': [3244, 6302, 6303, 6304, 6305],\n",
       " 'href1': [6302, 6303, 6304, 6305, 6306],\n",
       " 'casenumber1': [6302, 6303, 6304, 6305, 6306],\n",
       " 'casenumber2': [6302, 6303, 6304, 6305, 6306],\n",
       " 'originalorder': [6309, 6310, 6311, 6312, 6313],\n",
       " 'unnamed': [],\n",
       " 'unnamed1': []}"
      ]
     },
     "execution_count": 27,
     "metadata": {},
     "output_type": "execute_result"
    }
   ],
   "source": [
    "prim_fil = {}\n",
    "\n",
    "for columna, filas_nulas in col_vac.items():\n",
    "    prim_fil[columna] = filas_nulas[:5]\n",
    "\n",
    "prim_fil"
   ]
  },
  {
   "cell_type": "markdown",
   "id": "2fc930e5",
   "metadata": {},
   "source": [
    "Veo que la columna casenumber empieza a arrojar nulos después que el resto de columnas por lo que voy a ver que hay en esos valores"
   ]
  },
  {
   "cell_type": "code",
   "execution_count": 28,
   "id": "67987185",
   "metadata": {},
   "outputs": [
    {
     "name": "stdout",
     "output_type": "stream",
     "text": [
      "<class 'pandas.core.series.Series'>\n",
      "RangeIndex: 2401 entries, 6302 to 8702\n",
      "Series name: casenumber\n",
      "Non-Null Count  Dtype \n",
      "--------------  ----- \n",
      "2400 non-null   object\n",
      "dtypes: object(1)\n",
      "memory usage: 18.9+ KB\n"
     ]
    }
   ],
   "source": [
    "shark['casenumber'].loc[6302:8702].info()"
   ]
  },
  {
   "cell_type": "code",
   "execution_count": 29,
   "id": "01a14379",
   "metadata": {},
   "outputs": [
    {
     "data": {
      "text/plain": [
       "1299"
      ]
     },
     "execution_count": 29,
     "metadata": {},
     "output_type": "execute_result"
    }
   ],
   "source": [
    "shark['casenumber'].isna().sum()"
   ]
  },
  {
   "cell_type": "code",
   "execution_count": 30,
   "id": "574af29f",
   "metadata": {},
   "outputs": [
    {
     "data": {
      "text/plain": [
       "6302      0\n",
       "6303      0\n",
       "6304      0\n",
       "6305      0\n",
       "6306      0\n",
       "       ... \n",
       "8698      0\n",
       "8699      0\n",
       "8700      0\n",
       "8701      0\n",
       "8702    NaN\n",
       "Name: casenumber, Length: 2401, dtype: object"
      ]
     },
     "execution_count": 30,
     "metadata": {},
     "output_type": "execute_result"
    }
   ],
   "source": [
    "val = shark.loc[6302:8702, 'casenumber']\n",
    "val"
   ]
  },
  {
   "cell_type": "markdown",
   "id": "809eb82a",
   "metadata": {},
   "source": [
    "Como se puede ver los valores entre 6302 y 8703 son 0 por lo que no son representativos y se pueden eliminar.\n",
    "\n",
    "Además, como el resto de columnas a partir de la fila 6302 también tiene valores nulos se pueden eliminar todas las filas en adelante."
   ]
  },
  {
   "cell_type": "code",
   "execution_count": 31,
   "id": "945d0fc4",
   "metadata": {},
   "outputs": [],
   "source": [
    "shark = shark.drop(shark.index[6302:], axis=0)"
   ]
  },
  {
   "cell_type": "code",
   "execution_count": 32,
   "id": "e692738f",
   "metadata": {},
   "outputs": [
    {
     "data": {
      "image/png": "[encoded data removed]",
      "text/plain": [
       "<Figure size 1000x600 with 1 Axes>"
      ]
     },
     "metadata": {},
     "output_type": "display_data"
    }
   ],
   "source": [
    "grafico(shark)"
   ]
  },
  {
   "cell_type": "markdown",
   "id": "9b4e8874",
   "metadata": {},
   "source": [
    "Una vez llegados a este punto entiendo que los valores nulos más 'gordos' ya se han limpiado, por lo que el siguiente paso sería quitar los nulos de una manera más 'fina' y eso lo realizo en la parte 2\n",
    "\n",
    "Para podeer acceder a los datos a partir de este punto exporto el csv"
   ]
  },
  {
   "cell_type": "code",
   "execution_count": 33,
   "id": "21a1dc16",
   "metadata": {},
   "outputs": [],
   "source": [
    "shark.to_csv('../data/sharkattack_parte1.csv', index=False)"
   ]
  },
  {
   "cell_type": "markdown",
   "id": "585b2300",
   "metadata": {},
   "source": [
    "[SharkAttack - Parte 2 (Valores nulos)](./SharkAttack-Parte2.ipynb)"
   ]
  }
 ],
 "metadata": {
  "kernelspec": {
   "display_name": "Python 3 (ipykernel)",
   "language": "python",
   "name": "python3"
  },
  "language_info": {
   "codemirror_mode": {
    "name": "ipython",
    "version": 3
   },
   "file_extension": ".py",
   "mimetype": "text/x-python",
   "name": "python",
   "nbconvert_exporter": "python",
   "pygments_lexer": "ipython3",
   "version": "3.11.1"
  }
 },
 "nbformat": 4,
 "nbformat_minor": 5
}
