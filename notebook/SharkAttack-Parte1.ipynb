{
 "cells": [
  {
   "cell_type": "markdown",
   "id": "76db64dc",
   "metadata": {},
   "source": [
    "### SharkAttack - Parte 1\n",
    "\n",
    "# Análisis inicial"
   ]
  },
  {
   "cell_type": "code",
   "execution_count": null,
   "id": "6c81dfec",
   "metadata": {},
   "outputs": [],
   "source": [
    "%pip install ipython\n",
    "%pip install seaborn"
   ]
  },
  {
   "cell_type": "code",
   "execution_count": 1,
   "id": "f16bbb8b",
   "metadata": {},
   "outputs": [],
   "source": [
    "import pandas as pd\n",
    "import numpy as np\n",
    "import zipfile\n",
    "import pylab as plt    \n",
    "import seaborn as sns\n",
    "\n",
    "# import warnings\n",
    "# warnings.filterwarnings('ignore')   # para quitar esos prints\n",
    "\n",
    "pd.set_option('display.max_columns', None)  # me muestre todas las columnas\n"
   ]
  },
  {
   "cell_type": "code",
   "execution_count": 2,
   "id": "4f0f8fb9",
   "metadata": {},
   "outputs": [
    {
     "ename": "UnicodeDecodeError",
     "evalue": "'utf-8' codec can't decode byte 0xa0 in position 698: invalid start byte",
     "output_type": "error",
     "traceback": [
      "\u001b[1;31m---------------------------------------------------------------------------\u001b[0m",
      "\u001b[1;31mUnicodeDecodeError\u001b[0m                        Traceback (most recent call last)",
      "\u001b[1;32m~\\AppData\\Local\\Temp\\ipykernel_7444\\2358220042.py\u001b[0m in \u001b[0;36m<module>\u001b[1;34m\u001b[0m\n\u001b[0;32m      1\u001b[0m \u001b[0mzf\u001b[0m\u001b[1;33m=\u001b[0m\u001b[0mzipfile\u001b[0m\u001b[1;33m.\u001b[0m\u001b[0mZipFile\u001b[0m\u001b[1;33m(\u001b[0m\u001b[1;34m'../data/archive.zip'\u001b[0m\u001b[1;33m)\u001b[0m\u001b[1;33m\u001b[0m\u001b[1;33m\u001b[0m\u001b[0m\n\u001b[0;32m      2\u001b[0m \u001b[1;33m\u001b[0m\u001b[0m\n\u001b[1;32m----> 3\u001b[1;33m \u001b[0mshark\u001b[0m \u001b[1;33m=\u001b[0m \u001b[0mpd\u001b[0m\u001b[1;33m.\u001b[0m\u001b[0mread_csv\u001b[0m\u001b[1;33m(\u001b[0m\u001b[0mzf\u001b[0m\u001b[1;33m.\u001b[0m\u001b[0mopen\u001b[0m\u001b[1;33m(\u001b[0m\u001b[1;34m'attacks.csv'\u001b[0m\u001b[1;33m)\u001b[0m\u001b[1;33m,\u001b[0m \u001b[0mnrows\u001b[0m\u001b[1;33m=\u001b[0m\u001b[1;36m1e4\u001b[0m\u001b[1;33m)\u001b[0m\u001b[1;33m\u001b[0m\u001b[1;33m\u001b[0m\u001b[0m\n\u001b[0m\u001b[0;32m      4\u001b[0m \u001b[1;33m\u001b[0m\u001b[0m\n\u001b[0;32m      5\u001b[0m \u001b[0mshark\u001b[0m\u001b[1;33m.\u001b[0m\u001b[0mhead\u001b[0m\u001b[1;33m(\u001b[0m\u001b[1;33m)\u001b[0m\u001b[1;33m\u001b[0m\u001b[1;33m\u001b[0m\u001b[0m\n",
      "\u001b[1;32m~\\anaconda3\\lib\\site-packages\\pandas\\util\\_decorators.py\u001b[0m in \u001b[0;36mwrapper\u001b[1;34m(*args, **kwargs)\u001b[0m\n\u001b[0;32m    309\u001b[0m                     \u001b[0mstacklevel\u001b[0m\u001b[1;33m=\u001b[0m\u001b[0mstacklevel\u001b[0m\u001b[1;33m,\u001b[0m\u001b[1;33m\u001b[0m\u001b[1;33m\u001b[0m\u001b[0m\n\u001b[0;32m    310\u001b[0m                 )\n\u001b[1;32m--> 311\u001b[1;33m             \u001b[1;32mreturn\u001b[0m \u001b[0mfunc\u001b[0m\u001b[1;33m(\u001b[0m\u001b[1;33m*\u001b[0m\u001b[0margs\u001b[0m\u001b[1;33m,\u001b[0m \u001b[1;33m**\u001b[0m\u001b[0mkwargs\u001b[0m\u001b[1;33m)\u001b[0m\u001b[1;33m\u001b[0m\u001b[1;33m\u001b[0m\u001b[0m\n\u001b[0m\u001b[0;32m    312\u001b[0m \u001b[1;33m\u001b[0m\u001b[0m\n\u001b[0;32m    313\u001b[0m         \u001b[1;32mreturn\u001b[0m \u001b[0mwrapper\u001b[0m\u001b[1;33m\u001b[0m\u001b[1;33m\u001b[0m\u001b[0m\n",
      "\u001b[1;32m~\\anaconda3\\lib\\site-packages\\pandas\\io\\parsers\\readers.py\u001b[0m in \u001b[0;36mread_csv\u001b[1;34m(filepath_or_buffer, sep, delimiter, header, names, index_col, usecols, squeeze, prefix, mangle_dupe_cols, dtype, engine, converters, true_values, false_values, skipinitialspace, skiprows, skipfooter, nrows, na_values, keep_default_na, na_filter, verbose, skip_blank_lines, parse_dates, infer_datetime_format, keep_date_col, date_parser, dayfirst, cache_dates, iterator, chunksize, compression, thousands, decimal, lineterminator, quotechar, quoting, doublequote, escapechar, comment, encoding, encoding_errors, dialect, error_bad_lines, warn_bad_lines, on_bad_lines, delim_whitespace, low_memory, memory_map, float_precision, storage_options)\u001b[0m\n\u001b[0;32m    676\u001b[0m     \u001b[0mkwds\u001b[0m\u001b[1;33m.\u001b[0m\u001b[0mupdate\u001b[0m\u001b[1;33m(\u001b[0m\u001b[0mkwds_defaults\u001b[0m\u001b[1;33m)\u001b[0m\u001b[1;33m\u001b[0m\u001b[1;33m\u001b[0m\u001b[0m\n\u001b[0;32m    677\u001b[0m \u001b[1;33m\u001b[0m\u001b[0m\n\u001b[1;32m--> 678\u001b[1;33m     \u001b[1;32mreturn\u001b[0m \u001b[0m_read\u001b[0m\u001b[1;33m(\u001b[0m\u001b[0mfilepath_or_buffer\u001b[0m\u001b[1;33m,\u001b[0m \u001b[0mkwds\u001b[0m\u001b[1;33m)\u001b[0m\u001b[1;33m\u001b[0m\u001b[1;33m\u001b[0m\u001b[0m\n\u001b[0m\u001b[0;32m    679\u001b[0m \u001b[1;33m\u001b[0m\u001b[0m\n\u001b[0;32m    680\u001b[0m \u001b[1;33m\u001b[0m\u001b[0m\n",
      "\u001b[1;32m~\\anaconda3\\lib\\site-packages\\pandas\\io\\parsers\\readers.py\u001b[0m in \u001b[0;36m_read\u001b[1;34m(filepath_or_buffer, kwds)\u001b[0m\n\u001b[0;32m    573\u001b[0m \u001b[1;33m\u001b[0m\u001b[0m\n\u001b[0;32m    574\u001b[0m     \u001b[1;31m# Create the parser.\u001b[0m\u001b[1;33m\u001b[0m\u001b[1;33m\u001b[0m\u001b[0m\n\u001b[1;32m--> 575\u001b[1;33m     \u001b[0mparser\u001b[0m \u001b[1;33m=\u001b[0m \u001b[0mTextFileReader\u001b[0m\u001b[1;33m(\u001b[0m\u001b[0mfilepath_or_buffer\u001b[0m\u001b[1;33m,\u001b[0m \u001b[1;33m**\u001b[0m\u001b[0mkwds\u001b[0m\u001b[1;33m)\u001b[0m\u001b[1;33m\u001b[0m\u001b[1;33m\u001b[0m\u001b[0m\n\u001b[0m\u001b[0;32m    576\u001b[0m \u001b[1;33m\u001b[0m\u001b[0m\n\u001b[0;32m    577\u001b[0m     \u001b[1;32mif\u001b[0m \u001b[0mchunksize\u001b[0m \u001b[1;32mor\u001b[0m \u001b[0miterator\u001b[0m\u001b[1;33m:\u001b[0m\u001b[1;33m\u001b[0m\u001b[1;33m\u001b[0m\u001b[0m\n",
      "\u001b[1;32m~\\anaconda3\\lib\\site-packages\\pandas\\io\\parsers\\readers.py\u001b[0m in \u001b[0;36m__init__\u001b[1;34m(self, f, engine, **kwds)\u001b[0m\n\u001b[0;32m    930\u001b[0m \u001b[1;33m\u001b[0m\u001b[0m\n\u001b[0;32m    931\u001b[0m         \u001b[0mself\u001b[0m\u001b[1;33m.\u001b[0m\u001b[0mhandles\u001b[0m\u001b[1;33m:\u001b[0m \u001b[0mIOHandles\u001b[0m \u001b[1;33m|\u001b[0m \u001b[1;32mNone\u001b[0m \u001b[1;33m=\u001b[0m \u001b[1;32mNone\u001b[0m\u001b[1;33m\u001b[0m\u001b[1;33m\u001b[0m\u001b[0m\n\u001b[1;32m--> 932\u001b[1;33m         \u001b[0mself\u001b[0m\u001b[1;33m.\u001b[0m\u001b[0m_engine\u001b[0m \u001b[1;33m=\u001b[0m \u001b[0mself\u001b[0m\u001b[1;33m.\u001b[0m\u001b[0m_make_engine\u001b[0m\u001b[1;33m(\u001b[0m\u001b[0mf\u001b[0m\u001b[1;33m,\u001b[0m \u001b[0mself\u001b[0m\u001b[1;33m.\u001b[0m\u001b[0mengine\u001b[0m\u001b[1;33m)\u001b[0m\u001b[1;33m\u001b[0m\u001b[1;33m\u001b[0m\u001b[0m\n\u001b[0m\u001b[0;32m    933\u001b[0m \u001b[1;33m\u001b[0m\u001b[0m\n\u001b[0;32m    934\u001b[0m     \u001b[1;32mdef\u001b[0m \u001b[0mclose\u001b[0m\u001b[1;33m(\u001b[0m\u001b[0mself\u001b[0m\u001b[1;33m)\u001b[0m\u001b[1;33m:\u001b[0m\u001b[1;33m\u001b[0m\u001b[1;33m\u001b[0m\u001b[0m\n",
      "\u001b[1;32m~\\anaconda3\\lib\\site-packages\\pandas\\io\\parsers\\readers.py\u001b[0m in \u001b[0;36m_make_engine\u001b[1;34m(self, f, engine)\u001b[0m\n\u001b[0;32m   1232\u001b[0m \u001b[1;33m\u001b[0m\u001b[0m\n\u001b[0;32m   1233\u001b[0m         \u001b[1;32mtry\u001b[0m\u001b[1;33m:\u001b[0m\u001b[1;33m\u001b[0m\u001b[1;33m\u001b[0m\u001b[0m\n\u001b[1;32m-> 1234\u001b[1;33m             \u001b[1;32mreturn\u001b[0m \u001b[0mmapping\u001b[0m\u001b[1;33m[\u001b[0m\u001b[0mengine\u001b[0m\u001b[1;33m]\u001b[0m\u001b[1;33m(\u001b[0m\u001b[0mf\u001b[0m\u001b[1;33m,\u001b[0m \u001b[1;33m**\u001b[0m\u001b[0mself\u001b[0m\u001b[1;33m.\u001b[0m\u001b[0moptions\u001b[0m\u001b[1;33m)\u001b[0m\u001b[1;33m\u001b[0m\u001b[1;33m\u001b[0m\u001b[0m\n\u001b[0m\u001b[0;32m   1235\u001b[0m         \u001b[1;32mexcept\u001b[0m \u001b[0mException\u001b[0m\u001b[1;33m:\u001b[0m\u001b[1;33m\u001b[0m\u001b[1;33m\u001b[0m\u001b[0m\n\u001b[0;32m   1236\u001b[0m             \u001b[1;32mif\u001b[0m \u001b[0mself\u001b[0m\u001b[1;33m.\u001b[0m\u001b[0mhandles\u001b[0m \u001b[1;32mis\u001b[0m \u001b[1;32mnot\u001b[0m \u001b[1;32mNone\u001b[0m\u001b[1;33m:\u001b[0m\u001b[1;33m\u001b[0m\u001b[1;33m\u001b[0m\u001b[0m\n",
      "\u001b[1;32m~\\anaconda3\\lib\\site-packages\\pandas\\io\\parsers\\c_parser_wrapper.py\u001b[0m in \u001b[0;36m__init__\u001b[1;34m(self, src, **kwds)\u001b[0m\n\u001b[0;32m     73\u001b[0m \u001b[1;33m\u001b[0m\u001b[0m\n\u001b[0;32m     74\u001b[0m         \u001b[0mkwds\u001b[0m\u001b[1;33m[\u001b[0m\u001b[1;34m\"dtype\"\u001b[0m\u001b[1;33m]\u001b[0m \u001b[1;33m=\u001b[0m \u001b[0mensure_dtype_objs\u001b[0m\u001b[1;33m(\u001b[0m\u001b[0mkwds\u001b[0m\u001b[1;33m.\u001b[0m\u001b[0mget\u001b[0m\u001b[1;33m(\u001b[0m\u001b[1;34m\"dtype\"\u001b[0m\u001b[1;33m,\u001b[0m \u001b[1;32mNone\u001b[0m\u001b[1;33m)\u001b[0m\u001b[1;33m)\u001b[0m\u001b[1;33m\u001b[0m\u001b[1;33m\u001b[0m\u001b[0m\n\u001b[1;32m---> 75\u001b[1;33m         \u001b[0mself\u001b[0m\u001b[1;33m.\u001b[0m\u001b[0m_reader\u001b[0m \u001b[1;33m=\u001b[0m \u001b[0mparsers\u001b[0m\u001b[1;33m.\u001b[0m\u001b[0mTextReader\u001b[0m\u001b[1;33m(\u001b[0m\u001b[0msrc\u001b[0m\u001b[1;33m,\u001b[0m \u001b[1;33m**\u001b[0m\u001b[0mkwds\u001b[0m\u001b[1;33m)\u001b[0m\u001b[1;33m\u001b[0m\u001b[1;33m\u001b[0m\u001b[0m\n\u001b[0m\u001b[0;32m     76\u001b[0m \u001b[1;33m\u001b[0m\u001b[0m\n\u001b[0;32m     77\u001b[0m         \u001b[0mself\u001b[0m\u001b[1;33m.\u001b[0m\u001b[0munnamed_cols\u001b[0m \u001b[1;33m=\u001b[0m \u001b[0mself\u001b[0m\u001b[1;33m.\u001b[0m\u001b[0m_reader\u001b[0m\u001b[1;33m.\u001b[0m\u001b[0munnamed_cols\u001b[0m\u001b[1;33m\u001b[0m\u001b[1;33m\u001b[0m\u001b[0m\n",
      "\u001b[1;32m~\\anaconda3\\lib\\site-packages\\pandas\\_libs\\parsers.pyx\u001b[0m in \u001b[0;36mpandas._libs.parsers.TextReader.__cinit__\u001b[1;34m()\u001b[0m\n",
      "\u001b[1;32m~\\anaconda3\\lib\\site-packages\\pandas\\_libs\\parsers.pyx\u001b[0m in \u001b[0;36mpandas._libs.parsers.TextReader._get_header\u001b[1;34m()\u001b[0m\n",
      "\u001b[1;32m~\\anaconda3\\lib\\site-packages\\pandas\\_libs\\parsers.pyx\u001b[0m in \u001b[0;36mpandas._libs.parsers.TextReader._tokenize_rows\u001b[1;34m()\u001b[0m\n",
      "\u001b[1;32m~\\anaconda3\\lib\\site-packages\\pandas\\_libs\\parsers.pyx\u001b[0m in \u001b[0;36mpandas._libs.parsers.raise_parser_error\u001b[1;34m()\u001b[0m\n",
      "\u001b[1;31mUnicodeDecodeError\u001b[0m: 'utf-8' codec can't decode byte 0xa0 in position 698: invalid start byte"
     ]
    }
   ],
   "source": [
    "zf=zipfile.ZipFile('../data/archive.zip')\n",
    "\n",
    "shark = pd.read_csv(zf.open('attacks.csv'), nrows=1e4)\n",
    "\n",
    "shark.head()"
   ]
  },
  {
   "cell_type": "markdown",
   "id": "f2b1a627",
   "metadata": {},
   "source": [
    "Me da error UnicodeDecodeError: 'utf-8' codec can't decode byte 0xa0 in position 698: invalid start byte por lo que necesito saber el encode del archivo"
   ]
  },
  {
   "cell_type": "code",
   "execution_count": 3,
   "id": "1628da8d",
   "metadata": {},
   "outputs": [
    {
     "name": "stdout",
     "output_type": "stream",
     "text": [
      "La codificación del archivo es: Windows-1252\n"
     ]
    }
   ],
   "source": [
    "import chardet\n",
    "\n",
    "# Detectar la codificación de un archivo\n",
    "with open('../data/attacks.csv', 'rb') as file:\n",
    "    result = chardet.detect(file.read())\n",
    "    encoding = result['encoding']\n",
    "\n",
    "print(\"La codificación del archivo es:\", encoding)"
   ]
  },
  {
   "cell_type": "markdown",
   "id": "5a96ab57",
   "metadata": {},
   "source": [
    "Una vez conocido lo especifico en el código"
   ]
  },
  {
   "cell_type": "code",
   "execution_count": 4,
   "id": "fa4977bb",
   "metadata": {},
   "outputs": [
    {
     "data": {
      "text/html": [
       "<div>\n",
       "<style scoped>\n",
       "    .dataframe tbody tr th:only-of-type {\n",
       "        vertical-align: middle;\n",
       "    }\n",
       "\n",
       "    .dataframe tbody tr th {\n",
       "        vertical-align: top;\n",
       "    }\n",
       "\n",
       "    .dataframe thead th {\n",
       "        text-align: right;\n",
       "    }\n",
       "</style>\n",
       "<table border=\"1\" class=\"dataframe\">\n",
       "  <thead>\n",
       "    <tr style=\"text-align: right;\">\n",
       "      <th></th>\n",
       "      <th>Case Number</th>\n",
       "      <th>Date</th>\n",
       "      <th>Year</th>\n",
       "      <th>Type</th>\n",
       "      <th>Country</th>\n",
       "      <th>Area</th>\n",
       "      <th>Location</th>\n",
       "      <th>Activity</th>\n",
       "      <th>Name</th>\n",
       "      <th>Sex</th>\n",
       "      <th>Age</th>\n",
       "      <th>Injury</th>\n",
       "      <th>Fatal (Y/N)</th>\n",
       "      <th>Time</th>\n",
       "      <th>Species</th>\n",
       "      <th>Investigator or Source</th>\n",
       "      <th>pdf</th>\n",
       "      <th>href formula</th>\n",
       "      <th>href</th>\n",
       "      <th>Case Number.1</th>\n",
       "      <th>Case Number.2</th>\n",
       "      <th>original order</th>\n",
       "      <th>Unnamed: 22</th>\n",
       "      <th>Unnamed: 23</th>\n",
       "    </tr>\n",
       "  </thead>\n",
       "  <tbody>\n",
       "    <tr>\n",
       "      <th>0</th>\n",
       "      <td>2018.06.25</td>\n",
       "      <td>25-Jun-2018</td>\n",
       "      <td>2018.0</td>\n",
       "      <td>Boating</td>\n",
       "      <td>USA</td>\n",
       "      <td>California</td>\n",
       "      <td>Oceanside, San Diego County</td>\n",
       "      <td>Paddling</td>\n",
       "      <td>Julie Wolfe</td>\n",
       "      <td>F</td>\n",
       "      <td>57</td>\n",
       "      <td>No injury to occupant, outrigger canoe and pad...</td>\n",
       "      <td>N</td>\n",
       "      <td>18h00</td>\n",
       "      <td>White shark</td>\n",
       "      <td>R. Collier, GSAF</td>\n",
       "      <td>2018.06.25-Wolfe.pdf</td>\n",
       "      <td>http://sharkattackfile.net/spreadsheets/pdf_di...</td>\n",
       "      <td>http://sharkattackfile.net/spreadsheets/pdf_di...</td>\n",
       "      <td>2018.06.25</td>\n",
       "      <td>2018.06.25</td>\n",
       "      <td>6303.0</td>\n",
       "      <td>NaN</td>\n",
       "      <td>NaN</td>\n",
       "    </tr>\n",
       "    <tr>\n",
       "      <th>1</th>\n",
       "      <td>2018.06.18</td>\n",
       "      <td>18-Jun-2018</td>\n",
       "      <td>2018.0</td>\n",
       "      <td>Unprovoked</td>\n",
       "      <td>USA</td>\n",
       "      <td>Georgia</td>\n",
       "      <td>St. Simon Island, Glynn County</td>\n",
       "      <td>Standing</td>\n",
       "      <td>Adyson McNeely</td>\n",
       "      <td>F</td>\n",
       "      <td>11</td>\n",
       "      <td>Minor injury to left thigh</td>\n",
       "      <td>N</td>\n",
       "      <td>14h00  -15h00</td>\n",
       "      <td>NaN</td>\n",
       "      <td>K.McMurray, TrackingSharks.com</td>\n",
       "      <td>2018.06.18-McNeely.pdf</td>\n",
       "      <td>http://sharkattackfile.net/spreadsheets/pdf_di...</td>\n",
       "      <td>http://sharkattackfile.net/spreadsheets/pdf_di...</td>\n",
       "      <td>2018.06.18</td>\n",
       "      <td>2018.06.18</td>\n",
       "      <td>6302.0</td>\n",
       "      <td>NaN</td>\n",
       "      <td>NaN</td>\n",
       "    </tr>\n",
       "    <tr>\n",
       "      <th>2</th>\n",
       "      <td>2018.06.09</td>\n",
       "      <td>09-Jun-2018</td>\n",
       "      <td>2018.0</td>\n",
       "      <td>Invalid</td>\n",
       "      <td>USA</td>\n",
       "      <td>Hawaii</td>\n",
       "      <td>Habush, Oahu</td>\n",
       "      <td>Surfing</td>\n",
       "      <td>John Denges</td>\n",
       "      <td>M</td>\n",
       "      <td>48</td>\n",
       "      <td>Injury to left lower leg from surfboard skeg</td>\n",
       "      <td>N</td>\n",
       "      <td>07h45</td>\n",
       "      <td>NaN</td>\n",
       "      <td>K.McMurray, TrackingSharks.com</td>\n",
       "      <td>2018.06.09-Denges.pdf</td>\n",
       "      <td>http://sharkattackfile.net/spreadsheets/pdf_di...</td>\n",
       "      <td>http://sharkattackfile.net/spreadsheets/pdf_di...</td>\n",
       "      <td>2018.06.09</td>\n",
       "      <td>2018.06.09</td>\n",
       "      <td>6301.0</td>\n",
       "      <td>NaN</td>\n",
       "      <td>NaN</td>\n",
       "    </tr>\n",
       "    <tr>\n",
       "      <th>3</th>\n",
       "      <td>2018.06.08</td>\n",
       "      <td>08-Jun-2018</td>\n",
       "      <td>2018.0</td>\n",
       "      <td>Unprovoked</td>\n",
       "      <td>AUSTRALIA</td>\n",
       "      <td>New South Wales</td>\n",
       "      <td>Arrawarra Headland</td>\n",
       "      <td>Surfing</td>\n",
       "      <td>male</td>\n",
       "      <td>M</td>\n",
       "      <td>NaN</td>\n",
       "      <td>Minor injury to lower leg</td>\n",
       "      <td>N</td>\n",
       "      <td>NaN</td>\n",
       "      <td>2 m shark</td>\n",
       "      <td>B. Myatt, GSAF</td>\n",
       "      <td>2018.06.08-Arrawarra.pdf</td>\n",
       "      <td>http://sharkattackfile.net/spreadsheets/pdf_di...</td>\n",
       "      <td>http://sharkattackfile.net/spreadsheets/pdf_di...</td>\n",
       "      <td>2018.06.08</td>\n",
       "      <td>2018.06.08</td>\n",
       "      <td>6300.0</td>\n",
       "      <td>NaN</td>\n",
       "      <td>NaN</td>\n",
       "    </tr>\n",
       "    <tr>\n",
       "      <th>4</th>\n",
       "      <td>2018.06.04</td>\n",
       "      <td>04-Jun-2018</td>\n",
       "      <td>2018.0</td>\n",
       "      <td>Provoked</td>\n",
       "      <td>MEXICO</td>\n",
       "      <td>Colima</td>\n",
       "      <td>La Ticla</td>\n",
       "      <td>Free diving</td>\n",
       "      <td>Gustavo Ramos</td>\n",
       "      <td>M</td>\n",
       "      <td>NaN</td>\n",
       "      <td>Lacerations to leg &amp; hand shark PROVOKED INCIDENT</td>\n",
       "      <td>N</td>\n",
       "      <td>NaN</td>\n",
       "      <td>Tiger shark, 3m</td>\n",
       "      <td>A .Kipper</td>\n",
       "      <td>2018.06.04-Ramos.pdf</td>\n",
       "      <td>http://sharkattackfile.net/spreadsheets/pdf_di...</td>\n",
       "      <td>http://sharkattackfile.net/spreadsheets/pdf_di...</td>\n",
       "      <td>2018.06.04</td>\n",
       "      <td>2018.06.04</td>\n",
       "      <td>6299.0</td>\n",
       "      <td>NaN</td>\n",
       "      <td>NaN</td>\n",
       "    </tr>\n",
       "  </tbody>\n",
       "</table>\n",
       "</div>"
      ],
      "text/plain": [
       "  Case Number         Date    Year        Type    Country             Area  \\\n",
       "0  2018.06.25  25-Jun-2018  2018.0     Boating        USA       California   \n",
       "1  2018.06.18  18-Jun-2018  2018.0  Unprovoked        USA          Georgia   \n",
       "2  2018.06.09  09-Jun-2018  2018.0     Invalid        USA           Hawaii   \n",
       "3  2018.06.08  08-Jun-2018  2018.0  Unprovoked  AUSTRALIA  New South Wales   \n",
       "4  2018.06.04  04-Jun-2018  2018.0    Provoked     MEXICO           Colima   \n",
       "\n",
       "                         Location     Activity             Name Sex   Age  \\\n",
       "0     Oceanside, San Diego County     Paddling      Julie Wolfe    F   57   \n",
       "1  St. Simon Island, Glynn County     Standing  Adyson McNeely     F   11   \n",
       "2                    Habush, Oahu      Surfing      John Denges    M   48   \n",
       "3              Arrawarra Headland      Surfing             male    M  NaN   \n",
       "4                        La Ticla  Free diving   Gustavo Ramos     M  NaN   \n",
       "\n",
       "                                              Injury Fatal (Y/N)  \\\n",
       "0  No injury to occupant, outrigger canoe and pad...           N   \n",
       "1                         Minor injury to left thigh           N   \n",
       "2       Injury to left lower leg from surfboard skeg           N   \n",
       "3                          Minor injury to lower leg           N   \n",
       "4  Lacerations to leg & hand shark PROVOKED INCIDENT           N   \n",
       "\n",
       "            Time         Species           Investigator or Source  \\\n",
       "0          18h00      White shark                R. Collier, GSAF   \n",
       "1  14h00  -15h00              NaN  K.McMurray, TrackingSharks.com   \n",
       "2          07h45              NaN  K.McMurray, TrackingSharks.com   \n",
       "3            NaN        2 m shark                  B. Myatt, GSAF   \n",
       "4            NaN  Tiger shark, 3m                       A .Kipper   \n",
       "\n",
       "                        pdf  \\\n",
       "0      2018.06.25-Wolfe.pdf   \n",
       "1    2018.06.18-McNeely.pdf   \n",
       "2     2018.06.09-Denges.pdf   \n",
       "3  2018.06.08-Arrawarra.pdf   \n",
       "4      2018.06.04-Ramos.pdf   \n",
       "\n",
       "                                        href formula  \\\n",
       "0  http://sharkattackfile.net/spreadsheets/pdf_di...   \n",
       "1  http://sharkattackfile.net/spreadsheets/pdf_di...   \n",
       "2  http://sharkattackfile.net/spreadsheets/pdf_di...   \n",
       "3  http://sharkattackfile.net/spreadsheets/pdf_di...   \n",
       "4  http://sharkattackfile.net/spreadsheets/pdf_di...   \n",
       "\n",
       "                                                href Case Number.1  \\\n",
       "0  http://sharkattackfile.net/spreadsheets/pdf_di...    2018.06.25   \n",
       "1  http://sharkattackfile.net/spreadsheets/pdf_di...    2018.06.18   \n",
       "2  http://sharkattackfile.net/spreadsheets/pdf_di...    2018.06.09   \n",
       "3  http://sharkattackfile.net/spreadsheets/pdf_di...    2018.06.08   \n",
       "4  http://sharkattackfile.net/spreadsheets/pdf_di...    2018.06.04   \n",
       "\n",
       "  Case Number.2  original order Unnamed: 22 Unnamed: 23  \n",
       "0    2018.06.25          6303.0         NaN         NaN  \n",
       "1    2018.06.18          6302.0         NaN         NaN  \n",
       "2    2018.06.09          6301.0         NaN         NaN  \n",
       "3    2018.06.08          6300.0         NaN         NaN  \n",
       "4    2018.06.04          6299.0         NaN         NaN  "
      ]
     },
     "execution_count": 4,
     "metadata": {},
     "output_type": "execute_result"
    }
   ],
   "source": [
    "zf=zipfile.ZipFile('../data/archive.zip')\n",
    "\n",
    "shark = pd.read_csv(zf.open('attacks.csv'), nrows=1e4, encoding='Windows-1252')\n",
    "\n",
    "shark.head()"
   ]
  },
  {
   "cell_type": "markdown",
   "id": "cf67e012",
   "metadata": {},
   "source": [
    "Elimino todos los espacios que hay en los nombres de las columnas y hago todas minúsculas para poder trabajar sin problemas con las columnas"
   ]
  },
  {
   "cell_type": "code",
   "execution_count": 5,
   "id": "1ffc51aa",
   "metadata": {},
   "outputs": [],
   "source": [
    "shark.columns = [e.lower().replace(' ', '') for e in shark.columns]"
   ]
  },
  {
   "cell_type": "markdown",
   "id": "6e95c337",
   "metadata": {},
   "source": [
    "Reviso el número de filas y columnas que tiene el df y lo asigno a una variable para poder compararlo en el futuro "
   ]
  },
  {
   "cell_type": "code",
   "execution_count": 6,
   "id": "fee76207",
   "metadata": {},
   "outputs": [
    {
     "data": {
      "text/plain": [
       "(10000, 24)"
      ]
     },
     "execution_count": 6,
     "metadata": {},
     "output_type": "execute_result"
    }
   ],
   "source": [
    "shark_size = shark.shape\n",
    "shark_size"
   ]
  },
  {
   "cell_type": "markdown",
   "id": "f5a4be90",
   "metadata": {},
   "source": [
    "Reviso de que tipo de dato son las columnas y el número de nulos que tienen"
   ]
  },
  {
   "cell_type": "code",
   "execution_count": 7,
   "id": "7bdb09d2",
   "metadata": {},
   "outputs": [
    {
     "name": "stdout",
     "output_type": "stream",
     "text": [
      "<class 'pandas.core.frame.DataFrame'>\n",
      "RangeIndex: 10000 entries, 0 to 9999\n",
      "Data columns (total 24 columns):\n",
      " #   Column                Non-Null Count  Dtype  \n",
      "---  ------                --------------  -----  \n",
      " 0   casenumber            8701 non-null   object \n",
      " 1   date                  6302 non-null   object \n",
      " 2   year                  6300 non-null   float64\n",
      " 3   type                  6298 non-null   object \n",
      " 4   country               6252 non-null   object \n",
      " 5   area                  5847 non-null   object \n",
      " 6   location              5762 non-null   object \n",
      " 7   activity              5758 non-null   object \n",
      " 8   name                  6092 non-null   object \n",
      " 9   sex                   5737 non-null   object \n",
      " 10  age                   3471 non-null   object \n",
      " 11  injury                6274 non-null   object \n",
      " 12  fatal(y/n)            5763 non-null   object \n",
      " 13  time                  2948 non-null   object \n",
      " 14  species               3464 non-null   object \n",
      " 15  investigatororsource  6285 non-null   object \n",
      " 16  pdf                   6302 non-null   object \n",
      " 17  hrefformula           6301 non-null   object \n",
      " 18  href                  6302 non-null   object \n",
      " 19  casenumber.1          6302 non-null   object \n",
      " 20  casenumber.2          6302 non-null   object \n",
      " 21  originalorder         6309 non-null   float64\n",
      " 22  unnamed:22            1 non-null      object \n",
      " 23  unnamed:23            2 non-null      object \n",
      "dtypes: float64(2), object(22)\n",
      "memory usage: 12.0 MB\n"
     ]
    }
   ],
   "source": [
    "shark.info(memory_usage='deep')"
   ]
  },
  {
   "cell_type": "markdown",
   "id": "155cefe6",
   "metadata": {},
   "source": [
    "Hay algunos nombres de columnas con : que me pueden molestar aasí que los voy a eliminar"
   ]
  },
  {
   "cell_type": "code",
   "execution_count": 8,
   "id": "3ac6cead",
   "metadata": {},
   "outputs": [],
   "source": [
    "shark.columns = [e.replace(':', '') for e in shark.columns]"
   ]
  },
  {
   "cell_type": "markdown",
   "id": "7e953df8",
   "metadata": {},
   "source": [
    "La mayoría de las columnas son objetos y la mayoría tienen muchos valores nulos, así que reviso el total de nulos tiene cada una"
   ]
  },
  {
   "cell_type": "code",
   "execution_count": 9,
   "id": "d5f1ebcd",
   "metadata": {},
   "outputs": [
    {
     "data": {
      "text/plain": [
       "casenumber              1299\n",
       "date                    3698\n",
       "year                    3700\n",
       "type                    3702\n",
       "country                 3748\n",
       "area                    4153\n",
       "location                4238\n",
       "activity                4242\n",
       "name                    3908\n",
       "sex                     4263\n",
       "age                     6529\n",
       "injury                  3726\n",
       "fatal(y/n)              4237\n",
       "time                    7052\n",
       "species                 6536\n",
       "investigatororsource    3715\n",
       "pdf                     3698\n",
       "hrefformula             3699\n",
       "href                    3698\n",
       "casenumber.1            3698\n",
       "casenumber.2            3698\n",
       "originalorder           3691\n",
       "unnamed22               9999\n",
       "unnamed23               9998\n",
       "dtype: int64"
      ]
     },
     "execution_count": 9,
     "metadata": {},
     "output_type": "execute_result"
    }
   ],
   "source": [
    "nan_cols = shark.isna().sum()\n",
    "\n",
    "nan_cols[nan_cols>0]"
   ]
  },
  {
   "cell_type": "markdown",
   "id": "4085f594",
   "metadata": {},
   "source": [
    "Para verlo de una manera más gráfica creo una grafico de nulos en el dataframe"
   ]
  },
  {
   "cell_type": "code",
   "execution_count": 10,
   "id": "1ec2baf6",
   "metadata": {},
   "outputs": [
    {
     "data": {
      "image/png": "[encoded data removed]",
      "text/plain": [
       "<Figure size 1000x600 with 1 Axes>"
      ]
     },
     "metadata": {},
     "output_type": "display_data"
    }
   ],
   "source": [
    "plt.figure(figsize=(10, 6))  # inicia la figura y establece el tamaño\n",
    "\n",
    "sns.heatmap(shark.isna(),      # datos\n",
    "            yticklabels=False,  # quita las etiquetas del eje y\n",
    "            cmap='viridis',     # mapa de color\n",
    "            cbar=False,         # sin barra lateral\n",
    "           )\n",
    "\n",
    "\n",
    "plt.show();"
   ]
  },
  {
   "cell_type": "markdown",
   "id": "e12e07fa",
   "metadata": {},
   "source": [
    "🤯🤯🤯🤯🤯🤯🤯🤯🤯🤯🤯🤯🤯🤯\n",
    "\n",
    "\n"
   ]
  },
  {
   "cell_type": "markdown",
   "id": "3d64e493",
   "metadata": {},
   "source": [
    "Las dos últimas columnas Unnamed parece que están completamente vacías. Voy a comprobarlo, y si lo están (como no puedo eliminar columnas) las voy a rellenar todo con 0"
   ]
  },
  {
   "cell_type": "code",
   "execution_count": 11,
   "id": "a51eb821",
   "metadata": {},
   "outputs": [
    {
     "data": {
      "text/plain": [
       "(10000, 24)"
      ]
     },
     "execution_count": 11,
     "metadata": {},
     "output_type": "execute_result"
    }
   ],
   "source": [
    "shark_size"
   ]
  },
  {
   "cell_type": "code",
   "execution_count": 12,
   "id": "b658f22a",
   "metadata": {},
   "outputs": [
    {
     "data": {
      "text/plain": [
       "9999"
      ]
     },
     "execution_count": 12,
     "metadata": {},
     "output_type": "execute_result"
    }
   ],
   "source": [
    "shark.unnamed22.isna().sum()"
   ]
  },
  {
   "cell_type": "markdown",
   "id": "004f88c3",
   "metadata": {},
   "source": [
    "Como solo hay un valor que no es nan no lo considero representativo y relleno toda la columna con 0"
   ]
  },
  {
   "cell_type": "code",
   "execution_count": 13,
   "id": "47b3683c",
   "metadata": {},
   "outputs": [],
   "source": [
    "shark['unnamed22'] = 0"
   ]
  },
  {
   "cell_type": "markdown",
   "id": "7cbb4cc3",
   "metadata": {},
   "source": [
    "Realizo la misma operación con unnamed23"
   ]
  },
  {
   "cell_type": "code",
   "execution_count": 14,
   "id": "c69d9722",
   "metadata": {},
   "outputs": [
    {
     "data": {
      "text/plain": [
       "9998"
      ]
     },
     "execution_count": 14,
     "metadata": {},
     "output_type": "execute_result"
    }
   ],
   "source": [
    "shark.unnamed23.isna().sum()"
   ]
  },
  {
   "cell_type": "code",
   "execution_count": 15,
   "id": "932153e5",
   "metadata": {},
   "outputs": [],
   "source": [
    "shark['unnamed23'] = 0"
   ]
  },
  {
   "cell_type": "code",
   "execution_count": 16,
   "id": "1c6aa431",
   "metadata": {},
   "outputs": [
    {
     "data": {
      "image/png": "[encoded data removed]",
      "text/plain": [
       "<Figure size 1000x600 with 1 Axes>"
      ]
     },
     "metadata": {},
     "output_type": "display_data"
    }
   ],
   "source": [
    "plt.figure(figsize=(10, 6))  # inicia la figura y establece el tamaño\n",
    "\n",
    "sns.heatmap(shark.isna(),      # datos\n",
    "            yticklabels=False,  # quita las etiquetas del eje y\n",
    "            cmap='viridis',     # mapa de color\n",
    "            cbar=False,         # sin barra lateral\n",
    "           )\n",
    "\n",
    "\n",
    "plt.show();"
   ]
  },
  {
   "cell_type": "markdown",
   "id": "3597545d",
   "metadata": {},
   "source": [
    "Como veo que el código de la representación gráfica lo voy a usar varias veces le voy a hacer una función"
   ]
  },
  {
   "cell_type": "code",
   "execution_count": 17,
   "id": "a81223d2",
   "metadata": {},
   "outputs": [],
   "source": [
    "def grafico(df):\n",
    "    plt.figure(figsize=(10, 6))  # inicia la figura y establece el tamaño\n",
    "\n",
    "    sns.heatmap(shark.isna(),      # datos\n",
    "            yticklabels=False,  # quita las etiquetas del eje y\n",
    "            cmap='viridis',     # mapa de color\n",
    "            cbar=False,         # sin barra lateral\n",
    "           )\n",
    "\n",
    "\n",
    "    plt.show();"
   ]
  },
  {
   "cell_type": "code",
   "execution_count": 18,
   "id": "ac70e0f7",
   "metadata": {},
   "outputs": [
    {
     "data": {
      "image/png": "[encoded data removed]",
      "text/plain": [
       "<Figure size 1000x600 with 1 Axes>"
      ]
     },
     "metadata": {},
     "output_type": "display_data"
    }
   ],
   "source": [
    "grafico(shark)"
   ]
  },
  {
   "cell_type": "markdown",
   "id": "7dd1ac80",
   "metadata": {},
   "source": [
    "Estoy viendo que la mayoría de filas a partir de un determinado numero no tienen apenas datos y parece que son poco representativas así que voy a profundizar un poco en este proceso"
   ]
  },
  {
   "cell_type": "markdown",
   "id": "d78f865a",
   "metadata": {},
   "source": [
    "Veo a partir de que fila empieza a tener nulos la columna year que es de las primeras que muestra este patron"
   ]
  },
  {
   "cell_type": "code",
   "execution_count": 30,
   "id": "a50eae26",
   "metadata": {},
   "outputs": [
    {
     "data": {
      "text/plain": [
       "[187,\n",
       " 6079,\n",
       " 6302,\n",
       " 6303,\n",
       " 6304,\n",
       " 6305,\n",
       " 6306,\n",
       " 6307,\n",
       " 6308,\n",
       " 6309,\n",
       " 6310,\n",
       " 6311,\n",
       " 6312,\n",
       " 6313,\n",
       " 6314]"
      ]
     },
     "execution_count": 30,
     "metadata": {},
     "output_type": "execute_result"
    }
   ],
   "source": [
    "filas_nulas = shark.index[shark['year'].isnull()].tolist()\n",
    "\n",
    "filas_nulas[:15]"
   ]
  },
  {
   "cell_type": "markdown",
   "id": "30d6d4dd",
   "metadata": {},
   "source": [
    "como quiero saber que a partir de que fila tienen todos los valores nulos salvo los de la columna unnamed23 y unnamed22 hago un bucle que me lo compruebe y de ser así que me lo introduzca en un diccionario"
   ]
  },
  {
   "cell_type": "code",
   "execution_count": 42,
   "id": "6e43e259",
   "metadata": {},
   "outputs": [],
   "source": [
    "col_vac = {}\n",
    "\n",
    "for columna in shark:\n",
    "    filas_nulas = shark.index[shark[columna].isnull()].tolist()\n",
    "    col_vac[columna] = filas_nulas"
   ]
  },
  {
   "cell_type": "code",
   "execution_count": 44,
   "id": "f3581c83",
   "metadata": {},
   "outputs": [
    {
     "data": {
      "text/plain": [
       "{'casenumber': [5488, 8702, 8703, 8704, 8705],\n",
       " 'date': [6302, 6303, 6304, 6305, 6306],\n",
       " 'year': [187, 6079, 6302, 6303, 6304],\n",
       " 'type': [85, 382, 4867, 5705, 6302],\n",
       " 'country': [62, 525, 2956, 3378, 3387],\n",
       " 'area': [32, 33, 48, 56, 59],\n",
       " 'location': [56, 62, 101, 110, 132],\n",
       " 'activity': [47, 108, 112, 114, 154],\n",
       " 'name': [32, 86, 124, 154, 184],\n",
       " 'sex': [32, 59, 86, 124, 154],\n",
       " 'age': [3, 4, 5, 15, 16],\n",
       " 'injury': [1270, 1366, 2250, 2267, 2648],\n",
       " 'fatal(y/n)': [27, 76, 79, 84, 98],\n",
       " 'time': [3, 4, 5, 7, 11],\n",
       " 'species': [1, 2, 5, 9, 11],\n",
       " 'investigatororsource': [119, 290, 382, 631, 1130],\n",
       " 'pdf': [6302, 6303, 6304, 6305, 6306],\n",
       " 'hrefformula': [3244, 6302, 6303, 6304, 6305],\n",
       " 'href': [6302, 6303, 6304, 6305, 6306],\n",
       " 'casenumber.1': [6302, 6303, 6304, 6305, 6306],\n",
       " 'casenumber.2': [6302, 6303, 6304, 6305, 6306],\n",
       " 'originalorder': [6309, 6310, 6311, 6312, 6313],\n",
       " 'unnamed22': [],\n",
       " 'unnamed23': []}"
      ]
     },
     "execution_count": 44,
     "metadata": {},
     "output_type": "execute_result"
    }
   ],
   "source": [
    "prim_fil = {}\n",
    "\n",
    "for columna, filas_nulas in col_vac.items():\n",
    "    prim_fil[columna] = filas_nulas[:5]\n",
    "\n",
    "prim_fil"
   ]
  },
  {
   "cell_type": "markdown",
   "id": "1438ae67",
   "metadata": {},
   "source": [
    "Veo que la columna casenumber empieza a arrojar nulos después que el resto de columnas por lo que voy a ver que hay en esos valores"
   ]
  },
  {
   "cell_type": "code",
   "execution_count": 49,
   "id": "b2d612a9",
   "metadata": {},
   "outputs": [
    {
     "name": "stdout",
     "output_type": "stream",
     "text": [
      "<class 'pandas.core.series.Series'>\n",
      "RangeIndex: 2401 entries, 6302 to 8702\n",
      "Series name: casenumber\n",
      "Non-Null Count  Dtype \n",
      "--------------  ----- \n",
      "2400 non-null   object\n",
      "dtypes: object(1)\n",
      "memory usage: 18.9+ KB\n"
     ]
    }
   ],
   "source": [
    "shark['casenumber'].loc[6302:8702].info()"
   ]
  },
  {
   "cell_type": "code",
   "execution_count": 54,
   "id": "202c942b",
   "metadata": {},
   "outputs": [
    {
     "data": {
      "text/plain": [
       "1299"
      ]
     },
     "execution_count": 54,
     "metadata": {},
     "output_type": "execute_result"
    }
   ],
   "source": [
    "shark['casenumber'].isna().sum()"
   ]
  },
  {
   "cell_type": "code",
   "execution_count": 69,
   "id": "45eb43b2",
   "metadata": {},
   "outputs": [
    {
     "data": {
      "text/plain": [
       "6302      0\n",
       "6303      0\n",
       "6304      0\n",
       "6305      0\n",
       "6306      0\n",
       "       ... \n",
       "8698      0\n",
       "8699      0\n",
       "8700      0\n",
       "8701      0\n",
       "8702    NaN\n",
       "Name: casenumber, Length: 2401, dtype: object"
      ]
     },
     "execution_count": 69,
     "metadata": {},
     "output_type": "execute_result"
    }
   ],
   "source": [
    "val = shark.loc[6302:8702, 'casenumber']\n",
    "val"
   ]
  },
  {
   "cell_type": "markdown",
   "id": "490909d3",
   "metadata": {},
   "source": [
    "Como se puede ver los valores entre 6302 y 8703 son 0 por lo que no son representativos y se pueden eliminar.\n",
    "\n",
    "Además, como el resto de columnas a partir de la fila 6302 también tiene valores nulos se pueden eliminar todas las filas en adelante."
   ]
  },
  {
   "cell_type": "code",
   "execution_count": 70,
   "id": "eb55ce09",
   "metadata": {},
   "outputs": [],
   "source": [
    "shark = shark.drop(shark.index[6302:], axis=0)"
   ]
  },
  {
   "cell_type": "code",
   "execution_count": 71,
   "id": "650b7290",
   "metadata": {},
   "outputs": [
    {
     "data": {
      "image/png": "[encoded data removed]",
      "text/plain": [
       "<Figure size 1000x600 with 1 Axes>"
      ]
     },
     "metadata": {},
     "output_type": "display_data"
    }
   ],
   "source": [
    "grafico(shark)"
   ]
  },
  {
   "cell_type": "markdown",
   "id": "94d4d2d1",
   "metadata": {},
   "source": [
    "Una vez llegados a este punto entiendo que los valores nulos más 'gordos' ya se han limpiado, por lo que el siguiente paso sería quitar los nulos de una manera más 'fina' y eso lo realizo en la parte 2"
   ]
  },
  {
   "cell_type": "markdown",
   "id": "20aac16d",
   "metadata": {},
   "source": []
  }
 ],
 "metadata": {
  "kernelspec": {
   "display_name": "Python 3 (ipykernel)",
   "language": "python",
   "name": "python3"
  },
  "language_info": {
   "codemirror_mode": {
    "name": "ipython",
    "version": 3
   },
   "file_extension": ".py",
   "mimetype": "text/x-python",
   "name": "python",
   "nbconvert_exporter": "python",
   "pygments_lexer": "ipython3",
   "version": "3.9.13"
  }
 },
 "nbformat": 4,
 "nbformat_minor": 5
}
